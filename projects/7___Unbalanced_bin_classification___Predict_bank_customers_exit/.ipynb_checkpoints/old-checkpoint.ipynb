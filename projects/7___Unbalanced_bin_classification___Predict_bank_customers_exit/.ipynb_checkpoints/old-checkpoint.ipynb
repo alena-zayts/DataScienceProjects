{
 "cells": [
  {
   "cell_type": "markdown",
   "metadata": {},
   "source": [
    "# Отток клиентов"
   ]
  },
  {
   "cell_type": "markdown",
   "metadata": {},
   "source": [
    "Из «Бета-Банка» стали уходить клиенты. Каждый месяц. Немного, но заметно. Банковские маркетологи посчитали: сохранять текущих клиентов дешевле, чем привлекать новых.\n",
    "\n",
    "Нужно спрогнозировать, уйдёт клиент из банка в ближайшее время или нет. Вам предоставлены исторические данные о поведении клиентов и расторжении договоров с банком. \n",
    "\n",
    "Постройте модель с предельно большим значением *F1*-меры. Чтобы сдать проект успешно, нужно довести метрику до 0.59. Проверьте *F1*-меру на тестовой выборке самостоятельно.\n",
    "\n",
    "Дополнительно измеряйте *AUC-ROC*, сравнивайте её значение с *F1*-мерой.\n",
    "\n",
    "Источник данных: [https://www.kaggle.com/barelydedicated/bank-customer-churn-modeling](https://www.kaggle.com/barelydedicated/bank-customer-churn-modeling)"
   ]
  },
  {
   "cell_type": "markdown",
   "metadata": {},
   "source": [
    "<font color='blue'> \n",
    "<u>Здравствуйте, исправила замечание) Можно воспользоваться случаем и узнать про стажировку Яндекс? Она в этом году хотя бы планируется? или уже без шансов?</u>\n",
    "</font>"
   ]
  },
  {
   "cell_type": "markdown",
   "metadata": {},
   "source": [
    "<font color='blue'> \n",
    "### <u>КОММЕНТАРИЙ РЕВЬЮЕРА</u>\n",
    "</font>\n",
    "<font color='green'>\n",
    "Алена, спасибо, что откликнулись на мои комментарии<br>\n",
    "Хорошо, что Вы дошли до конца по этой задаче<br><br>\n",
    "УДАЧИ ВАМ В ВАШИХ ДАЛЬНЕЙШИХ НАЧИНАНИЯХ\n",
    " <br>\n",
    "<br>\n",
    "По поводу Вашего вопроса: моих компетенций здесь не хватает) Я не смогу отвтетить на этот вопрос((<br>\n",
    "Возможно, что Ваш наставник более сведущ в этом вопросе. УСПЕХОВ!!!\n",
    "</font>"
   ]
  },
  {
   "cell_type": "markdown",
   "metadata": {},
   "source": [
    "<font color='blue'> \n",
    "### <u>КОММЕНТАРИЙ РЕВЬЮЕРА</u>\n",
    "</font>\n",
    "\n",
    "<font color='blue'>\n",
    "<br />\n",
    "АЛЕНА, рад приветствовать ВАС! <br />\n",
    "<br />    \n",
    "Меня зовут Николай. <br />И на этом этапе Вашего движения к новой профессии от меня будут комментарии по написанному коду. <br />Чтобы меньше \"мусорить эфир\" и чтобы максимально наглядно отделяться от основного кода, есть предложение условиться в некоторых обозначениях:<br /> <br />\n",
    "<u><b>ТАКОЙ ШРИФТ</b></u> - всегда начало комментария <br />\n",
    "<font color='green'>такой шрифт</font> - комментарии о том, что всё ОК <br/>\n",
    "<font color='purple'>такой шрифт</font> - комментарии о том, что всё ОК по результату,<br> однако что есть ещё что-то или в коде или есть способы сделать более короткий или быстрый код <br/>\n",
    "<font color='red'>такой шрифт</font> - комментарии о том, что есть критичный момент, влияющий на бизнес-результат проекта.<br/>\n",
    "</font><br /><br />\n",
    "<font color='green'>Моей целью является не \"уличить\" в не знании, а просто высказать сверху Ваших знаний - свой опыт)\n",
    "<br>\n",
    "</font>\n",
    "<br>\n",
    "</font>"
   ]
  },
  {
   "cell_type": "markdown",
   "metadata": {},
   "source": [
    "# 1. Подготовка данных"
   ]
  },
  {
   "cell_type": "markdown",
   "metadata": {},
   "source": [
    "Сохраним таблицу с данными в переменную data и выведем первые пять строк таблицы и общую информацию о ней"
   ]
  },
  {
   "cell_type": "code",
   "execution_count": 40,
   "metadata": {},
   "outputs": [
    {
     "name": "stdout",
     "output_type": "stream",
     "text": [
      "<class 'pandas.core.frame.DataFrame'>\n",
      "RangeIndex: 10000 entries, 0 to 9999\n",
      "Data columns (total 14 columns):\n",
      "RowNumber          10000 non-null int64\n",
      "CustomerId         10000 non-null int64\n",
      "Surname            10000 non-null object\n",
      "CreditScore        10000 non-null int64\n",
      "Geography          10000 non-null object\n",
      "Gender             10000 non-null object\n",
      "Age                10000 non-null int64\n",
      "Tenure             9091 non-null float64\n",
      "Balance            10000 non-null float64\n",
      "NumOfProducts      10000 non-null int64\n",
      "HasCrCard          10000 non-null int64\n",
      "IsActiveMember     10000 non-null int64\n",
      "EstimatedSalary    10000 non-null float64\n",
      "Exited             10000 non-null int64\n",
      "dtypes: float64(3), int64(8), object(3)\n",
      "memory usage: 1.1+ MB\n",
      "None\n"
     ]
    },
    {
     "data": {
      "text/html": [
       "<div>\n",
       "<style scoped>\n",
       "    .dataframe tbody tr th:only-of-type {\n",
       "        vertical-align: middle;\n",
       "    }\n",
       "\n",
       "    .dataframe tbody tr th {\n",
       "        vertical-align: top;\n",
       "    }\n",
       "\n",
       "    .dataframe thead th {\n",
       "        text-align: right;\n",
       "    }\n",
       "</style>\n",
       "<table border=\"1\" class=\"dataframe\">\n",
       "  <thead>\n",
       "    <tr style=\"text-align: right;\">\n",
       "      <th></th>\n",
       "      <th>RowNumber</th>\n",
       "      <th>CustomerId</th>\n",
       "      <th>Surname</th>\n",
       "      <th>CreditScore</th>\n",
       "      <th>Geography</th>\n",
       "      <th>Gender</th>\n",
       "      <th>Age</th>\n",
       "      <th>Tenure</th>\n",
       "      <th>Balance</th>\n",
       "      <th>NumOfProducts</th>\n",
       "      <th>HasCrCard</th>\n",
       "      <th>IsActiveMember</th>\n",
       "      <th>EstimatedSalary</th>\n",
       "      <th>Exited</th>\n",
       "    </tr>\n",
       "  </thead>\n",
       "  <tbody>\n",
       "    <tr>\n",
       "      <td>0</td>\n",
       "      <td>1</td>\n",
       "      <td>15634602</td>\n",
       "      <td>Hargrave</td>\n",
       "      <td>619</td>\n",
       "      <td>France</td>\n",
       "      <td>Female</td>\n",
       "      <td>42</td>\n",
       "      <td>2.0</td>\n",
       "      <td>0.00</td>\n",
       "      <td>1</td>\n",
       "      <td>1</td>\n",
       "      <td>1</td>\n",
       "      <td>101348.88</td>\n",
       "      <td>1</td>\n",
       "    </tr>\n",
       "    <tr>\n",
       "      <td>1</td>\n",
       "      <td>2</td>\n",
       "      <td>15647311</td>\n",
       "      <td>Hill</td>\n",
       "      <td>608</td>\n",
       "      <td>Spain</td>\n",
       "      <td>Female</td>\n",
       "      <td>41</td>\n",
       "      <td>1.0</td>\n",
       "      <td>83807.86</td>\n",
       "      <td>1</td>\n",
       "      <td>0</td>\n",
       "      <td>1</td>\n",
       "      <td>112542.58</td>\n",
       "      <td>0</td>\n",
       "    </tr>\n",
       "    <tr>\n",
       "      <td>2</td>\n",
       "      <td>3</td>\n",
       "      <td>15619304</td>\n",
       "      <td>Onio</td>\n",
       "      <td>502</td>\n",
       "      <td>France</td>\n",
       "      <td>Female</td>\n",
       "      <td>42</td>\n",
       "      <td>8.0</td>\n",
       "      <td>159660.80</td>\n",
       "      <td>3</td>\n",
       "      <td>1</td>\n",
       "      <td>0</td>\n",
       "      <td>113931.57</td>\n",
       "      <td>1</td>\n",
       "    </tr>\n",
       "    <tr>\n",
       "      <td>3</td>\n",
       "      <td>4</td>\n",
       "      <td>15701354</td>\n",
       "      <td>Boni</td>\n",
       "      <td>699</td>\n",
       "      <td>France</td>\n",
       "      <td>Female</td>\n",
       "      <td>39</td>\n",
       "      <td>1.0</td>\n",
       "      <td>0.00</td>\n",
       "      <td>2</td>\n",
       "      <td>0</td>\n",
       "      <td>0</td>\n",
       "      <td>93826.63</td>\n",
       "      <td>0</td>\n",
       "    </tr>\n",
       "    <tr>\n",
       "      <td>4</td>\n",
       "      <td>5</td>\n",
       "      <td>15737888</td>\n",
       "      <td>Mitchell</td>\n",
       "      <td>850</td>\n",
       "      <td>Spain</td>\n",
       "      <td>Female</td>\n",
       "      <td>43</td>\n",
       "      <td>2.0</td>\n",
       "      <td>125510.82</td>\n",
       "      <td>1</td>\n",
       "      <td>1</td>\n",
       "      <td>1</td>\n",
       "      <td>79084.10</td>\n",
       "      <td>0</td>\n",
       "    </tr>\n",
       "  </tbody>\n",
       "</table>\n",
       "</div>"
      ],
      "text/plain": [
       "   RowNumber  CustomerId   Surname  CreditScore Geography  Gender  Age  \\\n",
       "0          1    15634602  Hargrave          619    France  Female   42   \n",
       "1          2    15647311      Hill          608     Spain  Female   41   \n",
       "2          3    15619304      Onio          502    France  Female   42   \n",
       "3          4    15701354      Boni          699    France  Female   39   \n",
       "4          5    15737888  Mitchell          850     Spain  Female   43   \n",
       "\n",
       "   Tenure    Balance  NumOfProducts  HasCrCard  IsActiveMember  \\\n",
       "0     2.0       0.00              1          1               1   \n",
       "1     1.0   83807.86              1          0               1   \n",
       "2     8.0  159660.80              3          1               0   \n",
       "3     1.0       0.00              2          0               0   \n",
       "4     2.0  125510.82              1          1               1   \n",
       "\n",
       "   EstimatedSalary  Exited  \n",
       "0        101348.88       1  \n",
       "1        112542.58       0  \n",
       "2        113931.57       1  \n",
       "3         93826.63       0  \n",
       "4         79084.10       0  "
      ]
     },
     "execution_count": 40,
     "metadata": {},
     "output_type": "execute_result"
    }
   ],
   "source": [
    "import pandas as pd\n",
    "\n",
    "data = pd.read_csv('/datasets/Churn.csv')\n",
    "print(data.info())\n",
    "data.head()"
   ]
  },
  {
   "cell_type": "markdown",
   "metadata": {},
   "source": [
    "Данные загрузились корректно: в таблице 10 тыс записей  о поведении клиентов и расторжении договоров с банком.\n",
    "В каждой строке есть \n",
    "\n",
    "**Признаки**\n",
    "\n",
    "    RowNumber — индекс строки в данных\n",
    "    CustomerId — уникальный идентификатор клиента\n",
    "    Surname — фамилия\n",
    "    CreditScore — кредитный рейтинг\n",
    "    Geography — страна проживания\n",
    "    Gender — пол\n",
    "    Age — возраст\n",
    "    Tenure — количество недвижимости у клиента\n",
    "    Balance — баланс на счёте\n",
    "    NumOfProducts — количество продуктов банка, используемых клиентом\n",
    "    HasCrCard — наличие кредитной карты\n",
    "    IsActiveMember — активность клиента\n",
    "    EstimatedSalary — предполагаемая зарплата\n",
    "**и целевой признак**\n",
    "\n",
    "    Exited — факт ухода клиента, но нуждаются в предобработке\n",
    "    \n",
    "Однако данные нуждаются в предобработке. Сначала преобразуем названия колонок к более удобному формату"
   ]
  },
  {
   "cell_type": "markdown",
   "metadata": {},
   "source": [
    "<font color='blue'> \n",
    "### <u>КОММЕНТАРИЙ РЕВЬЮЕРА</u>\n",
    "</font>\n",
    "<font color='green'>\n",
    "Хорошая аналитическая подготовка перед исследованием)\n",
    "<br>\n",
    "</font>"
   ]
  },
  {
   "cell_type": "code",
   "execution_count": 41,
   "metadata": {},
   "outputs": [],
   "source": [
    "data.columns = ['row_number', 'customer_id', 'surname', 'credit_score', 'geography',\n",
    "       'gender', 'age', 'tenure', 'balance', 'num_of_products', 'has_cr_card',\n",
    "       'is_active_member', 'estimated_salary', 'exited']"
   ]
  },
  {
   "cell_type": "markdown",
   "metadata": {},
   "source": [
    "Теперь нужно разобраться с пропусками и типом данных столбца tenure. Таких строк всего 10%, поэтому, попробуем их просто удалить, после чего приветси значения столбца к типу int."
   ]
  },
  {
   "cell_type": "markdown",
   "metadata": {},
   "source": [
    "<font color='blue'> \n",
    "### <u>КОММЕНТАРИЙ РЕВЬЮЕРА</u>\n",
    "</font>\n",
    "<font color='green'>\n",
    "В общем-то согласен. Их всего 10%.<br> Но вопрос такой: если постаивть 0, то это лучше  или хуже, чем если удалить данные?\n",
    "На мой взгляд 0 - это чуть хуже. И вот почему: ведь мы просто скажем модели, что у клиента нет недвижимости. А так ли это на самом деле? навверное нет, наверняка недвижимость есть.<br></font>\n",
    "<font color='red'> <br>\n",
    "Поэтому тут два варианта: или удалить, ну или подставить медиану. Посмотрим как нули скажутся на конечном результате...\n",
    "<br>\n",
    "\n",
    "</font>"
   ]
  },
  {
   "cell_type": "code",
   "execution_count": 42,
   "metadata": {},
   "outputs": [
    {
     "name": "stdout",
     "output_type": "stream",
     "text": [
      "<class 'pandas.core.frame.DataFrame'>\n",
      "Int64Index: 9091 entries, 0 to 9998\n",
      "Data columns (total 14 columns):\n",
      "row_number          9091 non-null int64\n",
      "customer_id         9091 non-null int64\n",
      "surname             9091 non-null object\n",
      "credit_score        9091 non-null int64\n",
      "geography           9091 non-null object\n",
      "gender              9091 non-null object\n",
      "age                 9091 non-null int64\n",
      "tenure              9091 non-null int64\n",
      "balance             9091 non-null float64\n",
      "num_of_products     9091 non-null int64\n",
      "has_cr_card         9091 non-null int64\n",
      "is_active_member    9091 non-null int64\n",
      "estimated_salary    9091 non-null float64\n",
      "exited              9091 non-null int64\n",
      "dtypes: float64(2), int64(9), object(3)\n",
      "memory usage: 1.0+ MB\n"
     ]
    }
   ],
   "source": [
    "data = data[data['tenure'].notna()]\n",
    "data['tenure'] = data['tenure'].astype(int)\n",
    "data.info()"
   ]
  },
  {
   "cell_type": "markdown",
   "metadata": {},
   "source": [
    "Теперь подготовим данные к предстоящему исследованию. Нужно спрогнозировать, уйдёт клиент из банка в ближайшее время или нет, а значит это задача классификации. Принадлежность к категории логистическая регрессия вычисляет по формуле, состоящей из признаков. Они могут быть только численные. Наши данные содержат и категориальные признаки тоже (столбцы surname, geography. gender). Наверняка фамилия клиента, его id и номер строки слабо влияют на его уход из банка, поэтому для дальнейшего исследования избавимся от этих столбцов. Остальные категориальные признаки преобразуем в численные техникой прямого кодирования (OHE), так как она подходит для решения нашей задачи: работает со всеми моделями. Чтобы не попасть в дамми-ловушку, применим аргумент drop_first функции pd.get_dummies(). Преобразованную таблицу сохраним в переменной data_ohe"
   ]
  },
  {
   "cell_type": "code",
   "execution_count": 43,
   "metadata": {
    "scrolled": true
   },
   "outputs": [
    {
     "data": {
      "text/html": [
       "<div>\n",
       "<style scoped>\n",
       "    .dataframe tbody tr th:only-of-type {\n",
       "        vertical-align: middle;\n",
       "    }\n",
       "\n",
       "    .dataframe tbody tr th {\n",
       "        vertical-align: top;\n",
       "    }\n",
       "\n",
       "    .dataframe thead th {\n",
       "        text-align: right;\n",
       "    }\n",
       "</style>\n",
       "<table border=\"1\" class=\"dataframe\">\n",
       "  <thead>\n",
       "    <tr style=\"text-align: right;\">\n",
       "      <th></th>\n",
       "      <th>credit_score</th>\n",
       "      <th>age</th>\n",
       "      <th>tenure</th>\n",
       "      <th>balance</th>\n",
       "      <th>num_of_products</th>\n",
       "      <th>has_cr_card</th>\n",
       "      <th>is_active_member</th>\n",
       "      <th>estimated_salary</th>\n",
       "      <th>exited</th>\n",
       "      <th>geography_germany</th>\n",
       "      <th>geography_spain</th>\n",
       "      <th>gender_male</th>\n",
       "    </tr>\n",
       "  </thead>\n",
       "  <tbody>\n",
       "    <tr>\n",
       "      <td>0</td>\n",
       "      <td>619</td>\n",
       "      <td>42</td>\n",
       "      <td>2</td>\n",
       "      <td>0.00</td>\n",
       "      <td>1</td>\n",
       "      <td>1</td>\n",
       "      <td>1</td>\n",
       "      <td>101348.88</td>\n",
       "      <td>1</td>\n",
       "      <td>0</td>\n",
       "      <td>0</td>\n",
       "      <td>0</td>\n",
       "    </tr>\n",
       "    <tr>\n",
       "      <td>1</td>\n",
       "      <td>608</td>\n",
       "      <td>41</td>\n",
       "      <td>1</td>\n",
       "      <td>83807.86</td>\n",
       "      <td>1</td>\n",
       "      <td>0</td>\n",
       "      <td>1</td>\n",
       "      <td>112542.58</td>\n",
       "      <td>0</td>\n",
       "      <td>0</td>\n",
       "      <td>1</td>\n",
       "      <td>0</td>\n",
       "    </tr>\n",
       "    <tr>\n",
       "      <td>2</td>\n",
       "      <td>502</td>\n",
       "      <td>42</td>\n",
       "      <td>8</td>\n",
       "      <td>159660.80</td>\n",
       "      <td>3</td>\n",
       "      <td>1</td>\n",
       "      <td>0</td>\n",
       "      <td>113931.57</td>\n",
       "      <td>1</td>\n",
       "      <td>0</td>\n",
       "      <td>0</td>\n",
       "      <td>0</td>\n",
       "    </tr>\n",
       "    <tr>\n",
       "      <td>3</td>\n",
       "      <td>699</td>\n",
       "      <td>39</td>\n",
       "      <td>1</td>\n",
       "      <td>0.00</td>\n",
       "      <td>2</td>\n",
       "      <td>0</td>\n",
       "      <td>0</td>\n",
       "      <td>93826.63</td>\n",
       "      <td>0</td>\n",
       "      <td>0</td>\n",
       "      <td>0</td>\n",
       "      <td>0</td>\n",
       "    </tr>\n",
       "    <tr>\n",
       "      <td>4</td>\n",
       "      <td>850</td>\n",
       "      <td>43</td>\n",
       "      <td>2</td>\n",
       "      <td>125510.82</td>\n",
       "      <td>1</td>\n",
       "      <td>1</td>\n",
       "      <td>1</td>\n",
       "      <td>79084.10</td>\n",
       "      <td>0</td>\n",
       "      <td>0</td>\n",
       "      <td>1</td>\n",
       "      <td>0</td>\n",
       "    </tr>\n",
       "  </tbody>\n",
       "</table>\n",
       "</div>"
      ],
      "text/plain": [
       "   credit_score  age  tenure    balance  num_of_products  has_cr_card  \\\n",
       "0           619   42       2       0.00                1            1   \n",
       "1           608   41       1   83807.86                1            0   \n",
       "2           502   42       8  159660.80                3            1   \n",
       "3           699   39       1       0.00                2            0   \n",
       "4           850   43       2  125510.82                1            1   \n",
       "\n",
       "   is_active_member  estimated_salary  exited  geography_germany  \\\n",
       "0                 1         101348.88       1                  0   \n",
       "1                 1         112542.58       0                  0   \n",
       "2                 0         113931.57       1                  0   \n",
       "3                 0          93826.63       0                  0   \n",
       "4                 1          79084.10       0                  0   \n",
       "\n",
       "   geography_spain  gender_male  \n",
       "0                0            0  \n",
       "1                1            0  \n",
       "2                0            0  \n",
       "3                0            0  \n",
       "4                1            0  "
      ]
     },
     "execution_count": 43,
     "metadata": {},
     "output_type": "execute_result"
    }
   ],
   "source": [
    "data = data.drop(['surname', 'row_number', 'customer_id'], axis = 1)\n",
    "data_ohe = pd.get_dummies(data, drop_first=True)\n",
    "data_ohe.columns = ['credit_score', 'age', 'tenure', 'balance',\n",
    "       'num_of_products', 'has_cr_card', 'is_active_member',\n",
    "       'estimated_salary', 'exited', 'geography_germany', 'geography_spain', 'gender_male']\n",
    "data_ohe.head()"
   ]
  },
  {
   "cell_type": "markdown",
   "metadata": {},
   "source": [
    "<font color='blue'> \n",
    "### <u>КОММЕНТАРИЙ РЕВЬЮЕРА</u>\n",
    "</font>\n",
    "<font color='green'>\n",
    "ОК, хорошо, в точку)\n",
    "<br>\n",
    "</font>"
   ]
  },
  {
   "cell_type": "markdown",
   "metadata": {},
   "source": [
    "Теперь можно разделить данные на три части: обучающую, валидационную и тестовую. Сделаем это в соотношении 3:1:1. Импортируем из sklearn.model_selection для этого функцию train_test_split и применим ее дважды."
   ]
  },
  {
   "cell_type": "code",
   "execution_count": 44,
   "metadata": {},
   "outputs": [
    {
     "name": "stdout",
     "output_type": "stream",
     "text": [
      "В обучающей выборке 5454 записей\n",
      "В валидационной выборке 1818 записей\n",
      "В тестовой выборке 1819 записей\n"
     ]
    }
   ],
   "source": [
    "from sklearn.model_selection import train_test_split\n",
    "\n",
    "train, valid_and_test = train_test_split(data_ohe, test_size = 0.4, random_state = 12345)\n",
    "valid, test = train_test_split(valid_and_test, test_size = 0.5, random_state = 12345)\n",
    "\n",
    "print(\"В обучающей выборке %d записей\"%train.shape[0])\n",
    "print(\"В валидационной выборке %d записей\"%valid.shape[0])\n",
    "print(\"В тестовой выборке %d записей\"%test.shape[0])"
   ]
  },
  {
   "cell_type": "markdown",
   "metadata": {},
   "source": [
    "Теперь для каждой части выделим признаки (features) и целевой признак (ушел/не ушел) (target)"
   ]
  },
  {
   "cell_type": "code",
   "execution_count": 45,
   "metadata": {},
   "outputs": [],
   "source": [
    "train_features = train.drop('exited', axis = 1)\n",
    "train_target = train['exited']\n",
    "\n",
    "valid_features = valid.drop('exited', axis = 1)\n",
    "valid_target = valid['exited']\n",
    "\n",
    "test_features = test.drop('exited', axis = 1)\n",
    "test_target = test['exited']"
   ]
  },
  {
   "cell_type": "markdown",
   "metadata": {},
   "source": [
    "Теперь нужно стандартизировать численные признаки в тренировочной и валидационной выборках. Создадим для удобства массив numeric, куда запишем названия столбцов с численными значениями, которые будем стандартизировать - 'credit_score', 'age', 'tenure', 'balance','num_of_products', 'estimated_salary'. Импортируем StandardScaler из модуля sklearn.preprocessing и выполним стандартизацию."
   ]
  },
  {
   "cell_type": "code",
   "execution_count": 46,
   "metadata": {},
   "outputs": [
    {
     "data": {
      "text/html": [
       "<div>\n",
       "<style scoped>\n",
       "    .dataframe tbody tr th:only-of-type {\n",
       "        vertical-align: middle;\n",
       "    }\n",
       "\n",
       "    .dataframe tbody tr th {\n",
       "        vertical-align: top;\n",
       "    }\n",
       "\n",
       "    .dataframe thead th {\n",
       "        text-align: right;\n",
       "    }\n",
       "</style>\n",
       "<table border=\"1\" class=\"dataframe\">\n",
       "  <thead>\n",
       "    <tr style=\"text-align: right;\">\n",
       "      <th></th>\n",
       "      <th>credit_score</th>\n",
       "      <th>age</th>\n",
       "      <th>tenure</th>\n",
       "      <th>balance</th>\n",
       "      <th>num_of_products</th>\n",
       "      <th>has_cr_card</th>\n",
       "      <th>is_active_member</th>\n",
       "      <th>estimated_salary</th>\n",
       "      <th>geography_germany</th>\n",
       "      <th>geography_spain</th>\n",
       "      <th>gender_male</th>\n",
       "    </tr>\n",
       "  </thead>\n",
       "  <tbody>\n",
       "    <tr>\n",
       "      <td>9344</td>\n",
       "      <td>0.809075</td>\n",
       "      <td>-1.039327</td>\n",
       "      <td>-1.025995</td>\n",
       "      <td>0.554904</td>\n",
       "      <td>-0.908179</td>\n",
       "      <td>1</td>\n",
       "      <td>0</td>\n",
       "      <td>0.019508</td>\n",
       "      <td>0</td>\n",
       "      <td>0</td>\n",
       "      <td>0</td>\n",
       "    </tr>\n",
       "    <tr>\n",
       "      <td>3796</td>\n",
       "      <td>-1.152518</td>\n",
       "      <td>-1.227561</td>\n",
       "      <td>0.696524</td>\n",
       "      <td>0.480609</td>\n",
       "      <td>-0.908179</td>\n",
       "      <td>0</td>\n",
       "      <td>0</td>\n",
       "      <td>0.056167</td>\n",
       "      <td>0</td>\n",
       "      <td>0</td>\n",
       "      <td>1</td>\n",
       "    </tr>\n",
       "    <tr>\n",
       "      <td>7462</td>\n",
       "      <td>-0.398853</td>\n",
       "      <td>0.090079</td>\n",
       "      <td>1.385532</td>\n",
       "      <td>-1.237830</td>\n",
       "      <td>-0.908179</td>\n",
       "      <td>1</td>\n",
       "      <td>1</td>\n",
       "      <td>0.848738</td>\n",
       "      <td>0</td>\n",
       "      <td>0</td>\n",
       "      <td>1</td>\n",
       "    </tr>\n",
       "    <tr>\n",
       "      <td>1508</td>\n",
       "      <td>-0.749875</td>\n",
       "      <td>-0.286389</td>\n",
       "      <td>0.352020</td>\n",
       "      <td>-1.237830</td>\n",
       "      <td>0.809300</td>\n",
       "      <td>1</td>\n",
       "      <td>1</td>\n",
       "      <td>-0.894953</td>\n",
       "      <td>0</td>\n",
       "      <td>0</td>\n",
       "      <td>1</td>\n",
       "    </tr>\n",
       "    <tr>\n",
       "      <td>4478</td>\n",
       "      <td>-1.028628</td>\n",
       "      <td>-0.756975</td>\n",
       "      <td>-0.336987</td>\n",
       "      <td>-1.237830</td>\n",
       "      <td>0.809300</td>\n",
       "      <td>0</td>\n",
       "      <td>1</td>\n",
       "      <td>-1.284516</td>\n",
       "      <td>0</td>\n",
       "      <td>0</td>\n",
       "      <td>1</td>\n",
       "    </tr>\n",
       "  </tbody>\n",
       "</table>\n",
       "</div>"
      ],
      "text/plain": [
       "      credit_score       age    tenure   balance  num_of_products  \\\n",
       "9344      0.809075 -1.039327 -1.025995  0.554904        -0.908179   \n",
       "3796     -1.152518 -1.227561  0.696524  0.480609        -0.908179   \n",
       "7462     -0.398853  0.090079  1.385532 -1.237830        -0.908179   \n",
       "1508     -0.749875 -0.286389  0.352020 -1.237830         0.809300   \n",
       "4478     -1.028628 -0.756975 -0.336987 -1.237830         0.809300   \n",
       "\n",
       "      has_cr_card  is_active_member  estimated_salary  geography_germany  \\\n",
       "9344            1                 0          0.019508                  0   \n",
       "3796            0                 0          0.056167                  0   \n",
       "7462            1                 1          0.848738                  0   \n",
       "1508            1                 1         -0.894953                  0   \n",
       "4478            0                 1         -1.284516                  0   \n",
       "\n",
       "      geography_spain  gender_male  \n",
       "9344                0            0  \n",
       "3796                0            1  \n",
       "7462                0            1  \n",
       "1508                0            1  \n",
       "4478                0            1  "
      ]
     },
     "execution_count": 46,
     "metadata": {},
     "output_type": "execute_result"
    }
   ],
   "source": [
    "from sklearn.preprocessing import StandardScaler\n",
    "\n",
    "numeric = ['credit_score', 'age', 'tenure', 'balance', 'num_of_products', 'estimated_salary']\n",
    "\n",
    "scaler = StandardScaler()\n",
    "scaler.fit(train_features[numeric])\n",
    "train_features[numeric] = scaler.transform(train_features[numeric])\n",
    "valid_features[numeric] = scaler.transform(valid_features[numeric])\n",
    "test_features[numeric] = scaler.transform(test_features[numeric])\n",
    "\n",
    "train_features.head()"
   ]
  },
  {
   "cell_type": "markdown",
   "metadata": {},
   "source": [
    "Данные готовы к дальнейшему исследованию на классификацию: пропуски обработаны, категориальные данные преобразованы к численным, а численные данные стандартизированы. Также исходная выборка разделена на 3: обучающую, валидационную и тестовую."
   ]
  },
  {
   "cell_type": "markdown",
   "metadata": {},
   "source": [
    "<font color='blue'> \n",
    "### <u>КОММЕНТАРИЙ РЕВЬЮЕРА</u>\n",
    "</font>\n",
    "<font color='green'>\n",
    "Хорошо. резюмировать каждый этап - это вдохнавлять себя на дальнейшую работу) Взашёл на горное плато, закрепился, лезешь дальше)\n",
    "<br>\n",
    "</font>"
   ]
  },
  {
   "cell_type": "markdown",
   "metadata": {},
   "source": [
    "# 2. Исследование задачи"
   ]
  },
  {
   "cell_type": "markdown",
   "metadata": {},
   "source": [
    "Исследуем баланс классов в тренировочной выборке: посмотрим долю 0 и 1 в целевом признаке"
   ]
  },
  {
   "cell_type": "code",
   "execution_count": 47,
   "metadata": {},
   "outputs": [
    {
     "name": "stdout",
     "output_type": "stream",
     "text": [
      "Доля отрицательных ответов: 0.7935460212687936\n",
      "Доля положительных ответов: 0.20645397873120647\n"
     ]
    }
   ],
   "source": [
    "zeroes_part = train_target[train_target == 0].count()/len(train_target)\n",
    "ones_part = train_target[train_target == 1].count()/len(train_target)\n",
    "print(\"Доля отрицательных ответов:\", zeroes_part)\n",
    "print(\"Доля положительных ответов:\", ones_part)"
   ]
  },
  {
   "cell_type": "markdown",
   "metadata": {},
   "source": [
    "Данные несбалансированы: только 21% ответов - положительны. Если обучать модель на таких данных, то она будет с большей вероятностью выдавать отрицательный ответ, что исказит предсказания. Попробуем это показать: обучим модели Дерева, Леса и Логистической регрессии без учёта дисбаланса и выберем модель с лучшей мерой f1"
   ]
  },
  {
   "cell_type": "code",
   "execution_count": 48,
   "metadata": {},
   "outputs": [
    {
     "name": "stdout",
     "output_type": "stream",
     "text": [
      "Лучшее дерево\n",
      "  criterion  max_depth  min_samples_split  min_samples_leaf  f1_score\n",
      "4      gini          7                  2                 2   0.57649\n",
      "Лучший лес\n",
      "  criterion  n_estimators  f1_score\n",
      "3      gini            40      0.59\n",
      "Лучшая логистическая регрессия\n",
      "      c     solver  f1_score\n",
      "27  1.0  liblinear     0.304\n"
     ]
    }
   ],
   "source": [
    "from sklearn.metrics import f1_score, roc_curve\n",
    "from sklearn.tree import DecisionTreeClassifier\n",
    "from sklearn.ensemble import RandomForestClassifier\n",
    "import warnings\n",
    "from sklearn.linear_model import LogisticRegression\n",
    "\n",
    "\n",
    "columns = ['criterion', 'max_depth', 'min_samples_split', 'min_samples_leaf', 'f1_score']\n",
    "data = []\n",
    "for criterion in ['gini', 'entropy']:\n",
    "    for max_depth in range(2, 25, 5):\n",
    "        for min_samples_split in range(2, 4):\n",
    "            for min_samples_leaf in range(2, 4):\n",
    "                model = DecisionTreeClassifier(criterion=criterion,\n",
    "                        max_depth=max_depth,\n",
    "                        min_samples_split=min_samples_split,\n",
    "                        min_samples_leaf=min_samples_leaf,\n",
    "                        random_state = 12345)\n",
    "                model.fit(train_features, train_target)\n",
    "                string = [criterion, max_depth, min_samples_split, min_samples_leaf,\n",
    "                         f1_score(valid_target, model.predict(valid_features))]\n",
    "                data.append(string)\n",
    "tree_metrics = pd.DataFrame(columns = columns, data = data)\n",
    "print(\"Лучшее дерево\")\n",
    "print(tree_metrics.sort_values('f1_score', ascending = False).head(1))\n",
    "\n",
    "\n",
    "columns = ['criterion', 'n_estimators', 'f1_score']\n",
    "data = []\n",
    "for criterion in ['gini', 'entropy']:\n",
    "    for n_estimators in range(10, 101, 10):\n",
    "        model = RandomForestClassifier(criterion=criterion, n_estimators = n_estimators, random_state = 12)\n",
    "        model.fit(train_features, train_target)\n",
    "        string = [criterion, n_estimators,\n",
    "                    f1_score(valid_target, model.predict(valid_features))]\n",
    "        data.append(string)\n",
    "tree_metrics = pd.DataFrame(columns = columns, data = data)\n",
    "print(\"Лучший лес\")\n",
    "print(tree_metrics.sort_values('f1_score', ascending = False).head(1))\n",
    "\n",
    "\n",
    "warnings.filterwarnings('ignore')\n",
    "columns = ['c', 'solver', 'f1_score']\n",
    "data = []\n",
    "for koef in [10**k for k in range(-5, 6)]:\n",
    "    for solver in ['newton-cg', 'lbfgs', 'liblinear', 'sag', 'saga']:\n",
    "        model = LogisticRegression(random_state=12,  C = koef, solver = solver)\n",
    "        model.fit(train_features, train_target)\n",
    "        string = [koef, solver, f1_score(valid_target, model.predict(valid_features))]\n",
    "        data.append(string)\n",
    "tree_metrics = pd.DataFrame(columns = columns, data = data)\n",
    "\n",
    "print(\"Лучшая логистическая регрессия\")\n",
    "print(tree_metrics.sort_values('f1_score', ascending = False).head(1))\n"
   ]
  },
  {
   "cell_type": "markdown",
   "metadata": {},
   "source": [
    "Итак, при работе с несбалансированными данными лучший результат показала модель Леса с гиперпараметрами criterion = 'gini, n_estimators = 40. Его f1 мера равна 0.59, что уже достаточно, но можно лучше. Посмотрим, что сильнее \"тянет вниз\" f1: точность или полнота"
   ]
  },
  {
   "cell_type": "code",
   "execution_count": 49,
   "metadata": {},
   "outputs": [
    {
     "name": "stdout",
     "output_type": "stream",
     "text": [
      "Полнота: 0.46419098143236076\n",
      "Точность: 0.7777777777777778\n",
      "F1-мера: 0.5813953488372093\n"
     ]
    }
   ],
   "source": [
    "from sklearn.metrics import precision_score, recall_score\n",
    "\n",
    "model = RandomForestClassifier(criterion='gini', n_estimators = 30, random_state = 12)\n",
    "model.fit(train_features, train_target)\n",
    "valid_predictions = model.predict(valid_features)\n",
    "\n",
    "precision = precision_score(valid_target, valid_predictions)\n",
    "recall = recall_score(valid_target, valid_predictions)\n",
    "f1 = f1_score(valid_target, valid_predictions)\n",
    "\n",
    "print(\"Полнота:\", recall)\n",
    "print(\"Точность:\", precision)\n",
    "print(\"F1-мера:\", f1)"
   ]
  },
  {
   "cell_type": "markdown",
   "metadata": {},
   "source": [
    "Полнота равна 0.46, то есть модель выявляет меньше половины положительных результатов, а ведь это и есть самое главное в нашем исследовании. Это вероятнее всего обусловлено дисбалансом классов: доля положительных ответов в обучающей выборке была всего 0.21, поэтому модель склонна возвращать негативный ответ, ведь он наиболее вероятен. Построим также ROC-кривую для победившей модели и изобразим её на графике. Чтобы выявить, как сильно наша модель отличается от случайной, посчитаем площадь под ROC-кривой — AUC-ROC "
   ]
  },
  {
   "cell_type": "markdown",
   "metadata": {},
   "source": [
    "<font color='blue'> \n",
    "### <u>КОММЕНТАРИЙ РЕВЬЮЕРА</u>\n",
    "</font>\n",
    "<font color='green'>\n",
    "Опять в точку)\n",
    "<br>\n",
    "</font>"
   ]
  },
  {
   "cell_type": "code",
   "execution_count": 50,
   "metadata": {},
   "outputs": [
    {
     "data": {
      "image/png": "[encoded data removed]",
      "text/plain": [
       "<Figure size 432x288 with 1 Axes>"
      ]
     },
     "metadata": {
      "needs_background": "light"
     },
     "output_type": "display_data"
    },
    {
     "name": "stdout",
     "output_type": "stream",
     "text": [
      "AUC-ROC = 0.8531514550203678\n"
     ]
    }
   ],
   "source": [
    "import matplotlib.pyplot as plt\n",
    "from sklearn.metrics import roc_curve, roc_auc_score\n",
    "\n",
    "valid_probabilities = model.predict_proba(valid_features)\n",
    "valid_probabilities_one = valid_probabilities[:, 1]\n",
    "\n",
    "fpr, tpr, thresholds = roc_curve(valid_target, valid_probabilities_one)\n",
    "\n",
    "plt.figure()\n",
    "plt.plot(fpr, tpr)\n",
    "plt.plot([0, 1], [0, 1], linestyle='--')\n",
    "plt.xlim(0,1)\n",
    "plt.ylim(0,1)\n",
    "\n",
    "plt.xlabel(\"False Positive Rate\")\n",
    "plt.ylabel(\"True Positive Rate\")\n",
    "\n",
    "plt.title(\"ROC-кривая\")\n",
    "\n",
    "plt.show()\n",
    "\n",
    "auc_roc = roc_auc_score(valid_target, valid_probabilities_one)\n",
    "print(\"AUC-ROC =\",auc_roc)"
   ]
  },
  {
   "cell_type": "markdown",
   "metadata": {},
   "source": [
    "Метрика 0.85 лучше, чем у случайной модели (0.5), но до идеального (AUC-ROC = 1) не дотягивает. Поробуем улучшить качество модели, сбалансировав классы."
   ]
  },
  {
   "cell_type": "markdown",
   "metadata": {},
   "source": [
    "# 3. Борьба с дисбалансом"
   ]
  },
  {
   "cell_type": "markdown",
   "metadata": {},
   "source": [
    "Придадим объектам редкого класса больший вес и посмотрим, как изменятся f1 метрики для Дерева, Леса и Логистической регрессии"
   ]
  },
  {
   "cell_type": "code",
   "execution_count": 51,
   "metadata": {},
   "outputs": [
    {
     "name": "stdout",
     "output_type": "stream",
     "text": [
      "F1 Дерева: 0.5340802987861811\n",
      "F1 Леса: 0.580536912751678\n",
      "F1 Логистической регрессии: 0.509731232622799\n"
     ]
    }
   ],
   "source": [
    "model = DecisionTreeClassifier(random_state=12345, criterion = 'gini', max_depth = 7,\n",
    "                               min_samples_split = 2,  min_samples_leaf = 2, class_weight = 'balanced')\n",
    "model.fit(train_features, train_target)\n",
    "valid_predicted = model.predict(valid_features)\n",
    "print(\"F1 Дерева:\", f1_score(valid_target, valid_predicted))\n",
    "\n",
    "model = RandomForestClassifier(random_state=12345, criterion = 'gini', n_estimators = 40, class_weight = 'balanced')\n",
    "model.fit(train_features, train_target)\n",
    "valid_predicted = model.predict(valid_features)\n",
    "print(\"F1 Леса:\", f1_score(valid_target, valid_predicted))\n",
    "\n",
    "model = LogisticRegression(random_state=12345, solver='liblinear', class_weight = 'balanced')\n",
    "model.fit(train_features, train_target)\n",
    "valid_predicted = model.predict(valid_features)\n",
    "print(\"F1 Логистической регрессии:\", f1_score(valid_target, valid_predicted))"
   ]
  },
  {
   "cell_type": "markdown",
   "metadata": {},
   "source": [
    "f1_score Дерева уменьшился с 0.58 до 0.53\n",
    "\n",
    "f1_score Леса незначительно уменьшился с 0.59 до 0.58\n",
    "\n",
    "А вот f1_score Логистической регрессии вырос значительно: с 0.30 до 0.51\n",
    "\n",
    "Очевидно, такой подход к борьбе с дисбалансом хорош для логистической регресии, но для Леса и Дерева не подходит\n",
    "\n",
    "В любом случае, этих показателей недостаточно"
   ]
  },
  {
   "cell_type": "markdown",
   "metadata": {},
   "source": [
    "Теперь попробуем увеличить выборку за счет повторения строк с положительным целевым признаком repeat раз техникой upsampling. При этом не забудем перемешать строки, чтобы не было подряд идущих схожих записей. Обучим на полученной выборке те же можели, что и ранее и выберем лучшую"
   ]
  },
  {
   "cell_type": "code",
   "execution_count": 52,
   "metadata": {},
   "outputs": [
    {
     "name": "stdout",
     "output_type": "stream",
     "text": [
      "ТОП 5 по f1\n",
      "                                               model  repeat  f1_score\n",
      "6  (DecisionTreeClassifier(class_weight=None, cri...       6  0.627168\n",
      "5  (DecisionTreeClassifier(class_weight=None, cri...       4  0.608824\n",
      "7  (DecisionTreeClassifier(class_weight=None, cri...       8  0.600297\n",
      "4  (DecisionTreeClassifier(class_weight=None, cri...       2  0.592145\n",
      "0  DecisionTreeClassifier(class_weight=None, crit...       2  0.590529\n"
     ]
    }
   ],
   "source": [
    "from sklearn.utils import shuffle\n",
    "\n",
    "def upsample(features, target, repeat):\n",
    "    features_zeros = features[target == 0]\n",
    "    features_ones = features[target == 1]\n",
    "    target_zeros = target[target == 0]\n",
    "    target_ones = target[target == 1]\n",
    "\n",
    "    features_upsampled = pd.concat([features_zeros] + [features_ones] * repeat)\n",
    "    target_upsampled = pd.concat([target_zeros] + [target_ones] * repeat)\n",
    "    \n",
    "    features_upsampled, target_upsampled = shuffle(\n",
    "        features_upsampled, target_upsampled, random_state=12345)\n",
    "    \n",
    "    return features_upsampled, target_upsampled\n",
    "\n",
    "columns = ['model', 'repeat', 'f1_score']\n",
    "data = []\n",
    "for model in [DecisionTreeClassifier(random_state=12345, criterion = 'gini', max_depth = 7,\n",
    "                               min_samples_split = 2,  min_samples_leaf = 2),\n",
    "              RandomForestClassifier(random_state=12345, criterion = 'gini', n_estimators = 40),\n",
    "              LogisticRegression(random_state=12345, solver='liblinear')]:          \n",
    "    for repeat in range(2, 10, 2):\n",
    "        features_upsampled, target_upsampled = upsample(train_features, train_target, repeat)\n",
    "        model.fit(features_upsampled, target_upsampled)\n",
    "        string = [model, repeat, f1_score(valid_target, model.predict(valid_features))]\n",
    "        data.append(string)\n",
    "metrics = pd.DataFrame(columns = columns, data = data)\n",
    "print(\"ТОП 5 по f1\")\n",
    "print(metrics.sort_values('f1_score', ascending = False).head())\n",
    "\n"
   ]
  },
  {
   "cell_type": "markdown",
   "metadata": {},
   "source": [
    "Итак, у нас появилась первая модель, которая уже перешагнула порог \"успешности\": RandomForestClassifier(random_state=12345, criterion = 'gini', n_estimators = 40), обученная на выборке train, в которой строки с положительным целевым признаком повторены 6 раз. У этой модели f1 = 0.63, что уже выше 0.59.  (в выведенной таблице Decision.... без скобок - Делево, а со скобками - Лес)"
   ]
  },
  {
   "cell_type": "markdown",
   "metadata": {},
   "source": [
    "Также вместо повторения положительных ответов, можно уберать часть отрицательных техникой downsampling."
   ]
  },
  {
   "cell_type": "code",
   "execution_count": 53,
   "metadata": {},
   "outputs": [
    {
     "name": "stdout",
     "output_type": "stream",
     "text": [
      "ТОП 5 по f1\n",
      "                                               model  fraction  f1_score\n",
      "7  (DecisionTreeClassifier(class_weight=None, cri...       0.5  0.633557\n",
      "9  (DecisionTreeClassifier(class_weight=None, cri...       0.9  0.598425\n",
      "6  (DecisionTreeClassifier(class_weight=None, cri...       0.3  0.588108\n",
      "8  (DecisionTreeClassifier(class_weight=None, cri...       0.7  0.586957\n",
      "4  DecisionTreeClassifier(class_weight=None, crit...       0.9  0.582946\n"
     ]
    }
   ],
   "source": [
    "def downsample(features, target, fraction):\n",
    "    features_zeros = features[target == 0]\n",
    "    features_ones = features[target == 1]\n",
    "    target_zeros = target[target == 0]\n",
    "    target_ones = target[target == 1]\n",
    "\n",
    "    features_downsampled = pd.concat(\n",
    "        [features_zeros.sample(frac=fraction, random_state=12345)] + [features_ones])\n",
    "    target_downsampled = pd.concat(\n",
    "        [target_zeros.sample(frac=fraction, random_state=12345)] + [target_ones])\n",
    "    \n",
    "    features_downsampled, target_downsampled = shuffle(\n",
    "        features_downsampled, target_downsampled, random_state=12345)\n",
    "    \n",
    "    return features_downsampled, target_downsampled\n",
    "\n",
    "\n",
    "columns = ['model', 'fraction', 'f1_score']\n",
    "data = []\n",
    "for model in [DecisionTreeClassifier(random_state=12345, criterion = 'gini', max_depth = 7,\n",
    "                               min_samples_split = 2,  min_samples_leaf = 2),\n",
    "              RandomForestClassifier(random_state=12345, criterion = 'gini', n_estimators = 40),\n",
    "              LogisticRegression(random_state=12345, solver='liblinear')]:          \n",
    "    for fraction in [0.1, 0.3, 0.5, 0.7, 0.9]:\n",
    "        features_downsampled, target_downsampled = downsample(train_features, train_target, fraction)\n",
    "        model.fit(features_downsampled, target_downsampled)\n",
    "        string = [model, fraction, f1_score(valid_target, model.predict(valid_features))]\n",
    "        data.append(string)\n",
    "metrics = pd.DataFrame(columns = columns, data = data)\n",
    "print(\"ТОП 5 по f1\")\n",
    "print(metrics.sort_values('f1_score', ascending = False).head())\n"
   ]
  },
  {
   "cell_type": "markdown",
   "metadata": {},
   "source": [
    "Итак, у нас появилась вторая модель, которая перешагнула порог \"успешности\": RandomForestClassifier(random_state=12345, criterion = 'gini', n_estimators = 40), обученная на выборке train, в которой из строк с отрицательным целевым признаком всзята только 0.5 часть. У этой модели f1 = 0.63, что уже выше 0.59."
   ]
  },
  {
   "cell_type": "markdown",
   "metadata": {},
   "source": [
    "Теперь попробуем изменить значение порога для логистической регрессии и посмотрим, какими станут метрики точности, полноты и f1. "
   ]
  },
  {
   "cell_type": "code",
   "execution_count": 54,
   "metadata": {},
   "outputs": [
    {
     "name": "stdout",
     "output_type": "stream",
     "text": [
      "Порог = 0.00 | Точность = 0.207, Полнота = 1.000, F1 = 0.344\n",
      "Порог = 0.02 | Точность = 0.208, Полнота = 1.000, F1 = 0.344\n",
      "Порог = 0.04 | Точность = 0.217, Полнота = 0.992, F1 = 0.356\n",
      "Порог = 0.06 | Точность = 0.233, Полнота = 0.968, F1 = 0.376\n",
      "Порог = 0.08 | Точность = 0.254, Полнота = 0.950, F1 = 0.401\n",
      "Порог = 0.10 | Точность = 0.271, Полнота = 0.910, F1 = 0.418\n",
      "Порог = 0.12 | Точность = 0.295, Полнота = 0.894, F1 = 0.443\n",
      "Порог = 0.14 | Точность = 0.313, Полнота = 0.857, F1 = 0.458\n",
      "Порог = 0.16 | Точность = 0.336, Полнота = 0.822, F1 = 0.477\n",
      "Порог = 0.18 | Точность = 0.358, Полнота = 0.769, F1 = 0.489\n",
      "Порог = 0.20 | Точность = 0.377, Полнота = 0.727, F1 = 0.496\n",
      "Порог = 0.22 | Точность = 0.400, Полнота = 0.692, F1 = 0.507\n",
      "Порог = 0.24 | Точность = 0.416, Полнота = 0.639, F1 = 0.504\n",
      "Порог = 0.26 | Точность = 0.443, Полнота = 0.586, F1 = 0.505\n",
      "Порог = 0.28 | Точность = 0.465, Полнота = 0.538, F1 = 0.499\n",
      "Порог = 0.30 | Точность = 0.483, Полнота = 0.491, F1 = 0.487\n",
      "Порог = 0.32 | Точность = 0.491, Полнота = 0.448, F1 = 0.469\n",
      "Порог = 0.34 | Точность = 0.515, Полнота = 0.416, F1 = 0.460\n",
      "Порог = 0.36 | Точность = 0.527, Полнота = 0.393, F1 = 0.450\n",
      "Порог = 0.38 | Точность = 0.535, Полнота = 0.361, F1 = 0.431\n"
     ]
    }
   ],
   "source": [
    "import numpy as np\n",
    "\n",
    "model = LogisticRegression(random_state=12345, solver='liblinear')\n",
    "model.fit(train_features, train_target)\n",
    "probabilities_valid = model.predict_proba(valid_features)\n",
    "probabilities_one_valid = probabilities_valid[:, 1]\n",
    "\n",
    "for threshold in np.arange(0, 0.4, 0.02):\n",
    "    predicted_valid = probabilities_one_valid > threshold\n",
    "    precision = precision_score(valid_target, predicted_valid)\n",
    "    recall =  recall_score(valid_target, predicted_valid)\n",
    "    f1 = f1_score(valid_target, predicted_valid)\n",
    "    print(\"Порог = {:.2f} | Точность = {:.3f}, Полнота = {:.3f}, F1 = {:.3f}\".format(\n",
    "        threshold, precision, recall, f1))"
   ]
  },
  {
   "cell_type": "markdown",
   "metadata": {},
   "source": [
    "С повышением порога точность растет, а полнота падает. Наиболее рациональный порог - 0.22: при нем F1 достигает своего макисмума - 0.51. Также посторим для наглядности PR-кривую и посмотрим, насколько она высока."
   ]
  },
  {
   "cell_type": "code",
   "execution_count": 55,
   "metadata": {},
   "outputs": [
    {
     "data": {
      "image/png": "[encoded data removed]",
      "text/plain": [
       "<Figure size 432x432 with 1 Axes>"
      ]
     },
     "metadata": {
      "needs_background": "light"
     },
     "output_type": "display_data"
    }
   ],
   "source": [
    "from sklearn.metrics import precision_recall_curve\n",
    "\n",
    "model = LogisticRegression(random_state=12345, solver='liblinear')\n",
    "model.fit(train_features, train_target)\n",
    "probabilities_valid = model.predict_proba(valid_features)\n",
    "\n",
    "precision, recall, thresholds = precision_recall_curve(valid_target, probabilities_valid[:, 1])\n",
    "\n",
    "plt.figure(figsize=(6, 6))\n",
    "plt.step(recall, precision, where='post')\n",
    "plt.xlabel('Recall')\n",
    "plt.ylabel('Precision')\n",
    "plt.ylim([0.0, 1.05])\n",
    "plt.xlim([0.0, 1.0])\n",
    "plt.title('Кривая Precision-Recall')\n",
    "plt.show()"
   ]
  },
  {
   "cell_type": "markdown",
   "metadata": {},
   "source": [
    "Кривая высока, а значит модель неплохая."
   ]
  },
  {
   "cell_type": "markdown",
   "metadata": {},
   "source": [
    "Итак, у нас есть три самые сильные модели:\n",
    "\n",
    "    RandomForestClassifier(random_state=12345, criterion = 'gini', n_estimators = 40), обученная на выборке train, в которой строки с положительным целевым признаком повторены 6 раз. У этой модели f1 = 0.63\n",
    "    RandomForestClassifier(random_state=12345, criterion = 'gini', n_estimators = 40), обученная на выборке train, в которой из строк с отрицательным целевым признаком всзята только 0.5 часть. У этой модели f1 = 0.63,\n",
    "    LogisticRegression(random_state=12345, solver='liblinear'), обученная с порогом 0.22: У этой модели f1 = 0.501\n",
    "    \n",
    "По сути, первые две модели идентичны: в них обучающая выборка преобразована так, чтобы количество строк с положительным ответом приблизилось к количеству строк с отрицательными ответами. Остановимся на втором варианте, так как в первом есть риск переобучения, и посмотрим, как изменился AUC-ROC"
   ]
  },
  {
   "cell_type": "code",
   "execution_count": 56,
   "metadata": {},
   "outputs": [
    {
     "name": "stdout",
     "output_type": "stream",
     "text": [
      "f1_score = 0.6335570469798658\n"
     ]
    },
    {
     "data": {
      "image/png": "[encoded data removed]",
      "text/plain": [
       "<Figure size 432x288 with 1 Axes>"
      ]
     },
     "metadata": {
      "needs_background": "light"
     },
     "output_type": "display_data"
    },
    {
     "name": "stdout",
     "output_type": "stream",
     "text": [
      "AUC-ROC = 0.8531514550203678\n"
     ]
    }
   ],
   "source": [
    "features_downsampled, target_downsampled = downsample(train_features, train_target, 0.5)\n",
    "\n",
    "model = RandomForestClassifier(random_state=12345, criterion = 'gini', n_estimators = 40)\n",
    "model.fit(features_downsampled, target_downsampled)\n",
    "\n",
    "print(\"f1_score =\", f1_score(valid_target, model.predict(valid_features)))\n",
    "\n",
    "probabilities_valid = model.predict_proba(valid_features)\n",
    "probabilities_one_valid = probabilities_valid[:, 1]\n",
    "\n",
    "fpr, tpr, thresholds = roc_curve(valid_target, probabilities_one_valid)\n",
    "\n",
    "plt.figure()\n",
    "plt.plot(fpr, tpr)\n",
    "plt.plot([0, 1], [0, 1], linestyle='--')\n",
    "plt.xlim(0,1)\n",
    "plt.ylim(0,1)\n",
    "\n",
    "plt.xlabel(\"False Positive Rate\")\n",
    "plt.ylabel(\"True Positive Rate\")\n",
    "\n",
    "plt.title(\"ROC-кривая\")\n",
    "\n",
    "plt.show()\n",
    "\n",
    "auc_roc = roc_auc_score(valid_target, valid_probabilities_one)\n",
    "print(\"AUC-ROC =\",auc_roc)"
   ]
  },
  {
   "cell_type": "markdown",
   "metadata": {},
   "source": [
    "AUC-ROC остался на том же уровне, что и в последнем исследовании, а f1_score значительно вырос. На этой модели и остановимся:\n",
    "**RandomForestClassifier(random_state=12345, criterion = 'gini', n_estimators = 40), обученная на выборке train, в которой из строк с отрицательным целевым признаком взята только 0.5 часть. У этой модели f1 = 0.63,**"
   ]
  },
  {
   "cell_type": "markdown",
   "metadata": {},
   "source": [
    "# 4. Тестирование модели"
   ]
  },
  {
   "cell_type": "markdown",
   "metadata": {},
   "source": [
    "Проведем финальное тестирование победившей модели на тестовых данных"
   ]
  },
  {
   "cell_type": "code",
   "execution_count": 57,
   "metadata": {},
   "outputs": [
    {
     "name": "stdout",
     "output_type": "stream",
     "text": [
      "F1: 0.6022408963585433\n",
      "AUC-ROC: 0.8511580381471389\n"
     ]
    }
   ],
   "source": [
    "features_downsampled, target_downsampled = downsample(train_features, train_target, 0.5)\n",
    "\n",
    "model = RandomForestClassifier(random_state=12345, criterion = 'gini', n_estimators = 40)\n",
    "model.fit(features_downsampled, target_downsampled)\n",
    "\n",
    "test_predicted = model.predict(test_features)\n",
    "\n",
    "f1 = f1_score(test_target, test_predicted)\n",
    "print(\"F1:\", f1)\n",
    "\n",
    "test_probabilities= model.predict_proba(test_features)\n",
    "test_probabilities_one = test_probabilities[:, 1]\n",
    "auc_roc = roc_auc_score(test_target, test_probabilities_one)\n",
    "print(\"AUC-ROC:\", auc_roc)"
   ]
  },
  {
   "cell_type": "markdown",
   "metadata": {},
   "source": [
    "Метрика f1 немного перешагнула за указанное значения 0.59, AUC-ROC=0.85 - тоже хорошийы показатель. Модель, обученная с учетом дисбаланса справилась с прогнозами гораздо лучше, чем без его учета, так как получила более сбалансированную выборку и более не склонна всегда отдавать предпочтение отрицательному ответу."
   ]
  },
  {
   "cell_type": "markdown",
   "metadata": {},
   "source": [
    "# Чек-лист готовности проекта"
   ]
  },
  {
   "cell_type": "markdown",
   "metadata": {},
   "source": [
    "Поставьте 'x' в выполненных пунктах. Далее нажмите Shift+Enter."
   ]
  },
  {
   "cell_type": "markdown",
   "metadata": {},
   "source": [
    "- [x]  Jupyter Notebook открыт\n",
    "- [x]  Весь код выполняется без ошибок\n",
    "- [x]  Ячейки с кодом расположены в порядке исполнения\n",
    "- [x]  Выполнен шаг 1: данные подготовлены\n",
    "- [x]  Выполнен шаг 2: задача исследована\n",
    "    - [x]  Исследован баланс классов\n",
    "    - [x]  Изучены модели без учёта дисбаланса\n",
    "    - [x]  Написаны выводы по результатам исследования\n",
    "- [x]  Выполнен шаг 3: учтён дисбаланс\n",
    "    - [x]  Применено несколько способов борьбы с дисбалансом\n",
    "    - [x]  Написаны выводы по результатам исследования\n",
    "- [x]  Выполнен шаг 4: проведено тестирование\n",
    "- [x]  Удалось достичь *F1*-меры не менее 0.59\n",
    "- [x]  Исследована метрика *AUC-ROC*"
   ]
  },
  {
   "cell_type": "markdown",
   "metadata": {},
   "source": [
    "<font color='blue'><u><b>КОММЕНТАРИЙ РЕВЬЮЕРА</b></u></font><br />\n",
    "<font color='green'>\n",
    "<br/> Алена, <br>\n",
    "Прочитав до конца Вашу работу хочется добавить: ...\"А по сему и делу конец))))), как говорится\" <br>\n",
    "Хорошая работа, спасибо. Мне было интерено двигаться от блока к блоку. Код, комментарии - всё логично и доступно<br>\n",
    "Подготовка данных (числовых и категориальных), подготовка признаков (факторов) для модели,<br>\n",
    "работа с диссбалансом и масштабирование, исследование моделей и посик парамтров для них - Вы ничего не забыли <br>\n",
    "Метрики рассчитаны и выведены достаточно понятно и логично.<br>\n",
    "\n",
    "И всё-таки, есть один момент, который меня немного смущает(( это обнуление строк с недвижимостью.<br>\n",
    "Если презентовать эту работу, как портфолио, то точно зададут подобный вопрос: \"а почему вставили 0? хотя бы медиану рассчитали\" </font>\n",
    "<br/><br/>\n",
    "<font color='red'>\n",
    "Поэтому, Алена, скорректируйте, пожалуйста строки с пропущенной недвижимостью и перессчитайте модельки. <br> Думаю, что и f1 дожен улучшиться. Тогда кейс получится достаточно читамым.<br>\n",
    "Спасибо. Буду ждать Вашей работы)\n",
    "</font>"
   ]
  },
  {
   "cell_type": "code",
   "execution_count": null,
   "metadata": {},
   "outputs": [],
   "source": []
  }
 ],
 "metadata": {
  "kernelspec": {
   "display_name": "Python 3",
   "language": "python",
   "name": "python3"
  },
  "language_info": {
   "codemirror_mode": {
    "name": "ipython",
    "version": 3
   },
   "file_extension": ".py",
   "mimetype": "text/x-python",
   "name": "python",
   "nbconvert_exporter": "python",
   "pygments_lexer": "ipython3",
   "version": "3.8.5"
  }
 },
 "nbformat": 4,
 "nbformat_minor": 2
}
