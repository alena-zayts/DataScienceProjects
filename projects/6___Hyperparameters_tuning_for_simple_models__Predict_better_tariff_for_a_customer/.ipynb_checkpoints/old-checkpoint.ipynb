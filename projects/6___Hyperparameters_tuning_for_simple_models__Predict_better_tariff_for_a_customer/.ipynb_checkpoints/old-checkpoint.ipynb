{
 "cells": [
  {
   "cell_type": "markdown",
   "metadata": {},
   "source": [
    "# Комментарий от ревьюера\n",
    "\n",
    "~~Алена, доброе утро! Меня зовут Влада, я посмотрела твой проект — работа очень хорошая, но есть некоторые ошибки. Ниже в файле ты найдешь мои комментарии: <font color='green'>зеленый цвет — «все отлично»; </font> <font color='blue'>синий — «хорошо, но можно лучше»; </font> <font color='red'>красный — «нужно исправить».</font> Комментарии в самом коде я отделяю знаками «###».~~\n",
    "\n",
    "Алена, спасибо за доработки, все в порядке."
   ]
  },
  {
   "cell_type": "markdown",
   "metadata": {},
   "source": [
    "# Рекомендация тарифов"
   ]
  },
  {
   "cell_type": "markdown",
   "metadata": {},
   "source": [
    "В вашем распоряжении данные о поведении клиентов, которые уже перешли на эти тарифы (из проекта курса «Статистический анализ данных»). Нужно построить модель для задачи классификации, которая выберет подходящий тариф. Предобработка данных не понадобится — вы её уже сделали.\n",
    "\n",
    "Постройте модель с максимально большим значением *accuracy*. Чтобы сдать проект успешно, нужно довести долю правильных ответов по крайней мере до 0.75. Проверьте *accuracy* на тестовой выборке самостоятельно."
   ]
  },
  {
   "cell_type": "markdown",
   "metadata": {},
   "source": [
    "## 1. Откройте и изучите файл"
   ]
  },
  {
   "cell_type": "markdown",
   "metadata": {},
   "source": [
    "Импортируем библиотеку pandas, сохраним данные из фала в переменной df и изучим содержимое"
   ]
  },
  {
   "cell_type": "code",
   "execution_count": 88,
   "metadata": {},
   "outputs": [
    {
     "name": "stdout",
     "output_type": "stream",
     "text": [
      "<class 'pandas.core.frame.DataFrame'>\n",
      "RangeIndex: 3214 entries, 0 to 3213\n",
      "Data columns (total 5 columns):\n",
      "calls       3214 non-null float64\n",
      "minutes     3214 non-null float64\n",
      "messages    3214 non-null float64\n",
      "mb_used     3214 non-null float64\n",
      "is_ultra    3214 non-null int64\n",
      "dtypes: float64(4), int64(1)\n",
      "memory usage: 125.7 KB\n"
     ]
    },
    {
     "data": {
      "text/html": [
       "<div>\n",
       "<style scoped>\n",
       "    .dataframe tbody tr th:only-of-type {\n",
       "        vertical-align: middle;\n",
       "    }\n",
       "\n",
       "    .dataframe tbody tr th {\n",
       "        vertical-align: top;\n",
       "    }\n",
       "\n",
       "    .dataframe thead th {\n",
       "        text-align: right;\n",
       "    }\n",
       "</style>\n",
       "<table border=\"1\" class=\"dataframe\">\n",
       "  <thead>\n",
       "    <tr style=\"text-align: right;\">\n",
       "      <th></th>\n",
       "      <th>calls</th>\n",
       "      <th>minutes</th>\n",
       "      <th>messages</th>\n",
       "      <th>mb_used</th>\n",
       "      <th>is_ultra</th>\n",
       "    </tr>\n",
       "  </thead>\n",
       "  <tbody>\n",
       "    <tr>\n",
       "      <td>0</td>\n",
       "      <td>40.0</td>\n",
       "      <td>311.90</td>\n",
       "      <td>83.0</td>\n",
       "      <td>19915.42</td>\n",
       "      <td>0</td>\n",
       "    </tr>\n",
       "    <tr>\n",
       "      <td>1</td>\n",
       "      <td>85.0</td>\n",
       "      <td>516.75</td>\n",
       "      <td>56.0</td>\n",
       "      <td>22696.96</td>\n",
       "      <td>0</td>\n",
       "    </tr>\n",
       "    <tr>\n",
       "      <td>2</td>\n",
       "      <td>77.0</td>\n",
       "      <td>467.66</td>\n",
       "      <td>86.0</td>\n",
       "      <td>21060.45</td>\n",
       "      <td>0</td>\n",
       "    </tr>\n",
       "    <tr>\n",
       "      <td>3</td>\n",
       "      <td>106.0</td>\n",
       "      <td>745.53</td>\n",
       "      <td>81.0</td>\n",
       "      <td>8437.39</td>\n",
       "      <td>1</td>\n",
       "    </tr>\n",
       "    <tr>\n",
       "      <td>4</td>\n",
       "      <td>66.0</td>\n",
       "      <td>418.74</td>\n",
       "      <td>1.0</td>\n",
       "      <td>14502.75</td>\n",
       "      <td>0</td>\n",
       "    </tr>\n",
       "  </tbody>\n",
       "</table>\n",
       "</div>"
      ],
      "text/plain": [
       "   calls  minutes  messages   mb_used  is_ultra\n",
       "0   40.0   311.90      83.0  19915.42         0\n",
       "1   85.0   516.75      56.0  22696.96         0\n",
       "2   77.0   467.66      86.0  21060.45         0\n",
       "3  106.0   745.53      81.0   8437.39         1\n",
       "4   66.0   418.74       1.0  14502.75         0"
      ]
     },
     "execution_count": 88,
     "metadata": {},
     "output_type": "execute_result"
    }
   ],
   "source": [
    "import pandas as pd\n",
    "\n",
    "df = pd.read_csv('/datasets/users_behavior.csv')\n",
    "df.info()\n",
    "df.head()"
   ]
  },
  {
   "cell_type": "markdown",
   "metadata": {},
   "source": [
    "В таблице данные о 3214 (без пропусков) поведениях одного пользователя за месяц:\n",
    "\n",
    "сalls — количество звонков,\n",
    "\n",
    "minutes — суммарная длительность звонков в минутах,\n",
    "\n",
    "messages — количество sms-сообщений,\n",
    "\n",
    "mb_used — израсходованный интернет-трафик в Мб,\n",
    "\n",
    "is_ultra — каким тарифом пользовался в течение месяца («Ультра» — 1, «Смарт» — 0)."
   ]
  },
  {
   "cell_type": "markdown",
   "metadata": {},
   "source": [
    "<font color='green'>С данными все в порядке, идем дальше. </font>\n"
   ]
  },
  {
   "cell_type": "markdown",
   "metadata": {},
   "source": [
    "## 2. Разбейте данные на выборки"
   ]
  },
  {
   "cell_type": "markdown",
   "metadata": {},
   "source": [
    "Данные нужно разбить на три части: обучающую, валидационную и тестовую. Сделаем это в соотношении 3:1:1.\n",
    "Импортируем из sklearn.model_selection для этого функцию train_test_split и применим ее дважды. "
   ]
  },
  {
   "cell_type": "code",
   "execution_count": 89,
   "metadata": {},
   "outputs": [
    {
     "name": "stdout",
     "output_type": "stream",
     "text": [
      "В обучающей выборке 1928 записей\n",
      "В валидационной выборке 643 записей\n",
      "В тестовой выборке 643 записей\n"
     ]
    }
   ],
   "source": [
    "from sklearn.model_selection import train_test_split\n",
    "\n",
    "train, valid_and_test = train_test_split(df, test_size = 0.4, random_state = 12)\n",
    "valid, test = train_test_split(valid_and_test, test_size = 0.5, random_state = 12)\n",
    "print(\"В обучающей выборке %d записей\"%train.shape[0])\n",
    "print(\"В валидационной выборке %d записей\"%valid.shape[0])\n",
    "print(\"В тестовой выборке %d записей\"%test.shape[0])"
   ]
  },
  {
   "cell_type": "markdown",
   "metadata": {},
   "source": [
    "<font color='green'>Выборка поделена корректно. </font>\n",
    "\n",
    "<font color='blue'>~~Чтобы результаты были воспроизводимыми, следует задавать параметр random_state в функции train_test_split.~~ </font>\n"
   ]
  },
  {
   "cell_type": "markdown",
   "metadata": {},
   "source": [
    "Теперь для каждой части выделим признаки (features) и целевой признак (подходящий тариф) (target)"
   ]
  },
  {
   "cell_type": "code",
   "execution_count": 90,
   "metadata": {},
   "outputs": [],
   "source": [
    "train_features = train.drop('is_ultra', axis = 1)\n",
    "train_target = train['is_ultra']\n",
    "\n",
    "valid_features = valid.drop('is_ultra', axis = 1)\n",
    "valid_target = valid['is_ultra']\n",
    "\n",
    "test_features = test.drop('is_ultra', axis = 1)\n",
    "test_target = test['is_ultra']"
   ]
  },
  {
   "cell_type": "markdown",
   "metadata": {},
   "source": [
    "<font color='red'>~~Валидационная и тестовая выборки совпадают с обучающей, судя по коду выше. Перепроверь.~~ </font>\n"
   ]
  },
  {
   "cell_type": "markdown",
   "metadata": {},
   "source": [
    "Данные готовы к обучению и исследованию модели"
   ]
  },
  {
   "cell_type": "markdown",
   "metadata": {},
   "source": [
    "## 3. Исследуйте модели"
   ]
  },
  {
   "cell_type": "markdown",
   "metadata": {},
   "source": [
    "Сначала исследуем модель Дерева: будем менять гиперпараметры критерия, максимальной глубины, минимального количество примеров для разделения, минимального количество объектов в листе (всего получим 40 комбинаций). Затем выведем 10 лучших по качеству и выберем самый удачный. Зафиксируем псевдослучайность для алгоритма параметром random_state. Так как у нас классификация, то о качестве будем судить по accuracy_score на валидационной выборке."
   ]
  },
  {
   "cell_type": "markdown",
   "metadata": {},
   "source": [
    "<font color='green'>~~Параметр random_state нужен для воспроизводимости результатов, он не влияет на качество работы моделей.~~ </font>\n",
    "\n",
    "<font color='blue'>~~Лучше вывести результаты обучения 10 лучших моделей, чтобы понять, насколько отличается их качество.~~\n",
    "    \n",
    "~~Наша цель – построить модель с максимальным качеством, время обучения не так существенно в данном проекте. Поэтому можно просто выбирать модель с наибольшим accuracy на валидации.~~</font>\n"
   ]
  },
  {
   "cell_type": "code",
   "execution_count": 91,
   "metadata": {},
   "outputs": [
    {
     "name": "stdout",
     "output_type": "stream",
     "text": [
      "ТОП 10\n",
      "   criterion  max_depth  min_samples_split  min_samples_leaf  accuracy_score\n",
      "26   entropy          7                  3                 2        0.786936\n",
      "24   entropy          7                  2                 2        0.786936\n",
      "9       gini         12                  2                 3        0.783826\n",
      "11      gini         12                  3                 3        0.783826\n",
      "27   entropy          7                  3                 3        0.782271\n",
      "25   entropy          7                  2                 3        0.782271\n",
      "5       gini          7                  2                 3        0.776050\n",
      "7       gini          7                  3                 3        0.776050\n",
      "20   entropy          2                  2                 2        0.771384\n",
      "23   entropy          2                  3                 3        0.771384\n",
      "\n",
      "У нас есть победитель!!:\n",
      "   criterion  max_depth  min_samples_split  min_samples_leaf  accuracy_score\n",
      "26   entropy          7                  3                 2        0.786936\n"
     ]
    }
   ],
   "source": [
    "from sklearn.tree import DecisionTreeClassifier\n",
    "from sklearn.metrics import accuracy_score\n",
    "\n",
    "columns = ['criterion', 'max_depth', 'min_samples_split', 'min_samples_leaf', 'accuracy_score']\n",
    "\n",
    "data = []\n",
    "\n",
    "for criterion in ['gini', 'entropy']:\n",
    "    for max_depth in range(2, 25, 5):\n",
    "        for min_samples_split in range(2, 4):\n",
    "            for min_samples_leaf in range(2, 4):\n",
    "                model = DecisionTreeClassifier(criterion=criterion,\n",
    "                        max_depth=max_depth,\n",
    "                        min_samples_split=min_samples_split,\n",
    "                        min_samples_leaf=min_samples_leaf,\n",
    "                        random_state = 12)\n",
    "                model.fit(train_features, train_target)\n",
    "                string = [criterion, max_depth, min_samples_split, min_samples_leaf,\n",
    "                         accuracy_score(model.predict(valid_features), valid_target)]\n",
    "                data.append(string)\n",
    "\n",
    "tree_metrics = pd.DataFrame(columns = columns, data = data)\n",
    "print(\"ТОП 10\")\n",
    "print(tree_metrics.sort_values('accuracy_score', ascending = False).head(10))\n",
    "print()\n",
    "\n",
    "print(\"У нас есть победитель!!:\")\n",
    "print(tree_metrics.sort_values('accuracy_score', ascending = False).head(1))\n",
    "                \n"
   ]
  },
  {
   "cell_type": "markdown",
   "metadata": {},
   "source": [
    "Итак, среди моделей решающего дерева с разными гиперпараметрами победила модель c accuracy_score 0.787:\n",
    "model = DecisionTreeClassifier(criterion='entropy',\n",
    "                        max_depth=7,\n",
    "                        min_samples_split=3,\n",
    "                        min_samples_leaf=2,\n",
    "                        random_state = 12)"
   ]
  },
  {
   "cell_type": "markdown",
   "metadata": {},
   "source": [
    "Теперь аналогично исследуем модель Леса: будем менять гиперпараметры критерия и количества деревьев (всего получим 20 комбинаций). Затем выберем из 10 лучших по качеству самый лучший."
   ]
  },
  {
   "cell_type": "code",
   "execution_count": 92,
   "metadata": {},
   "outputs": [
    {
     "name": "stdout",
     "output_type": "stream",
     "text": [
      "ТОП 10\n",
      "   criterion  n_estimators  accuracy_score\n",
      "7       gini            80        0.794712\n",
      "18   entropy            90        0.793157\n",
      "8       gini            90        0.791602\n",
      "1       gini            20        0.791602\n",
      "17   entropy            80        0.790047\n",
      "16   entropy            70        0.790047\n",
      "4       gini            50        0.790047\n",
      "5       gini            60        0.790047\n",
      "19   entropy           100        0.788491\n",
      "6       gini            70        0.788491\n",
      "\n",
      "Выигрывает аааавтомобиль!!:\n",
      "  criterion  n_estimators  accuracy_score\n",
      "7      gini            80        0.794712\n"
     ]
    }
   ],
   "source": [
    "from sklearn.ensemble import RandomForestClassifier\n",
    "\n",
    "columns = ['criterion', 'n_estimators', 'accuracy_score']\n",
    "\n",
    "data = []\n",
    "\n",
    "for criterion in ['gini', 'entropy']:\n",
    "    for n_estimators in range(10, 101, 10):\n",
    "        model = RandomForestClassifier(criterion=criterion, n_estimators = n_estimators, random_state = 12)\n",
    "        model.fit(train_features, train_target)\n",
    "        string = [criterion, n_estimators,\n",
    "                    accuracy_score(model.predict(valid_features), valid_target)]\n",
    "        data.append(string)\n",
    "\n",
    "tree_metrics = pd.DataFrame(columns = columns, data = data)\n",
    "\n",
    "print(\"ТОП 10\")\n",
    "print(tree_metrics.sort_values('accuracy_score', ascending = False).head(10))\n",
    "print()\n",
    "\n",
    "print(\"Выигрывает аааавтомобиль!!:\")\n",
    "print(tree_metrics.sort_values('accuracy_score', ascending = False).head(1))\n",
    "\n"
   ]
  },
  {
   "cell_type": "markdown",
   "metadata": {},
   "source": [
    "Итак, среди моделей Леса с разными гиперпараметрами победила модель c accuracy_score 0.795:\n",
    "model = RandomForestClassifier(criterion='gini', n_estimators = 80, random_state = 12)"
   ]
  },
  {
   "cell_type": "markdown",
   "metadata": {},
   "source": [
    "Наконец, исследуем логистическую регрессию по параметрам коэффициента c и используемого алгоритма (всего 55 комбинаций). Затем выберем из 10 лучших по качеству самый лучший."
   ]
  },
  {
   "cell_type": "code",
   "execution_count": 93,
   "metadata": {},
   "outputs": [
    {
     "name": "stdout",
     "output_type": "stream",
     "text": [
      "ТОП 10\n",
      "          c     solver  accuracy_score\n",
      "41  1000.00      lbfgs        0.735614\n",
      "30    10.00  newton-cg        0.735614\n",
      "26     1.00      lbfgs        0.735614\n",
      "25     1.00  newton-cg        0.735614\n",
      "35   100.00  newton-cg        0.735614\n",
      "21     0.10      lbfgs        0.735614\n",
      "20     0.10  newton-cg        0.735614\n",
      "36   100.00      lbfgs        0.735614\n",
      "40  1000.00  newton-cg        0.735614\n",
      "16     0.01      lbfgs        0.735614\n",
      "\n",
      "Лучший!!:\n",
      "         c solver  accuracy_score\n",
      "41  1000.0  lbfgs        0.735614\n"
     ]
    }
   ],
   "source": [
    "import warnings\n",
    "from sklearn.linear_model import LogisticRegression\n",
    "\n",
    "warnings.filterwarnings('ignore')\n",
    "\n",
    "\n",
    "columns = ['c', 'solver', 'accuracy_score']\n",
    "\n",
    "data = []\n",
    "\n",
    "for koef in [10**k for k in range(-5, 6)]:\n",
    "    for solver in ['newton-cg', 'lbfgs', 'liblinear', 'sag', 'saga']:\n",
    "        model = LogisticRegression(random_state=12,  C = koef, solver = solver)\n",
    "        model.fit(train_features, train_target)\n",
    "        string = [koef, solver, accuracy_score(model.predict(valid_features), valid_target)]\n",
    "        data.append(string)\n",
    "\n",
    "tree_metrics = pd.DataFrame(columns = columns, data = data)\n",
    "\n",
    "print(\"ТОП 10\")\n",
    "print(tree_metrics.sort_values('accuracy_score', ascending = False).head(10))\n",
    "print()\n",
    "\n",
    "print(\"Лучший!!:\")\n",
    "print(tree_metrics.sort_values('accuracy_score', ascending = False).head(1))\n"
   ]
  },
  {
   "cell_type": "markdown",
   "metadata": {},
   "source": [
    "<font color='blue'>~~Параметр max_iter перебирать не обязательно, обычно чем больше итераций, тем лучше. Параметры для перебора: коэффициент C (его лучше перебирать по степеням $10^{-5}, 10^{-4}, \\dots 10^5$), solver (используемый алгоритм).~~ </font>\n"
   ]
  },
  {
   "cell_type": "markdown",
   "metadata": {},
   "source": [
    "Итак, среди моделей логистической регресии с разными гиперпараметрами победила модель c accuracy_score 0.736:\n",
    "model = LogisticRegression(random_state=12, c=1000, solver = 'lbfgs')"
   ]
  },
  {
   "cell_type": "markdown",
   "metadata": {},
   "source": [
    "## Результаты чемпионата"
   ]
  },
  {
   "cell_type": "markdown",
   "metadata": {},
   "source": [
    "Мы выделили лидеров среди каждой модели:\n",
    "\n",
    "**Дерево c accuracy_score 0.787:**\n",
    "\n",
    "model = DecisionTreeClassifier(criterion='entropy',\n",
    "                        max_depth=7,\n",
    "                        min_samples_split=3,\n",
    "                        min_samples_leaf=2,\n",
    "                        random_state = 12)\n",
    "\n",
    "**Лес c accuracy_score 0.795:**\n",
    "model = RandomForestClassifier(criterion='gini', n_estimators = 80, random_state = 12)\n",
    "\n",
    "**Логистическая регресия c accuracy_score 0.736:**\n",
    "model = LogisticRegression(random_state=12, c=1000, solver = 'lbfgs')\n",
    "\n",
    "Как и ожидалось, лучше всех по точности вычислений справился Лес, за ним с небольшим отставанием - Дерево. Видимо, Лес лучше подходит для такого рода исследований. Однако Лес обычно работает долго, устроим дополнительное испытание. Попробуем уменьшить время работы за счет уменьшения количесвта деревьев: посмотрим, при каком значениие n_estimators рост качества заметно снижается, а время продолжает увеличиваться. (построим графики зависимости accuracy_score и времени от n_estimators)"
   ]
  },
  {
   "cell_type": "code",
   "execution_count": 94,
   "metadata": {},
   "outputs": [
    {
     "data": {
      "image/png": "[encoded data removed]",
      "text/plain": [
       "<Figure size 432x288 with 1 Axes>"
      ]
     },
     "metadata": {
      "needs_background": "light"
     },
     "output_type": "display_data"
    },
    {
     "data": {
      "image/png": "[encoded data removed]",
      "text/plain": [
       "<Figure size 432x288 with 1 Axes>"
      ]
     },
     "metadata": {
      "needs_background": "light"
     },
     "output_type": "display_data"
    }
   ],
   "source": [
    "from time import time\n",
    "import matplotlib.pyplot as plt\n",
    "\n",
    "n_estimatorss = []\n",
    "accuracy = []\n",
    "times = []\n",
    "\n",
    "\n",
    "for n_estimators in range(10, 101, 10):\n",
    "        start = time()\n",
    "        model = RandomForestClassifier(criterion = 'gini', n_estimators = n_estimators, random_state = 12)\n",
    "        model.fit(train_features, train_target)\n",
    "        end = time()\n",
    "        \n",
    "        n_estimatorss.append(n_estimators)\n",
    "        accuracy.append(accuracy_score(model.predict(valid_features), valid_target))\n",
    "        times.append(end - start)\n",
    "        \n",
    "\n",
    "plt.xlabel(\"n_esrimators\")     \n",
    "plt.ylabel(\"accuracy\") \n",
    "plt.plot(n_estimatorss, accuracy)\n",
    "plt.show()\n",
    "\n",
    "plt.xlabel(\"n_esrimators\")     \n",
    "plt.ylabel(\"time\") \n",
    "plt.plot(n_estimatorss, times)\n",
    "plt.show()"
   ]
  },
  {
   "cell_type": "markdown",
   "metadata": {},
   "source": [
    "По графикам видно, что именно при n_estimators = 80 достигается максимальная точность, следовательно, это самое подходящее значение для гипермараметра, чтобы модель не переобучилась и не недоучилась\n",
    "\n",
    "### model = RandomForestClassifier(criterion = 'gini', n_estimators = 80, random_state = 12)"
   ]
  },
  {
   "cell_type": "markdown",
   "metadata": {},
   "source": [
    "<font color='blue'>~~Можно было изобразить еще график зависимости времени от n_estimators.~~</font> <font color='blue'>~~Подпись по оси x – n_estimators, а не accuracy.~~</font>\n",
    "\n",
    "\n",
    "<font color='green'>Ок, лучшую модель выбрали. </font>\n"
   ]
  },
  {
   "cell_type": "markdown",
   "metadata": {},
   "source": [
    "## 4. Проверьте модель на тестовой выборке"
   ]
  },
  {
   "cell_type": "markdown",
   "metadata": {},
   "source": [
    "Мы все еще работаем с классификацией, поэтому о качестве будем судить по accuracy_score. Создаем и обучаем на тренировочной выборке победившую модель Леса и проверяем ее на тестовой выборке."
   ]
  },
  {
   "cell_type": "code",
   "execution_count": 95,
   "metadata": {},
   "outputs": [
    {
     "name": "stdout",
     "output_type": "stream",
     "text": [
      "accuracy_score: 0.7713841368584758\n"
     ]
    }
   ],
   "source": [
    "model = RandomForestClassifier(criterion = 'gini', n_estimators = 80, random_state = 123)\n",
    "model.fit(train_features, train_target)\n",
    "print(\"accuracy_score:\", accuracy_score(model.predict(test_features), test_target))"
   ]
  },
  {
   "cell_type": "markdown",
   "metadata": {},
   "source": [
    "<font color='green'>Раньше было random_state=12, теперь random_state=123 :) Можно было в начале ввести state=12 и везде использовать random_state=state. </font>\n"
   ]
  },
  {
   "cell_type": "markdown",
   "metadata": {},
   "source": [
    "accuracy = 0.77 - результат достаточно высокий, это нас устраивает. Модель не переобучилась и не недоучилась."
   ]
  },
  {
   "cell_type": "markdown",
   "metadata": {},
   "source": [
    "<font color='green'>Верно, лучшую модель проверяем на тестовой выборке. </font>\n"
   ]
  },
  {
   "cell_type": "markdown",
   "metadata": {},
   "source": [
    "## 5. (бонус) Проверьте модели на адекватность"
   ]
  },
  {
   "cell_type": "markdown",
   "metadata": {},
   "source": [
    "Создадим три Series: в одной будем рандомно чередовать нули и единицы, во втрой будуь только нули, в третьей - только единицы"
   ]
  },
  {
   "cell_type": "code",
   "execution_count": 96,
   "metadata": {},
   "outputs": [],
   "source": [
    "from random import randint\n",
    "random = pd.Series(randint(0,1) for i in range(len(test_target)))\n",
    "one = pd.Series(1 for i in range(len(test_target)))\n",
    "zero = pd.Series(0 for i in range(len(test_target)))"
   ]
  },
  {
   "cell_type": "markdown",
   "metadata": {},
   "source": [
    "Теперь посмотрим, какой accuracy_score дает наша модель с реальными значениями и искуственно созданными Series"
   ]
  },
  {
   "cell_type": "code",
   "execution_count": 97,
   "metadata": {},
   "outputs": [
    {
     "name": "stdout",
     "output_type": "stream",
     "text": [
      "accuracy_score на тестовых данных: 0.7713841368584758\n",
      "accuracy_score на рандомных 0 и 1: 0.4556765163297045\n",
      "accuracy_score на нулях: 0.6531881804043546\n",
      "accuracy_score на единицах: 0.3468118195956454\n"
     ]
    }
   ],
   "source": [
    "print(\"accuracy_score на тестовых данных:\", accuracy_score(model.predict(test_features), test_target))\n",
    "print(\"accuracy_score на рандомных 0 и 1:\", accuracy_score(test_target, random))\n",
    "print(\"accuracy_score на нулях:\", accuracy_score(test_target, zero))\n",
    "print(\"accuracy_score на единицах:\", accuracy_score(test_target, one))"
   ]
  },
  {
   "cell_type": "markdown",
   "metadata": {},
   "source": [
    "Видимо, в тестовых данных большая часть реальных целевых признаков - нули, поэтому accuracy на этих значениях аж 0.65; при случайных числах accuracy, как и ожидалось, примерно 0.5. Но наша модель по качеству все равно  превосходит случайные и линейные модели, поэтому ее можно назвать адекватной"
   ]
  },
  {
   "cell_type": "markdown",
   "metadata": {},
   "source": [
    "<font color='green'>Проверка на адекватность выполнена корректно, молодец! \n",
    "\n",
    "В scikit-learn есть базовые модели классификации DummyClassifier.\n",
    "</font>\n"
   ]
  },
  {
   "cell_type": "markdown",
   "metadata": {},
   "source": [
    "Проведем подобный анализ с использованием базовой модели классификации DummyClassifier."
   ]
  },
  {
   "cell_type": "code",
   "execution_count": 98,
   "metadata": {},
   "outputs": [
    {
     "name": "stdout",
     "output_type": "stream",
     "text": [
      "accuracy_score на тестовых данных: 0.7713841368584758\n",
      "accuracy_score на рандомных 0 и 1: 0.5132192846034215\n",
      "accuracy_score на стратифицированной выборке: 0.5800933125972006\n",
      "accuracy_score на наиболее частых значениях: 0.6531881804043546\n",
      "accuracy_score на нулях: 0.6531881804043546\n",
      "accuracy_score на единицах: 0.3468118195956454\n"
     ]
    }
   ],
   "source": [
    "from sklearn.dummy import DummyClassifier\n",
    "\n",
    "print(\"accuracy_score на тестовых данных:\", accuracy_score(model.predict(test_features), test_target))\n",
    "\n",
    "dummy_clf = DummyClassifier(strategy=\"uniform\", random_state = 12)\n",
    "dummy_clf.fit(train_features, train_target)\n",
    "print(\"accuracy_score на рандомных 0 и 1:\", accuracy_score(dummy_clf.predict(test_features), test_target))\n",
    "\n",
    "dummy_clf = DummyClassifier(strategy=\"stratified\", random_state = 12)\n",
    "dummy_clf.fit(train_features, train_target)\n",
    "print(\"accuracy_score на стратифицированной выборке:\", accuracy_score(dummy_clf.predict(test_features), test_target))\n",
    "\n",
    "dummy_clf = DummyClassifier(strategy=\"most_frequent\", random_state = 12)\n",
    "dummy_clf.fit(train_features, train_target)\n",
    "print(\"accuracy_score на наиболее частых значениях:\", accuracy_score(dummy_clf.predict(test_features), test_target))\n",
    "\n",
    "dummy_clf = DummyClassifier(strategy=\"constant\", random_state = 12, constant = 0)\n",
    "dummy_clf.fit(train_features, train_target)\n",
    "print(\"accuracy_score на нулях:\", accuracy_score(dummy_clf.predict(test_features), test_target))\n",
    "\n",
    "dummy_clf = DummyClassifier(strategy=\"constant\", random_state = 12, constant = 1)\n",
    "dummy_clf.fit(train_features, train_target)\n",
    "print(\"accuracy_score на единицах:\", accuracy_score(test_target, one))"
   ]
  },
  {
   "cell_type": "markdown",
   "metadata": {},
   "source": [
    "Предыдущие выводы подтвердились"
   ]
  },
  {
   "cell_type": "markdown",
   "metadata": {},
   "source": [
    "<font color='green'>Все корректно, отлично! </font>\n"
   ]
  },
  {
   "cell_type": "markdown",
   "metadata": {},
   "source": [
    "\n",
    "# Итоговый комментарий\n",
    "\n",
    "~~Спасибо, ты провела отличное исследование, осталось его немного доработать. Будут вопросы – пиши :)~~\n",
    "\n",
    "Все отлично, так держать :)"
   ]
  },
  {
   "cell_type": "markdown",
   "metadata": {},
   "source": [
    "## Чек-лист готовности проекта"
   ]
  },
  {
   "cell_type": "markdown",
   "metadata": {},
   "source": [
    "Поставьте 'x' в выполненных пунктах. Далее нажмите Shift+Enter."
   ]
  },
  {
   "cell_type": "markdown",
   "metadata": {},
   "source": [
    "- [x] Jupyter Notebook открыт\n",
    "- [x] Весь код исполняется без ошибок\n",
    "- [x] Ячейки с кодом расположены в порядке исполнения\n",
    "- [x] Выполнено задание 1: данные загружены и изучены\n",
    "- [x] Выполнено задание 2: данные разбиты на три выборки\n",
    "- [x] Выполнено задание 3: проведено исследование моделей\n",
    "    - [x] Рассмотрено больше одной модели\n",
    "    - [x] Рассмотрено хотя бы 3 значения гипепараметров для какой-нибудь модели\n",
    "    - [x] Написаны выводы по результатам исследования\n",
    "- [x] Выполнено задание 3: Проведено тестирование\n",
    "- [x] Удалось достичь accuracy не меньше 0.75\n"
   ]
  },
  {
   "cell_type": "code",
   "execution_count": null,
   "metadata": {},
   "outputs": [],
   "source": []
  }
 ],
 "metadata": {
  "kernelspec": {
   "display_name": "Python 3",
   "language": "python",
   "name": "python3"
  },
  "language_info": {
   "codemirror_mode": {
    "name": "ipython",
    "version": 3
   },
   "file_extension": ".py",
   "mimetype": "text/x-python",
   "name": "python",
   "nbconvert_exporter": "python",
   "pygments_lexer": "ipython3",
   "version": "3.8.5"
  }
 },
 "nbformat": 4,
 "nbformat_minor": 2
}
