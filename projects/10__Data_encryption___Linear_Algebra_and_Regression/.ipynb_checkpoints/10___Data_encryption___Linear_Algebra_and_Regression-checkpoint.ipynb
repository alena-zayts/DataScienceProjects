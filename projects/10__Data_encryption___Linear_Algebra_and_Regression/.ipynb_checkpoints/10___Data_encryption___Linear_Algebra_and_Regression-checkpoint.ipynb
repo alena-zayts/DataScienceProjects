{
 "cells": [
  {
   "cell_type": "markdown",
   "metadata": {},
   "source": [
    "# Оглавление"
   ]
  },
  {
   "cell_type": "markdown",
   "metadata": {},
   "source": [
    "# 1. Описание проекта\n",
    "\n",
    "Необходимо защитить данные клиентов страховой компании. \n",
    "\n",
    "Разработать такой метод преобразования данных, чтобы по ним было сложно восстановить персональную информацию и при этом качество моделей машинного обучения (в данном случае -- модели LinearRegression) не ухудшилось. Обосновать корректность его работы. Подбирать наилучшую модель не требуется.\n",
    "\n",
    "## Описание данных\n",
    "Набор данных находится в файле /data/insurance.csv. Признаки: пол, возраст и зарплата застрахованного, количество членов его семьи.Целевой признак: количество страховых выплат клиенту за последние 5 лет."
   ]
  },
  {
   "cell_type": "code",
   "execution_count": 1,
   "metadata": {},
   "outputs": [],
   "source": [
    "import pandas as pd\n",
    "import numpy as np\n",
    "from sklearn.model_selection import train_test_split\n",
    "from sklearn.metrics import r2_score\n",
    "from sklearn.linear_model import LinearRegression"
   ]
  },
  {
   "cell_type": "markdown",
   "metadata": {},
   "source": [
    "# 1. Загрузка данных"
   ]
  },
  {
   "cell_type": "code",
   "execution_count": 3,
   "metadata": {},
   "outputs": [
    {
     "name": "stdout",
     "output_type": "stream",
     "text": [
      "<class 'pandas.core.frame.DataFrame'>\n",
      "RangeIndex: 5000 entries, 0 to 4999\n",
      "Data columns (total 5 columns):\n",
      " #   Column             Non-Null Count  Dtype  \n",
      "---  ------             --------------  -----  \n",
      " 0   Пол                5000 non-null   int64  \n",
      " 1   Возраст            5000 non-null   float64\n",
      " 2   Зарплата           5000 non-null   float64\n",
      " 3   Члены семьи        5000 non-null   int64  \n",
      " 4   Страховые выплаты  5000 non-null   int64  \n",
      "dtypes: float64(2), int64(3)\n",
      "memory usage: 195.4 KB\n"
     ]
    },
    {
     "data": {
      "text/html": [
       "<div>\n",
       "<style scoped>\n",
       "    .dataframe tbody tr th:only-of-type {\n",
       "        vertical-align: middle;\n",
       "    }\n",
       "\n",
       "    .dataframe tbody tr th {\n",
       "        vertical-align: top;\n",
       "    }\n",
       "\n",
       "    .dataframe thead th {\n",
       "        text-align: right;\n",
       "    }\n",
       "</style>\n",
       "<table border=\"1\" class=\"dataframe\">\n",
       "  <thead>\n",
       "    <tr style=\"text-align: right;\">\n",
       "      <th></th>\n",
       "      <th>Пол</th>\n",
       "      <th>Возраст</th>\n",
       "      <th>Зарплата</th>\n",
       "      <th>Члены семьи</th>\n",
       "      <th>Страховые выплаты</th>\n",
       "    </tr>\n",
       "  </thead>\n",
       "  <tbody>\n",
       "    <tr>\n",
       "      <th>0</th>\n",
       "      <td>1</td>\n",
       "      <td>41.0</td>\n",
       "      <td>49600.0</td>\n",
       "      <td>1</td>\n",
       "      <td>0</td>\n",
       "    </tr>\n",
       "    <tr>\n",
       "      <th>1</th>\n",
       "      <td>0</td>\n",
       "      <td>46.0</td>\n",
       "      <td>38000.0</td>\n",
       "      <td>1</td>\n",
       "      <td>1</td>\n",
       "    </tr>\n",
       "    <tr>\n",
       "      <th>2</th>\n",
       "      <td>0</td>\n",
       "      <td>29.0</td>\n",
       "      <td>21000.0</td>\n",
       "      <td>0</td>\n",
       "      <td>0</td>\n",
       "    </tr>\n",
       "    <tr>\n",
       "      <th>3</th>\n",
       "      <td>0</td>\n",
       "      <td>21.0</td>\n",
       "      <td>41700.0</td>\n",
       "      <td>2</td>\n",
       "      <td>0</td>\n",
       "    </tr>\n",
       "    <tr>\n",
       "      <th>4</th>\n",
       "      <td>1</td>\n",
       "      <td>28.0</td>\n",
       "      <td>26100.0</td>\n",
       "      <td>0</td>\n",
       "      <td>0</td>\n",
       "    </tr>\n",
       "  </tbody>\n",
       "</table>\n",
       "</div>"
      ],
      "text/plain": [
       "   Пол  Возраст  Зарплата  Члены семьи  Страховые выплаты\n",
       "0    1     41.0   49600.0            1                  0\n",
       "1    0     46.0   38000.0            1                  1\n",
       "2    0     29.0   21000.0            0                  0\n",
       "3    0     21.0   41700.0            2                  0\n",
       "4    1     28.0   26100.0            0                  0"
      ]
     },
     "execution_count": 3,
     "metadata": {},
     "output_type": "execute_result"
    }
   ],
   "source": [
    "data = pd.read_csv('data/insurance.csv')\n",
    "data.info()\n",
    "data.head()"
   ]
  },
  {
   "cell_type": "markdown",
   "metadata": {},
   "source": [
    "В таблице данные о 5000 клиентов. Пропусков нет, типы данных подобраны корректно."
   ]
  },
  {
   "cell_type": "markdown",
   "metadata": {},
   "source": [
    "# 2. Алгоритм преобразования"
   ]
  },
  {
   "cell_type": "markdown",
   "metadata": {},
   "source": [
    "Обозначения:\n",
    "\n",
    "- $X$ — матрица признаков (нулевой столбец состоит из единиц)\n",
    "\n",
    "- $y$ — вектор целевого признака\n",
    "\n",
    "- $P$ — матрица, на которую умножаются признаки\n",
    "\n",
    "- $w$ — вектор весов линейной регрессии (нулевой элемент равен сдвигу)"
   ]
  },
  {
   "cell_type": "markdown",
   "metadata": {},
   "source": [
    "**Алгоритм**\n",
    "\n",
    "1) Выделить столбец с целевым признаком y\n",
    "\n",
    "2) Выделит столбцы с признаками X\n",
    "\n",
    "3) составить случайную матрицу P[n,n] (n=4 -- количество признаков), проверить ее обратимость (пересоставлять, пока она окажется необратимой)\n",
    "\n",
    "4) разделить исходные признаки и целевой признак на тренировочный и тестовый наборы\n",
    "\n",
    "5) перемножить тренировочный и тестовый наборы признаков на созданную матрицу P, чтобы получить зашифрованные данные\n",
    "\n",
    "Далее обучим модели на исходных и зашифрованных признаках и проведем сравнение их результатов"
   ]
  },
  {
   "cell_type": "markdown",
   "metadata": {},
   "source": [
    "**Обоснование корректности**\n",
    "\n",
    "1. Безопасность и восстанавливаемость. Для того, чтобы восстановить исходные данные X из зашифрованных X', достаточно вычислить произведение X'P^-1. Без знания шифрующей матрицы P, узнать обратную матрицу невозможно.\n",
    "\n",
    "2. Сохранение качества моделей.\n",
    "Принцип работы линейной регрессии:\n",
    "\n",
    "Предсказания:\n",
    "\n",
    "$$\n",
    "a = Xw\n",
    "$$\n",
    "\n",
    "Задача обучения:\n",
    "\n",
    "$$\n",
    "w = \\arg\\min_w MSE(Xw, y)\n",
    "$$\n",
    "\n",
    "Формула обучения:\n",
    "\n",
    "$$\n",
    "w = (X^T X)^{-1} X^T y\n",
    "$$\n",
    "\n",
    "\n",
    "\n",
    "Можно показать, что вектор весов w' линейной регресси, обученной на зашифрованных данных, равен произведению обратной к P матрице на вектор весов w линейной регресси, обученной на исходных данных. И предсказания модели, обученной на зашифрованных данных, совпадут с предсказаниями модели, обученной на исходных данных\n",
    "\n",
    "$$\n",
    "a=XEw=XPP^{-1}w=(XP)P^{-1}w=(XP)w'\n",
    "$$"
   ]
  },
  {
   "cell_type": "markdown",
   "metadata": {},
   "source": [
    "# 3. Проверка алгоритма"
   ]
  },
  {
   "cell_type": "code",
   "execution_count": 4,
   "metadata": {},
   "outputs": [
    {
     "name": "stdout",
     "output_type": "stream",
     "text": [
      "R2 на исходных данных: 0.4301846999093345\n",
      "R2 на зашифрованных данных: 0.43018469990939734\n"
     ]
    }
   ],
   "source": [
    "target = data['Страховые выплаты']\n",
    "features0 = data[['Пол', 'Возраст','Зарплата','Члены семьи']]\n",
    "\n",
    "P = np.random.normal(size = [4, 4])\n",
    "\n",
    "Z = np.eye(4) \n",
    "eps = 1e-6\n",
    "\n",
    "while (np.dot(P, np.linalg.inv(P)) - Z).sum() > eps:\n",
    "    P = np.random.normal(size = [4, 4])\n",
    "\n",
    "target_train, target_test, features0_train, features0_test = train_test_split(\n",
    "    target, features0, test_size = 0.25, random_state = 123)\n",
    "features1_train = np.dot(features0_train, P)\n",
    "features1_test = np.dot(features0_test, P)\n",
    "\n",
    "model0 = LinearRegression()\n",
    "model0.fit(features0_train, target_train)\n",
    "print('R2 на исходных данных:', r2_score(target_test, model0.predict(features0_test)))\n",
    "\n",
    "model1 = LinearRegression()\n",
    "model1.fit(features1_train, target_train)\n",
    "print('R2 на зашифрованных данных:', r2_score(target_test, model1.predict(features1_test)))"
   ]
  },
  {
   "cell_type": "markdown",
   "metadata": {},
   "source": [
    "Как и предполагалось, качество модели не ухудшилось."
   ]
  }
 ],
 "metadata": {
  "kernelspec": {
   "display_name": "Python 3",
   "language": "python",
   "name": "python3"
  },
  "language_info": {
   "codemirror_mode": {
    "name": "ipython",
    "version": 3
   },
   "file_extension": ".py",
   "mimetype": "text/x-python",
   "name": "python",
   "nbconvert_exporter": "python",
   "pygments_lexer": "ipython3",
   "version": "3.8.5"
  }
 },
 "nbformat": 4,
 "nbformat_minor": 2
}
