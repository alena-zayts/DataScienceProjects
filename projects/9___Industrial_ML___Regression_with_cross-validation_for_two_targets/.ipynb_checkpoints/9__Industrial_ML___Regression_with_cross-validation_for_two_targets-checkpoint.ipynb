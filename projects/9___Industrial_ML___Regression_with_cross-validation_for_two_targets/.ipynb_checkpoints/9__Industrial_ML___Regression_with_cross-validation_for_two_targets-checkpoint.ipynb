{
 "cells": [
  {
   "cell_type": "markdown",
   "metadata": {},
   "source": [
    "# Оглавление\n",
    "* [1. Описание проекта](#b1)\n",
    "* [2. Подготовка данных](#b2)\n",
    "* [3. Анализ данных](#b3)\n",
    "* [4. Создание модели](#b4)\n",
    "* [Вывод](#b5)\n"
   ]
  },
  {
   "cell_type": "markdown",
   "metadata": {},
   "source": [
    "# 1. Описание проекта<a class=\"anchor\" id=\"b1\"></a>\n",
    "\n",
    "Проект предоставлен компанией «Цифра».\n",
    "\n",
    "## 1.1. Постановка задачи\n",
    "Подготовьте прототип модели машинного обучения для «Цифры». Компания разрабатывает решения для эффективной работы промышленных предприятий.\n",
    "\n",
    "Модель должна предсказать коэффициент восстановления золота из золотосодержащей руды. В вашем распоряжении данные с параметрами добычи и очистки. \n",
    "\n",
    "Модель поможет оптимизировать производство, чтобы не запускать предприятие с убыточными характеристиками.\n",
    "\n",
    "Вам нужно:\n",
    "* Подготовить данные;\n",
    "* Провести исследовательский анализ данных;\n",
    "* Построить и обучить модель.\n",
    "\n",
    "Данные находятся в трёх файлах:\n",
    "* gold_recovery_train_new.csv — обучающая выборка;\n",
    "* gold_recovery_test_new.csv — тестовая выборка;\n",
    "* gold_recovery_full_new.csv — исходные данные.\n",
    "\n",
    "Данные индексируются датой и временем получения информации (признак date). Соседние по времени параметры часто похожи.\n",
    "\n",
    "Некоторые параметры недоступны, потому что замеряются и/или рассчитываются значительно позже. Из-за этого в тестовой выборке отсутствуют некоторые признаки, которые могут быть в обучающей. Также в тестовом наборе нет целевых признаков.\n",
    "\n",
    "Исходный датасет содержит обучающую и тестовую выборки со всеми признаками.\n",
    "\n",
    "В вашем распоряжении сырые данные: их просто выгрузили из хранилища. Прежде чем приступить к построению модели, проверьте по нашей инструкции их на корректность (инструкция будет приведена по ходу выполнения проекта).\n",
    "\n",
    "Далее описан технологический процесс очистки руды. Необходимо самостоятельно определить, какие детали нужны для построения модели, а какие — нет."
   ]
  },
  {
   "cell_type": "markdown",
   "metadata": {},
   "source": [
    "## 1.2. Технологический процесс\n",
    "\n",
    "Как золото получают из руды? \n",
    "\n",
    "Когда добытая руда проходит первичную обработку, получается дроблёная смесь. Её отправляют на флотацию (обогащение) и двухэтапную очистку.\n",
    "\n",
    "[//]: # (![technological_stages](./technological_stages.png))\n",
    "\n",
    "\n",
    "1. Флотация\n",
    "Во флотационную установку подаётся смесь золотосодержащей руды. После обогащения получается черновой концентрат и «отвальные хвосты», то есть остатки продукта с низкой концентрацией ценных металлов.\n",
    "\n",
    "На стабильность этого процесса влияет непостоянное и неоптимальное физико-химическое состояние флотационной пульпы (смеси твёрдых частиц и жидкости).\n",
    "\n",
    "2. Очистка \n",
    "\n",
    "Черновой концентрат проходит две очистки. На выходе получается финальный концентрат и новые отвальные хвосты.\n",
    "\n",
    "## 1.3. Описание данных\n",
    "\n",
    "#### Технологический процесс\n",
    "* Rougher feed — исходное сырье\n",
    "* Rougher additions (или reagent additions) — флотационные реагенты: Xanthate, Sulphate, Depressant\n",
    "  \n",
    "* Xanthate **— ксантогенат (промотер, или активатор флотации);\n",
    "* Sulphate — сульфат (на данном производстве сульфид натрия);\n",
    "* Depressant — депрессант (силикат натрия).\n",
    "* Rougher process (англ. «грубый процесс») — флотация\n",
    "* Rougher tails — отвальные хвосты\n",
    "* Float banks — флотационная установка\n",
    "* Cleaner process — очистка\n",
    "* Rougher Au — черновой концентрат золота\n",
    "* Final Au — финальный концентрат золота\n",
    "\n",
    "#### Параметры этапов\n",
    "* air amount — объём воздуха\n",
    "* fluid levels — уровень жидкости\n",
    "* feed size — размер гранул сырья\n",
    "* feed rate — скорость подачи\n",
    "\n",
    "#### Наименование признаков\n",
    "\n",
    "Наименование признаков должно быть такое: `[этап].[тип_параметра].[название_параметра]`.\n",
    "\n",
    "Пример: rougher.input.feed_ag\n",
    "\n",
    "Возможные значения для блока [этап]:\n",
    "* rougher — флотация\n",
    "* primary_cleaner — первичная очистка\n",
    "* secondary_cleaner — вторичная очистка\n",
    "* final — финальные характеристики\n",
    "\n",
    "Возможные значения для блока [тип_параметра]:\n",
    "* input — параметры сырья\n",
    "* output — параметры продукта\n",
    "* state — параметры, характеризующие текущее состояние этапа\n",
    "* calculation — расчётные характеристики\n",
    "\n",
    "## 1.4. Расчёт эффективности\n",
    "\n",
    "Вам нужно смоделировать процесс восстановления золота из золотосодержащей руды. \n",
    "Эффективность обогащения рассчитывается по формуле\n",
    "\n",
    "\n",
    "$$ Recovery = \\frac{C * (F - T)}{F * (C - T)} * 100\\%, $$\n",
    "\n",
    "где:\n",
    "* C — доля золота в концентрате после флотации/очистки;\n",
    "* F — доля золота в сырье/концентрате до флотации/очистки;\n",
    "* T — доля золота в отвальных хвостах после флотации/очистки.\n",
    "\n",
    "**Для прогноза коэффициента нужно найти долю золота в концентратах и хвостах.** Причём важен не только финальный продукт, но и черновой концентрат.\n",
    "\n",
    "## 1.5. Метрика качества\n",
    "\n",
    "sMAPE (англ. Symmetric Mean Absolute Percentage Error, «симметричное среднее абсолютное процентное отклонение»).\n",
    "\n",
    "$$ \\text{sMAPE}=\\frac{100\\%}{N}\\sum_{i=1}^{N}\\frac{\\left|y_{i}-\\hat{y_{i}}\\right|}{(|y_{i}|+|\\hat{y_{i}}|)/2}. $$\n",
    "\n",
    "Нужно спрогнозировать сразу две величины:\n",
    "1. эффективность обогащения чернового концентрата rougher.output.recovery;\n",
    "2. эффективность обогащения финального концентрата final.output.recovery.\n",
    "\n",
    "Итоговая метрика складывается из двух величин:\n",
    "\n",
    "$$ \\text{final_sMAPE}= 25\\% * \\text{sMAPE(rougher)} + 75\\% * \\text{sMAPE(final)}$$"
   ]
  },
  {
   "cell_type": "code",
   "execution_count": 1,
   "metadata": {},
   "outputs": [],
   "source": [
    "import pandas as pd\n",
    "import numpy as np\n",
    "import matplotlib.pyplot as plt\n",
    "\n",
    "from sklearn.metrics import mean_absolute_error, mean_squared_error, make_scorer\n",
    "from sklearn.model_selection import cross_val_score, ShuffleSplit\n",
    "\n",
    "\n",
    "from sklearn.linear_model import LinearRegression\n",
    "from sklearn.tree import DecisionTreeRegressor\n",
    "from sklearn.ensemble import RandomForestRegressor"
   ]
  },
  {
   "cell_type": "markdown",
   "metadata": {},
   "source": [
    "# 2. Подготовка данных<a class=\"anchor\" id=\"b2\"></a>\n",
    "\n",
    "### 2.1. Загрузим данные и изучим их"
   ]
  },
  {
   "cell_type": "code",
   "execution_count": 2,
   "metadata": {},
   "outputs": [
    {
     "name": "stdout",
     "output_type": "stream",
     "text": [
      "Размеры выборок: в тренировочной 14149, в тестовой 5290, в полной 19439 записей\n"
     ]
    }
   ],
   "source": [
    "train_data = pd.read_csv('data/gold_recovery_train_new.csv')\n",
    "test_data = pd.read_csv('data/gold_recovery_test_new.csv')\n",
    "full_data = pd.read_csv('data/gold_recovery_full_new.csv')\n",
    "\n",
    "print(f'Размеры выборок: в тренировочной {len(train_data)}, в тестовой {len(test_data)}, в полной {len(full_data)} записей')"
   ]
  },
  {
   "cell_type": "markdown",
   "metadata": {},
   "source": [
    "На примере полной таблицы (gold_recovery_full_new) посотрим на общий вид данных"
   ]
  },
  {
   "cell_type": "code",
   "execution_count": 3,
   "metadata": {},
   "outputs": [
    {
     "data": {
      "text/html": [
       "<div>\n",
       "<style scoped>\n",
       "    .dataframe tbody tr th:only-of-type {\n",
       "        vertical-align: middle;\n",
       "    }\n",
       "\n",
       "    .dataframe tbody tr th {\n",
       "        vertical-align: top;\n",
       "    }\n",
       "\n",
       "    .dataframe thead th {\n",
       "        text-align: right;\n",
       "    }\n",
       "</style>\n",
       "<table border=\"1\" class=\"dataframe\">\n",
       "  <thead>\n",
       "    <tr style=\"text-align: right;\">\n",
       "      <th></th>\n",
       "      <th>date</th>\n",
       "      <th>final.output.concentrate_ag</th>\n",
       "      <th>final.output.concentrate_pb</th>\n",
       "      <th>final.output.concentrate_sol</th>\n",
       "      <th>final.output.concentrate_au</th>\n",
       "      <th>final.output.recovery</th>\n",
       "      <th>final.output.tail_ag</th>\n",
       "      <th>final.output.tail_pb</th>\n",
       "      <th>final.output.tail_sol</th>\n",
       "      <th>final.output.tail_au</th>\n",
       "      <th>...</th>\n",
       "      <th>secondary_cleaner.state.floatbank4_a_air</th>\n",
       "      <th>secondary_cleaner.state.floatbank4_a_level</th>\n",
       "      <th>secondary_cleaner.state.floatbank4_b_air</th>\n",
       "      <th>secondary_cleaner.state.floatbank4_b_level</th>\n",
       "      <th>secondary_cleaner.state.floatbank5_a_air</th>\n",
       "      <th>secondary_cleaner.state.floatbank5_a_level</th>\n",
       "      <th>secondary_cleaner.state.floatbank5_b_air</th>\n",
       "      <th>secondary_cleaner.state.floatbank5_b_level</th>\n",
       "      <th>secondary_cleaner.state.floatbank6_a_air</th>\n",
       "      <th>secondary_cleaner.state.floatbank6_a_level</th>\n",
       "    </tr>\n",
       "  </thead>\n",
       "  <tbody>\n",
       "    <tr>\n",
       "      <th>0</th>\n",
       "      <td>2016-01-15 00:00:00</td>\n",
       "      <td>6.055403</td>\n",
       "      <td>9.889648</td>\n",
       "      <td>5.507324</td>\n",
       "      <td>42.192020</td>\n",
       "      <td>70.541216</td>\n",
       "      <td>10.411962</td>\n",
       "      <td>0.895447</td>\n",
       "      <td>16.904297</td>\n",
       "      <td>2.143149</td>\n",
       "      <td>...</td>\n",
       "      <td>14.016835</td>\n",
       "      <td>-502.488007</td>\n",
       "      <td>12.099931</td>\n",
       "      <td>-504.715942</td>\n",
       "      <td>9.925633</td>\n",
       "      <td>-498.310211</td>\n",
       "      <td>8.079666</td>\n",
       "      <td>-500.470978</td>\n",
       "      <td>14.151341</td>\n",
       "      <td>-605.841980</td>\n",
       "    </tr>\n",
       "    <tr>\n",
       "      <th>1</th>\n",
       "      <td>2016-01-15 01:00:00</td>\n",
       "      <td>6.029369</td>\n",
       "      <td>9.968944</td>\n",
       "      <td>5.257781</td>\n",
       "      <td>42.701629</td>\n",
       "      <td>69.266198</td>\n",
       "      <td>10.462676</td>\n",
       "      <td>0.927452</td>\n",
       "      <td>16.634514</td>\n",
       "      <td>2.224930</td>\n",
       "      <td>...</td>\n",
       "      <td>13.992281</td>\n",
       "      <td>-505.503262</td>\n",
       "      <td>11.950531</td>\n",
       "      <td>-501.331529</td>\n",
       "      <td>10.039245</td>\n",
       "      <td>-500.169983</td>\n",
       "      <td>7.984757</td>\n",
       "      <td>-500.582168</td>\n",
       "      <td>13.998353</td>\n",
       "      <td>-599.787184</td>\n",
       "    </tr>\n",
       "    <tr>\n",
       "      <th>2</th>\n",
       "      <td>2016-01-15 02:00:00</td>\n",
       "      <td>6.055926</td>\n",
       "      <td>10.213995</td>\n",
       "      <td>5.383759</td>\n",
       "      <td>42.657501</td>\n",
       "      <td>68.116445</td>\n",
       "      <td>10.507046</td>\n",
       "      <td>0.953716</td>\n",
       "      <td>16.208849</td>\n",
       "      <td>2.257889</td>\n",
       "      <td>...</td>\n",
       "      <td>14.015015</td>\n",
       "      <td>-502.520901</td>\n",
       "      <td>11.912783</td>\n",
       "      <td>-501.133383</td>\n",
       "      <td>10.070913</td>\n",
       "      <td>-500.129135</td>\n",
       "      <td>8.013877</td>\n",
       "      <td>-500.517572</td>\n",
       "      <td>14.028663</td>\n",
       "      <td>-601.427363</td>\n",
       "    </tr>\n",
       "    <tr>\n",
       "      <th>3</th>\n",
       "      <td>2016-01-15 03:00:00</td>\n",
       "      <td>6.047977</td>\n",
       "      <td>9.977019</td>\n",
       "      <td>4.858634</td>\n",
       "      <td>42.689819</td>\n",
       "      <td>68.347543</td>\n",
       "      <td>10.422762</td>\n",
       "      <td>0.883763</td>\n",
       "      <td>16.532835</td>\n",
       "      <td>2.146849</td>\n",
       "      <td>...</td>\n",
       "      <td>14.036510</td>\n",
       "      <td>-500.857308</td>\n",
       "      <td>11.999550</td>\n",
       "      <td>-501.193686</td>\n",
       "      <td>9.970366</td>\n",
       "      <td>-499.201640</td>\n",
       "      <td>7.977324</td>\n",
       "      <td>-500.255908</td>\n",
       "      <td>14.005551</td>\n",
       "      <td>-599.996129</td>\n",
       "    </tr>\n",
       "    <tr>\n",
       "      <th>4</th>\n",
       "      <td>2016-01-15 04:00:00</td>\n",
       "      <td>6.148599</td>\n",
       "      <td>10.142511</td>\n",
       "      <td>4.939416</td>\n",
       "      <td>42.774141</td>\n",
       "      <td>66.927016</td>\n",
       "      <td>10.360302</td>\n",
       "      <td>0.792826</td>\n",
       "      <td>16.525686</td>\n",
       "      <td>2.055292</td>\n",
       "      <td>...</td>\n",
       "      <td>14.027298</td>\n",
       "      <td>-499.838632</td>\n",
       "      <td>11.953070</td>\n",
       "      <td>-501.053894</td>\n",
       "      <td>9.925709</td>\n",
       "      <td>-501.686727</td>\n",
       "      <td>7.894242</td>\n",
       "      <td>-500.356035</td>\n",
       "      <td>13.996647</td>\n",
       "      <td>-601.496691</td>\n",
       "    </tr>\n",
       "  </tbody>\n",
       "</table>\n",
       "<p>5 rows × 87 columns</p>\n",
       "</div>"
      ],
      "text/plain": [
       "                  date  final.output.concentrate_ag  \\\n",
       "0  2016-01-15 00:00:00                     6.055403   \n",
       "1  2016-01-15 01:00:00                     6.029369   \n",
       "2  2016-01-15 02:00:00                     6.055926   \n",
       "3  2016-01-15 03:00:00                     6.047977   \n",
       "4  2016-01-15 04:00:00                     6.148599   \n",
       "\n",
       "   final.output.concentrate_pb  final.output.concentrate_sol  \\\n",
       "0                     9.889648                      5.507324   \n",
       "1                     9.968944                      5.257781   \n",
       "2                    10.213995                      5.383759   \n",
       "3                     9.977019                      4.858634   \n",
       "4                    10.142511                      4.939416   \n",
       "\n",
       "   final.output.concentrate_au  final.output.recovery  final.output.tail_ag  \\\n",
       "0                    42.192020              70.541216             10.411962   \n",
       "1                    42.701629              69.266198             10.462676   \n",
       "2                    42.657501              68.116445             10.507046   \n",
       "3                    42.689819              68.347543             10.422762   \n",
       "4                    42.774141              66.927016             10.360302   \n",
       "\n",
       "   final.output.tail_pb  final.output.tail_sol  final.output.tail_au  ...  \\\n",
       "0              0.895447              16.904297              2.143149  ...   \n",
       "1              0.927452              16.634514              2.224930  ...   \n",
       "2              0.953716              16.208849              2.257889  ...   \n",
       "3              0.883763              16.532835              2.146849  ...   \n",
       "4              0.792826              16.525686              2.055292  ...   \n",
       "\n",
       "   secondary_cleaner.state.floatbank4_a_air  \\\n",
       "0                                 14.016835   \n",
       "1                                 13.992281   \n",
       "2                                 14.015015   \n",
       "3                                 14.036510   \n",
       "4                                 14.027298   \n",
       "\n",
       "   secondary_cleaner.state.floatbank4_a_level  \\\n",
       "0                                 -502.488007   \n",
       "1                                 -505.503262   \n",
       "2                                 -502.520901   \n",
       "3                                 -500.857308   \n",
       "4                                 -499.838632   \n",
       "\n",
       "   secondary_cleaner.state.floatbank4_b_air  \\\n",
       "0                                 12.099931   \n",
       "1                                 11.950531   \n",
       "2                                 11.912783   \n",
       "3                                 11.999550   \n",
       "4                                 11.953070   \n",
       "\n",
       "   secondary_cleaner.state.floatbank4_b_level  \\\n",
       "0                                 -504.715942   \n",
       "1                                 -501.331529   \n",
       "2                                 -501.133383   \n",
       "3                                 -501.193686   \n",
       "4                                 -501.053894   \n",
       "\n",
       "   secondary_cleaner.state.floatbank5_a_air  \\\n",
       "0                                  9.925633   \n",
       "1                                 10.039245   \n",
       "2                                 10.070913   \n",
       "3                                  9.970366   \n",
       "4                                  9.925709   \n",
       "\n",
       "   secondary_cleaner.state.floatbank5_a_level  \\\n",
       "0                                 -498.310211   \n",
       "1                                 -500.169983   \n",
       "2                                 -500.129135   \n",
       "3                                 -499.201640   \n",
       "4                                 -501.686727   \n",
       "\n",
       "   secondary_cleaner.state.floatbank5_b_air  \\\n",
       "0                                  8.079666   \n",
       "1                                  7.984757   \n",
       "2                                  8.013877   \n",
       "3                                  7.977324   \n",
       "4                                  7.894242   \n",
       "\n",
       "   secondary_cleaner.state.floatbank5_b_level  \\\n",
       "0                                 -500.470978   \n",
       "1                                 -500.582168   \n",
       "2                                 -500.517572   \n",
       "3                                 -500.255908   \n",
       "4                                 -500.356035   \n",
       "\n",
       "   secondary_cleaner.state.floatbank6_a_air  \\\n",
       "0                                 14.151341   \n",
       "1                                 13.998353   \n",
       "2                                 14.028663   \n",
       "3                                 14.005551   \n",
       "4                                 13.996647   \n",
       "\n",
       "   secondary_cleaner.state.floatbank6_a_level  \n",
       "0                                 -605.841980  \n",
       "1                                 -599.787184  \n",
       "2                                 -601.427363  \n",
       "3                                 -599.996129  \n",
       "4                                 -601.496691  \n",
       "\n",
       "[5 rows x 87 columns]"
      ]
     },
     "execution_count": 3,
     "metadata": {},
     "output_type": "execute_result"
    }
   ],
   "source": [
    "full_data.head()"
   ]
  },
  {
   "cell_type": "markdown",
   "metadata": {},
   "source": [
    "### 2.2. Проверим, что эффективность обогащения рассчитана правильно. \n",
    "\n",
    "Вычислим её на обучающей выборке для признака rougher.output.recovery. Найдем MAE между нашими расчётами и значением признака.\n",
    "\n",
    "Напомним, эффективность обогащения рассчитывается по формуле\n",
    "\n",
    "\n",
    "$$ Recovery = \\frac{C * (F - T)}{F * (C - T)} * 100\\%, $$\n",
    "\n",
    "где:\n",
    "* C — доля золота в концентрате после флотации/очистки;\n",
    "* F — доля золота в сырье/концентрате до флотации/очистки;\n",
    "* T — доля золота в отвальных хвостах после флотации/очистки."
   ]
  },
  {
   "cell_type": "code",
   "execution_count": 4,
   "metadata": {},
   "outputs": [
    {
     "name": "stdout",
     "output_type": "stream",
     "text": [
      "MAE: 9.73512347450521e-15\n"
     ]
    }
   ],
   "source": [
    "def recovery(data_row, stage_name):\n",
    "    C = data_row[f'{stage_name}.output.concentrate_au']\n",
    "    F = data_row[f'{stage_name}.input.feed_au']\n",
    "    T = data_row[f'{stage_name}.output.tail_au']\n",
    "    \n",
    "    return ((C * (F - T)) / (F * (C - T))) * 100\n",
    "\n",
    "counted_recovery_rougher_train = train_data.apply(lambda row: recovery(row, 'rougher'), axis=1)\n",
    "mae_recovery_rougher_train = mean_absolute_error(train_data['rougher.output.recovery'], counted_recovery_rougher_train)\n",
    "print('MAE:', mae_recovery_rougher_train)"
   ]
  },
  {
   "cell_type": "markdown",
   "metadata": {},
   "source": [
    "MAE совсем небольшая, а значит эффективность обогащения рассчитана правильно."
   ]
  },
  {
   "cell_type": "markdown",
   "metadata": {},
   "source": [
    "### 2.3. Проанализируем признаки, недоступные в тестовой выборке. "
   ]
  },
  {
   "cell_type": "code",
   "execution_count": 5,
   "metadata": {},
   "outputs": [
    {
     "name": "stdout",
     "output_type": "stream",
     "text": [
      "Признаки, которые есть в обучающей выборке, но не представлены в тестовой выборке\n",
      "final.output.concentrate_ag\n",
      "final.output.concentrate_pb\n",
      "final.output.concentrate_sol\n",
      "final.output.concentrate_au\n",
      "final.output.recovery\n",
      "final.output.tail_ag\n",
      "final.output.tail_pb\n",
      "final.output.tail_sol\n",
      "final.output.tail_au\n",
      "primary_cleaner.output.concentrate_ag\n",
      "primary_cleaner.output.concentrate_pb\n",
      "primary_cleaner.output.concentrate_sol\n",
      "primary_cleaner.output.concentrate_au\n",
      "primary_cleaner.output.tail_ag\n",
      "primary_cleaner.output.tail_pb\n",
      "primary_cleaner.output.tail_sol\n",
      "primary_cleaner.output.tail_au\n",
      "rougher.calculation.sulfate_to_au_concentrate\n",
      "rougher.calculation.floatbank10_sulfate_to_au_feed\n",
      "rougher.calculation.floatbank11_sulfate_to_au_feed\n",
      "rougher.calculation.au_pb_ratio\n",
      "rougher.output.concentrate_ag\n",
      "rougher.output.concentrate_pb\n",
      "rougher.output.concentrate_sol\n",
      "rougher.output.concentrate_au\n",
      "rougher.output.recovery\n",
      "rougher.output.tail_ag\n",
      "rougher.output.tail_pb\n",
      "rougher.output.tail_sol\n",
      "rougher.output.tail_au\n",
      "secondary_cleaner.output.tail_ag\n",
      "secondary_cleaner.output.tail_pb\n",
      "secondary_cleaner.output.tail_sol\n",
      "secondary_cleaner.output.tail_au\n",
      "\n",
      "Количсетво столбцов в test_data, содержащих \"output\": 0\n",
      "Количсетво столбцов в test_data, содержащих \"calculation\": 0\n"
     ]
    }
   ],
   "source": [
    "print(\"Признаки, которые есть в обучающей выборке, но не представлены в тестовой выборке\")\n",
    "\n",
    "missing_columns = []\n",
    "for cloumn in list(train_data.columns):\n",
    "    if cloumn not in list(test_data.columns):\n",
    "        missing_columns.append(cloumn)\n",
    "        print(cloumn)\n",
    "print()\n",
    "print('Количсетво столбцов в test_data, содержащих \"output\":', test_data.columns.str.contains('output').sum())\n",
    "print('Количсетво столбцов в test_data, содержащих \"calculation\":', test_data.columns.str.contains('calculation').sum())"
   ]
  },
  {
   "cell_type": "markdown",
   "metadata": {},
   "source": [
    "Можно заметить, что в тестовой выборке нет параметров типа `[этап].output....`, а также `rougher.calculation...`.\n",
    "\n",
    "По заданию необходимо спрогнозировать две величины:\n",
    "1. эффективность обогащения чернового концентрата rougher.output.recovery;\n",
    "2. эффективность обогащения финального концентрата final.output.recovery.\n",
    "\n",
    "Видимо, все параметры типа output и calculation определяются после/вместе с целевыми признаки, поэтому они и недоступны в тестовой выборке. Если обучать модель на тренировочной выборке с этими параметрами (и предсказывать, также зная эти параметры), то по ним будет возможно восстановить и целевые признаки некоторыми математическими формулами.\n",
    "\n",
    "Таким образом, **в тренировочной выборке будет необходимо избавиться от всех стобцов, которых нет в тестовой выборке, за исключением целевых (rougher.output.recovery и final.output.recovery)**: их мы позже отделим для обучения моделей."
   ]
  },
  {
   "cell_type": "code",
   "execution_count": 6,
   "metadata": {},
   "outputs": [],
   "source": [
    "target_columns = ['rougher.output.recovery', 'final.output.recovery']\n",
    "for column in target_columns:\n",
    "    missing_columns.remove(column)"
   ]
  },
  {
   "cell_type": "markdown",
   "metadata": {},
   "source": [
    "## 2.4. Проведем предобработку данных\n",
    "\n",
    "Начнем с таблицы с исходными данными"
   ]
  },
  {
   "cell_type": "code",
   "execution_count": 7,
   "metadata": {},
   "outputs": [
    {
     "name": "stdout",
     "output_type": "stream",
     "text": [
      "<class 'pandas.core.frame.DataFrame'>\n",
      "RangeIndex: 19439 entries, 0 to 19438\n",
      "Data columns (total 87 columns):\n",
      " #   Column                                              Non-Null Count  Dtype  \n",
      "---  ------                                              --------------  -----  \n",
      " 0   date                                                19439 non-null  object \n",
      " 1   final.output.concentrate_ag                         19438 non-null  float64\n",
      " 2   final.output.concentrate_pb                         19438 non-null  float64\n",
      " 3   final.output.concentrate_sol                        19228 non-null  float64\n",
      " 4   final.output.concentrate_au                         19439 non-null  float64\n",
      " 5   final.output.recovery                               19439 non-null  float64\n",
      " 6   final.output.tail_ag                                19438 non-null  float64\n",
      " 7   final.output.tail_pb                                19338 non-null  float64\n",
      " 8   final.output.tail_sol                               19433 non-null  float64\n",
      " 9   final.output.tail_au                                19439 non-null  float64\n",
      " 10  primary_cleaner.input.sulfate                       19415 non-null  float64\n",
      " 11  primary_cleaner.input.depressant                    19402 non-null  float64\n",
      " 12  primary_cleaner.input.feed_size                     19439 non-null  float64\n",
      " 13  primary_cleaner.input.xanthate                      19335 non-null  float64\n",
      " 14  primary_cleaner.output.concentrate_ag               19439 non-null  float64\n",
      " 15  primary_cleaner.output.concentrate_pb               19323 non-null  float64\n",
      " 16  primary_cleaner.output.concentrate_sol              19069 non-null  float64\n",
      " 17  primary_cleaner.output.concentrate_au               19439 non-null  float64\n",
      " 18  primary_cleaner.output.tail_ag                      19435 non-null  float64\n",
      " 19  primary_cleaner.output.tail_pb                      19418 non-null  float64\n",
      " 20  primary_cleaner.output.tail_sol                     19377 non-null  float64\n",
      " 21  primary_cleaner.output.tail_au                      19439 non-null  float64\n",
      " 22  primary_cleaner.state.floatbank8_a_air              19435 non-null  float64\n",
      " 23  primary_cleaner.state.floatbank8_a_level            19438 non-null  float64\n",
      " 24  primary_cleaner.state.floatbank8_b_air              19435 non-null  float64\n",
      " 25  primary_cleaner.state.floatbank8_b_level            19438 non-null  float64\n",
      " 26  primary_cleaner.state.floatbank8_c_air              19437 non-null  float64\n",
      " 27  primary_cleaner.state.floatbank8_c_level            19438 non-null  float64\n",
      " 28  primary_cleaner.state.floatbank8_d_air              19436 non-null  float64\n",
      " 29  primary_cleaner.state.floatbank8_d_level            19438 non-null  float64\n",
      " 30  rougher.calculation.sulfate_to_au_concentrate       19437 non-null  float64\n",
      " 31  rougher.calculation.floatbank10_sulfate_to_au_feed  19437 non-null  float64\n",
      " 32  rougher.calculation.floatbank11_sulfate_to_au_feed  19437 non-null  float64\n",
      " 33  rougher.calculation.au_pb_ratio                     19439 non-null  float64\n",
      " 34  rougher.input.feed_ag                               19439 non-null  float64\n",
      " 35  rougher.input.feed_pb                               19339 non-null  float64\n",
      " 36  rougher.input.feed_rate                             19428 non-null  float64\n",
      " 37  rougher.input.feed_size                             19294 non-null  float64\n",
      " 38  rougher.input.feed_sol                              19340 non-null  float64\n",
      " 39  rougher.input.feed_au                               19439 non-null  float64\n",
      " 40  rougher.input.floatbank10_sulfate                   19405 non-null  float64\n",
      " 41  rougher.input.floatbank10_xanthate                  19431 non-null  float64\n",
      " 42  rougher.input.floatbank11_sulfate                   19395 non-null  float64\n",
      " 43  rougher.input.floatbank11_xanthate                  18986 non-null  float64\n",
      " 44  rougher.output.concentrate_ag                       19439 non-null  float64\n",
      " 45  rougher.output.concentrate_pb                       19439 non-null  float64\n",
      " 46  rougher.output.concentrate_sol                      19416 non-null  float64\n",
      " 47  rougher.output.concentrate_au                       19439 non-null  float64\n",
      " 48  rougher.output.recovery                             19439 non-null  float64\n",
      " 49  rougher.output.tail_ag                              19438 non-null  float64\n",
      " 50  rougher.output.tail_pb                              19439 non-null  float64\n",
      " 51  rougher.output.tail_sol                             19439 non-null  float64\n",
      " 52  rougher.output.tail_au                              19439 non-null  float64\n",
      " 53  rougher.state.floatbank10_a_air                     19438 non-null  float64\n",
      " 54  rougher.state.floatbank10_a_level                   19438 non-null  float64\n",
      " 55  rougher.state.floatbank10_b_air                     19438 non-null  float64\n",
      " 56  rougher.state.floatbank10_b_level                   19438 non-null  float64\n",
      " 57  rougher.state.floatbank10_c_air                     19438 non-null  float64\n",
      " 58  rougher.state.floatbank10_c_level                   19438 non-null  float64\n",
      " 59  rougher.state.floatbank10_d_air                     19439 non-null  float64\n",
      " 60  rougher.state.floatbank10_d_level                   19439 non-null  float64\n",
      " 61  rougher.state.floatbank10_e_air                     19003 non-null  float64\n",
      " 62  rougher.state.floatbank10_e_level                   19439 non-null  float64\n",
      " 63  rougher.state.floatbank10_f_air                     19439 non-null  float64\n",
      " 64  rougher.state.floatbank10_f_level                   19439 non-null  float64\n",
      " 65  secondary_cleaner.output.tail_ag                    19437 non-null  float64\n",
      " 66  secondary_cleaner.output.tail_pb                    19427 non-null  float64\n",
      " 67  secondary_cleaner.output.tail_sol                   17691 non-null  float64\n",
      " 68  secondary_cleaner.output.tail_au                    19439 non-null  float64\n",
      " 69  secondary_cleaner.state.floatbank2_a_air            19219 non-null  float64\n",
      " 70  secondary_cleaner.state.floatbank2_a_level          19438 non-null  float64\n",
      " 71  secondary_cleaner.state.floatbank2_b_air            19416 non-null  float64\n",
      " 72  secondary_cleaner.state.floatbank2_b_level          19438 non-null  float64\n",
      " 73  secondary_cleaner.state.floatbank3_a_air            19426 non-null  float64\n",
      " 74  secondary_cleaner.state.floatbank3_a_level          19438 non-null  float64\n",
      " 75  secondary_cleaner.state.floatbank3_b_air            19438 non-null  float64\n",
      " 76  secondary_cleaner.state.floatbank3_b_level          19438 non-null  float64\n",
      " 77  secondary_cleaner.state.floatbank4_a_air            19433 non-null  float64\n",
      " 78  secondary_cleaner.state.floatbank4_a_level          19438 non-null  float64\n",
      " 79  secondary_cleaner.state.floatbank4_b_air            19438 non-null  float64\n",
      " 80  secondary_cleaner.state.floatbank4_b_level          19438 non-null  float64\n",
      " 81  secondary_cleaner.state.floatbank5_a_air            19438 non-null  float64\n",
      " 82  secondary_cleaner.state.floatbank5_a_level          19438 non-null  float64\n",
      " 83  secondary_cleaner.state.floatbank5_b_air            19438 non-null  float64\n",
      " 84  secondary_cleaner.state.floatbank5_b_level          19438 non-null  float64\n",
      " 85  secondary_cleaner.state.floatbank6_a_air            19437 non-null  float64\n",
      " 86  secondary_cleaner.state.floatbank6_a_level          19438 non-null  float64\n",
      "dtypes: float64(86), object(1)\n",
      "memory usage: 12.9+ MB\n"
     ]
    }
   ],
   "source": [
    "full_data.info()"
   ]
  },
  {
   "cell_type": "markdown",
   "metadata": {},
   "source": [
    "Все признаки, кроме даты, имеют тип float64, то есть для них тип данных подобран корректно. Необходимо лишь преобразовать столбец с датой к нужному формату"
   ]
  },
  {
   "cell_type": "code",
   "execution_count": 8,
   "metadata": {},
   "outputs": [],
   "source": [
    "full_data['date'] = pd.to_datetime(full_data['date'], format='%Y-%m-%d %H:%M:%S')"
   ]
  },
  {
   "cell_type": "markdown",
   "metadata": {},
   "source": [
    "Также можно заметить, что в данных есть пропуски: в различных столбцах (за исключением индексирущего столбца date и целевых final.output.recovery и rougher.output.recovery) и различное количество. Мы не знаем их природу, но из условия известно, что соседние по времени параметры часто похожи, поэтому заполним пропуски в каждом столбце предыдущим (по дате) значением из этого же столбца."
   ]
  },
  {
   "cell_type": "code",
   "execution_count": 9,
   "metadata": {},
   "outputs": [
    {
     "name": "stdout",
     "output_type": "stream",
     "text": [
      "<class 'pandas.core.frame.DataFrame'>\n",
      "Int64Index: 19439 entries, 0 to 19438\n",
      "Data columns (total 87 columns):\n",
      " #   Column                                              Non-Null Count  Dtype         \n",
      "---  ------                                              --------------  -----         \n",
      " 0   date                                                19439 non-null  datetime64[ns]\n",
      " 1   final.output.concentrate_ag                         19439 non-null  float64       \n",
      " 2   final.output.concentrate_pb                         19439 non-null  float64       \n",
      " 3   final.output.concentrate_sol                        19439 non-null  float64       \n",
      " 4   final.output.concentrate_au                         19439 non-null  float64       \n",
      " 5   final.output.recovery                               19439 non-null  float64       \n",
      " 6   final.output.tail_ag                                19439 non-null  float64       \n",
      " 7   final.output.tail_pb                                19439 non-null  float64       \n",
      " 8   final.output.tail_sol                               19439 non-null  float64       \n",
      " 9   final.output.tail_au                                19439 non-null  float64       \n",
      " 10  primary_cleaner.input.sulfate                       19439 non-null  float64       \n",
      " 11  primary_cleaner.input.depressant                    19439 non-null  float64       \n",
      " 12  primary_cleaner.input.feed_size                     19439 non-null  float64       \n",
      " 13  primary_cleaner.input.xanthate                      19439 non-null  float64       \n",
      " 14  primary_cleaner.output.concentrate_ag               19439 non-null  float64       \n",
      " 15  primary_cleaner.output.concentrate_pb               19439 non-null  float64       \n",
      " 16  primary_cleaner.output.concentrate_sol              19439 non-null  float64       \n",
      " 17  primary_cleaner.output.concentrate_au               19439 non-null  float64       \n",
      " 18  primary_cleaner.output.tail_ag                      19439 non-null  float64       \n",
      " 19  primary_cleaner.output.tail_pb                      19439 non-null  float64       \n",
      " 20  primary_cleaner.output.tail_sol                     19439 non-null  float64       \n",
      " 21  primary_cleaner.output.tail_au                      19439 non-null  float64       \n",
      " 22  primary_cleaner.state.floatbank8_a_air              19439 non-null  float64       \n",
      " 23  primary_cleaner.state.floatbank8_a_level            19439 non-null  float64       \n",
      " 24  primary_cleaner.state.floatbank8_b_air              19439 non-null  float64       \n",
      " 25  primary_cleaner.state.floatbank8_b_level            19439 non-null  float64       \n",
      " 26  primary_cleaner.state.floatbank8_c_air              19439 non-null  float64       \n",
      " 27  primary_cleaner.state.floatbank8_c_level            19439 non-null  float64       \n",
      " 28  primary_cleaner.state.floatbank8_d_air              19439 non-null  float64       \n",
      " 29  primary_cleaner.state.floatbank8_d_level            19439 non-null  float64       \n",
      " 30  rougher.calculation.sulfate_to_au_concentrate       19439 non-null  float64       \n",
      " 31  rougher.calculation.floatbank10_sulfate_to_au_feed  19439 non-null  float64       \n",
      " 32  rougher.calculation.floatbank11_sulfate_to_au_feed  19439 non-null  float64       \n",
      " 33  rougher.calculation.au_pb_ratio                     19439 non-null  float64       \n",
      " 34  rougher.input.feed_ag                               19439 non-null  float64       \n",
      " 35  rougher.input.feed_pb                               19439 non-null  float64       \n",
      " 36  rougher.input.feed_rate                             19439 non-null  float64       \n",
      " 37  rougher.input.feed_size                             19439 non-null  float64       \n",
      " 38  rougher.input.feed_sol                              19439 non-null  float64       \n",
      " 39  rougher.input.feed_au                               19439 non-null  float64       \n",
      " 40  rougher.input.floatbank10_sulfate                   19439 non-null  float64       \n",
      " 41  rougher.input.floatbank10_xanthate                  19439 non-null  float64       \n",
      " 42  rougher.input.floatbank11_sulfate                   19439 non-null  float64       \n",
      " 43  rougher.input.floatbank11_xanthate                  19439 non-null  float64       \n",
      " 44  rougher.output.concentrate_ag                       19439 non-null  float64       \n",
      " 45  rougher.output.concentrate_pb                       19439 non-null  float64       \n",
      " 46  rougher.output.concentrate_sol                      19439 non-null  float64       \n",
      " 47  rougher.output.concentrate_au                       19439 non-null  float64       \n",
      " 48  rougher.output.recovery                             19439 non-null  float64       \n",
      " 49  rougher.output.tail_ag                              19439 non-null  float64       \n",
      " 50  rougher.output.tail_pb                              19439 non-null  float64       \n",
      " 51  rougher.output.tail_sol                             19439 non-null  float64       \n",
      " 52  rougher.output.tail_au                              19439 non-null  float64       \n",
      " 53  rougher.state.floatbank10_a_air                     19439 non-null  float64       \n",
      " 54  rougher.state.floatbank10_a_level                   19439 non-null  float64       \n",
      " 55  rougher.state.floatbank10_b_air                     19439 non-null  float64       \n",
      " 56  rougher.state.floatbank10_b_level                   19439 non-null  float64       \n",
      " 57  rougher.state.floatbank10_c_air                     19439 non-null  float64       \n",
      " 58  rougher.state.floatbank10_c_level                   19439 non-null  float64       \n",
      " 59  rougher.state.floatbank10_d_air                     19439 non-null  float64       \n",
      " 60  rougher.state.floatbank10_d_level                   19439 non-null  float64       \n",
      " 61  rougher.state.floatbank10_e_air                     19439 non-null  float64       \n",
      " 62  rougher.state.floatbank10_e_level                   19439 non-null  float64       \n",
      " 63  rougher.state.floatbank10_f_air                     19439 non-null  float64       \n",
      " 64  rougher.state.floatbank10_f_level                   19439 non-null  float64       \n",
      " 65  secondary_cleaner.output.tail_ag                    19439 non-null  float64       \n",
      " 66  secondary_cleaner.output.tail_pb                    19439 non-null  float64       \n",
      " 67  secondary_cleaner.output.tail_sol                   19439 non-null  float64       \n",
      " 68  secondary_cleaner.output.tail_au                    19439 non-null  float64       \n",
      " 69  secondary_cleaner.state.floatbank2_a_air            19439 non-null  float64       \n",
      " 70  secondary_cleaner.state.floatbank2_a_level          19439 non-null  float64       \n",
      " 71  secondary_cleaner.state.floatbank2_b_air            19439 non-null  float64       \n",
      " 72  secondary_cleaner.state.floatbank2_b_level          19439 non-null  float64       \n",
      " 73  secondary_cleaner.state.floatbank3_a_air            19439 non-null  float64       \n",
      " 74  secondary_cleaner.state.floatbank3_a_level          19439 non-null  float64       \n",
      " 75  secondary_cleaner.state.floatbank3_b_air            19439 non-null  float64       \n",
      " 76  secondary_cleaner.state.floatbank3_b_level          19439 non-null  float64       \n",
      " 77  secondary_cleaner.state.floatbank4_a_air            19439 non-null  float64       \n",
      " 78  secondary_cleaner.state.floatbank4_a_level          19439 non-null  float64       \n",
      " 79  secondary_cleaner.state.floatbank4_b_air            19439 non-null  float64       \n",
      " 80  secondary_cleaner.state.floatbank4_b_level          19439 non-null  float64       \n",
      " 81  secondary_cleaner.state.floatbank5_a_air            19439 non-null  float64       \n",
      " 82  secondary_cleaner.state.floatbank5_a_level          19439 non-null  float64       \n",
      " 83  secondary_cleaner.state.floatbank5_b_air            19439 non-null  float64       \n",
      " 84  secondary_cleaner.state.floatbank5_b_level          19439 non-null  float64       \n",
      " 85  secondary_cleaner.state.floatbank6_a_air            19439 non-null  float64       \n",
      " 86  secondary_cleaner.state.floatbank6_a_level          19439 non-null  float64       \n",
      "dtypes: datetime64[ns](1), float64(86)\n",
      "memory usage: 13.1 MB\n"
     ]
    }
   ],
   "source": [
    "full_data = full_data.sort_values(by='date')\n",
    "full_data = full_data.fillna(method = 'pad')\n",
    "full_data.info()"
   ]
  },
  {
   "cell_type": "markdown",
   "metadata": {},
   "source": [
    "По тренировочной и тестовой выборкам выводы те же, изменения те же: "
   ]
  },
  {
   "cell_type": "code",
   "execution_count": 10,
   "metadata": {},
   "outputs": [
    {
     "name": "stdout",
     "output_type": "stream",
     "text": [
      "Тренировочная выборка до изменений\n",
      "<class 'pandas.core.frame.DataFrame'>\n",
      "RangeIndex: 14149 entries, 0 to 14148\n",
      "Data columns (total 87 columns):\n",
      " #   Column                                              Non-Null Count  Dtype  \n",
      "---  ------                                              --------------  -----  \n",
      " 0   date                                                14149 non-null  object \n",
      " 1   final.output.concentrate_ag                         14148 non-null  float64\n",
      " 2   final.output.concentrate_pb                         14148 non-null  float64\n",
      " 3   final.output.concentrate_sol                        13938 non-null  float64\n",
      " 4   final.output.concentrate_au                         14149 non-null  float64\n",
      " 5   final.output.recovery                               14149 non-null  float64\n",
      " 6   final.output.tail_ag                                14149 non-null  float64\n",
      " 7   final.output.tail_pb                                14049 non-null  float64\n",
      " 8   final.output.tail_sol                               14144 non-null  float64\n",
      " 9   final.output.tail_au                                14149 non-null  float64\n",
      " 10  primary_cleaner.input.sulfate                       14129 non-null  float64\n",
      " 11  primary_cleaner.input.depressant                    14117 non-null  float64\n",
      " 12  primary_cleaner.input.feed_size                     14149 non-null  float64\n",
      " 13  primary_cleaner.input.xanthate                      14049 non-null  float64\n",
      " 14  primary_cleaner.output.concentrate_ag               14149 non-null  float64\n",
      " 15  primary_cleaner.output.concentrate_pb               14063 non-null  float64\n",
      " 16  primary_cleaner.output.concentrate_sol              13863 non-null  float64\n",
      " 17  primary_cleaner.output.concentrate_au               14149 non-null  float64\n",
      " 18  primary_cleaner.output.tail_ag                      14148 non-null  float64\n",
      " 19  primary_cleaner.output.tail_pb                      14134 non-null  float64\n",
      " 20  primary_cleaner.output.tail_sol                     14103 non-null  float64\n",
      " 21  primary_cleaner.output.tail_au                      14149 non-null  float64\n",
      " 22  primary_cleaner.state.floatbank8_a_air              14145 non-null  float64\n",
      " 23  primary_cleaner.state.floatbank8_a_level            14148 non-null  float64\n",
      " 24  primary_cleaner.state.floatbank8_b_air              14145 non-null  float64\n",
      " 25  primary_cleaner.state.floatbank8_b_level            14148 non-null  float64\n",
      " 26  primary_cleaner.state.floatbank8_c_air              14147 non-null  float64\n",
      " 27  primary_cleaner.state.floatbank8_c_level            14148 non-null  float64\n",
      " 28  primary_cleaner.state.floatbank8_d_air              14146 non-null  float64\n",
      " 29  primary_cleaner.state.floatbank8_d_level            14148 non-null  float64\n",
      " 30  rougher.calculation.sulfate_to_au_concentrate       14148 non-null  float64\n",
      " 31  rougher.calculation.floatbank10_sulfate_to_au_feed  14148 non-null  float64\n",
      " 32  rougher.calculation.floatbank11_sulfate_to_au_feed  14148 non-null  float64\n",
      " 33  rougher.calculation.au_pb_ratio                     14149 non-null  float64\n",
      " 34  rougher.input.feed_ag                               14149 non-null  float64\n",
      " 35  rougher.input.feed_pb                               14049 non-null  float64\n",
      " 36  rougher.input.feed_rate                             14141 non-null  float64\n",
      " 37  rougher.input.feed_size                             14005 non-null  float64\n",
      " 38  rougher.input.feed_sol                              14071 non-null  float64\n",
      " 39  rougher.input.feed_au                               14149 non-null  float64\n",
      " 40  rougher.input.floatbank10_sulfate                   14120 non-null  float64\n",
      " 41  rougher.input.floatbank10_xanthate                  14141 non-null  float64\n",
      " 42  rougher.input.floatbank11_sulfate                   14113 non-null  float64\n",
      " 43  rougher.input.floatbank11_xanthate                  13721 non-null  float64\n",
      " 44  rougher.output.concentrate_ag                       14149 non-null  float64\n",
      " 45  rougher.output.concentrate_pb                       14149 non-null  float64\n",
      " 46  rougher.output.concentrate_sol                      14127 non-null  float64\n",
      " 47  rougher.output.concentrate_au                       14149 non-null  float64\n",
      " 48  rougher.output.recovery                             14149 non-null  float64\n",
      " 49  rougher.output.tail_ag                              14148 non-null  float64\n",
      " 50  rougher.output.tail_pb                              14149 non-null  float64\n",
      " 51  rougher.output.tail_sol                             14149 non-null  float64\n",
      " 52  rougher.output.tail_au                              14149 non-null  float64\n",
      " 53  rougher.state.floatbank10_a_air                     14148 non-null  float64\n",
      " 54  rougher.state.floatbank10_a_level                   14148 non-null  float64\n",
      " 55  rougher.state.floatbank10_b_air                     14148 non-null  float64\n",
      " 56  rougher.state.floatbank10_b_level                   14148 non-null  float64\n",
      " 57  rougher.state.floatbank10_c_air                     14148 non-null  float64\n",
      " 58  rougher.state.floatbank10_c_level                   14148 non-null  float64\n",
      " 59  rougher.state.floatbank10_d_air                     14149 non-null  float64\n",
      " 60  rougher.state.floatbank10_d_level                   14149 non-null  float64\n",
      " 61  rougher.state.floatbank10_e_air                     13713 non-null  float64\n",
      " 62  rougher.state.floatbank10_e_level                   14149 non-null  float64\n",
      " 63  rougher.state.floatbank10_f_air                     14149 non-null  float64\n",
      " 64  rougher.state.floatbank10_f_level                   14149 non-null  float64\n",
      " 65  secondary_cleaner.output.tail_ag                    14147 non-null  float64\n",
      " 66  secondary_cleaner.output.tail_pb                    14139 non-null  float64\n",
      " 67  secondary_cleaner.output.tail_sol                   12544 non-null  float64\n",
      " 68  secondary_cleaner.output.tail_au                    14149 non-null  float64\n",
      " 69  secondary_cleaner.state.floatbank2_a_air            13932 non-null  float64\n",
      " 70  secondary_cleaner.state.floatbank2_a_level          14148 non-null  float64\n",
      " 71  secondary_cleaner.state.floatbank2_b_air            14128 non-null  float64\n",
      " 72  secondary_cleaner.state.floatbank2_b_level          14148 non-null  float64\n",
      " 73  secondary_cleaner.state.floatbank3_a_air            14145 non-null  float64\n",
      " 74  secondary_cleaner.state.floatbank3_a_level          14148 non-null  float64\n",
      " 75  secondary_cleaner.state.floatbank3_b_air            14148 non-null  float64\n",
      " 76  secondary_cleaner.state.floatbank3_b_level          14148 non-null  float64\n",
      " 77  secondary_cleaner.state.floatbank4_a_air            14143 non-null  float64\n",
      " 78  secondary_cleaner.state.floatbank4_a_level          14148 non-null  float64\n",
      " 79  secondary_cleaner.state.floatbank4_b_air            14148 non-null  float64\n",
      " 80  secondary_cleaner.state.floatbank4_b_level          14148 non-null  float64\n",
      " 81  secondary_cleaner.state.floatbank5_a_air            14148 non-null  float64\n",
      " 82  secondary_cleaner.state.floatbank5_a_level          14148 non-null  float64\n",
      " 83  secondary_cleaner.state.floatbank5_b_air            14148 non-null  float64\n",
      " 84  secondary_cleaner.state.floatbank5_b_level          14148 non-null  float64\n",
      " 85  secondary_cleaner.state.floatbank6_a_air            14147 non-null  float64\n",
      " 86  secondary_cleaner.state.floatbank6_a_level          14148 non-null  float64\n",
      "dtypes: float64(86), object(1)\n",
      "memory usage: 9.4+ MB\n",
      "None\n",
      "\n",
      "Тренировочная выборка после изменений\n",
      "<class 'pandas.core.frame.DataFrame'>\n",
      "Int64Index: 14149 entries, 0 to 14148\n",
      "Data columns (total 87 columns):\n",
      " #   Column                                              Non-Null Count  Dtype         \n",
      "---  ------                                              --------------  -----         \n",
      " 0   date                                                14149 non-null  datetime64[ns]\n",
      " 1   final.output.concentrate_ag                         14149 non-null  float64       \n",
      " 2   final.output.concentrate_pb                         14149 non-null  float64       \n",
      " 3   final.output.concentrate_sol                        14149 non-null  float64       \n",
      " 4   final.output.concentrate_au                         14149 non-null  float64       \n",
      " 5   final.output.recovery                               14149 non-null  float64       \n",
      " 6   final.output.tail_ag                                14149 non-null  float64       \n",
      " 7   final.output.tail_pb                                14149 non-null  float64       \n",
      " 8   final.output.tail_sol                               14149 non-null  float64       \n",
      " 9   final.output.tail_au                                14149 non-null  float64       \n",
      " 10  primary_cleaner.input.sulfate                       14149 non-null  float64       \n",
      " 11  primary_cleaner.input.depressant                    14149 non-null  float64       \n",
      " 12  primary_cleaner.input.feed_size                     14149 non-null  float64       \n",
      " 13  primary_cleaner.input.xanthate                      14149 non-null  float64       \n",
      " 14  primary_cleaner.output.concentrate_ag               14149 non-null  float64       \n",
      " 15  primary_cleaner.output.concentrate_pb               14149 non-null  float64       \n",
      " 16  primary_cleaner.output.concentrate_sol              14149 non-null  float64       \n",
      " 17  primary_cleaner.output.concentrate_au               14149 non-null  float64       \n",
      " 18  primary_cleaner.output.tail_ag                      14149 non-null  float64       \n",
      " 19  primary_cleaner.output.tail_pb                      14149 non-null  float64       \n",
      " 20  primary_cleaner.output.tail_sol                     14149 non-null  float64       \n",
      " 21  primary_cleaner.output.tail_au                      14149 non-null  float64       \n",
      " 22  primary_cleaner.state.floatbank8_a_air              14149 non-null  float64       \n",
      " 23  primary_cleaner.state.floatbank8_a_level            14149 non-null  float64       \n",
      " 24  primary_cleaner.state.floatbank8_b_air              14149 non-null  float64       \n",
      " 25  primary_cleaner.state.floatbank8_b_level            14149 non-null  float64       \n",
      " 26  primary_cleaner.state.floatbank8_c_air              14149 non-null  float64       \n",
      " 27  primary_cleaner.state.floatbank8_c_level            14149 non-null  float64       \n",
      " 28  primary_cleaner.state.floatbank8_d_air              14149 non-null  float64       \n",
      " 29  primary_cleaner.state.floatbank8_d_level            14149 non-null  float64       \n",
      " 30  rougher.calculation.sulfate_to_au_concentrate       14149 non-null  float64       \n",
      " 31  rougher.calculation.floatbank10_sulfate_to_au_feed  14149 non-null  float64       \n",
      " 32  rougher.calculation.floatbank11_sulfate_to_au_feed  14149 non-null  float64       \n",
      " 33  rougher.calculation.au_pb_ratio                     14149 non-null  float64       \n",
      " 34  rougher.input.feed_ag                               14149 non-null  float64       \n",
      " 35  rougher.input.feed_pb                               14149 non-null  float64       \n",
      " 36  rougher.input.feed_rate                             14149 non-null  float64       \n",
      " 37  rougher.input.feed_size                             14149 non-null  float64       \n",
      " 38  rougher.input.feed_sol                              14149 non-null  float64       \n",
      " 39  rougher.input.feed_au                               14149 non-null  float64       \n",
      " 40  rougher.input.floatbank10_sulfate                   14149 non-null  float64       \n",
      " 41  rougher.input.floatbank10_xanthate                  14149 non-null  float64       \n",
      " 42  rougher.input.floatbank11_sulfate                   14149 non-null  float64       \n",
      " 43  rougher.input.floatbank11_xanthate                  14149 non-null  float64       \n",
      " 44  rougher.output.concentrate_ag                       14149 non-null  float64       \n",
      " 45  rougher.output.concentrate_pb                       14149 non-null  float64       \n",
      " 46  rougher.output.concentrate_sol                      14149 non-null  float64       \n",
      " 47  rougher.output.concentrate_au                       14149 non-null  float64       \n",
      " 48  rougher.output.recovery                             14149 non-null  float64       \n",
      " 49  rougher.output.tail_ag                              14149 non-null  float64       \n",
      " 50  rougher.output.tail_pb                              14149 non-null  float64       \n",
      " 51  rougher.output.tail_sol                             14149 non-null  float64       \n",
      " 52  rougher.output.tail_au                              14149 non-null  float64       \n",
      " 53  rougher.state.floatbank10_a_air                     14149 non-null  float64       \n",
      " 54  rougher.state.floatbank10_a_level                   14149 non-null  float64       \n",
      " 55  rougher.state.floatbank10_b_air                     14149 non-null  float64       \n",
      " 56  rougher.state.floatbank10_b_level                   14149 non-null  float64       \n",
      " 57  rougher.state.floatbank10_c_air                     14149 non-null  float64       \n",
      " 58  rougher.state.floatbank10_c_level                   14149 non-null  float64       \n",
      " 59  rougher.state.floatbank10_d_air                     14149 non-null  float64       \n",
      " 60  rougher.state.floatbank10_d_level                   14149 non-null  float64       \n",
      " 61  rougher.state.floatbank10_e_air                     14149 non-null  float64       \n",
      " 62  rougher.state.floatbank10_e_level                   14149 non-null  float64       \n",
      " 63  rougher.state.floatbank10_f_air                     14149 non-null  float64       \n",
      " 64  rougher.state.floatbank10_f_level                   14149 non-null  float64       \n",
      " 65  secondary_cleaner.output.tail_ag                    14149 non-null  float64       \n",
      " 66  secondary_cleaner.output.tail_pb                    14149 non-null  float64       \n",
      " 67  secondary_cleaner.output.tail_sol                   14149 non-null  float64       \n",
      " 68  secondary_cleaner.output.tail_au                    14149 non-null  float64       \n",
      " 69  secondary_cleaner.state.floatbank2_a_air            14149 non-null  float64       \n",
      " 70  secondary_cleaner.state.floatbank2_a_level          14149 non-null  float64       \n",
      " 71  secondary_cleaner.state.floatbank2_b_air            14149 non-null  float64       \n",
      " 72  secondary_cleaner.state.floatbank2_b_level          14149 non-null  float64       \n",
      " 73  secondary_cleaner.state.floatbank3_a_air            14149 non-null  float64       \n",
      " 74  secondary_cleaner.state.floatbank3_a_level          14149 non-null  float64       \n",
      " 75  secondary_cleaner.state.floatbank3_b_air            14149 non-null  float64       \n",
      " 76  secondary_cleaner.state.floatbank3_b_level          14149 non-null  float64       \n",
      " 77  secondary_cleaner.state.floatbank4_a_air            14149 non-null  float64       \n",
      " 78  secondary_cleaner.state.floatbank4_a_level          14149 non-null  float64       \n",
      " 79  secondary_cleaner.state.floatbank4_b_air            14149 non-null  float64       \n",
      " 80  secondary_cleaner.state.floatbank4_b_level          14149 non-null  float64       \n",
      " 81  secondary_cleaner.state.floatbank5_a_air            14149 non-null  float64       \n",
      " 82  secondary_cleaner.state.floatbank5_a_level          14149 non-null  float64       \n",
      " 83  secondary_cleaner.state.floatbank5_b_air            14149 non-null  float64       \n",
      " 84  secondary_cleaner.state.floatbank5_b_level          14149 non-null  float64       \n",
      " 85  secondary_cleaner.state.floatbank6_a_air            14149 non-null  float64       \n",
      " 86  secondary_cleaner.state.floatbank6_a_level          14149 non-null  float64       \n",
      "dtypes: datetime64[ns](1), float64(86)\n",
      "memory usage: 9.5 MB\n",
      "None\n",
      "\n",
      "\n",
      "\n",
      "Тестовая выборка до изменений\n",
      "<class 'pandas.core.frame.DataFrame'>\n",
      "RangeIndex: 5290 entries, 0 to 5289\n",
      "Data columns (total 53 columns):\n",
      " #   Column                                      Non-Null Count  Dtype  \n",
      "---  ------                                      --------------  -----  \n",
      " 0   date                                        5290 non-null   object \n",
      " 1   primary_cleaner.input.sulfate               5286 non-null   float64\n",
      " 2   primary_cleaner.input.depressant            5285 non-null   float64\n",
      " 3   primary_cleaner.input.feed_size             5290 non-null   float64\n",
      " 4   primary_cleaner.input.xanthate              5286 non-null   float64\n",
      " 5   primary_cleaner.state.floatbank8_a_air      5290 non-null   float64\n",
      " 6   primary_cleaner.state.floatbank8_a_level    5290 non-null   float64\n",
      " 7   primary_cleaner.state.floatbank8_b_air      5290 non-null   float64\n",
      " 8   primary_cleaner.state.floatbank8_b_level    5290 non-null   float64\n",
      " 9   primary_cleaner.state.floatbank8_c_air      5290 non-null   float64\n",
      " 10  primary_cleaner.state.floatbank8_c_level    5290 non-null   float64\n",
      " 11  primary_cleaner.state.floatbank8_d_air      5290 non-null   float64\n",
      " 12  primary_cleaner.state.floatbank8_d_level    5290 non-null   float64\n",
      " 13  rougher.input.feed_ag                       5290 non-null   float64\n",
      " 14  rougher.input.feed_pb                       5290 non-null   float64\n",
      " 15  rougher.input.feed_rate                     5287 non-null   float64\n",
      " 16  rougher.input.feed_size                     5289 non-null   float64\n",
      " 17  rougher.input.feed_sol                      5269 non-null   float64\n",
      " 18  rougher.input.feed_au                       5290 non-null   float64\n",
      " 19  rougher.input.floatbank10_sulfate           5285 non-null   float64\n",
      " 20  rougher.input.floatbank10_xanthate          5290 non-null   float64\n",
      " 21  rougher.input.floatbank11_sulfate           5282 non-null   float64\n",
      " 22  rougher.input.floatbank11_xanthate          5265 non-null   float64\n",
      " 23  rougher.state.floatbank10_a_air             5290 non-null   float64\n",
      " 24  rougher.state.floatbank10_a_level           5290 non-null   float64\n",
      " 25  rougher.state.floatbank10_b_air             5290 non-null   float64\n",
      " 26  rougher.state.floatbank10_b_level           5290 non-null   float64\n",
      " 27  rougher.state.floatbank10_c_air             5290 non-null   float64\n",
      " 28  rougher.state.floatbank10_c_level           5290 non-null   float64\n",
      " 29  rougher.state.floatbank10_d_air             5290 non-null   float64\n",
      " 30  rougher.state.floatbank10_d_level           5290 non-null   float64\n",
      " 31  rougher.state.floatbank10_e_air             5290 non-null   float64\n",
      " 32  rougher.state.floatbank10_e_level           5290 non-null   float64\n",
      " 33  rougher.state.floatbank10_f_air             5290 non-null   float64\n",
      " 34  rougher.state.floatbank10_f_level           5290 non-null   float64\n",
      " 35  secondary_cleaner.state.floatbank2_a_air    5287 non-null   float64\n",
      " 36  secondary_cleaner.state.floatbank2_a_level  5290 non-null   float64\n",
      " 37  secondary_cleaner.state.floatbank2_b_air    5288 non-null   float64\n",
      " 38  secondary_cleaner.state.floatbank2_b_level  5290 non-null   float64\n",
      " 39  secondary_cleaner.state.floatbank3_a_air    5281 non-null   float64\n",
      " 40  secondary_cleaner.state.floatbank3_a_level  5290 non-null   float64\n",
      " 41  secondary_cleaner.state.floatbank3_b_air    5290 non-null   float64\n",
      " 42  secondary_cleaner.state.floatbank3_b_level  5290 non-null   float64\n",
      " 43  secondary_cleaner.state.floatbank4_a_air    5290 non-null   float64\n",
      " 44  secondary_cleaner.state.floatbank4_a_level  5290 non-null   float64\n",
      " 45  secondary_cleaner.state.floatbank4_b_air    5290 non-null   float64\n",
      " 46  secondary_cleaner.state.floatbank4_b_level  5290 non-null   float64\n",
      " 47  secondary_cleaner.state.floatbank5_a_air    5290 non-null   float64\n",
      " 48  secondary_cleaner.state.floatbank5_a_level  5290 non-null   float64\n",
      " 49  secondary_cleaner.state.floatbank5_b_air    5290 non-null   float64\n",
      " 50  secondary_cleaner.state.floatbank5_b_level  5290 non-null   float64\n",
      " 51  secondary_cleaner.state.floatbank6_a_air    5290 non-null   float64\n",
      " 52  secondary_cleaner.state.floatbank6_a_level  5290 non-null   float64\n",
      "dtypes: float64(52), object(1)\n",
      "memory usage: 2.1+ MB\n",
      "None\n",
      "\n",
      "Тестовая выборка после изменений\n",
      "<class 'pandas.core.frame.DataFrame'>\n",
      "Int64Index: 5290 entries, 0 to 5289\n",
      "Data columns (total 53 columns):\n",
      " #   Column                                      Non-Null Count  Dtype         \n",
      "---  ------                                      --------------  -----         \n",
      " 0   date                                        5290 non-null   datetime64[ns]\n",
      " 1   primary_cleaner.input.sulfate               5290 non-null   float64       \n",
      " 2   primary_cleaner.input.depressant            5290 non-null   float64       \n",
      " 3   primary_cleaner.input.feed_size             5290 non-null   float64       \n",
      " 4   primary_cleaner.input.xanthate              5290 non-null   float64       \n",
      " 5   primary_cleaner.state.floatbank8_a_air      5290 non-null   float64       \n",
      " 6   primary_cleaner.state.floatbank8_a_level    5290 non-null   float64       \n",
      " 7   primary_cleaner.state.floatbank8_b_air      5290 non-null   float64       \n",
      " 8   primary_cleaner.state.floatbank8_b_level    5290 non-null   float64       \n",
      " 9   primary_cleaner.state.floatbank8_c_air      5290 non-null   float64       \n",
      " 10  primary_cleaner.state.floatbank8_c_level    5290 non-null   float64       \n",
      " 11  primary_cleaner.state.floatbank8_d_air      5290 non-null   float64       \n",
      " 12  primary_cleaner.state.floatbank8_d_level    5290 non-null   float64       \n",
      " 13  rougher.input.feed_ag                       5290 non-null   float64       \n",
      " 14  rougher.input.feed_pb                       5290 non-null   float64       \n",
      " 15  rougher.input.feed_rate                     5290 non-null   float64       \n",
      " 16  rougher.input.feed_size                     5290 non-null   float64       \n",
      " 17  rougher.input.feed_sol                      5290 non-null   float64       \n",
      " 18  rougher.input.feed_au                       5290 non-null   float64       \n",
      " 19  rougher.input.floatbank10_sulfate           5290 non-null   float64       \n",
      " 20  rougher.input.floatbank10_xanthate          5290 non-null   float64       \n",
      " 21  rougher.input.floatbank11_sulfate           5290 non-null   float64       \n",
      " 22  rougher.input.floatbank11_xanthate          5290 non-null   float64       \n",
      " 23  rougher.state.floatbank10_a_air             5290 non-null   float64       \n",
      " 24  rougher.state.floatbank10_a_level           5290 non-null   float64       \n",
      " 25  rougher.state.floatbank10_b_air             5290 non-null   float64       \n",
      " 26  rougher.state.floatbank10_b_level           5290 non-null   float64       \n",
      " 27  rougher.state.floatbank10_c_air             5290 non-null   float64       \n",
      " 28  rougher.state.floatbank10_c_level           5290 non-null   float64       \n",
      " 29  rougher.state.floatbank10_d_air             5290 non-null   float64       \n",
      " 30  rougher.state.floatbank10_d_level           5290 non-null   float64       \n",
      " 31  rougher.state.floatbank10_e_air             5290 non-null   float64       \n",
      " 32  rougher.state.floatbank10_e_level           5290 non-null   float64       \n",
      " 33  rougher.state.floatbank10_f_air             5290 non-null   float64       \n",
      " 34  rougher.state.floatbank10_f_level           5290 non-null   float64       \n",
      " 35  secondary_cleaner.state.floatbank2_a_air    5290 non-null   float64       \n",
      " 36  secondary_cleaner.state.floatbank2_a_level  5290 non-null   float64       \n",
      " 37  secondary_cleaner.state.floatbank2_b_air    5290 non-null   float64       \n",
      " 38  secondary_cleaner.state.floatbank2_b_level  5290 non-null   float64       \n",
      " 39  secondary_cleaner.state.floatbank3_a_air    5290 non-null   float64       \n",
      " 40  secondary_cleaner.state.floatbank3_a_level  5290 non-null   float64       \n",
      " 41  secondary_cleaner.state.floatbank3_b_air    5290 non-null   float64       \n",
      " 42  secondary_cleaner.state.floatbank3_b_level  5290 non-null   float64       \n",
      " 43  secondary_cleaner.state.floatbank4_a_air    5290 non-null   float64       \n",
      " 44  secondary_cleaner.state.floatbank4_a_level  5290 non-null   float64       \n",
      " 45  secondary_cleaner.state.floatbank4_b_air    5290 non-null   float64       \n",
      " 46  secondary_cleaner.state.floatbank4_b_level  5290 non-null   float64       \n",
      " 47  secondary_cleaner.state.floatbank5_a_air    5290 non-null   float64       \n",
      " 48  secondary_cleaner.state.floatbank5_a_level  5290 non-null   float64       \n",
      " 49  secondary_cleaner.state.floatbank5_b_air    5290 non-null   float64       \n",
      " 50  secondary_cleaner.state.floatbank5_b_level  5290 non-null   float64       \n",
      " 51  secondary_cleaner.state.floatbank6_a_air    5290 non-null   float64       \n",
      " 52  secondary_cleaner.state.floatbank6_a_level  5290 non-null   float64       \n",
      "dtypes: datetime64[ns](1), float64(52)\n",
      "memory usage: 2.2 MB\n",
      "None\n",
      "\n",
      "\n",
      "\n"
     ]
    }
   ],
   "source": [
    "print('Тренировочная выборка до изменений')\n",
    "print(train_data.info())\n",
    "\n",
    "train_data['date'] = pd.to_datetime(train_data['date'], format='%Y-%m-%d %H:%M:%S')\n",
    "train_data = train_data.sort_values(by='date')\n",
    "train_data = train_data.fillna(method = 'pad')\n",
    "\n",
    "print()\n",
    "print('Тренировочная выборка после изменений')\n",
    "print(train_data.info())\n",
    "print('\\n\\n')\n",
    "\n",
    "\n",
    "\n",
    "\n",
    "print('Тестовая выборка до изменений')\n",
    "print(test_data.info())\n",
    "\n",
    "test_data['date'] = pd.to_datetime(test_data['date'], format='%Y-%m-%d %H:%M:%S')\n",
    "test_data = test_data.sort_values(by='date')\n",
    "test_data = test_data.fillna(method = 'pad')\n",
    "\n",
    "print()\n",
    "print('Тестовая выборка после изменений')\n",
    "print(test_data.info())\n",
    "print('\\n\\n')"
   ]
  },
  {
   "cell_type": "markdown",
   "metadata": {},
   "source": [
    "# 3. Анализ данных<a class=\"anchor\" id=\"b3\"></a>\n",
    "\n",
    "\n",
    "## 3.1. Посмотрим, как меняется концентрация металлов (Au, Ag, Pb) на различных этапах в исходной выборке"
   ]
  },
  {
   "cell_type": "code",
   "execution_count": 11,
   "metadata": {},
   "outputs": [
    {
     "data": {
      "image/png": "[encoded data removed]",
      "text/plain": [
       "<Figure size 864x864 with 9 Axes>"
      ]
     },
     "metadata": {
      "needs_background": "light"
     },
     "output_type": "display_data"
    },
    {
     "data": {
      "image/png": "[encoded data removed]",
      "text/plain": [
       "<Figure size 864x864 with 9 Axes>"
      ]
     },
     "metadata": {
      "needs_background": "light"
     },
     "output_type": "display_data"
    }
   ],
   "source": [
    "metals = ['au', 'ag', 'pb']\n",
    "stages = ['rougher', 'primary_cleaner', 'final']\n",
    "\n",
    "fig1, ax1 = plt.subplots(figsize=(12,12), nrows=len(metals), ncols=len(stages))\n",
    "fig2, ax2 = plt.subplots(figsize=(12,12), nrows=len(metals), ncols=len(stages))\n",
    "\n",
    "fig1.suptitle('Гистограммы распределения концентрации металлов на различных этапах')\n",
    "fig2.suptitle('\"Ящики с усами\" для концентрации металлов на различных этапах')\n",
    "\n",
    "for metal_index, metal in enumerate(metals):\n",
    "    for stage_index, stage in enumerate(stages):\n",
    "        column = f'{stage}.output.concentrate_{metal}'\n",
    "        ax1[metal_index][stage_index].hist(full_data[column], bins = list(range(0, 60, 1)))\n",
    "        ax1[metal_index][stage_index].set_title(f'Концентрация {metal} после {stage}')\n",
    "        ax1[metal_index][stage_index].grid()\n",
    "\n",
    "        ax2[metal_index][stage_index].set_ylim(bottom=-1, top=55)\n",
    "        ax2[metal_index][stage_index].boxplot(full_data[column])\n",
    "        ax2[metal_index][stage_index].set_title(f'Концентрация {metal} после {stage}')\n",
    "        ax2[metal_index][stage_index].grid()\n",
    "            "
   ]
  },
  {
   "cell_type": "markdown",
   "metadata": {},
   "source": [
    "По графикам видно, что все распределения концентраций похожи на нормальные. При этом концентрация концентрация золота (au) стремительно растет по мере прохождения смесью стадий флотации и очисток, концентрация серебра (ag) - постепенно падает, а концентрация свинца (pb) немного возрастает после первичной очистки и не сильно меняется после вторичной очистки.\n",
    "\n",
    "Также для всех металлов заметно достаточно большое количество значений в райное 0 после флотации, однако затем их количество снижается после следующих стадий. Возможно, такая низкая концентрация одного вещества компенсируется большей концентрацией другого. Будем анализировать эти значения дальше (в разделе 3.3 рассмотрим суммарную концентрацию)"
   ]
  },
  {
   "cell_type": "markdown",
   "metadata": {},
   "source": [
    "### 3.2. Сравним распределения размеров гранул исходного сырья на обучающей и тестовой выборках\n",
    "\n",
    "(Ведь если распределения сильно отличаются друг от друга, оценка модели будет некорректной)"
   ]
  },
  {
   "cell_type": "code",
   "execution_count": 12,
   "metadata": {},
   "outputs": [
    {
     "data": {
      "image/png": "[encoded data removed]",
      "text/plain": [
       "<Figure size 432x288 with 1 Axes>"
      ]
     },
     "metadata": {
      "needs_background": "light"
     },
     "output_type": "display_data"
    }
   ],
   "source": [
    "plt.boxplot([train_data['rougher.input.feed_size'], test_data['rougher.input.feed_size']], labels=['Тренировочная', 'Тестовая'])\n",
    "plt.title('Распределения размеров гранул исходного сырья на тренировочной и тестовой выборках')\n",
    "plt.grid()"
   ]
  },
  {
   "cell_type": "code",
   "execution_count": 13,
   "metadata": {},
   "outputs": [
    {
     "data": {
      "text/plain": [
       "<AxesSubplot:ylabel='Density'>"
      ]
     },
     "execution_count": 13,
     "metadata": {},
     "output_type": "execute_result"
    },
    {
     "data": {
      "image/png": "[encoded data removed]",
      "text/plain": [
       "<Figure size 432x288 with 1 Axes>"
      ]
     },
     "metadata": {
      "needs_background": "light"
     },
     "output_type": "display_data"
    }
   ],
   "source": [
    "pd.DataFrame({\n",
    "    'Тренировочная': train_data['rougher.input.feed_size'], \n",
    "    'Тестовая': test_data['rougher.input.feed_size']\n",
    "}).plot.kde()"
   ]
  },
  {
   "cell_type": "markdown",
   "metadata": {},
   "source": [
    "В обеих выборках много выбросов по размерам гранул исходного сырья, но ящики довольно маленькие и пики на графике Kernel Density Estimate очень высокие. При этом пики и медианы находятся примерно на одном уровне (около 60). Можно ожидать, что этот признак не будет приводить к большим ошибкам модели."
   ]
  },
  {
   "cell_type": "markdown",
   "metadata": {},
   "source": [
    "### 3.3. Исследуем суммарную концентрацию всех веществ на разных стадиях: в сырье, в черновом и финальном концентратах. "
   ]
  },
  {
   "cell_type": "code",
   "execution_count": 14,
   "metadata": {},
   "outputs": [],
   "source": [
    "def total_concentration_on_stage(row, stage_name):\n",
    "    columns = [f'{stage_name}.output.concentrate_{metal}' for metal in ['au', 'ag', 'pb', 'sol']]\n",
    "    res = sum([row[column] for column in columns])\n",
    "\n",
    "    return res\n",
    "\n",
    "def investigate_total_concentration(df):\n",
    "    stages = ['rougher', 'primary_cleaner', 'final']\n",
    "    stages_names = ['в сырье', 'в черновом концентрате', 'в финальном концентрате']\n",
    "\n",
    "    fig1, ax1 = plt.subplots(figsize=(10,10), nrows=len(stages), ncols=1)\n",
    "    fig2, ax2 = plt.subplots(figsize=(12,12), nrows=len(stages), ncols=1)\n",
    "\n",
    "    fig1.suptitle('Гистограммы распределения суммарной концентрации веществ на различных этапах')\n",
    "    fig2.suptitle('\"Ящики с усами\" для суммарной концентрации веществ на различных этапах  (зеленым отмечено среднее, чертой -- медиана)')\n",
    "\n",
    "    for stage_index, stage in enumerate(stages):\n",
    "        values = df.apply(lambda row: total_concentration_on_stage(row, stage), axis=1)\n",
    "        print(f'{stages_names[stage_index]}: выборочное среднее {round(values.mean())}, медиана {round(values.median())}, выборочная дисперсия: {round(np.var(values, ddof=1))}, min: {round(values.min())}, max: {round(values.max())}')\n",
    "        \n",
    "        ax1[stage_index].hist(values, bins = list(range(-10, 110, 1)))\n",
    "        ax1[stage_index].set_title(f'Суммарная концентрация {stages_names[stage_index]}')\n",
    "        ax1[stage_index].grid()\n",
    "\n",
    "        ax2[stage_index].set_ylim(bottom=-10, top=110)\n",
    "        ax2[stage_index].boxplot(values, showmeans=True)\n",
    "        ax2[stage_index].set_title(f'Суммарная концентрация {stages_names[stage_index]}')\n",
    "        ax2[stage_index].grid()\n",
    "            "
   ]
  },
  {
   "cell_type": "code",
   "execution_count": 15,
   "metadata": {},
   "outputs": [
    {
     "name": "stdout",
     "output_type": "stream",
     "text": [
      "в сырье: выборочное среднее 68, медиана 70, выборочная дисперсия: 156, min: 0, max: 88\n",
      "в черновом концентрате: выборочное среднее 61, медиана 62, выборочная дисперсия: 100, min: 0, max: 81\n",
      "в финальном концентрате: выборочное среднее 69, медиана 70, выборочная дисперсия: 55, min: 0, max: 80\n"
     ]
    },
    {
     "data": {
      "image/png": "[encoded data removed]",
      "text/plain": [
       "<Figure size 720x720 with 3 Axes>"
      ]
     },
     "metadata": {
      "needs_background": "light"
     },
     "output_type": "display_data"
    },
    {
     "data": {
      "image/png": "[encoded data removed]",
      "text/plain": [
       "<Figure size 864x864 with 3 Axes>"
      ]
     },
     "metadata": {
      "needs_background": "light"
     },
     "output_type": "display_data"
    }
   ],
   "source": [
    "investigate_total_concentration(full_data)"
   ]
  },
  {
   "cell_type": "markdown",
   "metadata": {},
   "source": [
    "Среднее и медианое значения суммарной концентрации для каждого этапа примерно равны, а значит в этих данных мало выбросов.\n",
    "\n",
    "По графикам видно, что средняя суммарная концентрация веществ падает от сырья к черновому концентрату (с 68 до 61 процентов в среднем), и возрастает от чернового концентрата к финальному до 69. Однако если сравнивать графики, а также соответствующие выборочные дисперсии, то можно заметить, что по мере продвижения по этапам данные становятся более скученными вокруг медианы и примерно равного ей среднего. \n",
    "\n",
    "Однако вновь заметно большое количество выбросов в райне 0 (хотя их количество уменьшается от этапа к этапу). Вероятно, это ошибки измерений, поэтому избавимся от всех записей, где концентрция одного из веществ на одной из стадий близка к 0 (в исходной и тренировочной выборках)."
   ]
  },
  {
   "cell_type": "code",
   "execution_count": 16,
   "metadata": {},
   "outputs": [
    {
     "name": "stdout",
     "output_type": "stream",
     "text": [
      "Размеры выборок до удаления описанных записей:\n",
      "Исходная: (19439, 87), тренировочная: (14149, 87)\n",
      "Размеры выборок после удаления описанных записей:\n",
      "Исходная: (18710, 87), тренировочная: (13588, 87)\n"
     ]
    }
   ],
   "source": [
    "print('Размеры выборок до удаления описанных записей:')\n",
    "print(f'Исходная: {full_data.shape}, тренировочная: {train_data.shape}')\n",
    "\n",
    "metals = ['au', 'ag', 'pb', 'sol']\n",
    "stages = ['rougher', 'primary_cleaner', 'final']\n",
    "limit = 0.1\n",
    "\n",
    "for stage in stages:\n",
    "    for metal in metals:\n",
    "        column = f'{stage}.output.concentrate_{metal}'\n",
    "        full_data = full_data[full_data[column] > limit]\n",
    "        train_data = train_data[train_data[column] > limit]\n",
    "                \n",
    "print('Размеры выборок после удаления описанных записей:')\n",
    "print(f'Исходная: {full_data.shape}, тренировочная: {train_data.shape}')            "
   ]
  },
  {
   "cell_type": "code",
   "execution_count": 17,
   "metadata": {},
   "outputs": [
    {
     "name": "stdout",
     "output_type": "stream",
     "text": [
      "в сырье: выборочное среднее 70, медиана 70, выборочная дисперсия: 58, min: 2, max: 88\n",
      "в черновом концентрате: выборочное среднее 61, медиана 63, выборочная дисперсия: 55, min: 1, max: 81\n",
      "в финальном концентрате: выборочное среднее 69, медиана 70, выборочная дисперсия: 29, min: 2, max: 80\n"
     ]
    },
    {
     "data": {
      "image/png": "[encoded data removed]",
      "text/plain": [
       "<Figure size 720x720 with 3 Axes>"
      ]
     },
     "metadata": {
      "needs_background": "light"
     },
     "output_type": "display_data"
    },
    {
     "data": {
      "image/png": "[encoded data removed]",
      "text/plain": [
       "<Figure size 864x864 with 3 Axes>"
      ]
     },
     "metadata": {
      "needs_background": "light"
     },
     "output_type": "display_data"
    }
   ],
   "source": [
    "investigate_total_concentration(full_data)"
   ]
  },
  {
   "cell_type": "markdown",
   "metadata": {},
   "source": [
    "# 4. Создание модели<a class=\"anchor\" id=\"b4\"></a>\n",
    "\n",
    "### 4.1. Напишем функцию для вычисления итоговой sMAPE\n",
    "\n",
    "$$ \\text{sMAPE}=\\frac{100\\%}{N}\\sum_{i=1}^{N}\\frac{\\left|y_{i}-\\hat{y_{i}}\\right|}{(|y_{i}|+|\\hat{y_{i}}|)/2}. $$\n",
    "\n",
    "Нужно спрогнозировать сразу две величины:\n",
    "1. эффективность обогащения чернового концентрата rougher.output.recovery;\n",
    "2. эффективность обогащения финального концентрата final.output.recovery.\n",
    "\n",
    "Итоговая метрика складывается из двух величин:\n",
    "\n",
    "$$ \\text{final_sMAPE}= 25\\% * \\text{sMAPE(rougher)} + 75\\% * \\text{sMAPE(final)}$$"
   ]
  },
  {
   "cell_type": "code",
   "execution_count": 18,
   "metadata": {},
   "outputs": [],
   "source": [
    "def smape(y_true, y_pred):\n",
    "    assert len(y_true) == len(y_pred)\n",
    "    \n",
    "    return (abs(y_true - y_pred) / ((abs(y_true) + abs(y_pred)) / 2)).sum(axis=0) * 100 / len(y_true)\n",
    "\n",
    "smape_scorer = make_scorer(smape, greater_is_better=False)\n",
    "\n",
    "def final_smape(y_rougher_true, y_rougher_pred, y_final_true, y_final_pred):\n",
    "    return 0.25 * smape(y_rougher_true, y_rougher_pred) + 0.75 * smape(y_final_true, y_final_pred)"
   ]
  },
  {
   "cell_type": "markdown",
   "metadata": {},
   "source": [
    "### 4.2. Подготовим признаки\n",
    "\n",
    "Выделим целевые признаки из тренировочной выборки, возьмем целевые признаки для тестовой выборки из таблицы с исходными данными. Также удалим из признаков всех выборок целевые и те, что рассчитываются вместе с/после целевых (missing_columns и target_columns определены в разделе 2.3.)"
   ]
  },
  {
   "cell_type": "code",
   "execution_count": 19,
   "metadata": {},
   "outputs": [],
   "source": [
    "train_targets = [train_data[target_column] for target_column in target_columns]\n",
    "test_data = test_data.merge(full_data[['date'] + target_columns] , on='date', how='inner')\n",
    "test_targets = [test_data[target_column] for target_column in target_columns]\n",
    "\n",
    "train_data = train_data.drop(missing_columns + target_columns, axis=1, errors='ignore')\n",
    "test_data = test_data.drop(missing_columns + target_columns, axis=1, errors='ignore')"
   ]
  },
  {
   "cell_type": "code",
   "execution_count": 20,
   "metadata": {},
   "outputs": [
    {
     "name": "stdout",
     "output_type": "stream",
     "text": [
      "Размерность тренировочных: признаков: (13588, 53) целевых признаков: (13588, 2)\n",
      "Размерность тестовых: признаков: (5122, 53) целевых признаков: (5122, 2)\n"
     ]
    }
   ],
   "source": [
    "print('Размерность тренировочных: признаков:', train_data.shape, 'целевых признаков:', f'({len(train_targets[0])}, {len(train_targets)})')\n",
    "print('Размерность тестовых: признаков:', test_data.shape, 'целевых признаков:', f'({len(test_targets[0])}, {len(test_targets)})')"
   ]
  },
  {
   "cell_type": "code",
   "execution_count": 21,
   "metadata": {},
   "outputs": [
    {
     "name": "stdout",
     "output_type": "stream",
     "text": [
      "Все признаки:\n",
      "Index(['date', 'primary_cleaner.input.sulfate',\n",
      "       'primary_cleaner.input.depressant', 'primary_cleaner.input.feed_size',\n",
      "       'primary_cleaner.input.xanthate',\n",
      "       'primary_cleaner.state.floatbank8_a_air',\n",
      "       'primary_cleaner.state.floatbank8_a_level',\n",
      "       'primary_cleaner.state.floatbank8_b_air',\n",
      "       'primary_cleaner.state.floatbank8_b_level',\n",
      "       'primary_cleaner.state.floatbank8_c_air',\n",
      "       'primary_cleaner.state.floatbank8_c_level',\n",
      "       'primary_cleaner.state.floatbank8_d_air',\n",
      "       'primary_cleaner.state.floatbank8_d_level', 'rougher.input.feed_ag',\n",
      "       'rougher.input.feed_pb', 'rougher.input.feed_rate',\n",
      "       'rougher.input.feed_size', 'rougher.input.feed_sol',\n",
      "       'rougher.input.feed_au', 'rougher.input.floatbank10_sulfate',\n",
      "       'rougher.input.floatbank10_xanthate',\n",
      "       'rougher.input.floatbank11_sulfate',\n",
      "       'rougher.input.floatbank11_xanthate', 'rougher.state.floatbank10_a_air',\n",
      "       'rougher.state.floatbank10_a_level', 'rougher.state.floatbank10_b_air',\n",
      "       'rougher.state.floatbank10_b_level', 'rougher.state.floatbank10_c_air',\n",
      "       'rougher.state.floatbank10_c_level', 'rougher.state.floatbank10_d_air',\n",
      "       'rougher.state.floatbank10_d_level', 'rougher.state.floatbank10_e_air',\n",
      "       'rougher.state.floatbank10_e_level', 'rougher.state.floatbank10_f_air',\n",
      "       'rougher.state.floatbank10_f_level',\n",
      "       'secondary_cleaner.state.floatbank2_a_air',\n",
      "       'secondary_cleaner.state.floatbank2_a_level',\n",
      "       'secondary_cleaner.state.floatbank2_b_air',\n",
      "       'secondary_cleaner.state.floatbank2_b_level',\n",
      "       'secondary_cleaner.state.floatbank3_a_air',\n",
      "       'secondary_cleaner.state.floatbank3_a_level',\n",
      "       'secondary_cleaner.state.floatbank3_b_air',\n",
      "       'secondary_cleaner.state.floatbank3_b_level',\n",
      "       'secondary_cleaner.state.floatbank4_a_air',\n",
      "       'secondary_cleaner.state.floatbank4_a_level',\n",
      "       'secondary_cleaner.state.floatbank4_b_air',\n",
      "       'secondary_cleaner.state.floatbank4_b_level',\n",
      "       'secondary_cleaner.state.floatbank5_a_air',\n",
      "       'secondary_cleaner.state.floatbank5_a_level',\n",
      "       'secondary_cleaner.state.floatbank5_b_air',\n",
      "       'secondary_cleaner.state.floatbank5_b_level',\n",
      "       'secondary_cleaner.state.floatbank6_a_air',\n",
      "       'secondary_cleaner.state.floatbank6_a_level'],\n",
      "      dtype='object')\n"
     ]
    }
   ],
   "source": [
    "all_feature_columns = train_data.columns\n",
    "print('Все признаки:')\n",
    "print(all_feature_columns)"
   ]
  },
  {
   "cell_type": "markdown",
   "metadata": {},
   "source": [
    "Выделим признаки, которые пригодятся для предсказывания каждого целевого признака. \n",
    "\n",
    "Для предсказания эффективности обогащения чернового концентрата rougher.output.recovery следует использовать только те признаки, которые известны до этапа rougher.output, то есть все параметры исходной смеси, которая поступает на стадию флотации (`rougher.input.\\*`), а также параметры, характеризующие текущее состояние этапа флотации (`rougher.state.\\*`).\n",
    "\n",
    "Для предсказания эффективности обогащения финального концентрата final.output.recovery следует использовать только те признаки, которые известны до этапа final.output , то есть все параметры для предсказания первого этапа, а также входные параметры и состояния этапов отчистки  (`primary_cleaner.input.\\*` и `secondary_cleaner.input.\\*`; `primary_cleaner.state.\\*` и `secondary_cleaner.state.\\*`). \n",
    "\n",
    "\n",
    "Также для второй модели в качестве признака можно было бы использовать предсказания первой модели. Если первая модель будет высокого каачества, то ее предсказания могут поднять качество второй модели за счет дополнительной информации, однако если первая модель будет сильно ошибаться, то некорректные предсказания испортят и вторую модель. Поэтому лучше передавать второй модели все признаки, которые были доступны первой, чтобы она их оценивала и учитывала самостоятельно."
   ]
  },
  {
   "cell_type": "code",
   "execution_count": 22,
   "metadata": {},
   "outputs": [
    {
     "name": "stdout",
     "output_type": "stream",
     "text": [
      "Признаки для первой модели: ['rougher.input.feed_ag', 'rougher.input.feed_pb', 'rougher.input.feed_rate', 'rougher.input.feed_size', 'rougher.input.feed_sol', 'rougher.input.feed_au', 'rougher.input.floatbank10_sulfate', 'rougher.input.floatbank10_xanthate', 'rougher.input.floatbank11_sulfate', 'rougher.input.floatbank11_xanthate', 'rougher.state.floatbank10_a_air', 'rougher.state.floatbank10_a_level', 'rougher.state.floatbank10_b_air', 'rougher.state.floatbank10_b_level', 'rougher.state.floatbank10_c_air', 'rougher.state.floatbank10_c_level', 'rougher.state.floatbank10_d_air', 'rougher.state.floatbank10_d_level', 'rougher.state.floatbank10_e_air', 'rougher.state.floatbank10_e_level', 'rougher.state.floatbank10_f_air', 'rougher.state.floatbank10_f_level']\n",
      "Признаки для второй модели: ['rougher.input.feed_ag', 'rougher.input.feed_pb', 'rougher.input.feed_rate', 'rougher.input.feed_size', 'rougher.input.feed_sol', 'rougher.input.feed_au', 'rougher.input.floatbank10_sulfate', 'rougher.input.floatbank10_xanthate', 'rougher.input.floatbank11_sulfate', 'rougher.input.floatbank11_xanthate', 'rougher.state.floatbank10_a_air', 'rougher.state.floatbank10_a_level', 'rougher.state.floatbank10_b_air', 'rougher.state.floatbank10_b_level', 'rougher.state.floatbank10_c_air', 'rougher.state.floatbank10_c_level', 'rougher.state.floatbank10_d_air', 'rougher.state.floatbank10_d_level', 'rougher.state.floatbank10_e_air', 'rougher.state.floatbank10_e_level', 'rougher.state.floatbank10_f_air', 'rougher.state.floatbank10_f_level', 'primary_cleaner.input.sulfate', 'primary_cleaner.input.depressant', 'primary_cleaner.input.feed_size', 'primary_cleaner.input.xanthate', 'primary_cleaner.state.floatbank8_a_air', 'primary_cleaner.state.floatbank8_a_level', 'primary_cleaner.state.floatbank8_b_air', 'primary_cleaner.state.floatbank8_b_level', 'primary_cleaner.state.floatbank8_c_air', 'primary_cleaner.state.floatbank8_c_level', 'primary_cleaner.state.floatbank8_d_air', 'primary_cleaner.state.floatbank8_d_level', 'secondary_cleaner.state.floatbank2_a_air', 'secondary_cleaner.state.floatbank2_a_level', 'secondary_cleaner.state.floatbank2_b_air', 'secondary_cleaner.state.floatbank2_b_level', 'secondary_cleaner.state.floatbank3_a_air', 'secondary_cleaner.state.floatbank3_a_level', 'secondary_cleaner.state.floatbank3_b_air', 'secondary_cleaner.state.floatbank3_b_level', 'secondary_cleaner.state.floatbank4_a_air', 'secondary_cleaner.state.floatbank4_a_level', 'secondary_cleaner.state.floatbank4_b_air', 'secondary_cleaner.state.floatbank4_b_level', 'secondary_cleaner.state.floatbank5_a_air', 'secondary_cleaner.state.floatbank5_a_level', 'secondary_cleaner.state.floatbank5_b_air', 'secondary_cleaner.state.floatbank5_b_level', 'secondary_cleaner.state.floatbank6_a_air', 'secondary_cleaner.state.floatbank6_a_level']\n"
     ]
    }
   ],
   "source": [
    "features_columns = [[], []]\n",
    "features_columns[0] = [column for column in all_feature_columns \n",
    "                       if 'rougher.input.' in column or 'rougher.state.' in column]\n",
    "features_columns[1] = features_columns[0] + [column for column in all_feature_columns \n",
    "                                             if 'primary_cleaner.input.' in column or 'secondary_cleaner.input.' in column\n",
    "                                             or 'primary_cleaner.state.' in column or 'secondary_cleaner.state.' in column]\n",
    "print('Признаки для первой модели:', features_columns[0])\n",
    "print('Признаки для второй модели:', features_columns[1])\n",
    "\n",
    "train_features = [train_data[feature_columns] for feature_columns in features_columns]\n",
    "test_features = [test_data[feature_columns] for feature_columns in features_columns]"
   ]
  },
  {
   "cell_type": "markdown",
   "metadata": {},
   "source": [
    "### 4.3. Обучим различные модели с различными гиперпараметрами\n",
    "\n",
    "Будем обучать 3 вида моделей (DecisionTreeRegressor, RandomForestRegressor и LinearRegression), варьируя их гиперпараметры  и оценивая качество кросс-валидацией. Выберем лучшие модели для каждого из 2 предсказаний."
   ]
  },
  {
   "cell_type": "code",
   "execution_count": 23,
   "metadata": {},
   "outputs": [],
   "source": [
    "cv = ShuffleSplit(n_splits=5, test_size=0.2, random_state=0)\n",
    "\n",
    "def find_best_tree_params(train_features, train_target):\n",
    "    \n",
    "    print('Choosing best DecisionTreeRegressor hypermarameters')\n",
    "    \n",
    "    tree_columns = ['max_depth', 'min_samples_split', 'min_samples_leaf', 'smape_score', 'mse_score']\n",
    "    print(tree_columns)\n",
    "    \n",
    "    cmp_tree = []\n",
    "    for max_depth in range(10, 18, 2):\n",
    "        for min_samples_split in [0.0001, 0.001,]:\n",
    "            for min_samples_leaf in [0.0001, 0.001,]:\n",
    "                model = DecisionTreeRegressor(\n",
    "                        max_depth=max_depth,\n",
    "                        min_samples_split=min_samples_split,\n",
    "                        min_samples_leaf=min_samples_leaf,\n",
    "                        random_state=0)\n",
    "                smape_score = cross_val_score(model, train_features, train_target, scoring=smape_scorer, cv=cv).mean()\n",
    "                mse_score = cross_val_score(model, train_features, train_target, scoring='neg_mean_squared_error', cv=cv).mean()\n",
    "\n",
    "                row = [max_depth, min_samples_split, min_samples_leaf, round(-smape_score, 3), round(-mse_score, 3)]\n",
    "                cmp_tree.append(row)\n",
    "                print(row)\n",
    "\n",
    "    cmp_tree = pd.DataFrame(data=cmp_tree, columns=tree_columns).sort_values(by=['smape_score', 'mse_score'])\n",
    "    return cmp_tree\n",
    "\n",
    "def find_best_forest_params(train_features, train_target):\n",
    "    \n",
    "    print('Choosing best RandomForestRegressor hypermarameters')\n",
    "    \n",
    "    forest_columns = ['n_estimators', 'max_depth',  'smape_score', 'mse_score']\n",
    "    print(forest_columns)\n",
    "    \n",
    "    cmp_forest = []\n",
    "\n",
    "    for n_estimators in range(20, 31, 5):\n",
    "        for max_depth in range(5, 15, 3):\n",
    "            model = RandomForestRegressor(\n",
    "                max_depth=max_depth,\n",
    "                n_estimators=n_estimators,\n",
    "                random_state=0)\n",
    "            smape_score = cross_val_score(model, train_features, train_target, scoring=smape_scorer, cv=cv).mean()\n",
    "            mse_score = cross_val_score(model, train_features, train_target, scoring='neg_mean_squared_error', cv=cv).mean()\n",
    "\n",
    "            row = [n_estimators, max_depth, round(-smape_score, 3), round(-mse_score, 3)]\n",
    "            cmp_forest.append(row)\n",
    "            print(row)\n",
    "\n",
    "    cmp_forest = pd.DataFrame(data=cmp_forest, columns=forest_columns).sort_values(by=['smape_score', 'mse_score'])\n",
    "    return cmp_forest\n",
    "\n",
    "def evaluate_regression(train_features, train_target):\n",
    "    print('Evaluating LinearRegression')\n",
    "    model = LinearRegression()\n",
    "    smape_score = cross_val_score(model, train_features, train_target, scoring=smape_scorer, cv=cv).mean()\n",
    "    mse_score = cross_val_score(model, train_features, train_target, scoring='neg_mean_squared_error', cv=cv).mean()\n",
    "    return {'smape_score': round(-smape_score, 3), 'mse_score': round(-mse_score, 3)}\n",
    "    "
   ]
  },
  {
   "cell_type": "markdown",
   "metadata": {},
   "source": [
    "#### 4.3.1 Первое предсказание (эффективность обогащения чернового концентрата rougher.output.recovery)"
   ]
  },
  {
   "cell_type": "code",
   "execution_count": 24,
   "metadata": {},
   "outputs": [
    {
     "name": "stdout",
     "output_type": "stream",
     "text": [
      "Choosing best DecisionTreeRegressor hypermarameters\n",
      "['max_depth', 'min_samples_split', 'min_samples_leaf', 'smape_score', 'mse_score']\n",
      "[10, 0.0001, 0.0001, 3.75, 23.77]\n",
      "[10, 0.0001, 0.001, 3.706, 21.62]\n",
      "[10, 0.001, 0.0001, 3.744, 23.2]\n",
      "[10, 0.001, 0.001, 3.706, 21.62]\n",
      "[12, 0.0001, 0.0001, 3.656, 24.198]\n",
      "[12, 0.0001, 0.001, 3.607, 21.294]\n",
      "[12, 0.001, 0.0001, 3.631, 23.279]\n",
      "[12, 0.001, 0.001, 3.607, 21.294]\n",
      "[14, 0.0001, 0.0001, 3.679, 24.746]\n",
      "[14, 0.0001, 0.001, 3.591, 21.188]\n",
      "[14, 0.001, 0.0001, 3.632, 23.562]\n",
      "[14, 0.001, 0.001, 3.591, 21.188]\n",
      "[16, 0.0001, 0.0001, 3.692, 25.203]\n",
      "[16, 0.0001, 0.001, 3.572, 21.101]\n",
      "[16, 0.001, 0.0001, 3.632, 24.254]\n",
      "[16, 0.001, 0.001, 3.572, 21.101]\n",
      "5 лучших наборов гиперпараметров для DecisionTreeRegressor\n"
     ]
    },
    {
     "data": {
      "text/html": [
       "<div>\n",
       "<style scoped>\n",
       "    .dataframe tbody tr th:only-of-type {\n",
       "        vertical-align: middle;\n",
       "    }\n",
       "\n",
       "    .dataframe tbody tr th {\n",
       "        vertical-align: top;\n",
       "    }\n",
       "\n",
       "    .dataframe thead th {\n",
       "        text-align: right;\n",
       "    }\n",
       "</style>\n",
       "<table border=\"1\" class=\"dataframe\">\n",
       "  <thead>\n",
       "    <tr style=\"text-align: right;\">\n",
       "      <th></th>\n",
       "      <th>max_depth</th>\n",
       "      <th>min_samples_split</th>\n",
       "      <th>min_samples_leaf</th>\n",
       "      <th>smape_score</th>\n",
       "      <th>mse_score</th>\n",
       "    </tr>\n",
       "  </thead>\n",
       "  <tbody>\n",
       "    <tr>\n",
       "      <th>13</th>\n",
       "      <td>16</td>\n",
       "      <td>0.0001</td>\n",
       "      <td>0.001</td>\n",
       "      <td>3.572</td>\n",
       "      <td>21.101</td>\n",
       "    </tr>\n",
       "    <tr>\n",
       "      <th>15</th>\n",
       "      <td>16</td>\n",
       "      <td>0.0010</td>\n",
       "      <td>0.001</td>\n",
       "      <td>3.572</td>\n",
       "      <td>21.101</td>\n",
       "    </tr>\n",
       "    <tr>\n",
       "      <th>9</th>\n",
       "      <td>14</td>\n",
       "      <td>0.0001</td>\n",
       "      <td>0.001</td>\n",
       "      <td>3.591</td>\n",
       "      <td>21.188</td>\n",
       "    </tr>\n",
       "    <tr>\n",
       "      <th>11</th>\n",
       "      <td>14</td>\n",
       "      <td>0.0010</td>\n",
       "      <td>0.001</td>\n",
       "      <td>3.591</td>\n",
       "      <td>21.188</td>\n",
       "    </tr>\n",
       "    <tr>\n",
       "      <th>5</th>\n",
       "      <td>12</td>\n",
       "      <td>0.0001</td>\n",
       "      <td>0.001</td>\n",
       "      <td>3.607</td>\n",
       "      <td>21.294</td>\n",
       "    </tr>\n",
       "  </tbody>\n",
       "</table>\n",
       "</div>"
      ],
      "text/plain": [
       "    max_depth  min_samples_split  min_samples_leaf  smape_score  mse_score\n",
       "13         16             0.0001             0.001        3.572     21.101\n",
       "15         16             0.0010             0.001        3.572     21.101\n",
       "9          14             0.0001             0.001        3.591     21.188\n",
       "11         14             0.0010             0.001        3.591     21.188\n",
       "5          12             0.0001             0.001        3.607     21.294"
      ]
     },
     "execution_count": 24,
     "metadata": {},
     "output_type": "execute_result"
    }
   ],
   "source": [
    "best_trees = find_best_tree_params(train_features[0], train_targets[0])\n",
    "best_tree = best_trees.iloc[0, :]\n",
    "\n",
    "print('5 лучших наборов гиперпараметров для DecisionTreeRegressor')\n",
    "best_trees.head(5)"
   ]
  },
  {
   "cell_type": "code",
   "execution_count": 25,
   "metadata": {},
   "outputs": [
    {
     "name": "stdout",
     "output_type": "stream",
     "text": [
      "Choosing best RandomForestRegressor hypermarameters\n",
      "['n_estimators', 'max_depth', 'smape_score', 'mse_score']\n",
      "[20, 5, 4.515, 27.965]\n",
      "[20, 8, 3.65, 20.053]\n",
      "[20, 11, 3.175, 16.276]\n",
      "[20, 14, 2.943, 14.668]\n",
      "[25, 5, 4.512, 27.903]\n",
      "[25, 8, 3.641, 19.927]\n",
      "[25, 11, 3.157, 16.075]\n",
      "[25, 14, 2.92, 14.44]\n",
      "[30, 5, 4.518, 27.971]\n",
      "[30, 8, 3.633, 19.837]\n",
      "[30, 11, 3.148, 15.954]\n",
      "[30, 14, 2.908, 14.349]\n",
      "5 лучших наборов гиперпараметров для RandomForestRegressor\n"
     ]
    },
    {
     "data": {
      "text/html": [
       "<div>\n",
       "<style scoped>\n",
       "    .dataframe tbody tr th:only-of-type {\n",
       "        vertical-align: middle;\n",
       "    }\n",
       "\n",
       "    .dataframe tbody tr th {\n",
       "        vertical-align: top;\n",
       "    }\n",
       "\n",
       "    .dataframe thead th {\n",
       "        text-align: right;\n",
       "    }\n",
       "</style>\n",
       "<table border=\"1\" class=\"dataframe\">\n",
       "  <thead>\n",
       "    <tr style=\"text-align: right;\">\n",
       "      <th></th>\n",
       "      <th>n_estimators</th>\n",
       "      <th>max_depth</th>\n",
       "      <th>smape_score</th>\n",
       "      <th>mse_score</th>\n",
       "    </tr>\n",
       "  </thead>\n",
       "  <tbody>\n",
       "    <tr>\n",
       "      <th>11</th>\n",
       "      <td>30</td>\n",
       "      <td>14</td>\n",
       "      <td>2.908</td>\n",
       "      <td>14.349</td>\n",
       "    </tr>\n",
       "    <tr>\n",
       "      <th>7</th>\n",
       "      <td>25</td>\n",
       "      <td>14</td>\n",
       "      <td>2.920</td>\n",
       "      <td>14.440</td>\n",
       "    </tr>\n",
       "    <tr>\n",
       "      <th>3</th>\n",
       "      <td>20</td>\n",
       "      <td>14</td>\n",
       "      <td>2.943</td>\n",
       "      <td>14.668</td>\n",
       "    </tr>\n",
       "    <tr>\n",
       "      <th>10</th>\n",
       "      <td>30</td>\n",
       "      <td>11</td>\n",
       "      <td>3.148</td>\n",
       "      <td>15.954</td>\n",
       "    </tr>\n",
       "    <tr>\n",
       "      <th>6</th>\n",
       "      <td>25</td>\n",
       "      <td>11</td>\n",
       "      <td>3.157</td>\n",
       "      <td>16.075</td>\n",
       "    </tr>\n",
       "  </tbody>\n",
       "</table>\n",
       "</div>"
      ],
      "text/plain": [
       "    n_estimators  max_depth  smape_score  mse_score\n",
       "11            30         14        2.908     14.349\n",
       "7             25         14        2.920     14.440\n",
       "3             20         14        2.943     14.668\n",
       "10            30         11        3.148     15.954\n",
       "6             25         11        3.157     16.075"
      ]
     },
     "execution_count": 25,
     "metadata": {},
     "output_type": "execute_result"
    }
   ],
   "source": [
    "best_forests = find_best_forest_params(train_features[0], train_targets[0])\n",
    "best_forest = best_forests.iloc[0, :]\n",
    "\n",
    "print('5 лучших наборов гиперпараметров для RandomForestRegressor')\n",
    "best_forests.head(5)"
   ]
  },
  {
   "cell_type": "code",
   "execution_count": 26,
   "metadata": {},
   "outputs": [
    {
     "name": "stdout",
     "output_type": "stream",
     "text": [
      "Evaluating LinearRegression\n",
      "Качество LinearRegression:\n"
     ]
    },
    {
     "data": {
      "text/plain": [
       "{'smape_score': 5.079, 'mse_score': 33.009}"
      ]
     },
     "execution_count": 26,
     "metadata": {},
     "output_type": "execute_result"
    }
   ],
   "source": [
    "best_regression = evaluate_regression(train_features[0], train_targets[0])\n",
    "print('Качество LinearRegression:')\n",
    "best_regression"
   ]
  },
  {
   "cell_type": "markdown",
   "metadata": {},
   "source": [
    "##### Сравнение моделей для первого предсказания"
   ]
  },
  {
   "cell_type": "code",
   "execution_count": 27,
   "metadata": {},
   "outputs": [
    {
     "name": "stdout",
     "output_type": "stream",
     "text": [
      "Лучшей DecisionTreeRegressor\n",
      "max_depth            16.0000\n",
      "min_samples_split     0.0001\n",
      "min_samples_leaf      0.0010\n",
      "smape_score           3.5720\n",
      "mse_score            21.1010\n",
      "Name: 13, dtype: float64\n",
      "\n",
      "Лучший RandomForestRegressor\n",
      "n_estimators    30.000\n",
      "max_depth       14.000\n",
      "smape_score      2.908\n",
      "mse_score       14.349\n",
      "Name: 11, dtype: float64\n",
      "\n",
      "LinearRegression\n",
      "{'smape_score': 5.079, 'mse_score': 33.009}\n",
      "\n"
     ]
    }
   ],
   "source": [
    "print('Лучшей DecisionTreeRegressor')\n",
    "print(best_tree)\n",
    "print()\n",
    "\n",
    "print('Лучший RandomForestRegressor')\n",
    "print(best_forest)\n",
    "print()\n",
    "\n",
    "print('LinearRegression')\n",
    "print(best_regression)\n",
    "print()"
   ]
  },
  {
   "cell_type": "markdown",
   "metadata": {},
   "source": [
    "Таким образом, для предсказания первого признака (эффективность обогащения чернового концентрата rougher.output.recovery) будем использовать модель с наименьшим smape на кросс-валидации: RandomForestRegressor(n_estimators=30, max_depth=14, random_state=0) с smape=2.908."
   ]
  },
  {
   "cell_type": "markdown",
   "metadata": {},
   "source": [
    "#### 4.3.2 Второе предсказание (эффективность обогащения финального концентрата final.output.recovery.)"
   ]
  },
  {
   "cell_type": "code",
   "execution_count": 28,
   "metadata": {},
   "outputs": [
    {
     "name": "stdout",
     "output_type": "stream",
     "text": [
      "Choosing best DecisionTreeRegressor hypermarameters\n",
      "['max_depth', 'min_samples_split', 'min_samples_leaf', 'smape_score', 'mse_score']\n",
      "[10, 0.0001, 0.0001, 7.204, 50.554]\n",
      "[10, 0.0001, 0.001, 7.147, 47.825]\n",
      "[10, 0.001, 0.0001, 7.145, 49.756]\n",
      "[10, 0.001, 0.001, 7.147, 47.825]\n",
      "[12, 0.0001, 0.0001, 7.223, 51.994]\n",
      "[12, 0.0001, 0.001, 7.122, 47.836]\n",
      "[12, 0.001, 0.0001, 7.125, 49.73]\n",
      "[12, 0.001, 0.001, 7.122, 47.836]\n",
      "[14, 0.0001, 0.0001, 7.341, 54.053]\n",
      "[14, 0.0001, 0.001, 7.153, 48.086]\n",
      "[14, 0.001, 0.0001, 7.218, 51.596]\n",
      "[14, 0.001, 0.001, 7.153, 48.086]\n",
      "[16, 0.0001, 0.0001, 7.452, 56.197]\n",
      "[16, 0.0001, 0.001, 7.186, 48.554]\n",
      "[16, 0.001, 0.0001, 7.287, 52.781]\n",
      "[16, 0.001, 0.001, 7.186, 48.554]\n",
      "5 лучших наборов гиперпараметров для DecisionTreeRegressor\n",
      "   max_depth  min_samples_split  min_samples_leaf  smape_score  mse_score\n",
      "5         12             0.0001            0.0010        7.122     47.836\n",
      "7         12             0.0010            0.0010        7.122     47.836\n",
      "6         12             0.0010            0.0001        7.125     49.730\n",
      "2         10             0.0010            0.0001        7.145     49.756\n",
      "1         10             0.0001            0.0010        7.147     47.825\n"
     ]
    }
   ],
   "source": [
    "best_trees2 = find_best_tree_params(train_features[1], train_targets[1])\n",
    "best_tree2 = best_trees2.iloc[0, :]\n",
    "print('5 лучших наборов гиперпараметров для DecisionTreeRegressor')\n",
    "print(best_trees2.head(5))"
   ]
  },
  {
   "cell_type": "code",
   "execution_count": 29,
   "metadata": {},
   "outputs": [
    {
     "name": "stdout",
     "output_type": "stream",
     "text": [
      "Choosing best RandomForestRegressor hypermarameters\n",
      "['n_estimators', 'max_depth', 'smape_score', 'mse_score']\n",
      "[20, 5, 7.435, 49.087]\n",
      "[20, 8, 6.771, 42.288]\n",
      "[20, 11, 6.336, 38.11]\n",
      "[20, 14, 6.11, 36.325]\n",
      "[25, 5, 7.429, 49.001]\n",
      "[25, 8, 6.758, 42.196]\n",
      "[25, 11, 6.321, 37.987]\n",
      "[25, 14, 6.084, 36.139]\n",
      "[30, 5, 7.426, 48.982]\n",
      "[30, 8, 6.748, 41.976]\n",
      "[30, 11, 6.311, 37.775]\n",
      "[30, 14, 6.058, 35.779]\n",
      "5 лучших наборов гиперпараметров для RandomForestRegressor\n",
      "    n_estimators  max_depth  smape_score  mse_score\n",
      "11            30         14        6.058     35.779\n",
      "7             25         14        6.084     36.139\n",
      "3             20         14        6.110     36.325\n",
      "10            30         11        6.311     37.775\n",
      "6             25         11        6.321     37.987\n"
     ]
    }
   ],
   "source": [
    "best_forests2 = find_best_forest_params(train_features[1], train_targets[1])\n",
    "best_forest2 = best_forests2.iloc[0, :]\n",
    "print('5 лучших наборов гиперпараметров для RandomForestRegressor')\n",
    "print(best_forests2.head(5))"
   ]
  },
  {
   "cell_type": "code",
   "execution_count": 30,
   "metadata": {},
   "outputs": [
    {
     "name": "stdout",
     "output_type": "stream",
     "text": [
      "Evaluating LinearRegression\n",
      "Качество LinearRegression:\n"
     ]
    },
    {
     "data": {
      "text/plain": [
       "{'smape_score': 7.933, 'mse_score': 54.125}"
      ]
     },
     "execution_count": 30,
     "metadata": {},
     "output_type": "execute_result"
    }
   ],
   "source": [
    "best_regression2 = evaluate_regression(train_features[1], train_targets[1])\n",
    "print('Качество LinearRegression:')\n",
    "best_regression2"
   ]
  },
  {
   "cell_type": "markdown",
   "metadata": {},
   "source": [
    "##### Сравнение моделей для второго предсказания"
   ]
  },
  {
   "cell_type": "code",
   "execution_count": 31,
   "metadata": {},
   "outputs": [
    {
     "name": "stdout",
     "output_type": "stream",
     "text": [
      "Лучшей DecisionTreeRegressor\n",
      "max_depth            12.0000\n",
      "min_samples_split     0.0001\n",
      "min_samples_leaf      0.0010\n",
      "smape_score           7.1220\n",
      "mse_score            47.8360\n",
      "Name: 5, dtype: float64\n",
      "\n",
      "Лучший RandomForestRegressor\n",
      "n_estimators    30.000\n",
      "max_depth       14.000\n",
      "smape_score      6.058\n",
      "mse_score       35.779\n",
      "Name: 11, dtype: float64\n",
      "\n",
      "LinearRegression\n",
      "{'smape_score': 7.933, 'mse_score': 54.125}\n",
      "\n"
     ]
    }
   ],
   "source": [
    "print('Лучшей DecisionTreeRegressor')\n",
    "print(best_tree2)\n",
    "print()\n",
    "\n",
    "print('Лучший RandomForestRegressor')\n",
    "print(best_forest2)\n",
    "print()\n",
    "\n",
    "print('LinearRegression')\n",
    "print(best_regression2)\n",
    "print()"
   ]
  },
  {
   "cell_type": "markdown",
   "metadata": {},
   "source": [
    "Таким образом, для предсказания первого признака (эффективность обогащения финального концентрата final.output.recovery) будем использовать модель с наименьшим smape на кросс-валидации: RandomForestRegressor(n_estimators=30, max_depth=14, random_state=0) с smape=6.058."
   ]
  },
  {
   "cell_type": "markdown",
   "metadata": {},
   "source": [
    "### 4.4. Оценим  выбранные модели на тестовой выброке по итоговой метрике (final_sMAPE)\n",
    "\n",
    "Для сравнения рассчитаем, какие sMAPE для каждого предсказания и итоговый получатся на тестовой выборке, если вместо предсказаний модели всегда использовать соответствующие средние значения или медиану по тренировочной выборке."
   ]
  },
  {
   "cell_type": "code",
   "execution_count": 32,
   "metadata": {},
   "outputs": [],
   "source": [
    "n = len(test_features[0])\n",
    "\n",
    "answers_mean = [pd.Series([train_targets[0].mean()] * n), pd.Series([train_targets[1].mean()] * n)]\n",
    "answers_median = [pd.Series([train_targets[0].median()] * n), pd.Series([train_targets[1].median()] * n)]\n",
    "\n",
    "smapes_mean = [\n",
    "    smape(test_targets[0], answers_mean[0]), \n",
    "    smape(test_targets[1], answers_mean[1]), \n",
    "    final_smape(test_targets[0], answers_mean[0], test_targets[1], answers_mean[1])\n",
    "]\n",
    "smapes_median = [\n",
    "    smape(test_targets[0], answers_median[0]), \n",
    "    smape(test_targets[1], answers_median[1]), \n",
    "    final_smape(test_targets[0], answers_median[0], test_targets[1], answers_median[1])\n",
    "]"
   ]
  },
  {
   "cell_type": "markdown",
   "metadata": {},
   "source": [
    "Теперь создадим и обучим на тренировочной выборке выбранные для обоих предсказаний модели, а затем вычислим их sMAPE для каждого предсказания и итоговый на тестовой выборке"
   ]
  },
  {
   "cell_type": "code",
   "execution_count": 33,
   "metadata": {},
   "outputs": [],
   "source": [
    "models = [\n",
    "    \n",
    "    RandomForestRegressor(n_estimators=30, max_depth=14, random_state=0).fit(train_features[0], train_targets[0]), \n",
    "    RandomForestRegressor(n_estimators=30, max_depth=14, random_state=0).fit(train_features[1], train_targets[1]), \n",
    "]\n",
    "\n",
    "answers_model = [models[0].predict(test_features[0]), models[1].predict(test_features[1])]\n",
    "smapes_model = [\n",
    "    smape(test_targets[0], answers_model[0]), \n",
    "    smape(test_targets[1], answers_model[1]), \n",
    "    final_smape(test_targets[0], answers_model[0], test_targets[1], answers_model[1])\n",
    "]"
   ]
  },
  {
   "cell_type": "code",
   "execution_count": 34,
   "metadata": {},
   "outputs": [
    {
     "name": "stdout",
     "output_type": "stream",
     "text": [
      "Результаты (sMAPE)\n",
      "Средними:  1) 5.355 2) 8.577 final) 7.771\n",
      "Медианами: 1) 4.808 2) 8.229 final) 7.373\n",
      "Моделью:   1) 4.612 2) 8.286 final) 7.367\n"
     ]
    }
   ],
   "source": [
    "r = 3\n",
    "print('Результаты (sMAPE)')\n",
    "print(f\"Средними:  1) {round(smapes_mean[0], r)} 2) {round(smapes_mean[1], r)} final) {round(smapes_mean[2], r)}\")\n",
    "print(f\"Медианами: 1) {round(smapes_median[0], r)} 2) {round(smapes_median[1], r)} final) {round(smapes_median[2], r)}\")\n",
    "print(f\"Моделью:   1) {round(smapes_model[0], r)} 2) {round(smapes_model[1], r)} final) {round(smapes_model[2], r)}\")"
   ]
  },
  {
   "cell_type": "markdown",
   "metadata": {},
   "source": [
    "# Вывод<a class=\"anchor\" id=\"b5\"></a>\n",
    "\n",
    "Обученные модели превзошли константные (медианную и среднюю) по итоговой метрике, которая складывается из smape двух предсказаний, однако медианную -- лишь на тысячные доли. Это связано с тем, что модель для второго предсказания справляется недостаточно хорошо: она даже проигрывает медианной константной модели, тогда как итоговая метрика на 75% зависит именно от этого предсказания. При этом модель по первому предсказанию достаточно сильно превосходит константные.\n",
    "\n",
    "Очевидно, необходимо дальнейшее исследование задачи предсказания именно второго признака: эффективности обогащения финального концентрата final.output.recovery."
   ]
  },
  {
   "cell_type": "code",
   "execution_count": null,
   "metadata": {},
   "outputs": [],
   "source": []
  },
  {
   "cell_type": "code",
   "execution_count": null,
   "metadata": {},
   "outputs": [],
   "source": []
  }
 ],
 "metadata": {
  "kernelspec": {
   "display_name": "Python 3",
   "language": "python",
   "name": "python3"
  },
  "language_info": {
   "codemirror_mode": {
    "name": "ipython",
    "version": 3
   },
   "file_extension": ".py",
   "mimetype": "text/x-python",
   "name": "python",
   "nbconvert_exporter": "python",
   "pygments_lexer": "ipython3",
   "version": "3.8.5"
  }
 },
 "nbformat": 4,
 "nbformat_minor": 4
}
