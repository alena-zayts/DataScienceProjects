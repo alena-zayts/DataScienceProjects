{
 "cells": [
  {
   "cell_type": "markdown",
   "metadata": {},
   "source": [
    "# Оглавление:\n",
    "\n",
    "* [Описание проекта](#b1)\n",
    "* [1. Импорт данных](#b2)\n",
    "* [2. Проверка данных](#b3)\n",
    "* [3. Подготовка данных](#b4)\n",
    "* [4. Анализ данных](#b5)\n",
    "* [5. Проверка гипотез](#b6)\n",
    "* [Вывод](#b7)"
   ]
  },
  {
   "cell_type": "markdown",
   "metadata": {},
   "source": [
    "# Описание проекта <a class=\"anchor\" id=\"b1\"></a>\n",
    "\n",
    "«Мегалайн» — федеральный оператор сотовой связи. Клиентам предлагают два тарифных плана: «Смарт» и «Ультра». Чтобы скорректировать рекламный бюджет, коммерческий департамент хочет понять, какой тариф приносит больше денег.\n",
    "\n",
    "\n",
    "В распоряжении данные 500 пользователей «Мегалайна»: кто они, откуда, каким тарифом пользуются, сколько звонков и сообщений каждый отправил за 2018 год. Необходимо:\n",
    "* сделать предварительный анализ тарифов на небольшой выборке клиентов - какие объемы услуг используют пользователи каждого тарифа, какой доход получает компания;  \n",
    "* проверить гипотезы:\n",
    "    * средние выручки пользователей тарифов «Ультра» и «Смарт» различаются;\n",
    "    * средняя выручка пользователей из Москвы отличается от выручки пользователей из других регионов.\n",
    "\n",
    "### Описание тарифов\n",
    "Тариф «Смарт»\n",
    "* Ежемесячная плата: 550 рублей\n",
    "* Включено 500 минут разговора, 50 сообщений и 15 Гб интернет-трафика\n",
    "* Стоимость услуг сверх тарифного пакета:\n",
    "    * минута разговора: 3 рубля\n",
    "    * сообщение: 3 рубля\n",
    "    * 1 Гб интернет-трафика: 200 рублей\n",
    "\n",
    "Тариф «Ультра»\n",
    "* Ежемесячная плата: 1950 рублей\n",
    "* Включено 3000 минут разговора, 1000 сообщений и 30 Гб интернет-трафика\n",
    "* Стоимость услуг сверх тарифного пакета:\n",
    "    * минута разговора: 1 рубль\n",
    "    * сообщение: 1 рубль\n",
    "    * 1 Гб интернет-трафика: 150 рублей\n",
    "\n",
    "### Примечание\n",
    "\n",
    "«Мегалайн» всегда округляет секунды до минут, а мегабайты — до гигабайт. Каждый звонок округляется отдельно: даже если он длился всего 1 секунду, будет засчитан как 1 минута.\n",
    "\n",
    "Для веб-трафика отдельные сессии не считаются. Вместо этого общая сумма за месяц округляется в бо́льшую сторону. Если абонент использует 1025 мегабайт в этом месяце, с него возьмут плату за 2 гигабайта. Неиспользованные за предыдущий месяц звонки, смс, интернет на следующий месяц не переносятся.\n",
    "\n",
    "В данных есть звонки с нулевой продолжительностью. Это не ошибка: нулями обозначены пропущенные звонки, поэтому их не нужно удалять.\n",
    "\n",
    "### Описание данных\n",
    "\n",
    "Таблица users (информация о пользователях):\n",
    "* user_id — уникальный идентификатор пользователя\n",
    "* first_name — имя пользователя\n",
    "* last_name — фамилия пользователя\n",
    "* age — возраст пользователя (годы)\n",
    "* reg_date — дата подключения тарифа (день, месяц, год)\n",
    "* churn_date — дата прекращения пользования тарифом (если значение пропущено, то тариф ещё действовал на момент выгрузки данных)\n",
    "* city — город проживания пользователя\n",
    "* tariff — название тарифного плана\n",
    "\n",
    "Таблица calls (информация о звонках):\n",
    "* id — уникальный номер звонка\n",
    "* call_date — дата звонка\n",
    "* duration — длительность звонка в минутах\n",
    "* user_id — идентификатор пользователя, сделавшего звонок\n",
    "\n",
    "Таблица messages (информация о сообщениях):\n",
    "* id — уникальный номер сообщения\n",
    "* message_date — дата сообщения\n",
    "* user_id — идентификатор пользователя, отправившего сообщение\n",
    "\n",
    "Таблица internet (информация об интернет-сессиях):\n",
    "* id — уникальный номер сессии\n",
    "* mb_used — объём потраченного за сессию интернет-трафика (в мегабайтах)\n",
    "* session_date — дата интернет-сессии\n",
    "* user_id — идентификатор пользователя\n",
    "\n",
    "Таблица tariffs (информация о тарифах):\n",
    "* tariff_name — название тарифа\n",
    "* rub_monthly_fee — ежемесячная абонентская плата в рублях\n",
    "* minutes_included — количество минут разговора в месяц, включённых в абонентскую плату\n",
    "* messages_included — количество сообщений в месяц, включённых в абонентскую плату\n",
    "* mb_per_month_included — объём интернет-трафика, включённого в абонентскую плату (в мегабайтах)\n",
    "* rub_per_minute — стоимость минуты разговора сверх тарифного пакета (например, если в тарифе 100 минут разговора в месяц, то со 101 минуты будет взиматься плата)\n",
    "* rub_per_message — стоимость отправки сообщения сверх тарифного пакета\n",
    "* rub_per_gb — стоимость дополнительного гигабайта интернет-трафика сверх тарифного пакета (1 гигабайт = 1024 мегабайта)"
   ]
  },
  {
   "cell_type": "code",
   "execution_count": 1,
   "metadata": {},
   "outputs": [],
   "source": [
    "import pandas as pd\n",
    "import numpy as np\n",
    "import matplotlib.pyplot as plt\n",
    "from math import ceil"
   ]
  },
  {
   "cell_type": "markdown",
   "metadata": {},
   "source": [
    "# 1. Импорт данных <a class=\"anchor\" id=\"b2\"></a>"
   ]
  },
  {
   "cell_type": "code",
   "execution_count": 2,
   "metadata": {},
   "outputs": [],
   "source": [
    "users = pd.read_csv('data/users.csv')\n",
    "tariffs = pd.read_csv('data/tariffs.csv')\n",
    "calls = pd.read_csv('data/calls.csv')\n",
    "messages = pd.read_csv('data/messages.csv')\n",
    "internet = pd.read_csv('data/internet.csv')"
   ]
  },
  {
   "cell_type": "markdown",
   "metadata": {},
   "source": [
    "# 2. Проверка данных <a class=\"anchor\" id=\"b3\"></a>"
   ]
  },
  {
   "cell_type": "markdown",
   "metadata": {},
   "source": [
    "## Users"
   ]
  },
  {
   "cell_type": "code",
   "execution_count": 3,
   "metadata": {},
   "outputs": [
    {
     "name": "stdout",
     "output_type": "stream",
     "text": [
      "<class 'pandas.core.frame.DataFrame'>\n",
      "RangeIndex: 500 entries, 0 to 499\n",
      "Data columns (total 8 columns):\n",
      " #   Column      Non-Null Count  Dtype \n",
      "---  ------      --------------  ----- \n",
      " 0   user_id     500 non-null    int64 \n",
      " 1   age         500 non-null    int64 \n",
      " 2   churn_date  38 non-null     object\n",
      " 3   city        500 non-null    object\n",
      " 4   first_name  500 non-null    object\n",
      " 5   last_name   500 non-null    object\n",
      " 6   reg_date    500 non-null    object\n",
      " 7   tariff      500 non-null    object\n",
      "dtypes: int64(2), object(6)\n",
      "memory usage: 31.4+ KB\n"
     ]
    },
    {
     "data": {
      "text/html": [
       "<div>\n",
       "<style scoped>\n",
       "    .dataframe tbody tr th:only-of-type {\n",
       "        vertical-align: middle;\n",
       "    }\n",
       "\n",
       "    .dataframe tbody tr th {\n",
       "        vertical-align: top;\n",
       "    }\n",
       "\n",
       "    .dataframe thead th {\n",
       "        text-align: right;\n",
       "    }\n",
       "</style>\n",
       "<table border=\"1\" class=\"dataframe\">\n",
       "  <thead>\n",
       "    <tr style=\"text-align: right;\">\n",
       "      <th></th>\n",
       "      <th>user_id</th>\n",
       "      <th>age</th>\n",
       "      <th>churn_date</th>\n",
       "      <th>city</th>\n",
       "      <th>first_name</th>\n",
       "      <th>last_name</th>\n",
       "      <th>reg_date</th>\n",
       "      <th>tariff</th>\n",
       "    </tr>\n",
       "  </thead>\n",
       "  <tbody>\n",
       "    <tr>\n",
       "      <th>0</th>\n",
       "      <td>1000</td>\n",
       "      <td>52</td>\n",
       "      <td>NaN</td>\n",
       "      <td>Краснодар</td>\n",
       "      <td>Рафаил</td>\n",
       "      <td>Верещагин</td>\n",
       "      <td>2018-05-25</td>\n",
       "      <td>ultra</td>\n",
       "    </tr>\n",
       "    <tr>\n",
       "      <th>1</th>\n",
       "      <td>1001</td>\n",
       "      <td>41</td>\n",
       "      <td>NaN</td>\n",
       "      <td>Москва</td>\n",
       "      <td>Иван</td>\n",
       "      <td>Ежов</td>\n",
       "      <td>2018-11-01</td>\n",
       "      <td>smart</td>\n",
       "    </tr>\n",
       "    <tr>\n",
       "      <th>2</th>\n",
       "      <td>1002</td>\n",
       "      <td>59</td>\n",
       "      <td>NaN</td>\n",
       "      <td>Стерлитамак</td>\n",
       "      <td>Евгений</td>\n",
       "      <td>Абрамович</td>\n",
       "      <td>2018-06-17</td>\n",
       "      <td>smart</td>\n",
       "    </tr>\n",
       "    <tr>\n",
       "      <th>3</th>\n",
       "      <td>1003</td>\n",
       "      <td>23</td>\n",
       "      <td>NaN</td>\n",
       "      <td>Москва</td>\n",
       "      <td>Белла</td>\n",
       "      <td>Белякова</td>\n",
       "      <td>2018-08-17</td>\n",
       "      <td>ultra</td>\n",
       "    </tr>\n",
       "    <tr>\n",
       "      <th>4</th>\n",
       "      <td>1004</td>\n",
       "      <td>68</td>\n",
       "      <td>NaN</td>\n",
       "      <td>Новокузнецк</td>\n",
       "      <td>Татьяна</td>\n",
       "      <td>Авдеенко</td>\n",
       "      <td>2018-05-14</td>\n",
       "      <td>ultra</td>\n",
       "    </tr>\n",
       "  </tbody>\n",
       "</table>\n",
       "</div>"
      ],
      "text/plain": [
       "   user_id  age churn_date         city first_name  last_name    reg_date  \\\n",
       "0     1000   52        NaN    Краснодар     Рафаил  Верещагин  2018-05-25   \n",
       "1     1001   41        NaN       Москва       Иван       Ежов  2018-11-01   \n",
       "2     1002   59        NaN  Стерлитамак    Евгений  Абрамович  2018-06-17   \n",
       "3     1003   23        NaN       Москва      Белла   Белякова  2018-08-17   \n",
       "4     1004   68        NaN  Новокузнецк    Татьяна   Авдеенко  2018-05-14   \n",
       "\n",
       "  tariff  \n",
       "0  ultra  \n",
       "1  smart  \n",
       "2  smart  \n",
       "3  ultra  \n",
       "4  ultra  "
      ]
     },
     "execution_count": 3,
     "metadata": {},
     "output_type": "execute_result"
    }
   ],
   "source": [
    "users.info()\n",
    "users.head()"
   ]
  },
  {
   "cell_type": "markdown",
   "metadata": {},
   "source": [
    "Приведем столбцы reg_date и churn_date к типу datetime, а также избавимся от столбцов first_name и last_name, так как эти данные выглядят излишними"
   ]
  },
  {
   "cell_type": "code",
   "execution_count": 4,
   "metadata": {},
   "outputs": [
    {
     "name": "stdout",
     "output_type": "stream",
     "text": [
      "<class 'pandas.core.frame.DataFrame'>\n",
      "RangeIndex: 500 entries, 0 to 499\n",
      "Data columns (total 6 columns):\n",
      " #   Column      Non-Null Count  Dtype         \n",
      "---  ------      --------------  -----         \n",
      " 0   user_id     500 non-null    int64         \n",
      " 1   age         500 non-null    int64         \n",
      " 2   churn_date  38 non-null     datetime64[ns]\n",
      " 3   city        500 non-null    object        \n",
      " 4   reg_date    500 non-null    datetime64[ns]\n",
      " 5   tariff      500 non-null    object        \n",
      "dtypes: datetime64[ns](2), int64(2), object(2)\n",
      "memory usage: 23.6+ KB\n"
     ]
    }
   ],
   "source": [
    "users['reg_date'] = pd.to_datetime(users['reg_date'], format=\"%Y-%m-%d\")\n",
    "users['churn_date'] = pd.to_datetime(users['churn_date'], format=\"%Y-%m-%d\")\n",
    "users = users.drop(['first_name', 'last_name'], axis=1)\n",
    "users.info()"
   ]
  },
  {
   "cell_type": "markdown",
   "metadata": {},
   "source": [
    "Проверим данные на наличие явных ошибок. \n",
    "\n",
    "\n",
    "Данные должны быть за 2018 год, проверим это"
   ]
  },
  {
   "cell_type": "code",
   "execution_count": 5,
   "metadata": {},
   "outputs": [
    {
     "name": "stdout",
     "output_type": "stream",
     "text": [
      "churn_date: \tmin: 2018-08-17 00:00:00, \tmax: 2018-12-30 00:00:00\n",
      "reg_date: \tmin: 2018-01-01 00:00:00, \tmax: 2018-12-31 00:00:00\n"
     ]
    }
   ],
   "source": [
    "users.describe()\n",
    "for column_name in ['churn_date','reg_date']:\n",
    "    column = users[column_name]\n",
    "    print(f'{column_name}: \\tmin: {column.min()}, \\tmax: {column.max()}')"
   ]
  },
  {
   "cell_type": "markdown",
   "metadata": {},
   "source": [
    "Даты корректны. Поcтроим гистограмму распределения возрастов."
   ]
  },
  {
   "cell_type": "code",
   "execution_count": 6,
   "metadata": {
    "scrolled": true
   },
   "outputs": [
    {
     "data": {
      "text/plain": [
       "Text(0, 0.5, 'Количество')"
      ]
     },
     "execution_count": 6,
     "metadata": {},
     "output_type": "execute_result"
    },
    {
     "data": {
      "image/png": "[encoded data removed]",
      "text/plain": [
       "<Figure size 432x288 with 1 Axes>"
      ]
     },
     "metadata": {
      "needs_background": "light"
     },
     "output_type": "display_data"
    }
   ],
   "source": [
    "users['age'].hist(bins = 10)\n",
    "plt.title('Распределение возрастов клиентов')\n",
    "plt.xlabel('Возраст')\n",
    "plt.ylabel('Количество')"
   ]
  },
  {
   "cell_type": "markdown",
   "metadata": {},
   "source": [
    "Здесь также нет явных ошибок, также отметим, что все возрасты представлены достаточно равномерно.\n",
    "\n",
    "Убедимся, что все рассматриваемые пользователи используют только исследуемые тарифы - «Смарт» и «Ультра»"
   ]
  },
  {
   "cell_type": "code",
   "execution_count": 7,
   "metadata": {},
   "outputs": [
    {
     "data": {
      "text/plain": [
       "array(['ultra', 'smart'], dtype=object)"
      ]
     },
     "execution_count": 7,
     "metadata": {},
     "output_type": "execute_result"
    }
   ],
   "source": [
    "users['tariff'].unique()"
   ]
  },
  {
   "cell_type": "markdown",
   "metadata": {},
   "source": [
    "Все верно. Сразу взглянем, какие города представлены"
   ]
  },
  {
   "cell_type": "code",
   "execution_count": 8,
   "metadata": {},
   "outputs": [
    {
     "name": "stdout",
     "output_type": "stream",
     "text": [
      "76\n"
     ]
    },
    {
     "data": {
      "text/plain": [
       "array(['Краснодар', 'Москва', 'Стерлитамак', 'Новокузнецк',\n",
       "       'Набережные Челны', 'Ульяновск', 'Челябинск', 'Пермь', 'Тюмень',\n",
       "       'Самара', 'Санкт-Петербург', 'Иваново', 'Чебоксары', 'Омск', 'Уфа',\n",
       "       'Томск', 'Чита', 'Мурманск', 'Петрозаводск', 'Тверь',\n",
       "       'Екатеринбург', 'Махачкала', 'Вологда', 'Череповец', 'Ярославль',\n",
       "       'Сочи', 'Хабаровск', 'Ставрополь', 'Рязань', 'Улан-Удэ', 'Тула',\n",
       "       'Саратов', 'Ростов-на-Дону', 'Казань', 'Иркутск', 'Курск',\n",
       "       'Калуга', 'Якутск', 'Астрахань', 'Химки', 'Владикавказ',\n",
       "       'Волгоград', 'Саранск', 'Ижевск', 'Новосибирск', 'Брянск',\n",
       "       'Тольятти', 'Нижний Тагил', 'Орёл', 'Белгород', 'Воронеж',\n",
       "       'Волжский', 'Курган', 'Барнаул', 'Красноярск', 'Архангельск',\n",
       "       'Липецк', 'Кемерово', 'Киров', 'Сургут', 'Пенза', 'Магнитогорск',\n",
       "       'Нижний Новгород', 'Кострома', 'Владивосток', 'Тамбов', 'Балашиха',\n",
       "       'Севастополь', 'Калининград', 'Оренбург', 'Смоленск',\n",
       "       'Нижневартовск', 'Владимир', 'Новороссийск', 'Грозный', 'Подольск'],\n",
       "      dtype=object)"
      ]
     },
     "execution_count": 8,
     "metadata": {},
     "output_type": "execute_result"
    }
   ],
   "source": [
    "print(len(users['city'].unique()))\n",
    "users['city'].unique()"
   ]
  },
  {
   "cell_type": "markdown",
   "metadata": {},
   "source": [
    "### Tariffs\n",
    "\n",
    "Для таблицы tariffs достаточно проверить, что хранящиеся там данные соответствуют условию, и типы данных подобраны корректно."
   ]
  },
  {
   "cell_type": "code",
   "execution_count": 9,
   "metadata": {},
   "outputs": [
    {
     "name": "stdout",
     "output_type": "stream",
     "text": [
      "<class 'pandas.core.frame.DataFrame'>\n",
      "RangeIndex: 2 entries, 0 to 1\n",
      "Data columns (total 8 columns):\n",
      " #   Column                 Non-Null Count  Dtype \n",
      "---  ------                 --------------  ----- \n",
      " 0   messages_included      2 non-null      int64 \n",
      " 1   mb_per_month_included  2 non-null      int64 \n",
      " 2   minutes_included       2 non-null      int64 \n",
      " 3   rub_monthly_fee        2 non-null      int64 \n",
      " 4   rub_per_gb             2 non-null      int64 \n",
      " 5   rub_per_message        2 non-null      int64 \n",
      " 6   rub_per_minute         2 non-null      int64 \n",
      " 7   tariff_name            2 non-null      object\n",
      "dtypes: int64(7), object(1)\n",
      "memory usage: 256.0+ bytes\n"
     ]
    },
    {
     "data": {
      "text/html": [
       "<div>\n",
       "<style scoped>\n",
       "    .dataframe tbody tr th:only-of-type {\n",
       "        vertical-align: middle;\n",
       "    }\n",
       "\n",
       "    .dataframe tbody tr th {\n",
       "        vertical-align: top;\n",
       "    }\n",
       "\n",
       "    .dataframe thead th {\n",
       "        text-align: right;\n",
       "    }\n",
       "</style>\n",
       "<table border=\"1\" class=\"dataframe\">\n",
       "  <thead>\n",
       "    <tr style=\"text-align: right;\">\n",
       "      <th></th>\n",
       "      <th>messages_included</th>\n",
       "      <th>mb_per_month_included</th>\n",
       "      <th>minutes_included</th>\n",
       "      <th>rub_monthly_fee</th>\n",
       "      <th>rub_per_gb</th>\n",
       "      <th>rub_per_message</th>\n",
       "      <th>rub_per_minute</th>\n",
       "      <th>tariff_name</th>\n",
       "    </tr>\n",
       "  </thead>\n",
       "  <tbody>\n",
       "    <tr>\n",
       "      <th>0</th>\n",
       "      <td>50</td>\n",
       "      <td>15360</td>\n",
       "      <td>500</td>\n",
       "      <td>550</td>\n",
       "      <td>200</td>\n",
       "      <td>3</td>\n",
       "      <td>3</td>\n",
       "      <td>smart</td>\n",
       "    </tr>\n",
       "    <tr>\n",
       "      <th>1</th>\n",
       "      <td>1000</td>\n",
       "      <td>30720</td>\n",
       "      <td>3000</td>\n",
       "      <td>1950</td>\n",
       "      <td>150</td>\n",
       "      <td>1</td>\n",
       "      <td>1</td>\n",
       "      <td>ultra</td>\n",
       "    </tr>\n",
       "  </tbody>\n",
       "</table>\n",
       "</div>"
      ],
      "text/plain": [
       "   messages_included  mb_per_month_included  minutes_included  \\\n",
       "0                 50                  15360               500   \n",
       "1               1000                  30720              3000   \n",
       "\n",
       "   rub_monthly_fee  rub_per_gb  rub_per_message  rub_per_minute tariff_name  \n",
       "0              550         200                3               3       smart  \n",
       "1             1950         150                1               1       ultra  "
      ]
     },
     "execution_count": 9,
     "metadata": {},
     "output_type": "execute_result"
    }
   ],
   "source": [
    "tariffs.info()\n",
    "tariffs"
   ]
  },
  {
   "cell_type": "markdown",
   "metadata": {},
   "source": [
    "Все верно. "
   ]
  },
  {
   "cell_type": "markdown",
   "metadata": {},
   "source": [
    "### Сalls"
   ]
  },
  {
   "cell_type": "code",
   "execution_count": 10,
   "metadata": {},
   "outputs": [
    {
     "name": "stdout",
     "output_type": "stream",
     "text": [
      "<class 'pandas.core.frame.DataFrame'>\n",
      "RangeIndex: 202607 entries, 0 to 202606\n",
      "Data columns (total 4 columns):\n",
      " #   Column     Non-Null Count   Dtype  \n",
      "---  ------     --------------   -----  \n",
      " 0   id         202607 non-null  object \n",
      " 1   call_date  202607 non-null  object \n",
      " 2   duration   202607 non-null  float64\n",
      " 3   user_id    202607 non-null  int64  \n",
      "dtypes: float64(1), int64(1), object(2)\n",
      "memory usage: 6.2+ MB\n"
     ]
    },
    {
     "data": {
      "text/html": [
       "<div>\n",
       "<style scoped>\n",
       "    .dataframe tbody tr th:only-of-type {\n",
       "        vertical-align: middle;\n",
       "    }\n",
       "\n",
       "    .dataframe tbody tr th {\n",
       "        vertical-align: top;\n",
       "    }\n",
       "\n",
       "    .dataframe thead th {\n",
       "        text-align: right;\n",
       "    }\n",
       "</style>\n",
       "<table border=\"1\" class=\"dataframe\">\n",
       "  <thead>\n",
       "    <tr style=\"text-align: right;\">\n",
       "      <th></th>\n",
       "      <th>id</th>\n",
       "      <th>call_date</th>\n",
       "      <th>duration</th>\n",
       "      <th>user_id</th>\n",
       "    </tr>\n",
       "  </thead>\n",
       "  <tbody>\n",
       "    <tr>\n",
       "      <th>0</th>\n",
       "      <td>1000_0</td>\n",
       "      <td>2018-07-25</td>\n",
       "      <td>0.00</td>\n",
       "      <td>1000</td>\n",
       "    </tr>\n",
       "    <tr>\n",
       "      <th>1</th>\n",
       "      <td>1000_1</td>\n",
       "      <td>2018-08-17</td>\n",
       "      <td>0.00</td>\n",
       "      <td>1000</td>\n",
       "    </tr>\n",
       "    <tr>\n",
       "      <th>2</th>\n",
       "      <td>1000_2</td>\n",
       "      <td>2018-06-11</td>\n",
       "      <td>2.85</td>\n",
       "      <td>1000</td>\n",
       "    </tr>\n",
       "    <tr>\n",
       "      <th>3</th>\n",
       "      <td>1000_3</td>\n",
       "      <td>2018-09-21</td>\n",
       "      <td>13.80</td>\n",
       "      <td>1000</td>\n",
       "    </tr>\n",
       "    <tr>\n",
       "      <th>4</th>\n",
       "      <td>1000_4</td>\n",
       "      <td>2018-12-15</td>\n",
       "      <td>5.18</td>\n",
       "      <td>1000</td>\n",
       "    </tr>\n",
       "  </tbody>\n",
       "</table>\n",
       "</div>"
      ],
      "text/plain": [
       "       id   call_date  duration  user_id\n",
       "0  1000_0  2018-07-25      0.00     1000\n",
       "1  1000_1  2018-08-17      0.00     1000\n",
       "2  1000_2  2018-06-11      2.85     1000\n",
       "3  1000_3  2018-09-21     13.80     1000\n",
       "4  1000_4  2018-12-15      5.18     1000"
      ]
     },
     "execution_count": 10,
     "metadata": {},
     "output_type": "execute_result"
    }
   ],
   "source": [
    "calls.info()\n",
    "calls.head()"
   ]
  },
  {
   "cell_type": "markdown",
   "metadata": {},
   "source": [
    "Приведем столбец id к типу int, call_date -- к типу datetime и проверим, что все данные относятся к 2018 году"
   ]
  },
  {
   "cell_type": "code",
   "execution_count": 11,
   "metadata": {},
   "outputs": [
    {
     "name": "stdout",
     "output_type": "stream",
     "text": [
      "min: 2018-01-01 00:00:00, max: 2018-12-31 00:00:00\n"
     ]
    }
   ],
   "source": [
    "calls['id'] = calls['id'].astype(int)\n",
    "calls['call_date'] = pd.to_datetime(calls['call_date'], format=\"%Y-%m-%d\")\n",
    "print(f\"min: {calls['call_date'].min()}, max: {calls['call_date'].max()}\")"
   ]
  },
  {
   "cell_type": "markdown",
   "metadata": {},
   "source": [
    "Все верно. Следуя правилам компании, округлим длительность звонка до минут (в большую сторону), приведя соответсвующий столбец к типу int"
   ]
  },
  {
   "cell_type": "code",
   "execution_count": 12,
   "metadata": {},
   "outputs": [
    {
     "name": "stdout",
     "output_type": "stream",
     "text": [
      "<class 'pandas.core.frame.DataFrame'>\n",
      "RangeIndex: 202607 entries, 0 to 202606\n",
      "Data columns (total 4 columns):\n",
      " #   Column     Non-Null Count   Dtype         \n",
      "---  ------     --------------   -----         \n",
      " 0   id         202607 non-null  int32         \n",
      " 1   call_date  202607 non-null  datetime64[ns]\n",
      " 2   duration   202607 non-null  int64         \n",
      " 3   user_id    202607 non-null  int64         \n",
      "dtypes: datetime64[ns](1), int32(1), int64(2)\n",
      "memory usage: 5.4 MB\n"
     ]
    }
   ],
   "source": [
    "calls['duration'] = calls['duration'].apply(lambda float_minutes: ceil(float_minutes))\n",
    "calls.info()"
   ]
  },
  {
   "cell_type": "markdown",
   "metadata": {},
   "source": [
    "Теперь проверим адекватность значений длительности звонков. Для этого построим диаграмму размаха."
   ]
  },
  {
   "cell_type": "code",
   "execution_count": 13,
   "metadata": {},
   "outputs": [
    {
     "data": {
      "image/png": "[encoded data removed]",
      "text/plain": [
       "<Figure size 432x288 with 1 Axes>"
      ]
     },
     "metadata": {
      "needs_background": "light"
     },
     "output_type": "display_data"
    }
   ],
   "source": [
    "calls.boxplot('duration')\n",
    "plt.title('Диаграмма размаха длительности звонков (все данные)')\n",
    "plt.show()"
   ]
  },
  {
   "cell_type": "markdown",
   "metadata": {},
   "source": [
    "Медиана находитмя на уровне 6 минут, есть звонки по 0 минут (по условию это не ошибка, так отмечены пропущенные звонки, и их удалять нельзя), а также выбивающиеся звонки (более 25 минут). В целом, данные скошены вправо. Проверим, что это не вызвано способом отметки пропцщенных звонков, и заодно определим их количество"
   ]
  },
  {
   "cell_type": "code",
   "execution_count": 14,
   "metadata": {},
   "outputs": [
    {
     "data": {
      "image/png": "[encoded data removed]",
      "text/plain": [
       "<Figure size 432x288 with 1 Axes>"
      ]
     },
     "metadata": {
      "needs_background": "light"
     },
     "output_type": "display_data"
    },
    {
     "name": "stdout",
     "output_type": "stream",
     "text": [
      "Всего звонков: 202607, пропущенных звонков: 39613 (19.6%)\n"
     ]
    }
   ],
   "source": [
    "accepted_calls = calls.query('duration > 0')\n",
    "accepted_calls.boxplot('duration')\n",
    "plt.title('Диаграмма размаха длительности звонков (duration > 0)')\n",
    "plt.show()\n",
    "\n",
    "all_calls_amount = len(calls)\n",
    "accepted_calls_amount = len(accepted_calls)\n",
    "missed_calls_amount = all_calls_amount - accepted_calls_amount\n",
    "print(f'Всего звонков: {all_calls_amount}, пропущенных звонков: {missed_calls_amount} ({round(missed_calls_amount * 100 / all_calls_amount, 1)}%)')"
   ]
  },
  {
   "cell_type": "markdown",
   "metadata": {},
   "source": [
    "Около 20% всех звонков - пропущенные, однако на распределение данных это оказывает не большое влияние. Видимо, короткие звонки (около минуты) -- вполне частое явление для рассматриваемых клиентов"
   ]
  },
  {
   "cell_type": "markdown",
   "metadata": {},
   "source": [
    "### Messages"
   ]
  },
  {
   "cell_type": "code",
   "execution_count": 15,
   "metadata": {},
   "outputs": [
    {
     "name": "stdout",
     "output_type": "stream",
     "text": [
      "<class 'pandas.core.frame.DataFrame'>\n",
      "RangeIndex: 123036 entries, 0 to 123035\n",
      "Data columns (total 3 columns):\n",
      " #   Column        Non-Null Count   Dtype \n",
      "---  ------        --------------   ----- \n",
      " 0   id            123036 non-null  object\n",
      " 1   message_date  123036 non-null  object\n",
      " 2   user_id       123036 non-null  int64 \n",
      "dtypes: int64(1), object(2)\n",
      "memory usage: 2.8+ MB\n"
     ]
    },
    {
     "data": {
      "text/html": [
       "<div>\n",
       "<style scoped>\n",
       "    .dataframe tbody tr th:only-of-type {\n",
       "        vertical-align: middle;\n",
       "    }\n",
       "\n",
       "    .dataframe tbody tr th {\n",
       "        vertical-align: top;\n",
       "    }\n",
       "\n",
       "    .dataframe thead th {\n",
       "        text-align: right;\n",
       "    }\n",
       "</style>\n",
       "<table border=\"1\" class=\"dataframe\">\n",
       "  <thead>\n",
       "    <tr style=\"text-align: right;\">\n",
       "      <th></th>\n",
       "      <th>id</th>\n",
       "      <th>message_date</th>\n",
       "      <th>user_id</th>\n",
       "    </tr>\n",
       "  </thead>\n",
       "  <tbody>\n",
       "    <tr>\n",
       "      <th>0</th>\n",
       "      <td>1000_0</td>\n",
       "      <td>2018-06-27</td>\n",
       "      <td>1000</td>\n",
       "    </tr>\n",
       "    <tr>\n",
       "      <th>1</th>\n",
       "      <td>1000_1</td>\n",
       "      <td>2018-10-08</td>\n",
       "      <td>1000</td>\n",
       "    </tr>\n",
       "    <tr>\n",
       "      <th>2</th>\n",
       "      <td>1000_2</td>\n",
       "      <td>2018-08-04</td>\n",
       "      <td>1000</td>\n",
       "    </tr>\n",
       "    <tr>\n",
       "      <th>3</th>\n",
       "      <td>1000_3</td>\n",
       "      <td>2018-06-16</td>\n",
       "      <td>1000</td>\n",
       "    </tr>\n",
       "    <tr>\n",
       "      <th>4</th>\n",
       "      <td>1000_4</td>\n",
       "      <td>2018-12-05</td>\n",
       "      <td>1000</td>\n",
       "    </tr>\n",
       "  </tbody>\n",
       "</table>\n",
       "</div>"
      ],
      "text/plain": [
       "       id message_date  user_id\n",
       "0  1000_0   2018-06-27     1000\n",
       "1  1000_1   2018-10-08     1000\n",
       "2  1000_2   2018-08-04     1000\n",
       "3  1000_3   2018-06-16     1000\n",
       "4  1000_4   2018-12-05     1000"
      ]
     },
     "execution_count": 15,
     "metadata": {},
     "output_type": "execute_result"
    }
   ],
   "source": [
    "messages.info()\n",
    "messages.head()"
   ]
  },
  {
   "cell_type": "markdown",
   "metadata": {},
   "source": [
    "Приведем столбец id к типу int, message_date -- к типу datetime и проверим, что данные относятся к необходимому периоду"
   ]
  },
  {
   "cell_type": "code",
   "execution_count": 16,
   "metadata": {},
   "outputs": [
    {
     "name": "stdout",
     "output_type": "stream",
     "text": [
      "min: 2018-01-02 00:00:00, max: 2018-12-31 00:00:00\n"
     ]
    }
   ],
   "source": [
    "messages['id'] = messages['id'].astype(int)\n",
    "messages['message_date'] = pd.to_datetime(messages['message_date'], format=\"%Y-%m-%d\")\n",
    "print(f\"min: {messages['message_date'].min()}, max: {messages['message_date'].max()}\")"
   ]
  },
  {
   "cell_type": "markdown",
   "metadata": {},
   "source": [
    "Все корректно."
   ]
  },
  {
   "cell_type": "markdown",
   "metadata": {},
   "source": [
    "### Internet"
   ]
  },
  {
   "cell_type": "code",
   "execution_count": 17,
   "metadata": {},
   "outputs": [
    {
     "name": "stdout",
     "output_type": "stream",
     "text": [
      "<class 'pandas.core.frame.DataFrame'>\n",
      "RangeIndex: 149396 entries, 0 to 149395\n",
      "Data columns (total 5 columns):\n",
      " #   Column        Non-Null Count   Dtype  \n",
      "---  ------        --------------   -----  \n",
      " 0   Unnamed: 0    149396 non-null  int64  \n",
      " 1   id            149396 non-null  object \n",
      " 2   mb_used       149396 non-null  float64\n",
      " 3   session_date  149396 non-null  object \n",
      " 4   user_id       149396 non-null  int64  \n",
      "dtypes: float64(1), int64(2), object(2)\n",
      "memory usage: 5.7+ MB\n"
     ]
    },
    {
     "data": {
      "text/html": [
       "<div>\n",
       "<style scoped>\n",
       "    .dataframe tbody tr th:only-of-type {\n",
       "        vertical-align: middle;\n",
       "    }\n",
       "\n",
       "    .dataframe tbody tr th {\n",
       "        vertical-align: top;\n",
       "    }\n",
       "\n",
       "    .dataframe thead th {\n",
       "        text-align: right;\n",
       "    }\n",
       "</style>\n",
       "<table border=\"1\" class=\"dataframe\">\n",
       "  <thead>\n",
       "    <tr style=\"text-align: right;\">\n",
       "      <th></th>\n",
       "      <th>Unnamed: 0</th>\n",
       "      <th>id</th>\n",
       "      <th>mb_used</th>\n",
       "      <th>session_date</th>\n",
       "      <th>user_id</th>\n",
       "    </tr>\n",
       "  </thead>\n",
       "  <tbody>\n",
       "    <tr>\n",
       "      <th>0</th>\n",
       "      <td>0</td>\n",
       "      <td>1000_0</td>\n",
       "      <td>112.95</td>\n",
       "      <td>2018-11-25</td>\n",
       "      <td>1000</td>\n",
       "    </tr>\n",
       "    <tr>\n",
       "      <th>1</th>\n",
       "      <td>1</td>\n",
       "      <td>1000_1</td>\n",
       "      <td>1052.81</td>\n",
       "      <td>2018-09-07</td>\n",
       "      <td>1000</td>\n",
       "    </tr>\n",
       "    <tr>\n",
       "      <th>2</th>\n",
       "      <td>2</td>\n",
       "      <td>1000_2</td>\n",
       "      <td>1197.26</td>\n",
       "      <td>2018-06-25</td>\n",
       "      <td>1000</td>\n",
       "    </tr>\n",
       "    <tr>\n",
       "      <th>3</th>\n",
       "      <td>3</td>\n",
       "      <td>1000_3</td>\n",
       "      <td>550.27</td>\n",
       "      <td>2018-08-22</td>\n",
       "      <td>1000</td>\n",
       "    </tr>\n",
       "    <tr>\n",
       "      <th>4</th>\n",
       "      <td>4</td>\n",
       "      <td>1000_4</td>\n",
       "      <td>302.56</td>\n",
       "      <td>2018-09-24</td>\n",
       "      <td>1000</td>\n",
       "    </tr>\n",
       "  </tbody>\n",
       "</table>\n",
       "</div>"
      ],
      "text/plain": [
       "   Unnamed: 0      id  mb_used session_date  user_id\n",
       "0           0  1000_0   112.95   2018-11-25     1000\n",
       "1           1  1000_1  1052.81   2018-09-07     1000\n",
       "2           2  1000_2  1197.26   2018-06-25     1000\n",
       "3           3  1000_3   550.27   2018-08-22     1000\n",
       "4           4  1000_4   302.56   2018-09-24     1000"
      ]
     },
     "execution_count": 17,
     "metadata": {},
     "output_type": "execute_result"
    }
   ],
   "source": [
    "internet.info()\n",
    "internet.head()"
   ]
  },
  {
   "cell_type": "markdown",
   "metadata": {},
   "source": [
    "Сразу избавимся от дублирующего индекс столбца `Unnamed: 0`. Также приведем столбец id к типу int, session_date -- к типу datetime и проверим, что данные относятся к необходимому периоду"
   ]
  },
  {
   "cell_type": "code",
   "execution_count": 18,
   "metadata": {},
   "outputs": [
    {
     "name": "stdout",
     "output_type": "stream",
     "text": [
      "min: 2018-01-01 00:00:00, max: 2018-12-31 00:00:00\n"
     ]
    }
   ],
   "source": [
    "internet = internet.drop(['Unnamed: 0'], axis=1)\n",
    "internet['id'] = internet['id'].astype(int)\n",
    "internet['session_date'] = pd.to_datetime(internet['session_date'], format=\"%Y-%m-%d\")\n",
    "print(f\"min: {internet['session_date'].min()}, max: {internet['session_date'].max()}\")"
   ]
  },
  {
   "cell_type": "markdown",
   "metadata": {},
   "source": [
    "Все корректно. Следуя правилам компании, округлять mb_used до Мб каждой отдельной сессии не нужно, они округляются в сумме за месяц."
   ]
  },
  {
   "cell_type": "markdown",
   "metadata": {},
   "source": [
    "Теперь проверим адекватность значений использованных мегабайт. Для этого построим диаграмму размаха."
   ]
  },
  {
   "cell_type": "code",
   "execution_count": 19,
   "metadata": {},
   "outputs": [
    {
     "data": {
      "image/png": "[encoded data removed]",
      "text/plain": [
       "<Figure size 432x288 with 1 Axes>"
      ]
     },
     "metadata": {
      "needs_background": "light"
     },
     "output_type": "display_data"
    }
   ],
   "source": [
    "plt.title('Диаграмма размаха использованных за сессию Мбайт (все данные)')\n",
    "internet.boxplot('mb_used')\n",
    "plt.show()"
   ]
  },
  {
   "cell_type": "markdown",
   "metadata": {},
   "source": [
    "В данных есть сессии, где использовано 0 Мбайт. Это выглядит подозрительно. Посмотрим долю таких записей"
   ]
  },
  {
   "cell_type": "code",
   "execution_count": 20,
   "metadata": {},
   "outputs": [
    {
     "name": "stdout",
     "output_type": "stream",
     "text": [
      "0.13118155773916304\n"
     ]
    }
   ],
   "source": [
    "print(len(internet.query('mb_used == 0')) / len(internet))"
   ]
  },
  {
   "cell_type": "markdown",
   "metadata": {},
   "source": [
    "Довольно много -- около 13%. Такие значения могли появиться в результате сбоев при сборе данных или если не удалось подключиться к интернету. Они могут серьезно перетягивают статистику, проверим это."
   ]
  },
  {
   "cell_type": "code",
   "execution_count": 21,
   "metadata": {},
   "outputs": [
    {
     "data": {
      "image/png": "[encoded data removed]",
      "text/plain": [
       "<Figure size 432x288 with 1 Axes>"
      ]
     },
     "metadata": {
      "needs_background": "light"
     },
     "output_type": "display_data"
    }
   ],
   "source": [
    "plt.title('Диаграмма размаха использованных за сессию Мбайт (mb_used > 0)')\n",
    "internet.query('mb_used > 0').boxplot('mb_used')\n",
    "plt.show()"
   ]
  },
  {
   "cell_type": "markdown",
   "metadata": {},
   "source": [
    "Структурные характеристики сместились не сильно (например, медиана -- примерно с 350 до 400), однако сессии, где было импользовано 0 Мбайт не предоставляют нам информации для решения задачи, заменить их на среднее тоже некорректно, поэтому избавимся от таких записей."
   ]
  },
  {
   "cell_type": "code",
   "execution_count": 22,
   "metadata": {},
   "outputs": [],
   "source": [
    "internet = internet.query('mb_used > 0')"
   ]
  },
  {
   "cell_type": "markdown",
   "metadata": {},
   "source": [
    "### Общее\n",
    "\n",
    "Все таблицы просмотрены и проведен первичный анализ. Пропуски есть только в столбце churn_date таблицы users (в обработке не нуждаются, так как это значит, что тариф все еще действовал). Проверим еще один момент -- во всех таблицах, которые ссылаются на пользователя по его id, проверим, что пользователь с таким id представлен в таблице users"
   ]
  },
  {
   "cell_type": "code",
   "execution_count": 23,
   "metadata": {},
   "outputs": [],
   "source": [
    "all_user_ids = set(users['user_id'])\n",
    "\n",
    "messages_user_ids = set(messages['user_id'])\n",
    "if messages_user_ids.difference(all_user_ids):\n",
    "    print('Ошибка в messages')\n",
    "    \n",
    "calls_user_ids = set(calls['user_id'])\n",
    "if calls_user_ids.difference(all_user_ids):\n",
    "    print('Ошибка в calls')\n",
    "    \n",
    "internet_user_ids = set(internet['user_id'])\n",
    "if internet_user_ids.difference(all_user_ids):\n",
    "    print('Ошибка в internet')"
   ]
  },
  {
   "cell_type": "markdown",
   "metadata": {},
   "source": [
    "Ошибок нет"
   ]
  },
  {
   "cell_type": "markdown",
   "metadata": {},
   "source": [
    "# 3. Подготовка данных <a class=\"anchor\" id=\"b4\"></a>"
   ]
  },
  {
   "cell_type": "markdown",
   "metadata": {},
   "source": [
    "Для определения того, какой тариф приносит больше денег (на данной выборке), необходимо подсчитать некоторые данные. Для каждого пользователя найдем:\n",
    "\n",
    "* количество сделанных звонков и израсходованных минут разговора по месяцам;\n",
    "* количество отправленных сообщений по месяцам;\n",
    "* объем израсходованного интернет-трафика по месяцам (окргуляем до гигабайт в большую сторону по правилам компании).\n",
    "\n",
    "Объединим этм данные в одну таблицу. Чтобы собрать все данные, join выполним по принципу outer, и тогда пустые значения будут значить, что пользователь пользовался тарифом в этом месяце, но не использовал соответствующую услугу, поэтому их заполним  нулями."
   ]
  },
  {
   "cell_type": "code",
   "execution_count": 24,
   "metadata": {},
   "outputs": [
    {
     "name": "stdout",
     "output_type": "stream",
     "text": [
      "<class 'pandas.core.frame.DataFrame'>\n",
      "Int64Index: 3214 entries, 0 to 3213\n",
      "Data columns (total 9 columns):\n",
      " #   Column           Non-Null Count  Dtype \n",
      "---  ------           --------------  ----- \n",
      " 0   user_id          3214 non-null   int64 \n",
      " 1   month            3214 non-null   int64 \n",
      " 2   calls_minutes    3214 non-null   int32 \n",
      " 3   calls_amount     3214 non-null   int32 \n",
      " 4   gb_used          3214 non-null   int32 \n",
      " 5   messages_amount  3214 non-null   int32 \n",
      " 6   tariff           3214 non-null   object\n",
      " 7   age              3214 non-null   int64 \n",
      " 8   city             3214 non-null   object\n",
      "dtypes: int32(4), int64(3), object(2)\n",
      "memory usage: 200.9+ KB\n"
     ]
    },
    {
     "data": {
      "text/html": [
       "<div>\n",
       "<style scoped>\n",
       "    .dataframe tbody tr th:only-of-type {\n",
       "        vertical-align: middle;\n",
       "    }\n",
       "\n",
       "    .dataframe tbody tr th {\n",
       "        vertical-align: top;\n",
       "    }\n",
       "\n",
       "    .dataframe thead th {\n",
       "        text-align: right;\n",
       "    }\n",
       "</style>\n",
       "<table border=\"1\" class=\"dataframe\">\n",
       "  <thead>\n",
       "    <tr style=\"text-align: right;\">\n",
       "      <th></th>\n",
       "      <th>user_id</th>\n",
       "      <th>month</th>\n",
       "      <th>calls_minutes</th>\n",
       "      <th>calls_amount</th>\n",
       "      <th>gb_used</th>\n",
       "      <th>messages_amount</th>\n",
       "      <th>tariff</th>\n",
       "      <th>age</th>\n",
       "      <th>city</th>\n",
       "    </tr>\n",
       "  </thead>\n",
       "  <tbody>\n",
       "    <tr>\n",
       "      <th>0</th>\n",
       "      <td>1000</td>\n",
       "      <td>5</td>\n",
       "      <td>159</td>\n",
       "      <td>22</td>\n",
       "      <td>3</td>\n",
       "      <td>22</td>\n",
       "      <td>ultra</td>\n",
       "      <td>52</td>\n",
       "      <td>Краснодар</td>\n",
       "    </tr>\n",
       "    <tr>\n",
       "      <th>1</th>\n",
       "      <td>1000</td>\n",
       "      <td>6</td>\n",
       "      <td>172</td>\n",
       "      <td>43</td>\n",
       "      <td>23</td>\n",
       "      <td>60</td>\n",
       "      <td>ultra</td>\n",
       "      <td>52</td>\n",
       "      <td>Краснодар</td>\n",
       "    </tr>\n",
       "    <tr>\n",
       "      <th>2</th>\n",
       "      <td>1000</td>\n",
       "      <td>7</td>\n",
       "      <td>340</td>\n",
       "      <td>47</td>\n",
       "      <td>14</td>\n",
       "      <td>75</td>\n",
       "      <td>ultra</td>\n",
       "      <td>52</td>\n",
       "      <td>Краснодар</td>\n",
       "    </tr>\n",
       "    <tr>\n",
       "      <th>3</th>\n",
       "      <td>1000</td>\n",
       "      <td>8</td>\n",
       "      <td>408</td>\n",
       "      <td>52</td>\n",
       "      <td>14</td>\n",
       "      <td>81</td>\n",
       "      <td>ultra</td>\n",
       "      <td>52</td>\n",
       "      <td>Краснодар</td>\n",
       "    </tr>\n",
       "    <tr>\n",
       "      <th>4</th>\n",
       "      <td>1000</td>\n",
       "      <td>9</td>\n",
       "      <td>466</td>\n",
       "      <td>58</td>\n",
       "      <td>15</td>\n",
       "      <td>57</td>\n",
       "      <td>ultra</td>\n",
       "      <td>52</td>\n",
       "      <td>Краснодар</td>\n",
       "    </tr>\n",
       "    <tr>\n",
       "      <th>5</th>\n",
       "      <td>1000</td>\n",
       "      <td>10</td>\n",
       "      <td>350</td>\n",
       "      <td>57</td>\n",
       "      <td>15</td>\n",
       "      <td>73</td>\n",
       "      <td>ultra</td>\n",
       "      <td>52</td>\n",
       "      <td>Краснодар</td>\n",
       "    </tr>\n",
       "    <tr>\n",
       "      <th>6</th>\n",
       "      <td>1000</td>\n",
       "      <td>11</td>\n",
       "      <td>338</td>\n",
       "      <td>43</td>\n",
       "      <td>15</td>\n",
       "      <td>58</td>\n",
       "      <td>ultra</td>\n",
       "      <td>52</td>\n",
       "      <td>Краснодар</td>\n",
       "    </tr>\n",
       "    <tr>\n",
       "      <th>7</th>\n",
       "      <td>1000</td>\n",
       "      <td>12</td>\n",
       "      <td>333</td>\n",
       "      <td>46</td>\n",
       "      <td>10</td>\n",
       "      <td>70</td>\n",
       "      <td>ultra</td>\n",
       "      <td>52</td>\n",
       "      <td>Краснодар</td>\n",
       "    </tr>\n",
       "    <tr>\n",
       "      <th>8</th>\n",
       "      <td>1001</td>\n",
       "      <td>11</td>\n",
       "      <td>430</td>\n",
       "      <td>59</td>\n",
       "      <td>18</td>\n",
       "      <td>0</td>\n",
       "      <td>smart</td>\n",
       "      <td>41</td>\n",
       "      <td>Москва</td>\n",
       "    </tr>\n",
       "    <tr>\n",
       "      <th>9</th>\n",
       "      <td>1001</td>\n",
       "      <td>12</td>\n",
       "      <td>414</td>\n",
       "      <td>63</td>\n",
       "      <td>14</td>\n",
       "      <td>0</td>\n",
       "      <td>smart</td>\n",
       "      <td>41</td>\n",
       "      <td>Москва</td>\n",
       "    </tr>\n",
       "    <tr>\n",
       "      <th>10</th>\n",
       "      <td>1002</td>\n",
       "      <td>6</td>\n",
       "      <td>117</td>\n",
       "      <td>15</td>\n",
       "      <td>11</td>\n",
       "      <td>4</td>\n",
       "      <td>smart</td>\n",
       "      <td>59</td>\n",
       "      <td>Стерлитамак</td>\n",
       "    </tr>\n",
       "    <tr>\n",
       "      <th>11</th>\n",
       "      <td>1002</td>\n",
       "      <td>7</td>\n",
       "      <td>214</td>\n",
       "      <td>26</td>\n",
       "      <td>18</td>\n",
       "      <td>11</td>\n",
       "      <td>smart</td>\n",
       "      <td>59</td>\n",
       "      <td>Стерлитамак</td>\n",
       "    </tr>\n",
       "    <tr>\n",
       "      <th>12</th>\n",
       "      <td>1002</td>\n",
       "      <td>8</td>\n",
       "      <td>289</td>\n",
       "      <td>42</td>\n",
       "      <td>20</td>\n",
       "      <td>13</td>\n",
       "      <td>smart</td>\n",
       "      <td>59</td>\n",
       "      <td>Стерлитамак</td>\n",
       "    </tr>\n",
       "    <tr>\n",
       "      <th>13</th>\n",
       "      <td>1002</td>\n",
       "      <td>9</td>\n",
       "      <td>206</td>\n",
       "      <td>36</td>\n",
       "      <td>17</td>\n",
       "      <td>4</td>\n",
       "      <td>smart</td>\n",
       "      <td>59</td>\n",
       "      <td>Стерлитамак</td>\n",
       "    </tr>\n",
       "    <tr>\n",
       "      <th>14</th>\n",
       "      <td>1002</td>\n",
       "      <td>10</td>\n",
       "      <td>212</td>\n",
       "      <td>33</td>\n",
       "      <td>14</td>\n",
       "      <td>10</td>\n",
       "      <td>smart</td>\n",
       "      <td>59</td>\n",
       "      <td>Стерлитамак</td>\n",
       "    </tr>\n",
       "    <tr>\n",
       "      <th>15</th>\n",
       "      <td>1002</td>\n",
       "      <td>11</td>\n",
       "      <td>243</td>\n",
       "      <td>32</td>\n",
       "      <td>19</td>\n",
       "      <td>16</td>\n",
       "      <td>smart</td>\n",
       "      <td>59</td>\n",
       "      <td>Стерлитамак</td>\n",
       "    </tr>\n",
       "    <tr>\n",
       "      <th>16</th>\n",
       "      <td>1002</td>\n",
       "      <td>12</td>\n",
       "      <td>236</td>\n",
       "      <td>33</td>\n",
       "      <td>18</td>\n",
       "      <td>12</td>\n",
       "      <td>smart</td>\n",
       "      <td>59</td>\n",
       "      <td>Стерлитамак</td>\n",
       "    </tr>\n",
       "    <tr>\n",
       "      <th>17</th>\n",
       "      <td>1003</td>\n",
       "      <td>8</td>\n",
       "      <td>380</td>\n",
       "      <td>55</td>\n",
       "      <td>9</td>\n",
       "      <td>37</td>\n",
       "      <td>ultra</td>\n",
       "      <td>23</td>\n",
       "      <td>Москва</td>\n",
       "    </tr>\n",
       "    <tr>\n",
       "      <th>18</th>\n",
       "      <td>1003</td>\n",
       "      <td>9</td>\n",
       "      <td>961</td>\n",
       "      <td>134</td>\n",
       "      <td>13</td>\n",
       "      <td>91</td>\n",
       "      <td>ultra</td>\n",
       "      <td>23</td>\n",
       "      <td>Москва</td>\n",
       "    </tr>\n",
       "    <tr>\n",
       "      <th>19</th>\n",
       "      <td>1003</td>\n",
       "      <td>10</td>\n",
       "      <td>855</td>\n",
       "      <td>108</td>\n",
       "      <td>15</td>\n",
       "      <td>83</td>\n",
       "      <td>ultra</td>\n",
       "      <td>23</td>\n",
       "      <td>Москва</td>\n",
       "    </tr>\n",
       "  </tbody>\n",
       "</table>\n",
       "</div>"
      ],
      "text/plain": [
       "    user_id  month  calls_minutes  calls_amount  gb_used  messages_amount  \\\n",
       "0      1000      5            159            22        3               22   \n",
       "1      1000      6            172            43       23               60   \n",
       "2      1000      7            340            47       14               75   \n",
       "3      1000      8            408            52       14               81   \n",
       "4      1000      9            466            58       15               57   \n",
       "5      1000     10            350            57       15               73   \n",
       "6      1000     11            338            43       15               58   \n",
       "7      1000     12            333            46       10               70   \n",
       "8      1001     11            430            59       18                0   \n",
       "9      1001     12            414            63       14                0   \n",
       "10     1002      6            117            15       11                4   \n",
       "11     1002      7            214            26       18               11   \n",
       "12     1002      8            289            42       20               13   \n",
       "13     1002      9            206            36       17                4   \n",
       "14     1002     10            212            33       14               10   \n",
       "15     1002     11            243            32       19               16   \n",
       "16     1002     12            236            33       18               12   \n",
       "17     1003      8            380            55        9               37   \n",
       "18     1003      9            961           134       13               91   \n",
       "19     1003     10            855           108       15               83   \n",
       "\n",
       "   tariff  age         city  \n",
       "0   ultra   52    Краснодар  \n",
       "1   ultra   52    Краснодар  \n",
       "2   ultra   52    Краснодар  \n",
       "3   ultra   52    Краснодар  \n",
       "4   ultra   52    Краснодар  \n",
       "5   ultra   52    Краснодар  \n",
       "6   ultra   52    Краснодар  \n",
       "7   ultra   52    Краснодар  \n",
       "8   smart   41       Москва  \n",
       "9   smart   41       Москва  \n",
       "10  smart   59  Стерлитамак  \n",
       "11  smart   59  Стерлитамак  \n",
       "12  smart   59  Стерлитамак  \n",
       "13  smart   59  Стерлитамак  \n",
       "14  smart   59  Стерлитамак  \n",
       "15  smart   59  Стерлитамак  \n",
       "16  smart   59  Стерлитамак  \n",
       "17  ultra   23       Москва  \n",
       "18  ultra   23       Москва  \n",
       "19  ultra   23       Москва  "
      ]
     },
     "execution_count": 24,
     "metadata": {},
     "output_type": "execute_result"
    }
   ],
   "source": [
    "calls['month'] = calls['call_date'].dt.month\n",
    "calls_stats = calls.pivot_table(index=['user_id', 'month'], values='duration', aggfunc=['sum', 'count'])\n",
    "calls_stats.columns = ['calls_minutes', 'calls_amount']\n",
    "\n",
    "internet['month'] = internet['session_date'].dt.month\n",
    "internet_stats = internet.pivot_table(index=['user_id', 'month'], values='mb_used', aggfunc='sum')\n",
    "internet_stats['gb_used'] = internet_stats['mb_used'].apply(lambda mb: ceil(mb / 1024))\n",
    "internet_stats = internet_stats.drop(['mb_used'], axis=1)\n",
    "\n",
    "messages['month'] = messages['message_date'].dt.month\n",
    "messages_stats = messages.pivot_table(index=['user_id', 'month'], values='message_date', aggfunc='count')\n",
    "messages_stats.columns = ['messages_amount']\n",
    "\n",
    "users_stats = calls_stats.join(internet_stats, how='outer').join(messages_stats, how='outer')\n",
    "users_stats = users_stats.reset_index()\n",
    "users_stats = users_stats.sort_values(by=['user_id', 'month'])\n",
    "users_stats = users_stats.fillna(0)\n",
    "users_stats = users_stats.merge(users[['tariff', 'age', 'city', 'user_id']], how = 'left')\n",
    "for column_name in ['calls_minutes', 'calls_amount', 'gb_used', 'messages_amount']:\n",
    "    users_stats[column_name] = users_stats[column_name].astype(int)\n",
    "\n",
    "    \n",
    "users_stats.info()\n",
    "users_stats.head(20)"
   ]
  },
  {
   "cell_type": "markdown",
   "metadata": {},
   "source": [
    "Теперь рассчитаем помесячную выручку с каждого пользователя: вычтем бесплатный лимит из суммарного количества звонков, сообщений и интернет-трафика, остатки умножим на соответсвующие значения из тарифного плана и, наконец, прибавим абонентскую плату, соответствующую тарифному плану."
   ]
  },
  {
   "cell_type": "code",
   "execution_count": 25,
   "metadata": {},
   "outputs": [
    {
     "data": {
      "text/plain": [
       "{'smart': {'messages_included': 50,\n",
       "  'mb_per_month_included': 15360,\n",
       "  'minutes_included': 500,\n",
       "  'rub_monthly_fee': 550,\n",
       "  'rub_per_gb': 200,\n",
       "  'rub_per_message': 3,\n",
       "  'rub_per_minute': 3},\n",
       " 'ultra': {'messages_included': 1000,\n",
       "  'mb_per_month_included': 30720,\n",
       "  'minutes_included': 3000,\n",
       "  'rub_monthly_fee': 1950,\n",
       "  'rub_per_gb': 150,\n",
       "  'rub_per_message': 1,\n",
       "  'rub_per_minute': 1}}"
      ]
     },
     "execution_count": 25,
     "metadata": {},
     "output_type": "execute_result"
    }
   ],
   "source": [
    "tariffs_dict = tariffs.set_index('tariff_name').to_dict(orient='index')\n",
    "tariffs_dict"
   ]
  },
  {
   "cell_type": "code",
   "execution_count": 26,
   "metadata": {},
   "outputs": [
    {
     "data": {
      "text/html": [
       "<div>\n",
       "<style scoped>\n",
       "    .dataframe tbody tr th:only-of-type {\n",
       "        vertical-align: middle;\n",
       "    }\n",
       "\n",
       "    .dataframe tbody tr th {\n",
       "        vertical-align: top;\n",
       "    }\n",
       "\n",
       "    .dataframe thead th {\n",
       "        text-align: right;\n",
       "    }\n",
       "</style>\n",
       "<table border=\"1\" class=\"dataframe\">\n",
       "  <thead>\n",
       "    <tr style=\"text-align: right;\">\n",
       "      <th></th>\n",
       "      <th>user_id</th>\n",
       "      <th>month</th>\n",
       "      <th>calls_minutes</th>\n",
       "      <th>calls_amount</th>\n",
       "      <th>gb_used</th>\n",
       "      <th>messages_amount</th>\n",
       "      <th>tariff</th>\n",
       "      <th>age</th>\n",
       "      <th>city</th>\n",
       "      <th>revenue</th>\n",
       "    </tr>\n",
       "  </thead>\n",
       "  <tbody>\n",
       "    <tr>\n",
       "      <th>0</th>\n",
       "      <td>1000</td>\n",
       "      <td>5</td>\n",
       "      <td>159</td>\n",
       "      <td>22</td>\n",
       "      <td>3</td>\n",
       "      <td>22</td>\n",
       "      <td>ultra</td>\n",
       "      <td>52</td>\n",
       "      <td>Краснодар</td>\n",
       "      <td>1950</td>\n",
       "    </tr>\n",
       "    <tr>\n",
       "      <th>1</th>\n",
       "      <td>1000</td>\n",
       "      <td>6</td>\n",
       "      <td>172</td>\n",
       "      <td>43</td>\n",
       "      <td>23</td>\n",
       "      <td>60</td>\n",
       "      <td>ultra</td>\n",
       "      <td>52</td>\n",
       "      <td>Краснодар</td>\n",
       "      <td>1950</td>\n",
       "    </tr>\n",
       "    <tr>\n",
       "      <th>2</th>\n",
       "      <td>1000</td>\n",
       "      <td>7</td>\n",
       "      <td>340</td>\n",
       "      <td>47</td>\n",
       "      <td>14</td>\n",
       "      <td>75</td>\n",
       "      <td>ultra</td>\n",
       "      <td>52</td>\n",
       "      <td>Краснодар</td>\n",
       "      <td>1950</td>\n",
       "    </tr>\n",
       "    <tr>\n",
       "      <th>3</th>\n",
       "      <td>1000</td>\n",
       "      <td>8</td>\n",
       "      <td>408</td>\n",
       "      <td>52</td>\n",
       "      <td>14</td>\n",
       "      <td>81</td>\n",
       "      <td>ultra</td>\n",
       "      <td>52</td>\n",
       "      <td>Краснодар</td>\n",
       "      <td>1950</td>\n",
       "    </tr>\n",
       "    <tr>\n",
       "      <th>4</th>\n",
       "      <td>1000</td>\n",
       "      <td>9</td>\n",
       "      <td>466</td>\n",
       "      <td>58</td>\n",
       "      <td>15</td>\n",
       "      <td>57</td>\n",
       "      <td>ultra</td>\n",
       "      <td>52</td>\n",
       "      <td>Краснодар</td>\n",
       "      <td>1950</td>\n",
       "    </tr>\n",
       "    <tr>\n",
       "      <th>5</th>\n",
       "      <td>1000</td>\n",
       "      <td>10</td>\n",
       "      <td>350</td>\n",
       "      <td>57</td>\n",
       "      <td>15</td>\n",
       "      <td>73</td>\n",
       "      <td>ultra</td>\n",
       "      <td>52</td>\n",
       "      <td>Краснодар</td>\n",
       "      <td>1950</td>\n",
       "    </tr>\n",
       "    <tr>\n",
       "      <th>6</th>\n",
       "      <td>1000</td>\n",
       "      <td>11</td>\n",
       "      <td>338</td>\n",
       "      <td>43</td>\n",
       "      <td>15</td>\n",
       "      <td>58</td>\n",
       "      <td>ultra</td>\n",
       "      <td>52</td>\n",
       "      <td>Краснодар</td>\n",
       "      <td>1950</td>\n",
       "    </tr>\n",
       "    <tr>\n",
       "      <th>7</th>\n",
       "      <td>1000</td>\n",
       "      <td>12</td>\n",
       "      <td>333</td>\n",
       "      <td>46</td>\n",
       "      <td>10</td>\n",
       "      <td>70</td>\n",
       "      <td>ultra</td>\n",
       "      <td>52</td>\n",
       "      <td>Краснодар</td>\n",
       "      <td>1950</td>\n",
       "    </tr>\n",
       "    <tr>\n",
       "      <th>8</th>\n",
       "      <td>1001</td>\n",
       "      <td>11</td>\n",
       "      <td>430</td>\n",
       "      <td>59</td>\n",
       "      <td>18</td>\n",
       "      <td>0</td>\n",
       "      <td>smart</td>\n",
       "      <td>41</td>\n",
       "      <td>Москва</td>\n",
       "      <td>1150</td>\n",
       "    </tr>\n",
       "    <tr>\n",
       "      <th>9</th>\n",
       "      <td>1001</td>\n",
       "      <td>12</td>\n",
       "      <td>414</td>\n",
       "      <td>63</td>\n",
       "      <td>14</td>\n",
       "      <td>0</td>\n",
       "      <td>smart</td>\n",
       "      <td>41</td>\n",
       "      <td>Москва</td>\n",
       "      <td>550</td>\n",
       "    </tr>\n",
       "    <tr>\n",
       "      <th>10</th>\n",
       "      <td>1002</td>\n",
       "      <td>6</td>\n",
       "      <td>117</td>\n",
       "      <td>15</td>\n",
       "      <td>11</td>\n",
       "      <td>4</td>\n",
       "      <td>smart</td>\n",
       "      <td>59</td>\n",
       "      <td>Стерлитамак</td>\n",
       "      <td>550</td>\n",
       "    </tr>\n",
       "    <tr>\n",
       "      <th>11</th>\n",
       "      <td>1002</td>\n",
       "      <td>7</td>\n",
       "      <td>214</td>\n",
       "      <td>26</td>\n",
       "      <td>18</td>\n",
       "      <td>11</td>\n",
       "      <td>smart</td>\n",
       "      <td>59</td>\n",
       "      <td>Стерлитамак</td>\n",
       "      <td>1150</td>\n",
       "    </tr>\n",
       "    <tr>\n",
       "      <th>12</th>\n",
       "      <td>1002</td>\n",
       "      <td>8</td>\n",
       "      <td>289</td>\n",
       "      <td>42</td>\n",
       "      <td>20</td>\n",
       "      <td>13</td>\n",
       "      <td>smart</td>\n",
       "      <td>59</td>\n",
       "      <td>Стерлитамак</td>\n",
       "      <td>1550</td>\n",
       "    </tr>\n",
       "    <tr>\n",
       "      <th>13</th>\n",
       "      <td>1002</td>\n",
       "      <td>9</td>\n",
       "      <td>206</td>\n",
       "      <td>36</td>\n",
       "      <td>17</td>\n",
       "      <td>4</td>\n",
       "      <td>smart</td>\n",
       "      <td>59</td>\n",
       "      <td>Стерлитамак</td>\n",
       "      <td>950</td>\n",
       "    </tr>\n",
       "    <tr>\n",
       "      <th>14</th>\n",
       "      <td>1002</td>\n",
       "      <td>10</td>\n",
       "      <td>212</td>\n",
       "      <td>33</td>\n",
       "      <td>14</td>\n",
       "      <td>10</td>\n",
       "      <td>smart</td>\n",
       "      <td>59</td>\n",
       "      <td>Стерлитамак</td>\n",
       "      <td>550</td>\n",
       "    </tr>\n",
       "    <tr>\n",
       "      <th>15</th>\n",
       "      <td>1002</td>\n",
       "      <td>11</td>\n",
       "      <td>243</td>\n",
       "      <td>32</td>\n",
       "      <td>19</td>\n",
       "      <td>16</td>\n",
       "      <td>smart</td>\n",
       "      <td>59</td>\n",
       "      <td>Стерлитамак</td>\n",
       "      <td>1350</td>\n",
       "    </tr>\n",
       "    <tr>\n",
       "      <th>16</th>\n",
       "      <td>1002</td>\n",
       "      <td>12</td>\n",
       "      <td>236</td>\n",
       "      <td>33</td>\n",
       "      <td>18</td>\n",
       "      <td>12</td>\n",
       "      <td>smart</td>\n",
       "      <td>59</td>\n",
       "      <td>Стерлитамак</td>\n",
       "      <td>1150</td>\n",
       "    </tr>\n",
       "    <tr>\n",
       "      <th>17</th>\n",
       "      <td>1003</td>\n",
       "      <td>8</td>\n",
       "      <td>380</td>\n",
       "      <td>55</td>\n",
       "      <td>9</td>\n",
       "      <td>37</td>\n",
       "      <td>ultra</td>\n",
       "      <td>23</td>\n",
       "      <td>Москва</td>\n",
       "      <td>1950</td>\n",
       "    </tr>\n",
       "    <tr>\n",
       "      <th>18</th>\n",
       "      <td>1003</td>\n",
       "      <td>9</td>\n",
       "      <td>961</td>\n",
       "      <td>134</td>\n",
       "      <td>13</td>\n",
       "      <td>91</td>\n",
       "      <td>ultra</td>\n",
       "      <td>23</td>\n",
       "      <td>Москва</td>\n",
       "      <td>1950</td>\n",
       "    </tr>\n",
       "    <tr>\n",
       "      <th>19</th>\n",
       "      <td>1003</td>\n",
       "      <td>10</td>\n",
       "      <td>855</td>\n",
       "      <td>108</td>\n",
       "      <td>15</td>\n",
       "      <td>83</td>\n",
       "      <td>ultra</td>\n",
       "      <td>23</td>\n",
       "      <td>Москва</td>\n",
       "      <td>1950</td>\n",
       "    </tr>\n",
       "  </tbody>\n",
       "</table>\n",
       "</div>"
      ],
      "text/plain": [
       "    user_id  month  calls_minutes  calls_amount  gb_used  messages_amount  \\\n",
       "0      1000      5            159            22        3               22   \n",
       "1      1000      6            172            43       23               60   \n",
       "2      1000      7            340            47       14               75   \n",
       "3      1000      8            408            52       14               81   \n",
       "4      1000      9            466            58       15               57   \n",
       "5      1000     10            350            57       15               73   \n",
       "6      1000     11            338            43       15               58   \n",
       "7      1000     12            333            46       10               70   \n",
       "8      1001     11            430            59       18                0   \n",
       "9      1001     12            414            63       14                0   \n",
       "10     1002      6            117            15       11                4   \n",
       "11     1002      7            214            26       18               11   \n",
       "12     1002      8            289            42       20               13   \n",
       "13     1002      9            206            36       17                4   \n",
       "14     1002     10            212            33       14               10   \n",
       "15     1002     11            243            32       19               16   \n",
       "16     1002     12            236            33       18               12   \n",
       "17     1003      8            380            55        9               37   \n",
       "18     1003      9            961           134       13               91   \n",
       "19     1003     10            855           108       15               83   \n",
       "\n",
       "   tariff  age         city  revenue  \n",
       "0   ultra   52    Краснодар     1950  \n",
       "1   ultra   52    Краснодар     1950  \n",
       "2   ultra   52    Краснодар     1950  \n",
       "3   ultra   52    Краснодар     1950  \n",
       "4   ultra   52    Краснодар     1950  \n",
       "5   ultra   52    Краснодар     1950  \n",
       "6   ultra   52    Краснодар     1950  \n",
       "7   ultra   52    Краснодар     1950  \n",
       "8   smart   41       Москва     1150  \n",
       "9   smart   41       Москва      550  \n",
       "10  smart   59  Стерлитамак      550  \n",
       "11  smart   59  Стерлитамак     1150  \n",
       "12  smart   59  Стерлитамак     1550  \n",
       "13  smart   59  Стерлитамак      950  \n",
       "14  smart   59  Стерлитамак      550  \n",
       "15  smart   59  Стерлитамак     1350  \n",
       "16  smart   59  Стерлитамак     1150  \n",
       "17  ultra   23       Москва     1950  \n",
       "18  ultra   23       Москва     1950  \n",
       "19  ultra   23       Москва     1950  "
      ]
     },
     "execution_count": 26,
     "metadata": {},
     "output_type": "execute_result"
    }
   ],
   "source": [
    "def count_revenue(um_info):\n",
    "    tariff_info = tariffs_dict[um_info['tariff']]\n",
    "    \n",
    "    revenue = tariff_info['rub_monthly_fee']\n",
    "    \n",
    "    revenue += (max(um_info['calls_minutes'] - tariff_info['minutes_included'], 0) * \n",
    "                tariff_info['rub_per_minute'])\n",
    "    \n",
    "    revenue += (max(um_info['gb_used'] - tariff_info['mb_per_month_included'] // 1024, 0) * \n",
    "                tariff_info['rub_per_gb'])\n",
    "    \n",
    "    revenue += (max(um_info['messages_amount'] - tariff_info['messages_included'], 0) * \n",
    "                tariff_info['rub_per_message'])\n",
    "\n",
    "    return(revenue)\n",
    "\n",
    "\n",
    "\n",
    "users_stats['revenue'] = users_stats.apply(count_revenue, axis = 1)  \n",
    "users_stats.head(20)"
   ]
  },
  {
   "cell_type": "markdown",
   "metadata": {},
   "source": [
    "# 4. Анализ данных <a class=\"anchor\" id=\"b5\"></a>\n",
    "\n",
    "Опишем поведение клиентов оператора, исходя из выборки. Разделим таблицу пользователей на 2 части по используемому тарифу. Посмотрим, сколько минут разговора, сколько сообщений и какой объём интернет-трафика требуется пользователям каждого тарифа в месяц. Построим гистограммы и опишем распределения."
   ]
  },
  {
   "cell_type": "code",
   "execution_count": 27,
   "metadata": {},
   "outputs": [
    {
     "name": "stdout",
     "output_type": "stream",
     "text": [
      "Количество записей\n",
      "Всего: 3214\n",
      "О пользователях, использующих тариф «Ультра»: 31%\n",
      "О пользователях, использующих тариф «Смарт»: 69%\n"
     ]
    }
   ],
   "source": [
    "ultra_users_stats = users_stats[users_stats['tariff'] == 'ultra']\n",
    "smart_users_stats = users_stats[users_stats['tariff'] == 'smart']\n",
    "print('Количество записей')\n",
    "print('Всего:', len(users_stats))\n",
    "print(f'О пользователях, использующих тариф «Ультра»: {round(len(ultra_users_stats) * 100 / len(users_stats))}%')\n",
    "print(f'О пользователях, использующих тариф «Смарт»: {round(len(smart_users_stats) * 100 / len(users_stats))}%')"
   ]
  },
  {
   "cell_type": "markdown",
   "metadata": {},
   "source": [
    "Отметим, что записей о пользователях, использующих тариф «Смарт», примерно в 2 раза больше, чем записей о пользователях, использующих тариф «Ультра»."
   ]
  },
  {
   "cell_type": "code",
   "execution_count": 28,
   "metadata": {},
   "outputs": [
    {
     "name": "stdout",
     "output_type": "stream",
     "text": [
      "Помесячные траты пользователей в зависимости от тарифа\n"
     ]
    },
    {
     "data": {
      "image/png": "[encoded data removed]",
      "text/plain": [
       "<Figure size 1008x432 with 2 Axes>"
      ]
     },
     "metadata": {
      "needs_background": "light"
     },
     "output_type": "display_data"
    },
    {
     "data": {
      "image/png": "[encoded data removed]",
      "text/plain": [
       "<Figure size 1008x432 with 2 Axes>"
      ]
     },
     "metadata": {
      "needs_background": "light"
     },
     "output_type": "display_data"
    },
    {
     "data": {
      "image/png": "[encoded data removed]",
      "text/plain": [
       "<Figure size 1008x432 with 2 Axes>"
      ]
     },
     "metadata": {
      "needs_background": "light"
     },
     "output_type": "display_data"
    },
    {
     "data": {
      "image/png": "[encoded data removed]",
      "text/plain": [
       "<Figure size 1008x432 with 2 Axes>"
      ]
     },
     "metadata": {
      "needs_background": "light"
     },
     "output_type": "display_data"
    }
   ],
   "source": [
    "print('Помесячные траты пользователей в зависимости от тарифа')\n",
    "for column_name, title in (\n",
    "    ('calls_minutes', 'Минуты звонков'), \n",
    "    ('calls_amount', 'Количество звонков'), \n",
    "    ('gb_used', 'Использование интернета (Гб)'), \n",
    "    ('messages_amount', 'Количество сообщений')\n",
    "):\n",
    "    fig, (ax1, ax2) = plt.subplots(1, 2, figsize=(14, 6))\n",
    "    fig.suptitle(title)\n",
    "\n",
    "    ax1.boxplot([ultra_users_stats[column_name], smart_users_stats[column_name]], labels = ['ultra', 'smart'])\n",
    "    ax1.set_title('Гистограммы размаха')\n",
    "    ax1.set_ylabel(title)\n",
    "    ax1.grid()\n",
    "    \n",
    "    n_bins=15\n",
    "    \n",
    "    hist, bins = np.histogram(ultra_users_stats[column_name], bins=n_bins)\n",
    "    ax2.bar(bins[:-1], hist.astype(np.float32) / hist.sum(), width=(bins[1]-bins[0]), alpha = 0.5, label='ultra')\n",
    "    \n",
    "    hist, bins = np.histogram(smart_users_stats[column_name], bins=n_bins)\n",
    "    ax2.bar(bins[:-1], hist.astype(np.float32) / hist.sum(), width=(bins[1]-bins[0]), alpha = 0.5, label='smart')\n",
    "\n",
    "    ax2.legend(loc='upper left')\n",
    "    ax2.set_title('Гистограммы')\n",
    "    ax2.set_ylabel('Доля от общего числа пользователей тарифа')\n",
    "    ax2.grid()"
   ]
  },
  {
   "cell_type": "markdown",
   "metadata": {},
   "source": [
    "Напомним: \n",
    "* тариф «Ультра» дороже и включает в себя бОльшие объемы услуг, а дополнения к этому объему стоят дешевле;\n",
    "* тариф «Смарт» дешевле, включает в себя меньшие объемы услуг, а дополнения к этому объему стоят дороже.\n",
    "\n",
    "Гистограммы количества отправленных сообщений отличаются от остальных: они сильно скошены вправо, то есть большинство пользователей обоих тарифов используют немного сообщений (при этом в тарифе «Ультра» выбросы все же распространяются дальше, в сравнении с тарифом «Смарт»). Видимо, сказывается влияние социальных сетей и интернет-мессенджеров: общение все больше переходит туда.\n",
    "\n",
    "\n",
    "В целом полученные графики показывают ожидаемое: пользователи тарифа «Ультра» используют в общем бОльшие объемы услуг в сравнении с пользователями, которые используют тариф «Смарт» (медианы стоят дальше, и на гистограммах бОльшие доли расположены дальше). В данных о пользователях тарифа «Смарт» большие объемы использования услуг - это скорее редкость (выбросы, которые выходят за \"усы\" гистограммы размаха)\n",
    "\n",
    "При этом у пользователей тарифа «Ультра» межквартильный размах (расстояние между первым и третьим квартилем, размер \"ящика\") больше, то есть средние 50% набора данных тарифа «Ультра» распределены сильнее. Пользователи могут использовать как сравнительно малые (в пределах данного тарифа), так и сравнительно большие объемы услуг (помним, что на межквартильный размах не влияют экстремальные выбросы). Это **структурные** показатели говорят о том, что данные тарифа «Смарт» более скученные (поведение пользователей этого тарифа более схоже).\n",
    "\n",
    "Что касается распределения минут звонков и объема интернет-трафика, то соответствующие распределения для обоих тарифов напоминают нормальные (особенно если отбросить пропущенные звонки -- звонки с нулевой продолжительностью). \"Колокол\" у пользователей тарифа «Смарт» более высокий. Этот **алгебраический** показатель вновь подтверждает, что данные пользователей тарифа «Смарт» более скученные.\n",
    "\n",
    "Посмотрим на статистические данные в цифрах: подсчитаем квартилили, средние и стандартные отклонения по рассматриваемым показателям для каждого тарифа "
   ]
  },
  {
   "cell_type": "code",
   "execution_count": 29,
   "metadata": {},
   "outputs": [
    {
     "name": "stdout",
     "output_type": "stream",
     "text": [
      "Тариф Ультра\n"
     ]
    },
    {
     "data": {
      "text/html": [
       "<div>\n",
       "<style scoped>\n",
       "    .dataframe tbody tr th:only-of-type {\n",
       "        vertical-align: middle;\n",
       "    }\n",
       "\n",
       "    .dataframe tbody tr th {\n",
       "        vertical-align: top;\n",
       "    }\n",
       "\n",
       "    .dataframe thead th {\n",
       "        text-align: right;\n",
       "    }\n",
       "</style>\n",
       "<table border=\"1\" class=\"dataframe\">\n",
       "  <thead>\n",
       "    <tr style=\"text-align: right;\">\n",
       "      <th></th>\n",
       "      <th>calls_minutes</th>\n",
       "      <th>calls_amount</th>\n",
       "      <th>gb_used</th>\n",
       "      <th>messages_amount</th>\n",
       "    </tr>\n",
       "  </thead>\n",
       "  <tbody>\n",
       "    <tr>\n",
       "      <th>count</th>\n",
       "      <td>985.000000</td>\n",
       "      <td>985.000000</td>\n",
       "      <td>985.000000</td>\n",
       "      <td>985.000000</td>\n",
       "    </tr>\n",
       "    <tr>\n",
       "      <th>mean</th>\n",
       "      <td>526.623350</td>\n",
       "      <td>73.392893</td>\n",
       "      <td>19.494416</td>\n",
       "      <td>49.363452</td>\n",
       "    </tr>\n",
       "    <tr>\n",
       "      <th>std</th>\n",
       "      <td>317.606098</td>\n",
       "      <td>43.916853</td>\n",
       "      <td>9.853511</td>\n",
       "      <td>47.804457</td>\n",
       "    </tr>\n",
       "    <tr>\n",
       "      <th>min</th>\n",
       "      <td>0.000000</td>\n",
       "      <td>0.000000</td>\n",
       "      <td>0.000000</td>\n",
       "      <td>0.000000</td>\n",
       "    </tr>\n",
       "    <tr>\n",
       "      <th>25%</th>\n",
       "      <td>284.000000</td>\n",
       "      <td>41.000000</td>\n",
       "      <td>12.000000</td>\n",
       "      <td>6.000000</td>\n",
       "    </tr>\n",
       "    <tr>\n",
       "      <th>50%</th>\n",
       "      <td>518.000000</td>\n",
       "      <td>74.000000</td>\n",
       "      <td>19.000000</td>\n",
       "      <td>38.000000</td>\n",
       "    </tr>\n",
       "    <tr>\n",
       "      <th>75%</th>\n",
       "      <td>752.000000</td>\n",
       "      <td>104.000000</td>\n",
       "      <td>27.000000</td>\n",
       "      <td>79.000000</td>\n",
       "    </tr>\n",
       "    <tr>\n",
       "      <th>max</th>\n",
       "      <td>1673.000000</td>\n",
       "      <td>244.000000</td>\n",
       "      <td>49.000000</td>\n",
       "      <td>224.000000</td>\n",
       "    </tr>\n",
       "  </tbody>\n",
       "</table>\n",
       "</div>"
      ],
      "text/plain": [
       "       calls_minutes  calls_amount     gb_used  messages_amount\n",
       "count     985.000000    985.000000  985.000000       985.000000\n",
       "mean      526.623350     73.392893   19.494416        49.363452\n",
       "std       317.606098     43.916853    9.853511        47.804457\n",
       "min         0.000000      0.000000    0.000000         0.000000\n",
       "25%       284.000000     41.000000   12.000000         6.000000\n",
       "50%       518.000000     74.000000   19.000000        38.000000\n",
       "75%       752.000000    104.000000   27.000000        79.000000\n",
       "max      1673.000000    244.000000   49.000000       224.000000"
      ]
     },
     "execution_count": 29,
     "metadata": {},
     "output_type": "execute_result"
    }
   ],
   "source": [
    "print('Тариф Ультра')\n",
    "ultra_users_stats[['calls_minutes', 'calls_amount', 'gb_used', 'messages_amount']].describe()"
   ]
  },
  {
   "cell_type": "code",
   "execution_count": 30,
   "metadata": {},
   "outputs": [
    {
     "name": "stdout",
     "output_type": "stream",
     "text": [
      "Тариф Смарт\n"
     ]
    },
    {
     "data": {
      "text/html": [
       "<div>\n",
       "<style scoped>\n",
       "    .dataframe tbody tr th:only-of-type {\n",
       "        vertical-align: middle;\n",
       "    }\n",
       "\n",
       "    .dataframe tbody tr th {\n",
       "        vertical-align: top;\n",
       "    }\n",
       "\n",
       "    .dataframe thead th {\n",
       "        text-align: right;\n",
       "    }\n",
       "</style>\n",
       "<table border=\"1\" class=\"dataframe\">\n",
       "  <thead>\n",
       "    <tr style=\"text-align: right;\">\n",
       "      <th></th>\n",
       "      <th>calls_minutes</th>\n",
       "      <th>calls_amount</th>\n",
       "      <th>gb_used</th>\n",
       "      <th>messages_amount</th>\n",
       "    </tr>\n",
       "  </thead>\n",
       "  <tbody>\n",
       "    <tr>\n",
       "      <th>count</th>\n",
       "      <td>2229.000000</td>\n",
       "      <td>2229.000000</td>\n",
       "      <td>2229.000000</td>\n",
       "      <td>2229.000000</td>\n",
       "    </tr>\n",
       "    <tr>\n",
       "      <th>mean</th>\n",
       "      <td>417.934948</td>\n",
       "      <td>58.463437</td>\n",
       "      <td>16.328847</td>\n",
       "      <td>33.384029</td>\n",
       "    </tr>\n",
       "    <tr>\n",
       "      <th>std</th>\n",
       "      <td>190.313730</td>\n",
       "      <td>25.939858</td>\n",
       "      <td>5.747061</td>\n",
       "      <td>28.227876</td>\n",
       "    </tr>\n",
       "    <tr>\n",
       "      <th>min</th>\n",
       "      <td>0.000000</td>\n",
       "      <td>0.000000</td>\n",
       "      <td>0.000000</td>\n",
       "      <td>0.000000</td>\n",
       "    </tr>\n",
       "    <tr>\n",
       "      <th>25%</th>\n",
       "      <td>282.000000</td>\n",
       "      <td>40.000000</td>\n",
       "      <td>13.000000</td>\n",
       "      <td>10.000000</td>\n",
       "    </tr>\n",
       "    <tr>\n",
       "      <th>50%</th>\n",
       "      <td>422.000000</td>\n",
       "      <td>60.000000</td>\n",
       "      <td>17.000000</td>\n",
       "      <td>28.000000</td>\n",
       "    </tr>\n",
       "    <tr>\n",
       "      <th>75%</th>\n",
       "      <td>545.000000</td>\n",
       "      <td>76.000000</td>\n",
       "      <td>20.000000</td>\n",
       "      <td>51.000000</td>\n",
       "    </tr>\n",
       "    <tr>\n",
       "      <th>max</th>\n",
       "      <td>1435.000000</td>\n",
       "      <td>198.000000</td>\n",
       "      <td>38.000000</td>\n",
       "      <td>143.000000</td>\n",
       "    </tr>\n",
       "  </tbody>\n",
       "</table>\n",
       "</div>"
      ],
      "text/plain": [
       "       calls_minutes  calls_amount      gb_used  messages_amount\n",
       "count    2229.000000   2229.000000  2229.000000      2229.000000\n",
       "mean      417.934948     58.463437    16.328847        33.384029\n",
       "std       190.313730     25.939858     5.747061        28.227876\n",
       "min         0.000000      0.000000     0.000000         0.000000\n",
       "25%       282.000000     40.000000    13.000000        10.000000\n",
       "50%       422.000000     60.000000    17.000000        28.000000\n",
       "75%       545.000000     76.000000    20.000000        51.000000\n",
       "max      1435.000000    198.000000    38.000000       143.000000"
      ]
     },
     "execution_count": 30,
     "metadata": {},
     "output_type": "execute_result"
    }
   ],
   "source": [
    "print('Тариф Смарт')\n",
    "smart_users_stats[['calls_minutes', 'calls_amount', 'gb_used', 'messages_amount']].describe()"
   ]
  },
  {
   "cell_type": "markdown",
   "metadata": {},
   "source": [
    "Выводы, основанные на графиках, подтверждаются: пользователи тарифа «Смарт» (по среднему и квартилям), тратям меньшие объемы услуг по сравнению с полтзователями тарифа «Ультра», а стандартные отклонения всем рассматриваемым услугам выше у пользователей тарифа «Ультра», то есть разброс этих данных выше. \n",
    "\n",
    "Вспомним, что записей о пользователях, использующих тариф «Смарт», примерно в 2 раза больше, чем записей о пользователях, использующих тариф «Ультра». Более высокие показатели стандартного отклонения можно связать с этим. Однако структурные характеристики (например, межквартильный размах) приводят к таким же выводам."
   ]
  },
  {
   "cell_type": "markdown",
   "metadata": {},
   "source": [
    "Теперь проанализируем выручку компании с пользователей различных тарифов за месяц."
   ]
  },
  {
   "cell_type": "code",
   "execution_count": 31,
   "metadata": {},
   "outputs": [
    {
     "data": {
      "image/png": "[encoded data removed]",
      "text/plain": [
       "<Figure size 1008x432 with 2 Axes>"
      ]
     },
     "metadata": {
      "needs_background": "light"
     },
     "output_type": "display_data"
    }
   ],
   "source": [
    "fig, (ax1, ax2) = plt.subplots(1, 2, figsize=(14, 6))\n",
    "fig.suptitle('Выручка компании с пользователя за месяц')\n",
    "\n",
    "ax1.boxplot([ultra_users_stats['revenue'], smart_users_stats['revenue']], labels = ['ultra', 'smart'])\n",
    "ax1.set_title('Гистограммы размаха')\n",
    "ax1.set_ylabel('Выручка')\n",
    "ax1.grid()\n",
    "\n",
    "n_bins=30\n",
    "\n",
    "hist, bins = np.histogram(ultra_users_stats['revenue'], bins=n_bins)\n",
    "ax2.bar(bins[:-1], hist.astype(np.float32) / hist.sum(), width=(bins[1]-bins[0]), alpha = 0.5, label='ultra')\n",
    "\n",
    "hist, bins = np.histogram(smart_users_stats['revenue'], bins=n_bins)\n",
    "ax2.bar(bins[:-1], hist.astype(np.float32) / hist.sum(), width=(bins[1]-bins[0]), alpha = 0.5, label='smart')\n",
    "\n",
    "ax2.legend(loc='upper left')\n",
    "ax2.set_title('Гистограммы')\n",
    "ax2.set_ylabel('Доля от общего числа пользователей тарифа')\n",
    "ax2.grid()"
   ]
  },
  {
   "cell_type": "markdown",
   "metadata": {},
   "source": [
    "По графикам видно, что выручка с клиентов, использующих тариф Ультра, в основном складывается из ежемесячной оплаты тарифа (медиана и весь ящик, то есть доход с 50% пользователей за месяцы, составляет 1950 рублей), и превышает ее довольно редко, то есть пользователи не слишком часто используют услуги сверх тарифа. \n",
    "\n",
    "Медиана выручки с пользователей тарифа Смарт находится на отметке около 1000 рублей. При ежемесячной плате за этот тариф в 550 рублей, это говорит о том, что пользователи данного тарифа довольно часто обращаются за дополнительными объемами услуг. Об этом же можно сказать, посмотрев на гистограмму для тарифа Смарт, которая сильно смещена вправо. По диаграмме также можно оценить долю пользователей, которые обращаются за дполнительными объемами услуг: около 40% всех месячных выручек находятся на уровне 550 рублей (ежемесячная плата за этот тариф), а остальные - правее. То есть около 60% пользователей обращаются за дполнительными объемами услуг.\n"
   ]
  },
  {
   "cell_type": "code",
   "execution_count": 32,
   "metadata": {},
   "outputs": [
    {
     "name": "stdout",
     "output_type": "stream",
     "text": [
      "Статистические данные о выручке\n",
      "Тариф Ультра.  Среднее: 2070, медиана: 1950, дисперсия: 141517\n",
      "Тариф Смарт. Среднее: 1290, медиана: 1023, дисперсия: 669786\n"
     ]
    }
   ],
   "source": [
    "print('Статистические данные о выручке')\n",
    "print(f\"Тариф Ультра.  Среднее: {round(ultra_users_stats['revenue'].mean())}, медиана: {round(ultra_users_stats['revenue'].median())}, дисперсия: {round(np.var(ultra_users_stats['revenue'], ddof=1))}\")\n",
    "print(f\"Тариф Смарт. Среднее: {round(smart_users_stats['revenue'].mean())}, медиана: {round(smart_users_stats['revenue'].median())}, дисперсия: {round(np.var(smart_users_stats['revenue'], ddof=1))}\")\n"
   ]
  },
  {
   "cell_type": "markdown",
   "metadata": {},
   "source": [
    "На данной выборке средняя и медианная выручка по тарифу Ультра выше (практически в 2 раза), чем по тарифу Смарт, поэтому есть основание предположить, что такой же результат будет верен и для соответствующих генеральных совокупностей. \n",
    "\n",
    "При этом дисперсия выручки, то ее есть разброс значений, по тарифу Ультра выше примерно в 5 раз. Это объяснимо тем, что и разбросы значений по объемам используемых услуг пользователями этого тарифа выше. Возможно, компании следует следует обратить на активных пользователей тарифа Ультра дополнительное внимание."
   ]
  },
  {
   "cell_type": "markdown",
   "metadata": {},
   "source": [
    "# 5. Проверка гипотез <a class=\"anchor\" id=\"b6\"></a>"
   ]
  },
  {
   "cell_type": "markdown",
   "metadata": {},
   "source": [
    "### 1. Cредние выручки пользователей тарифов «Ультра» и «Смарт» различаются.\n",
    "\n",
    "Размеры выборок достаточно большие (всего 3214 записей, из них 31% -- о тарифе Ультра, 69% -- о тарифе Смарт), поэтому, согласно центрально предельной теореме, можно считать, что выборочные средние нормально распределены. Генеральные совокупности (выручки с пользователей различных тарифов) независимы. Таким образом, для проверки гипотезы применИм статистический тест с использованием t-распределения Стьюдента (при этом необходимо учитывать равенство или различие дисперсий).\n",
    "\n",
    "Н0 всегда формулируется так, чтобы использовать знак равенства:\n",
    "\n",
    "**Н0=\"средние выручки пользователей тарифов «Ультра» и «Смарт» равны\"**.\n",
    "\n",
    "Так как задача - выяснить, какой тариф приносит больше денег, и есть основания предполагать, что средняя выручка по тарифу Ультра выше, чем по тарифу Смарт, то будем использовать следующую одностороннюю альтернативную гипотезу: \n",
    "\n",
    "**Н1=\"Средняя выручка пользователей тарифа «Ультра» больше, чем пользователей тарифа «Смарт»\"**.\n",
    "\n",
    "\n",
    "Так как выборки независимые, то для проверки гипотезы о равенстве среднего двух генеральных совокупностей по взятым из них выборкам применим метод `scipy.stats.ttest_ind(array1, array2, equal_var)`. Выборки разного размера, и дисперсия выручки по тарифу Ультра в несколько раз больше, чем дисперсия выручки по тарифу Смарт, поэтому в параметре equal_var укажем False (чтобы дисперсии считались разными и тест не объединял обе выборки в одну для более точной оценки дисперсии).\n",
    "\n",
    "Метод возвращает два числа: cтатистику разности и ее уровень значимости p-value (вероятность получить наблюдаемый или еще более далекий от предполагаемого результат при условии, что нулевая гипотеза верна). p-value возвращается двусторонним, а наша альтернативная гипотеза односторонняя, поэтому полученный p-value будем делить на 2, а также использовать дополнительное сравнение при принятии решения о необходимости отвержения нулевой гипотезы.\n"
   ]
  },
  {
   "cell_type": "code",
   "execution_count": 33,
   "metadata": {},
   "outputs": [],
   "source": [
    "import scipy.stats as st\n",
    "\n",
    "# Установим пороговое значение (критический уровень статистической значимости) alpha - 5%\n",
    "alpha = 0.05 "
   ]
  },
  {
   "cell_type": "code",
   "execution_count": 34,
   "metadata": {},
   "outputs": [
    {
     "name": "stdout",
     "output_type": "stream",
     "text": [
      "p-value: 2.1303156965538042e-250\n",
      "Отвергаем нулевую гипотезу\n"
     ]
    }
   ],
   "source": [
    "res = st.ttest_ind(ultra_users_stats['revenue'], smart_users_stats['revenue'], equal_var=False)\n",
    "print(f'p-value: {res.pvalue / 2}')\n",
    "\n",
    "if res.pvalue / 2 < alpha and ultra_users_stats['revenue'].mean() > smart_users_stats['revenue'].mean():\n",
    "    print('Отвергаем нулевую гипотезу')\n",
    "else:\n",
    "    print('Не получилось отвергнуть нулевую гипотезу')"
   ]
  },
  {
   "cell_type": "markdown",
   "metadata": {},
   "source": [
    "Полученное значение pvalue говорит о том, что средняя выручка пользователей тарифов «Ультра» и «Смарт» различается, и такое различие практически невозможно получить случайно (вероятность стремится к 0). Таким образом, нельзя делать вывод о равенстве средней прибыли. Также выполнено условие: среднее по выручке пользователей тарифа «Ультра» больше чем пользователей тарифа «Смарт». \n",
    "\n",
    "Таким образом, нулевую гипотезу отвергаем: нельзя сказать, что средняя выручка пользователей тарифов «Ультра» и «Смарт» не различается, а альтернативную гипотезу оставляем: вполне возможно, что средняя выручка пользователей тарифа «Ультра» больше чем пользователей тарифа Смарт."
   ]
  },
  {
   "cell_type": "markdown",
   "metadata": {},
   "source": [
    "### 2. Средняя выручка пользователей из Москвы отличается от выручки пользователей из других регионов.\n",
    "\n",
    "Разделим выборку на соответсвующие части"
   ]
  },
  {
   "cell_type": "code",
   "execution_count": 35,
   "metadata": {},
   "outputs": [
    {
     "name": "stdout",
     "output_type": "stream",
     "text": [
      "Количество записей\n",
      "Всего: 3214\n",
      "О пользователях из Москвы: 19%\n",
      "О пользователях из других регионов: 81%\n"
     ]
    }
   ],
   "source": [
    "useres_stats_moscow = users_stats[users_stats['city'] == 'Москва']\n",
    "useres_stats_other = users_stats[users_stats['city'] != 'Москва']\n",
    "\n",
    "print('Количество записей')\n",
    "print('Всего:', len(users_stats))\n",
    "print(f'О пользователях из Москвы: {round(len(useres_stats_moscow) * 100 / len(users_stats))}%')\n",
    "print(f'О пользователях из других регионов: {round(len(useres_stats_other) * 100 / len(users_stats))}%')"
   ]
  },
  {
   "cell_type": "markdown",
   "metadata": {},
   "source": [
    "Применим все те же рассуждения за исключением того, что альтернативную гипотезу сформулируем односторонней (в учебных целях -- для разнообразия, а также исходя из того, что не проводился предварительный анализ для такой стратификации выборки, и нет достаточного обоснования, чтобы предположить, что средняя выручка одной из групп больше другой.\n",
    "\n",
    "Здесь также укажем, что дисперсии нельзя считать равными, так как размер выборки о пользователях из Москвы в 4 раза меньше, чем размер выборки о пользователях из других регионов (проверено и при equal_var=True, результат теста тот же, различия p-valuе в тысячных долях)\n",
    "\n",
    "**Н0=\"средние выручки пользователей из Москвы и пользователей из других регионов равны\"**.\n",
    "\n",
    "**Н1=\"средние выручки пользователей из Москвы и пользователей из других регионов не равны\"**."
   ]
  },
  {
   "cell_type": "code",
   "execution_count": 36,
   "metadata": {},
   "outputs": [
    {
     "name": "stdout",
     "output_type": "stream",
     "text": [
      "p-value: 0.5257376663729298\n",
      "Не получилось отвергнуть нулевую гипотезу\n"
     ]
    }
   ],
   "source": [
    "res = st.ttest_ind(useres_stats_moscow['revenue'], useres_stats_other['revenue'], equal_var=False)\n",
    "print(f'p-value: {res.pvalue}')\n",
    "\n",
    "if res.pvalue < alpha:\n",
    "    print('Отвергаем нулевую гипотезу')\n",
    "else:\n",
    "    print('Не получилось отвергнуть нулевую гипотезу')"
   ]
  },
  {
   "cell_type": "markdown",
   "metadata": {},
   "source": [
    "Полученное значение p-value говорит о том, что с вероятностью в 5.26% полученное различие средней выручки пользователей из Москвы и из других регионов случайно. Это достаточная вероятность, чтобы оставить нулевую гипотезу. Таким образом, гипотеза о том, что средние выручки пользователей из Москвы и пользователей из других регионов равны, не отвергается."
   ]
  },
  {
   "cell_type": "markdown",
   "metadata": {},
   "source": [
    "# Вывод <a class=\"anchor\" id=\"b7\"></a>\n",
    "\n",
    "Был проведен предварительный анализ ежемесячной выручки и поведения клиентов на небольшой выборке клиентов.\n",
    "\n",
    "**В результате анализа** выяснилось, что в этой выборке в среднем пользователи тарифа Смарт в месяц:\n",
    "* тратят 417 минут звонков (меньше включенного количества), \n",
    "* отправляют 33 сообщения (меньше включенного количества), \n",
    "* используют 16 Гб интернета (примерно равно включенным в пакет), \n",
    "\n",
    "а пользователи тарифа Ультра - \n",
    "\n",
    "* 527 минут звонков (в 6 раз меньше включенного количества), \n",
    "* 49 сообщений (в 20 раз меньше включенного количества),\n",
    "* 19 Гб интернета (в 1.5 раза меньше включенного количества). \n",
    "\n",
    "\n",
    "\n",
    "Также в ходе анализа стало известно, что средняя месячная выручка с пользователей тарифа Ультра состваляет 2070 рублей, а  с пользователей тарифа Смарт - 1290 рублей.\n",
    "\n",
    "Однако по одному среднему из выборки нельзя делать выводов о поведении всех клиентов, ведь  поведение клиента и выручка значительно меняются от пользователя к пользователю. \n",
    "\n",
    "В целом, разброс значений различных данных у пользоваетелей тарифа Смарт меньше, чем у пользователей тарифа Ультра. Пользователей тарифа Ультра в выборке примерно в 2 раза меньше, чем пользователей тарифа Смарт.\n",
    "\n",
    "\n",
    "\n",
    "\n",
    "\n",
    "**При проверке гипотез** были оставлены (не удалось опровергнуть) две гипотезы.\n",
    "\n",
    "1. Средняя выручка пользователей тарифа «Ультра» больше, чем пользователей тарифа «Смарт».\n",
    "\n",
    "2. Средние выручки пользователей из Москвы и пользователей из других регионов равны.\n",
    "\n",
    "\n",
    "Таким образом, коммерческому департаменту для увеличения прибыли, возможно, следует обратить внимание на пользователей тарифа Ультра (особенно тех, кто значительно превышает предложенный объем услуг). При этом делать между клиентами из Москвы и клиентами из других регионов, возможно, нет необходимости."
   ]
  },
  {
   "cell_type": "code",
   "execution_count": null,
   "metadata": {},
   "outputs": [],
   "source": []
  },
  {
   "cell_type": "code",
   "execution_count": null,
   "metadata": {},
   "outputs": [],
   "source": []
  },
  {
   "cell_type": "code",
   "execution_count": null,
   "metadata": {},
   "outputs": [],
   "source": []
  },
  {
   "cell_type": "code",
   "execution_count": null,
   "metadata": {},
   "outputs": [],
   "source": []
  },
  {
   "cell_type": "markdown",
   "metadata": {},
   "source": [
    "Черновое: Как и ожидалось, в этой выборке в среднем пользователи тарифа смарт тратят меньше минут разговора, сообщений и интернет-трафика в месяц, чем пользователи тарифа ультра. Практически все распределения скошены влево, а значит есть пользователи, которым нужно значительно больше перечисленных услуг, чем средним. Возможно, стоит разработать для таких клиентов особый подход.\n",
    "\n",
    "```\n",
    "# users_stats['tariff_num'] = (users_stats['tariff'] == 'ultra').astype(int)\n",
    "\n",
    "# plt.rcParams.update({'font.size': 15})\n",
    "# print('Матрица рассеяния по статистическим данным использованных услуг')\n",
    "# pd.plotting.scatter_matrix(users_stats.drop(['user_id', 'calls_amount'], axis=1), alpha=0.2, figsize=(20, 10))\n",
    "# plt.show()\n",
    "# plt.rcParams.update({'font.size': 12})\n",
    "```\n",
    "Можно заметить, что к концу года объем использования услуг несколько увеличивается. Также видно положительную корреляцию между количеством и суммарной продолжительностью звонков (что логично). Распределения объемов использования звонков и интернета похожи на нормальные, со смещением вправо, а вот с сообщениями ситуация иная: большинство пользователей используют мало сообщений."
   ]
  }
 ],
 "metadata": {
  "kernelspec": {
   "display_name": "Python 3",
   "language": "python",
   "name": "python3"
  },
  "language_info": {
   "codemirror_mode": {
    "name": "ipython",
    "version": 3
   },
   "file_extension": ".py",
   "mimetype": "text/x-python",
   "name": "python",
   "nbconvert_exporter": "python",
   "pygments_lexer": "ipython3",
   "version": "3.8.5"
  }
 },
 "nbformat": 4,
 "nbformat_minor": 4
}
