{
 "cells": [
  {
   "cell_type": "markdown",
   "metadata": {},
   "source": [
    "## Комментарий наставника\n",
    "Привет, Алена! Меня зовут Александр и я буду проверять твой проект. Спасибо за твою работу:) Далее по ходу работы я оставлю свои комментарии и предложения. Постарайся их учесть в этом и дальнейших проектах. Комментарии ты можешь найти в текстовой ячейке с заголовком «Комментарий наставника» (как здесь) либо в ячейках с кодом в следующем виде: «#Комментарий наставника: <сам комментарий>». \\\n",
    "Часть комментариев может быть выделена цветом: \\\n",
    "<span style=\"color:green\">Зелёный цвет символизирует, что всё отлично</span> \\\n",
    "<span style=\"color:orange\">Оранжевый цвет символизирует рекомендации</span> \\\n",
    "<span style=\"color:red\">Красный цвет символизирует недочёты</span>"
   ]
  },
  {
   "cell_type": "markdown",
   "metadata": {},
   "source": [
    "# Описание проекта"
   ]
  },
  {
   "cell_type": "markdown",
   "metadata": {},
   "source": [
    "Допустим, вы работаете в добывающей компании «ГлавРосГосНефть». Нужно решить, где бурить новую скважину.\n",
    "\n",
    "Вам предоставлены пробы нефти в трёх регионах: в каждом 10 000 месторождений, где измерили качество нефти и объём её запасов. Постройте модель машинного обучения, которая поможет определить регион, где добыча принесёт наибольшую прибыль. Проанализируйте возможную прибыль и риски техникой *Bootstrap.*\n",
    "\n",
    "Шаги для выбора локации:\n",
    "\n",
    "- В избранном регионе ищут месторождения, для каждого определяют значения признаков;\n",
    "- Строят модель и оценивают объём запасов;\n",
    "- Выбирают месторождения с самым высокими оценками значений. Количество месторождений зависит от бюджета компании и стоимости разработки одной скважины;\n",
    "- Прибыль равна суммарной прибыли отобранных месторождений."
   ]
  },
  {
   "cell_type": "markdown",
   "metadata": {},
   "source": [
    "# 0. Импорт библиотек и функций"
   ]
  },
  {
   "cell_type": "code",
   "execution_count": 1,
   "metadata": {},
   "outputs": [],
   "source": [
    "import pandas as pd\n",
    "from sklearn.model_selection import train_test_split\n",
    "from sklearn.preprocessing import StandardScaler\n",
    "from sklearn.linear_model import LinearRegression\n",
    "from sklearn.metrics import mean_squared_error\n",
    "from math import sqrt\n",
    "from numpy.random import RandomState\n",
    "\n",
    "state = RandomState(12345)\n",
    "n = 3"
   ]
  },
  {
   "cell_type": "markdown",
   "metadata": {},
   "source": [
    "# 1. Загрузка и подготовка данных"
   ]
  },
  {
   "cell_type": "markdown",
   "metadata": {},
   "source": [
    "Загрузим данные геологоразведки трёх регионов и  сохраним их в переменных data0, data1,data1 (объединенных в массив data). Выведем обущую информацию по каждой таблице и посмотрим, как они выглят на примере первых 5 строк первой таблицы."
   ]
  },
  {
   "cell_type": "code",
   "execution_count": 2,
   "metadata": {},
   "outputs": [
    {
     "name": "stdout",
     "output_type": "stream",
     "text": [
      "Регион 0\n",
      "<class 'pandas.core.frame.DataFrame'>\n",
      "RangeIndex: 100000 entries, 0 to 99999\n",
      "Data columns (total 5 columns):\n",
      "id         100000 non-null object\n",
      "f0         100000 non-null float64\n",
      "f1         100000 non-null float64\n",
      "f2         100000 non-null float64\n",
      "product    100000 non-null float64\n",
      "dtypes: float64(4), object(1)\n",
      "memory usage: 3.8+ MB\n",
      "None\n",
      "\n",
      "Регион 1\n",
      "<class 'pandas.core.frame.DataFrame'>\n",
      "RangeIndex: 100000 entries, 0 to 99999\n",
      "Data columns (total 5 columns):\n",
      "id         100000 non-null object\n",
      "f0         100000 non-null float64\n",
      "f1         100000 non-null float64\n",
      "f2         100000 non-null float64\n",
      "product    100000 non-null float64\n",
      "dtypes: float64(4), object(1)\n",
      "memory usage: 3.8+ MB\n",
      "None\n",
      "\n",
      "Регион 2\n",
      "<class 'pandas.core.frame.DataFrame'>\n",
      "RangeIndex: 100000 entries, 0 to 99999\n",
      "Data columns (total 5 columns):\n",
      "id         100000 non-null object\n",
      "f0         100000 non-null float64\n",
      "f1         100000 non-null float64\n",
      "f2         100000 non-null float64\n",
      "product    100000 non-null float64\n",
      "dtypes: float64(4), object(1)\n",
      "memory usage: 3.8+ MB\n",
      "None\n",
      "\n",
      "Общий вид таблиц\n"
     ]
    },
    {
     "data": {
      "text/html": [
       "<div>\n",
       "<style scoped>\n",
       "    .dataframe tbody tr th:only-of-type {\n",
       "        vertical-align: middle;\n",
       "    }\n",
       "\n",
       "    .dataframe tbody tr th {\n",
       "        vertical-align: top;\n",
       "    }\n",
       "\n",
       "    .dataframe thead th {\n",
       "        text-align: right;\n",
       "    }\n",
       "</style>\n",
       "<table border=\"1\" class=\"dataframe\">\n",
       "  <thead>\n",
       "    <tr style=\"text-align: right;\">\n",
       "      <th></th>\n",
       "      <th>id</th>\n",
       "      <th>f0</th>\n",
       "      <th>f1</th>\n",
       "      <th>f2</th>\n",
       "      <th>product</th>\n",
       "    </tr>\n",
       "  </thead>\n",
       "  <tbody>\n",
       "    <tr>\n",
       "      <td>0</td>\n",
       "      <td>txEyH</td>\n",
       "      <td>0.705745</td>\n",
       "      <td>-0.497823</td>\n",
       "      <td>1.221170</td>\n",
       "      <td>105.280062</td>\n",
       "    </tr>\n",
       "    <tr>\n",
       "      <td>1</td>\n",
       "      <td>2acmU</td>\n",
       "      <td>1.334711</td>\n",
       "      <td>-0.340164</td>\n",
       "      <td>4.365080</td>\n",
       "      <td>73.037750</td>\n",
       "    </tr>\n",
       "    <tr>\n",
       "      <td>2</td>\n",
       "      <td>409Wp</td>\n",
       "      <td>1.022732</td>\n",
       "      <td>0.151990</td>\n",
       "      <td>1.419926</td>\n",
       "      <td>85.265647</td>\n",
       "    </tr>\n",
       "    <tr>\n",
       "      <td>3</td>\n",
       "      <td>iJLyR</td>\n",
       "      <td>-0.032172</td>\n",
       "      <td>0.139033</td>\n",
       "      <td>2.978566</td>\n",
       "      <td>168.620776</td>\n",
       "    </tr>\n",
       "    <tr>\n",
       "      <td>4</td>\n",
       "      <td>Xdl7t</td>\n",
       "      <td>1.988431</td>\n",
       "      <td>0.155413</td>\n",
       "      <td>4.751769</td>\n",
       "      <td>154.036647</td>\n",
       "    </tr>\n",
       "  </tbody>\n",
       "</table>\n",
       "</div>"
      ],
      "text/plain": [
       "      id        f0        f1        f2     product\n",
       "0  txEyH  0.705745 -0.497823  1.221170  105.280062\n",
       "1  2acmU  1.334711 -0.340164  4.365080   73.037750\n",
       "2  409Wp  1.022732  0.151990  1.419926   85.265647\n",
       "3  iJLyR -0.032172  0.139033  2.978566  168.620776\n",
       "4  Xdl7t  1.988431  0.155413  4.751769  154.036647"
      ]
     },
     "execution_count": 2,
     "metadata": {},
     "output_type": "execute_result"
    }
   ],
   "source": [
    "data = []\n",
    "\n",
    "for i in range(n):\n",
    "    data.append(pd.read_csv('/datasets/geo_data_%d.csv'%i))\n",
    "    print('Регион %d'%i)\n",
    "    print(data[i].info())\n",
    "    print()\n",
    "\n",
    "print(\"Общий вид таблиц\")\n",
    "data[0].head()"
   ]
  },
  {
   "cell_type": "markdown",
   "metadata": {},
   "source": [
    "В каждой таблице есть данные о 100000 скважинах в соответсвующем регионе, для каждой скважины указаны:\n",
    "\n",
    "* id уникальный идентификатор скважины;\n",
    "* f0, f1, f2 — три признака точек (неважно, что они означают, но сами признаки значимы);\n",
    "* product — объём запасов в скважине (тыс. баррелей).\n",
    "\n",
    "Типы данных подобраны корректно, пропусков нет. Осталось отделить признаки  от целевого - объёма запасов в скважине (для каждой таблицы отдельно)"
   ]
  },
  {
   "cell_type": "code",
   "execution_count": 3,
   "metadata": {},
   "outputs": [],
   "source": [
    "data_features = []\n",
    "data_target = []\n",
    "\n",
    "for i in range(n):\n",
    "    data_features.append(data[i][['f0', 'f1', 'f2']])\n",
    "    data_target.append(data[i]['product'])"
   ]
  },
  {
   "cell_type": "markdown",
   "metadata": {},
   "source": [
    "## Комментарий наставника\n",
    "<span style=\"color:orange\">Применяй масштабирование уже после того, как разбила датасет на выборки. Это нужно для того, чтобы обучать (с помощью метода «fit») Scaler на тренировочной выборке, а после этого уже трансформировать (с помощью «transform») все выборки (включая и тренировочную). Применяя такой подход, мы сможем получить более справедливую оценку модели на валидационной/тестовой выборках. Подробнее см. по ссылке в блоке «Data transformation with held out data»: https://scikit-learn.org/stable/modules/cross_validation.html#computing-cross-validated-metrics</span>"
   ]
  },
  {
   "cell_type": "markdown",
   "metadata": {},
   "source": [
    "Данные готовы к дальнейшим действиям."
   ]
  },
  {
   "cell_type": "markdown",
   "metadata": {},
   "source": [
    "## Комментарий наставника\n",
    "<span style=\"color:green\">Хорошо.</span>"
   ]
  },
  {
   "cell_type": "markdown",
   "metadata": {},
   "source": [
    "# 2. Обучение и проверка модели"
   ]
  },
  {
   "cell_type": "markdown",
   "metadata": {},
   "source": [
    "### 1) Разбьем данные по каждому региону на обучающую и валидационную выборки в соотношении 75:25. "
   ]
  },
  {
   "cell_type": "code",
   "execution_count": 4,
   "metadata": {},
   "outputs": [],
   "source": [
    "data_features_train = []\n",
    "data_features_valid = []\n",
    "data_target_train = []\n",
    "data_target_valid = []\n",
    "\n",
    "for i in range(n):\n",
    "    features_train, features_valid, target_train, target_valid = train_test_split(\n",
    "    data_features[i], data_target[i], test_size=0.25, random_state=12345)\n",
    "    data_features_train.append(features_train)\n",
    "    data_features_valid.append(features_valid)\n",
    "    data_target_train.append(target_train)\n",
    "    data_target_valid.append(target_valid)"
   ]
  },
  {
   "cell_type": "markdown",
   "metadata": {},
   "source": [
    "Признаки скважин численные, но их не следует масштабировать, так как они и так обработаны"
   ]
  },
  {
   "cell_type": "markdown",
   "metadata": {},
   "source": [
    "## Комментарий наставника\n",
    "<span style=\"color:orange\">UPD 29.05.2020 Да, верно. Мы масштабируем те численные признаки, где разброс значений большой. В исходных датасетах это совсем не так, поэтому масштабирование никаким образом не повлияет на работу модели: не улучшит и не ухудшит.</span>"
   ]
  },
  {
   "cell_type": "markdown",
   "metadata": {},
   "source": [
    "### 2) Обучим модели и сохраним предсказания и правильные ответы на валидационной выборке.\n"
   ]
  },
  {
   "cell_type": "code",
   "execution_count": 5,
   "metadata": {},
   "outputs": [],
   "source": [
    "models = [0] * n\n",
    "data_predicted_valid = []\n",
    "for i in range(n):\n",
    "    models[i] = LinearRegression(n_jobs = -1)\n",
    "    models[i].fit(data_features_train[i], data_target_train[i])\n",
    "    data_predicted_valid.append(models[i].predict(data_features_valid[i]))"
   ]
  },
  {
   "cell_type": "markdown",
   "metadata": {},
   "source": [
    "### 3) Напечатаем на экране средний запас предсказанного сырья и RMSE модели."
   ]
  },
  {
   "cell_type": "code",
   "execution_count": 6,
   "metadata": {},
   "outputs": [
    {
     "name": "stdout",
     "output_type": "stream",
     "text": [
      "ПО РЕГИОНУ 0:\n",
      "Средний запас предсказанного сырья: 92.59256778438038\n",
      "Средний запас реального сырья: 92.07859674082927\n",
      "RMSE модели: 37.5794217150813\n",
      "\n",
      "ПО РЕГИОНУ 1:\n",
      "Средний запас предсказанного сырья: 68.728546895446\n",
      "Средний запас реального сырья: 68.72313602435997\n",
      "RMSE модели: 0.893099286775616\n",
      "\n",
      "ПО РЕГИОНУ 2:\n",
      "Средний запас предсказанного сырья: 94.96504596800489\n",
      "Средний запас реального сырья: 94.88423280885438\n",
      "RMSE модели: 40.02970873393434\n",
      "\n"
     ]
    }
   ],
   "source": [
    "data_mean_predicted_valid = []\n",
    "data_mse_valid = []\n",
    "\n",
    "for i in range(n):\n",
    "    print(\"ПО РЕГИОНУ %d:\"%i)\n",
    "    data_mean_predicted_valid.append(data_predicted_valid[i].mean())\n",
    "    print(\"Средний запас предсказанного сырья:\", data_mean_predicted_valid[i])\n",
    "    print(\"Средний запас реального сырья:\", data_target_valid[i].mean())\n",
    "    data_mse_valid.append(mean_squared_error(data_target_valid[i], data_predicted_valid[i]))\n",
    "    print(\"RMSE модели:\", sqrt(data_mse_valid[i]))\n",
    "    print()"
   ]
  },
  {
   "cell_type": "markdown",
   "metadata": {},
   "source": [
    "### Вывод\n",
    "\n",
    "По полученным данным видно, что, хотя средняя квадратичная ошибка у нулевой и третей модели достаточно большие (а у 1 - наоборот), но в среднем модели одинаково близко вычисляют средний запас сырья в данном количестве скважин"
   ]
  },
  {
   "cell_type": "markdown",
   "metadata": {},
   "source": [
    "## Комментарий наставника\n",
    "<span style=\"color:green\">Замечательно, второй блок проекта абсолютно верный.</span> \\\n",
    "<span style=\"color:orange\">Для компактности и сокращения дублирования кода советую создать функцию или цикл и таким образом проитерироваться (выполнить один и тот же набор операций) по всем трём регионам.</span> \\\n",
    "<span style=\"color:green\">UPD 29.05.2020 Теперь всё отлично.</span>"
   ]
  },
  {
   "cell_type": "markdown",
   "metadata": {},
   "source": [
    "# 3. Подготовка к расчёту прибыли"
   ]
  },
  {
   "cell_type": "markdown",
   "metadata": {},
   "source": [
    "### 1) Все ключевые значения для расчётов сохраним в отдельных переменных.\n",
    "* При разведке региона исследуют 500 точек (total_amount), из которых выбирают 200 лучших для расчёта прибыли (chosen).\n",
    "* Бюджет на разработку скважин в регионе — 10 млрд рублей. (cost)\n",
    "* Один баррель сырья приносит 450 рублей дохода. Доход с каждой единицы продукта составляет 450 тыс. рублей, поскольку объём указан в тысячах баррелей. (income)"
   ]
  },
  {
   "cell_type": "code",
   "execution_count": 7,
   "metadata": {},
   "outputs": [],
   "source": [
    "total_amount = 500\n",
    "chosen = 200\n",
    "expenses = 10**10\n",
    "income_per_1 = 450000"
   ]
  },
  {
   "cell_type": "markdown",
   "metadata": {},
   "source": [
    "## Комментарий наставника\n",
    "<span style=\"color:green\">Хорошо.</span>"
   ]
  },
  {
   "cell_type": "markdown",
   "metadata": {},
   "source": [
    "### 2)  Рассчитаем достаточный объём сырья для безубыточной разработки новой скважины. Сравним полученный объём сырья со средним запасом в каждом регионе.\n"
   ]
  },
  {
   "cell_type": "code",
   "execution_count": 8,
   "metadata": {},
   "outputs": [
    {
     "name": "stdout",
     "output_type": "stream",
     "text": [
      "Достаточный объём сырья для безубыточной разработки новой скважины: 111\n",
      "Средние запас скважины в одном регионе\n",
      "0 регион: 93.0\n",
      "1 регион: 69.0\n",
      "2 регион: 95.0\n"
     ]
    }
   ],
   "source": [
    "suf_volume = expenses / (chosen * income_per_1)\n",
    "print('Достаточный объём сырья для безубыточной разработки новой скважины:', round(suf_volume))\n",
    "print('Средние запас скважины в одном регионе')\n",
    "for i in range(n):\n",
    "    print('%d регион:'%i, round(data_target[i].mean()))"
   ]
  },
  {
   "cell_type": "markdown",
   "metadata": {},
   "source": [
    "### Вывод\n",
    "\n",
    "Очевидно, скважины нельзя выбирать наугад - в среднем в скважинах в любом из регионов в среднем объем сырья значительно меньше, чем достаточный объём сырья для безубыточной разработки новой скважины (в 1 региное - особенно). Поэтому нужно разработать метод выбора наиболее перспективных скважин и регионов"
   ]
  },
  {
   "cell_type": "markdown",
   "metadata": {},
   "source": [
    "## Комментарий наставника\n",
    "<span style=\"color:green\">Совершенно верно.</span>"
   ]
  },
  {
   "cell_type": "markdown",
   "metadata": {},
   "source": [
    "# 4. Расчёт прибыли и рисков "
   ]
  },
  {
   "cell_type": "markdown",
   "metadata": {},
   "source": [
    "1) Напишем функцию для расчёта прибыли по выбранным скважинам и предсказаниям модели calc_profit: на вход принимает бюджет компании и стоимость разработки одной скважины, предсказанные запасы объема в скважинах и их реальный объем. Возвращает - валовую прибыль"
   ]
  },
  {
   "cell_type": "code",
   "execution_count": 9,
   "metadata": {},
   "outputs": [],
   "source": [
    "def calc_profit(budget, expenses_per_1, predictions, real):\n",
    "    chosen_amount = int(budget / expenses_per_1)\n",
    "    chosen_predictions_index = predictions.sort_values(ascending = False).head(chosen_amount).index\n",
    "    income = real.iloc[chosen_predictions_index].sum() * income_per_1\n",
    "    val_income = income - budget\n",
    "    return val_income"
   ]
  },
  {
   "cell_type": "markdown",
   "metadata": {},
   "source": [
    "## Комментарий наставника\n",
    "<span style=\"color:orange\">Мы отбираем лучшие скважины на основании предсказаний моделей (как ты и сделала), а прибыль (или убыток, тут уж как повезёт) с этих 200 месторождений считаем уже по реальным (целевым) значениям по объемам нефти из нашего датасета для отобранных месторождений.</span> \\\n",
    "<span style=\"color:green\">UPD 29.05.2020 Замечательно!</span>"
   ]
  },
  {
   "cell_type": "markdown",
   "metadata": {},
   "source": [
    "2) Посчитаем риски и прибыль для каждого региона:\n",
    "* Применим технику Bootstrap с 1000 выборок, чтобы найти распределение прибыли.\n",
    "* Найдем среднюю прибыль, 95%-й доверительный интервал и риск убытков. Убыток — это отрицательная прибыль."
   ]
  },
  {
   "cell_type": "code",
   "execution_count": 10,
   "metadata": {},
   "outputs": [
    {
     "name": "stdout",
     "output_type": "stream",
     "text": [
      "В млн\n",
      "   region  mean_profit  95%_from  95%_to  risk_of_loss_in_%\n",
      "0       0        396.0    -111.0   910.0                6.9\n",
      "1       1        461.0      78.0   863.0                0.7\n",
      "2       2        393.0    -112.0   935.0                6.5\n"
     ]
    }
   ],
   "source": [
    "values = [[], [], []]\n",
    "lower = []\n",
    "upper = []\n",
    "mean = []\n",
    "loss = [0, 0, 0]\n",
    "data = []\n",
    "columns = ['region', 'mean_profit', '95%_from', '95%_to', 'risk_of_loss_in_%']\n",
    "r = 1000000\n",
    "\n",
    "for i in range(n):\n",
    "    data_predicted_valid[i] = pd.Series(data_predicted_valid[i])\n",
    "    \n",
    "    for j in range(1000):\n",
    "        subsample = data_predicted_valid[i].sample(n = 500, replace=True, random_state=state)\n",
    "        values[i].append(calc_profit(expenses, expenses/200, subsample, data_target_valid[i]))\n",
    "        if values[i][j] < 0:\n",
    "            loss[i] += 1\n",
    "        \n",
    "    values[i] = pd.Series(values[i])\n",
    "    lower.append(values[i].quantile(0.025))\n",
    "    upper.append(values[i].quantile(0.975))\n",
    "    mean.append(values[i].mean())\n",
    "    data.append([i, round(mean[i]/r), round(lower[i]/r), round(upper[i]/r), loss[i]/10])\n",
    "    \n",
    "results = pd.DataFrame(columns = columns, data = data)\n",
    "print('В млн')\n",
    "print(results)"
   ]
  },
  {
   "cell_type": "markdown",
   "metadata": {},
   "source": [
    "## Комментарий наставника\n",
    "<span style=\"color:red\">Добавь ещё расчёт риска убытков на основе числа случаев с отрицательной прибылью (т.е. убытком) в Bootstrap.</span> \\\n",
    "<span style=\"color:orange\">Один и тот же набор операций опять повторяется трижды: здесь отлично подошла бы функция.</span> \\\n",
    "<span style=\"color:green\">UPD 29.05.2020 Всё правильно.</span>"
   ]
  },
  {
   "cell_type": "markdown",
   "metadata": {},
   "source": [
    "### Вывод\n",
    "Вероятность убытков меньше 2.5% только в 1 регионе. Наибольший предсказанный средний доход - также 1 регионе, и с вероятностью в 95% процентов он принесет минимум 61 млн дохода. Поэтому выбираем 1 регион."
   ]
  },
  {
   "cell_type": "markdown",
   "metadata": {},
   "source": [
    "## Итоговый комментарий наставника\n",
    "<span style=\"color:blue\">Хорошая работа! Тебе осталось только добавить расчёт риска убытков. Если обновишь расчёт прибыли в Bootstrap и примешь во внимание мои рекомендации, то будет вообще здорово. Будем ждать твой проект:) \\\n",
    "UPD 29.05.2020 Вывод верный, работа зачтена. Поздравляю и желаю успехов!</span>"
   ]
  },
  {
   "cell_type": "markdown",
   "metadata": {},
   "source": [
    "# Чек-лист готовности проекта"
   ]
  },
  {
   "cell_type": "markdown",
   "metadata": {},
   "source": [
    "Поставьте 'x' в выполненных пунктах. Далее нажмите Shift+Enter."
   ]
  },
  {
   "cell_type": "markdown",
   "metadata": {},
   "source": [
    "- [x]  Jupyter Notebook открыт\n",
    "- [x]  Весь код выполняется без ошибок\n",
    "- [x]  Ячейки с кодом расположены в порядке исполнения\n",
    "- [x]  Выполнен шаг 1: данные подготовлены\n",
    "- [x]  Выполнен шаг 2: модели обучены и проверены\n",
    "    - [x]  Данные корректно разбиты на обучающую и валидационную выборки\n",
    "    - [x]  Модели обучены, предсказания сделаны\n",
    "    - [x]  Предсказания и правильные ответы на валидационной выборке сохранены\n",
    "    - [x]  На экране напечатаны результаты\n",
    "    - [x]  Сделаны выводы\n",
    "- [x]  Выполнен шаг 3: проведена подготовка к расчёту прибыли\n",
    "    - [x]  Для всех ключевых значений созданы константы Python\n",
    "    - [x]  Посчитано минимальное среднее количество продукта в месторождениях региона, достаточное для разработки\n",
    "    - [x]  По предыдущему пункту сделаны выводы\n",
    "    - [x]  Написана функция расчёта прибыли\n",
    "- [x]  Выполнен шаг 4: посчитаны риски и прибыль\n",
    "    - [x]  Проведена процедура *Bootstrap*\n",
    "    - [x]  Все параметры бутстрепа соответствуют условию\n",
    "    - [x]  Найдены все нужные величины\n",
    "    - [x]  Предложен регион для разработки месторождения\n",
    "    - [x]  Выбор региона обоснован"
   ]
  }
 ],
 "metadata": {
  "kernelspec": {
   "display_name": "Python 3",
   "language": "python",
   "name": "python3"
  },
  "language_info": {
   "codemirror_mode": {
    "name": "ipython",
    "version": 3
   },
   "file_extension": ".py",
   "mimetype": "text/x-python",
   "name": "python",
   "nbconvert_exporter": "python",
   "pygments_lexer": "ipython3",
   "version": "3.8.5"
  }
 },
 "nbformat": 4,
 "nbformat_minor": 2
}
