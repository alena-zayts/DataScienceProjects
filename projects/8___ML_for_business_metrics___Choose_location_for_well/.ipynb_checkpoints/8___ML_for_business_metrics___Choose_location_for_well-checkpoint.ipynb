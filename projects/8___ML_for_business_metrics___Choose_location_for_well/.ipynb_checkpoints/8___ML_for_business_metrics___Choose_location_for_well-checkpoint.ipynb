{
 "cells": [
  {
   "cell_type": "markdown",
   "metadata": {},
   "source": [
    "# Оглавление\n",
    "* [Описание проекта](#b1)\n",
    "* [1. Загрузка и подготовка данных](#b2)\n",
    "* [2. Обучение и проверка моделей](#b3)\n",
    "* [3. Подготовка к расчёту прибыли](#b4)\n",
    "* [4. Расчет рисков и прибыли](#b5)\n",
    "* [5. Вывод (выбор региона)](#b6)"
   ]
  },
  {
   "cell_type": "markdown",
   "metadata": {},
   "source": [
    "# Описание проекта<a class=\"anchor\" id=\"b1\"></a>\n",
    "\n",
    "В добывающей компании «ГлавРосГосНефть» нужно решить, где бурить новую скважину. \n",
    "\n",
    "Шаги для выбора локации обычно такие:\n",
    "\n",
    "* В избранном регионе собирают характеристики для скважин: качество нефти и объём её запасов;\n",
    "* Строят модель для предсказания объёма запасов в новых скважинах;\n",
    "* Выбирают скважины с самыми высокими оценками значений;\n",
    "* Определяют регион с максимальной суммарной прибылью отобранных скважин.\n",
    "\n",
    "Предоставлены пробы нефти в трёх регионах. Характеристики для каждой скважины в регионе уже известны. Необходимо построить модель для определения региона, где добыча принесёт наибольшую прибыль, проанализировать возможную прибыль и риски (техникой Bootstrap).\n",
    "\n",
    "\n",
    "## Описание данных\n",
    "Данные геологоразведки трёх регионов находятся в файлах: \n",
    "* /data/geo_data_0.csv\n",
    "* /data/geo_data_1.csv\n",
    "* /data/geo_data_2.csv \n",
    "\n",
    "где\n",
    "* id — уникальный идентификатор скважины;\n",
    "* f0, f1, f2 — три признака точек (неважно, что они означают, но сами признаки значимы);\n",
    "* product — объём запасов в скважине (тыс. баррелей).\n",
    "\n",
    "## Дополнительные условия\n",
    "1. Для обучения модели подходит только линейная регрессия (остальные — недостаточно предсказуемые).\n",
    "2. При разведке региона исследуют 500 точек, из которых с помощью машинного обучения выбирают 200 лучших для разработки.\n",
    "3. Бюджет на разработку скважин в регионе — 10 млрд рублей.\n",
    "4. При нынешних ценах один баррель сырья приносит 450 рублей дохода. Доход с каждой единицы продукта составляет 450 тыс. рублей, поскольку объём указан в тысячах баррелей.\n",
    "5. После оценки рисков нужно оставить лишь те регионы, в которых вероятность убытков меньше 2.5%. Среди них выбирают регион с наибольшей средней прибылью.\n",
    "6. Данные синтетические: детали контрактов и характеристики месторождений не разглашаются."
   ]
  },
  {
   "cell_type": "code",
   "execution_count": 1,
   "metadata": {},
   "outputs": [],
   "source": [
    "import pandas as pd\n",
    "import numpy as np\n",
    "import matplotlib.pyplot as plt\n",
    "\n",
    "from sklearn.model_selection import train_test_split\n",
    "from sklearn.linear_model import LinearRegression\n",
    "from sklearn.metrics import mean_squared_error\n",
    "n = 3"
   ]
  },
  {
   "cell_type": "markdown",
   "metadata": {},
   "source": [
    "# 1. Загрузка и подготовка данных<a class=\"anchor\" id=\"b2\"></a>"
   ]
  },
  {
   "cell_type": "code",
   "execution_count": 2,
   "metadata": {},
   "outputs": [
    {
     "name": "stdout",
     "output_type": "stream",
     "text": [
      "Регион 0\n",
      "                  f0             f1             f2        product\n",
      "count  100000.000000  100000.000000  100000.000000  100000.000000\n",
      "mean        0.500419       0.250143       2.502647      92.500000\n",
      "std         0.871832       0.504433       3.248248      44.288691\n",
      "min        -1.408605      -0.848218     -12.088328       0.000000\n",
      "25%        -0.072580      -0.200881       0.287748      56.497507\n",
      "50%         0.502360       0.250252       2.515969      91.849972\n",
      "75%         1.073581       0.700646       4.715088     128.564089\n",
      "max         2.362331       1.343769      16.003790     185.364347\n",
      "<class 'pandas.core.frame.DataFrame'>\n",
      "RangeIndex: 100000 entries, 0 to 99999\n",
      "Data columns (total 5 columns):\n",
      " #   Column   Non-Null Count   Dtype  \n",
      "---  ------   --------------   -----  \n",
      " 0   id       100000 non-null  object \n",
      " 1   f0       100000 non-null  float64\n",
      " 2   f1       100000 non-null  float64\n",
      " 3   f2       100000 non-null  float64\n",
      " 4   product  100000 non-null  float64\n",
      "dtypes: float64(4), object(1)\n",
      "memory usage: 3.8+ MB\n",
      "None\n",
      "\n",
      "\n",
      "\n",
      "Регион 1\n",
      "                  f0             f1             f2        product\n",
      "count  100000.000000  100000.000000  100000.000000  100000.000000\n",
      "mean        1.141296      -4.796579       2.494541      68.825000\n",
      "std         8.965932       5.119872       1.703572      45.944423\n",
      "min       -31.609576     -26.358598      -0.018144       0.000000\n",
      "25%        -6.298551      -8.267985       1.000021      26.953261\n",
      "50%         1.153055      -4.813172       2.011479      57.085625\n",
      "75%         8.621015      -1.332816       3.999904     107.813044\n",
      "max        29.421755      18.734063       5.019721     137.945408\n",
      "<class 'pandas.core.frame.DataFrame'>\n",
      "RangeIndex: 100000 entries, 0 to 99999\n",
      "Data columns (total 5 columns):\n",
      " #   Column   Non-Null Count   Dtype  \n",
      "---  ------   --------------   -----  \n",
      " 0   id       100000 non-null  object \n",
      " 1   f0       100000 non-null  float64\n",
      " 2   f1       100000 non-null  float64\n",
      " 3   f2       100000 non-null  float64\n",
      " 4   product  100000 non-null  float64\n",
      "dtypes: float64(4), object(1)\n",
      "memory usage: 3.8+ MB\n",
      "None\n",
      "\n",
      "\n",
      "\n",
      "Регион 2\n",
      "                  f0             f1             f2        product\n",
      "count  100000.000000  100000.000000  100000.000000  100000.000000\n",
      "mean        0.002023      -0.002081       2.495128      95.000000\n",
      "std         1.732045       1.730417       3.473445      44.749921\n",
      "min        -8.760004      -7.084020     -11.970335       0.000000\n",
      "25%        -1.162288      -1.174820       0.130359      59.450441\n",
      "50%         0.009424      -0.009482       2.484236      94.925613\n",
      "75%         1.158535       1.163678       4.858794     130.595027\n",
      "max         7.238262       7.844801      16.739402     190.029838\n",
      "<class 'pandas.core.frame.DataFrame'>\n",
      "RangeIndex: 100000 entries, 0 to 99999\n",
      "Data columns (total 5 columns):\n",
      " #   Column   Non-Null Count   Dtype  \n",
      "---  ------   --------------   -----  \n",
      " 0   id       100000 non-null  object \n",
      " 1   f0       100000 non-null  float64\n",
      " 2   f1       100000 non-null  float64\n",
      " 3   f2       100000 non-null  float64\n",
      " 4   product  100000 non-null  float64\n",
      "dtypes: float64(4), object(1)\n",
      "memory usage: 3.8+ MB\n",
      "None\n",
      "\n",
      "\n",
      "\n",
      "Общий вид таблиц\n",
      "      id        f0        f1        f2     product\n",
      "0  txEyH  0.705745 -0.497823  1.221170  105.280062\n",
      "1  2acmU  1.334711 -0.340164  4.365080   73.037750\n",
      "2  409Wp  1.022732  0.151990  1.419926   85.265647\n",
      "3  iJLyR -0.032172  0.139033  2.978566  168.620776\n",
      "4  Xdl7t  1.988431  0.155413  4.751769  154.036647\n"
     ]
    }
   ],
   "source": [
    "data = []\n",
    "for i in range(n):\n",
    "    data.append(pd.read_csv(f'data/geo_data_{i}.csv'))\n",
    "    print(f'Регион {i}')\n",
    "    print(data[i].describe())\n",
    "    print(data[i].info())\n",
    "    \n",
    "    print('\\n\\n')\n",
    "print('Общий вид таблиц')\n",
    "print(data[0].head())"
   ]
  },
  {
   "cell_type": "markdown",
   "metadata": {},
   "source": [
    "Данные геологоразведки каждого региона содержат 100000 записей, пропусков нет, типы данных подобраны корректно. \n",
    "\n",
    "Все признаки, кроме идентификатора скважины, численные. Информация об идентификаторе скважины не влияет на прибыль от нее, поэтому избавимся от этого столбца"
   ]
  },
  {
   "cell_type": "code",
   "execution_count": 3,
   "metadata": {},
   "outputs": [],
   "source": [
    "for i in range(n):\n",
    "    data[i] = data[i].drop(['id'], axis=1)"
   ]
  },
  {
   "cell_type": "markdown",
   "metadata": {},
   "source": [
    "В каждой таблице для каждой точки осталось 3 признака -- f0, f1 и f2 (неизвестно и неважно, что они означают), и 1 целевой признак -- product (объём запасов в скважине, тыс. баррелей).  Посмотрим еще раз на разброс значений признаков в каждой таблице"
   ]
  },
  {
   "cell_type": "code",
   "execution_count": 4,
   "metadata": {},
   "outputs": [
    {
     "name": "stdout",
     "output_type": "stream",
     "text": [
      "Регион 0\n",
      "f0     3.770936\n",
      "f1     2.191988\n",
      "f2    28.092118\n",
      "dtype: float64\n",
      "\n",
      "Регион 1\n",
      "f0    61.031331\n",
      "f1    45.092661\n",
      "f2     5.037865\n",
      "dtype: float64\n",
      "\n",
      "Регион 2\n",
      "f0    15.998266\n",
      "f1    14.928821\n",
      "f2    28.709737\n",
      "dtype: float64\n",
      "\n"
     ]
    }
   ],
   "source": [
    "for i in range(n):\n",
    "    print(f'Регион {i}')\n",
    "    print(data[i].drop('product', axis=1).max() - data[i].drop('product', axis=1).min())\n",
    "    print()"
   ]
  },
  {
   "cell_type": "markdown",
   "metadata": {},
   "source": [
    "Принято масштабировать те численные признаки, где разброс значений большой. В исходных датасетах это совсем не так, поэтому масштабирование никаким образом не повлияет на работу модели: не улучшит и не ухудшит. Тем более, нам неизвестно, что это за признаки, и мы не можем предугадать, какой признак более важен для предсказания целевого, а какой -- менее. Поэтому масштабировать признаки не будем."
   ]
  },
  {
   "cell_type": "markdown",
   "metadata": {},
   "source": [
    "# 2. Обучение и проверка моделей<a class=\"anchor\" id=\"b3\"></a>\n",
    "\n",
    "#### 2.1. Для каждого региона разобьем данные на обучающую и валидационную выборки в соотношении 75:25."
   ]
  },
  {
   "cell_type": "code",
   "execution_count": 5,
   "metadata": {},
   "outputs": [],
   "source": [
    "features_train = [0] * n\n",
    "features_valid = [0] * n\n",
    "target_train = [0] * n\n",
    "target_valid = [0] * n\n",
    "\n",
    "for i in range(n):\n",
    "    features_train[i], features_valid[i], target_train[i], target_valid[i] = train_test_split(\n",
    "        data[i].drop('product', axis=1), data[i]['product'], test_size=0.24, random_state=0\n",
    "    )"
   ]
  },
  {
   "cell_type": "markdown",
   "metadata": {},
   "source": [
    "#### 2.2. Для каждого региона обучим модель и сохраним предсказания на валидационной выборке\n",
    "\n",
    "В условии сказано, что для обучения модели подходит только линейная регрессия (остальные — недостаточно предсказуемые). Поэтому ее и будем обучать"
   ]
  },
  {
   "cell_type": "code",
   "execution_count": 6,
   "metadata": {},
   "outputs": [],
   "source": [
    "models = [0] * n\n",
    "predicted_valid = [0] * n\n",
    "for i in range(n):\n",
    "    models[i] = LinearRegression()\n",
    "    models[i].fit(features_train[i], target_train[i])\n",
    "    predicted_valid[i] = pd.Series(models[i].predict(features_valid[i]))\n",
    "    \n",
    "    "
   ]
  },
  {
   "cell_type": "markdown",
   "metadata": {},
   "source": [
    "#### 2.3 Для каждого региона подсчитаем средний запас предсказанного и реального сырья, а также RMSE модели"
   ]
  },
  {
   "cell_type": "code",
   "execution_count": 7,
   "metadata": {},
   "outputs": [
    {
     "name": "stdout",
     "output_type": "stream",
     "text": [
      "Регион 0\n",
      "Средний запас: предсказанного сырья: 92.28265304242406, фактического сырья: 92.46668486161023\n",
      "RMSE модели: 37.5075154581511\n",
      "\n",
      "Регион 1\n",
      "Средний запас: предсказанного сырья: 69.2617632106104, фактического сырья: 69.26524465980367\n",
      "RMSE модели: 0.8873925934921435\n",
      "\n",
      "Регион 2\n",
      "Средний запас: предсказанного сырья: 94.72346468562912, фактического сырья: 95.38752066143222\n",
      "RMSE модели: 40.31226535915305\n",
      "\n"
     ]
    }
   ],
   "source": [
    "for i in range(n):\n",
    "    print(f'Регион {i}')\n",
    "    print(f'Средний запас: предсказанного сырья: {predicted_valid[i].mean()}, фактического сырья: {target_valid[i].mean()}')\n",
    "    print(f'RMSE модели: {mean_squared_error(target_valid[i], predicted_valid[i], squared=False)}')\n",
    "    print()"
   ]
  },
  {
   "cell_type": "markdown",
   "metadata": {},
   "source": [
    "*В среднем* модели достаточно близко предсказывают запасы сырья. При этом RMSE модели для 0 и 2 региона примерно одинаковые, тогда как для 1 региона, сравнительно с остальными, очень маленькая. Посмотрим еще раз на стандартные отклонения признаков в различных регионах, чтобы попробовать это объяснить."
   ]
  },
  {
   "cell_type": "code",
   "execution_count": 8,
   "metadata": {},
   "outputs": [
    {
     "name": "stdout",
     "output_type": "stream",
     "text": [
      "Регион 0\n",
      "f0          0.871832\n",
      "f1          0.504433\n",
      "f2          3.248248\n",
      "product    44.288691\n",
      "Name: std, dtype: float64\n",
      "\n",
      "Регион 1\n",
      "f0          8.965932\n",
      "f1          5.119872\n",
      "f2          1.703572\n",
      "product    45.944423\n",
      "Name: std, dtype: float64\n",
      "\n",
      "Регион 2\n",
      "f0          1.732045\n",
      "f1          1.730417\n",
      "f2          3.473445\n",
      "product    44.749921\n",
      "Name: std, dtype: float64\n",
      "\n"
     ]
    }
   ],
   "source": [
    "for i in range(n):\n",
    "    print(f'Регион {i}')\n",
    "    print(data[i].describe().loc['std', ])\n",
    "    print()"
   ]
  },
  {
   "cell_type": "markdown",
   "metadata": {},
   "source": [
    "Стандартные отклонения по целевому признаку product примерно равны, но что выделяет 1 регион -- сравнительно большие стандартные отклонения по f0 и f1. Возможно, ориентируясь именно на эти признаки, модели и удается так хорошо предсказывать целевой признак"
   ]
  },
  {
   "cell_type": "markdown",
   "metadata": {},
   "source": [
    "# 3. Подготовка к расчёту прибыли<a class=\"anchor\" id=\"b4\"></a>\n",
    "\n",
    "Все ключевые значения для расчётов (из условия) сохраним в отдельных переменных"
   ]
  },
  {
   "cell_type": "code",
   "execution_count": 9,
   "metadata": {},
   "outputs": [],
   "source": [
    "total_points_amount = 500  # сколько всего точек исследуют при разведке региона\n",
    "chosen_points_amount = 200  # сколько лучших точек выбирают \n",
    "budget = 10 * 10 ** 9  # стоимость разработки скважин в регионе\n",
    "income_per_product = 450000  # доход с единицы продукта\n",
    "alpha = 0.025  # оставляют лишь те регионы, в которых вероятность убытков меньше alpha*100 процентов "
   ]
  },
  {
   "cell_type": "markdown",
   "metadata": {},
   "source": [
    "Рассчитаем средний объём сырья с каждой новой скважины, достаточный для безубыточной разработки новых скважин "
   ]
  },
  {
   "cell_type": "code",
   "execution_count": 10,
   "metadata": {},
   "outputs": [
    {
     "name": "stdout",
     "output_type": "stream",
     "text": [
      "111.11111111111111\n"
     ]
    }
   ],
   "source": [
    "min_mean_product = budget / (income_per_product * chosen_points_amount) \n",
    "print(min_mean_product)"
   ]
  },
  {
   "cell_type": "markdown",
   "metadata": {},
   "source": [
    "Сравним полученный объём сырья со средним запасом в каждом регионе. "
   ]
  },
  {
   "cell_type": "code",
   "execution_count": 11,
   "metadata": {},
   "outputs": [
    {
     "name": "stdout",
     "output_type": "stream",
     "text": [
      "Средний запас скважин в регионе 0: 92.46668486161023\n",
      "Средний запас скважин в регионе 1: 69.26524465980367\n",
      "Средний запас скважин в регионе 2: 95.38752066143222\n"
     ]
    }
   ],
   "source": [
    "for i in range(n):\n",
    "    print(f'Средний запас скважин в регионе {i}: {target_valid[i].mean()}')"
   ]
  },
  {
   "cell_type": "markdown",
   "metadata": {},
   "source": [
    "В каждом регине средний запас скважин меньше минимального для безубыточной разработки новых скважин. Можно сделать вывод, что регион и скважины нельзя выбирать \"наугад\" - в скважинах в любом из регионов в среднем объем сырья значительно меньше, чем достаточный объём сырья для безубыточной разработки новой скважины (в 1 региное - особенно). Поэтому нужно разработать метод выбора наиболее перспективных скважин и регионов."
   ]
  },
  {
   "cell_type": "markdown",
   "metadata": {},
   "source": [
    "Напишем функцию для расчёта прибыли по предсказаниям модели. На вход она принимает предсказания модели на некоторой выборке, отбирает лучшие скважины из этой выборк по предсказаниям модели, а затем считает доход от разработки выбранных скважин по **реальным** запасам."
   ]
  },
  {
   "cell_type": "code",
   "execution_count": 12,
   "metadata": {},
   "outputs": [],
   "source": [
    "def count_income(predicted_product, real_product, num_of_points_to_choose, income_per_product, budget):\n",
    "    # выбираем из данны точек num_of_points_to_choose лучших по предсказанным запасам \n",
    "    chosen_indexes = predicted_product.sort_values(ascending=False)[:num_of_points_to_choose].index\n",
    "    \n",
    "    # суммируем запасы в них\n",
    "    total_product_amount = real_product.iloc[chosen_indexes].sum()\n",
    "    \n",
    "    # рассчитываем прибыль при их разработке\n",
    "    return total_product_amount * income_per_product - budget"
   ]
  },
  {
   "cell_type": "markdown",
   "metadata": {},
   "source": [
    "# 4. Расчет рисков и прибыли<a class=\"anchor\" id=\"b5\"></a>\n",
    "\n",
    "Для каждого региона техникой Bootstrap с 1000 выборок найдем распределение прибыли."
   ]
  },
  {
   "cell_type": "code",
   "execution_count": 13,
   "metadata": {},
   "outputs": [
    {
     "name": "stdout",
     "output_type": "stream",
     "text": [
      "Распределения прибыли по регионам\n"
     ]
    },
    {
     "data": {
      "text/html": [
       "<div>\n",
       "<style scoped>\n",
       "    .dataframe tbody tr th:only-of-type {\n",
       "        vertical-align: middle;\n",
       "    }\n",
       "\n",
       "    .dataframe tbody tr th {\n",
       "        vertical-align: top;\n",
       "    }\n",
       "\n",
       "    .dataframe thead th {\n",
       "        text-align: right;\n",
       "    }\n",
       "</style>\n",
       "<table border=\"1\" class=\"dataframe\">\n",
       "  <thead>\n",
       "    <tr style=\"text-align: right;\">\n",
       "      <th></th>\n",
       "      <th>Регион 0</th>\n",
       "      <th>Регион 1</th>\n",
       "      <th>Регион 2</th>\n",
       "    </tr>\n",
       "  </thead>\n",
       "  <tbody>\n",
       "    <tr>\n",
       "      <th>0</th>\n",
       "      <td>7.799155e+08</td>\n",
       "      <td>6.581902e+08</td>\n",
       "      <td>4.176045e+08</td>\n",
       "    </tr>\n",
       "    <tr>\n",
       "      <th>1</th>\n",
       "      <td>1.234789e+08</td>\n",
       "      <td>3.528512e+08</td>\n",
       "      <td>3.657129e+07</td>\n",
       "    </tr>\n",
       "    <tr>\n",
       "      <th>2</th>\n",
       "      <td>4.545795e+08</td>\n",
       "      <td>6.168273e+08</td>\n",
       "      <td>7.155666e+08</td>\n",
       "    </tr>\n",
       "    <tr>\n",
       "      <th>3</th>\n",
       "      <td>2.154485e+07</td>\n",
       "      <td>5.183650e+08</td>\n",
       "      <td>5.230562e+08</td>\n",
       "    </tr>\n",
       "    <tr>\n",
       "      <th>4</th>\n",
       "      <td>2.111870e+08</td>\n",
       "      <td>6.746110e+08</td>\n",
       "      <td>4.373971e+07</td>\n",
       "    </tr>\n",
       "    <tr>\n",
       "      <th>...</th>\n",
       "      <td>...</td>\n",
       "      <td>...</td>\n",
       "      <td>...</td>\n",
       "    </tr>\n",
       "    <tr>\n",
       "      <th>995</th>\n",
       "      <td>7.050101e+08</td>\n",
       "      <td>2.828764e+08</td>\n",
       "      <td>5.734087e+08</td>\n",
       "    </tr>\n",
       "    <tr>\n",
       "      <th>996</th>\n",
       "      <td>7.412724e+07</td>\n",
       "      <td>4.477682e+08</td>\n",
       "      <td>7.151744e+08</td>\n",
       "    </tr>\n",
       "    <tr>\n",
       "      <th>997</th>\n",
       "      <td>3.576354e+08</td>\n",
       "      <td>1.866533e+08</td>\n",
       "      <td>1.667739e+08</td>\n",
       "    </tr>\n",
       "    <tr>\n",
       "      <th>998</th>\n",
       "      <td>8.658439e+08</td>\n",
       "      <td>5.104656e+08</td>\n",
       "      <td>3.133591e+08</td>\n",
       "    </tr>\n",
       "    <tr>\n",
       "      <th>999</th>\n",
       "      <td>4.063332e+08</td>\n",
       "      <td>3.164643e+08</td>\n",
       "      <td>1.457149e+08</td>\n",
       "    </tr>\n",
       "  </tbody>\n",
       "</table>\n",
       "<p>1000 rows × 3 columns</p>\n",
       "</div>"
      ],
      "text/plain": [
       "         Регион 0      Регион 1      Регион 2\n",
       "0    7.799155e+08  6.581902e+08  4.176045e+08\n",
       "1    1.234789e+08  3.528512e+08  3.657129e+07\n",
       "2    4.545795e+08  6.168273e+08  7.155666e+08\n",
       "3    2.154485e+07  5.183650e+08  5.230562e+08\n",
       "4    2.111870e+08  6.746110e+08  4.373971e+07\n",
       "..            ...           ...           ...\n",
       "995  7.050101e+08  2.828764e+08  5.734087e+08\n",
       "996  7.412724e+07  4.477682e+08  7.151744e+08\n",
       "997  3.576354e+08  1.866533e+08  1.667739e+08\n",
       "998  8.658439e+08  5.104656e+08  3.133591e+08\n",
       "999  4.063332e+08  3.164643e+08  1.457149e+08\n",
       "\n",
       "[1000 rows x 3 columns]"
      ]
     },
     "execution_count": 13,
     "metadata": {},
     "output_type": "execute_result"
    }
   ],
   "source": [
    "samples_amount = 1000\n",
    "state = np.random.RandomState(12345) \n",
    "incomes = [[0] * samples_amount for region in range(n)]\n",
    "\n",
    "for region in range(n):\n",
    "    for i in range(samples_amount):\n",
    "        predicted_subsample = predicted_valid[region].sample(n=total_points_amount, replace=False, random_state=state)\n",
    "        income = count_income(predicted_subsample, target_valid[region], chosen_points_amount, income_per_product, budget)\n",
    "        incomes[region][i] = income\n",
    "            \n",
    "incomes = pd.DataFrame(incomes)\n",
    "incomes = incomes.transpose()\n",
    "incomes.columns = [f'Регион {region}' for region in range(n)]\n",
    "print('Распределения прибыли по регионам')\n",
    "incomes"
   ]
  },
  {
   "cell_type": "code",
   "execution_count": 14,
   "metadata": {},
   "outputs": [
    {
     "data": {
      "text/plain": [
       "array([[<AxesSubplot:title={'center':'Регион 0'}>],\n",
       "       [<AxesSubplot:title={'center':'Регион 1'}>],\n",
       "       [<AxesSubplot:title={'center':'Регион 2'}>]], dtype=object)"
      ]
     },
     "execution_count": 14,
     "metadata": {},
     "output_type": "execute_result"
    },
    {
     "data": {
      "image/png": "[encoded data removed]",
      "text/plain": [
       "<Figure size 360x720 with 3 Axes>"
      ]
     },
     "metadata": {
      "needs_background": "light"
     },
     "output_type": "display_data"
    }
   ],
   "source": [
    "incomes.hist(figsize=(5, 10), layout=(3, 1), sharex=True)"
   ]
  },
  {
   "cell_type": "code",
   "execution_count": 15,
   "metadata": {},
   "outputs": [
    {
     "data": {
      "text/plain": [
       "<AxesSubplot:>"
      ]
     },
     "execution_count": 15,
     "metadata": {},
     "output_type": "execute_result"
    },
    {
     "data": {
      "image/png": "[encoded data removed]",
      "text/plain": [
       "<Figure size 432x288 with 1 Axes>"
      ]
     },
     "metadata": {
      "needs_background": "light"
     },
     "output_type": "display_data"
    }
   ],
   "source": [
    "incomes.boxplot()"
   ]
  },
  {
   "cell_type": "markdown",
   "metadata": {},
   "source": [
    "По гистограммам видно, что распределения похожи на нормальные. По всем графикам можно заметить, что средние и медианы прибыли во всех регионах примерно одного порядка. Но вот по гистограмме \"ящик с усами\" сразу заметно, что распределение в регионе 1 имеет меньшую дисперсию"
   ]
  },
  {
   "cell_type": "markdown",
   "metadata": {},
   "source": [
    "Найдем среднюю прибыль, 95%-й доверительный интервал прибыли и риск убытков в каждом регионе"
   ]
  },
  {
   "cell_type": "code",
   "execution_count": 16,
   "metadata": {},
   "outputs": [
    {
     "name": "stdout",
     "output_type": "stream",
     "text": [
      "(В млн)\n",
      "Регион 0. Средняя прибыль: 444, 95%-й доверительный интервал: (-65.54, 929.47), риск убытков: 4.3%\n",
      "Регион 1. Средняя прибыль: 484, 95%-й доверительный интервал: (124.28, 863.03), риск убытков: 0.3%\n",
      "Регион 2. Средняя прибыль: 384, 95%-й доверительный интервал: (-104.45, 924.25), риск убытков: 6.1%\n"
     ]
    }
   ],
   "source": [
    "print('(В млн)')\n",
    "incomes_mln = (incomes / 10 ** 6)\n",
    "for region in range(n):\n",
    "    print(f\"Регион {region}. Средняя прибыль: {round(incomes_mln[f'Регион {region}'].mean())},\",\n",
    "          f\"95%-й доверительный интервал: ({round(incomes_mln[f'Регион {region}'].quantile(0.025), 2)}, {round(incomes_mln[f'Регион {region}'].quantile(0.975), 2)}),\",\n",
    "          f\"риск убытков: {100 * incomes_mln[incomes_mln[f'Регион {region}'] < 0][f'Регион {region}'].count() / samples_amount}%\")"
   ]
  },
  {
   "cell_type": "markdown",
   "metadata": {},
   "source": [
    "# 5. Вывод (выбор региона)<a class=\"anchor\" id=\"b6\"></a>\n",
    "\n",
    "Вероятность убытков меньше 2.5% только в 1 регионе. Наибольшая средняя прибыль - также 1 регионе, и с вероятностью в 95% разработка месторождений в нем принесет от 124 до 863 млн прибыли. \n",
    "\n",
    "Подобный результат можно объяснить тем, что модель, обученная для 1 региона, имела гораздо меньшее RMSE по сравнению с моделями для остальных регионов. Поэтому модель для первого региона чаще верно предсказывает, какие точки будут действительно содержать больше сырья, и удается выбрать наиболее удачные. Вероятно, скважины в этом регионе более \"предсказуемые\".\n",
    "\n",
    "\n",
    "Таким образом, предлагается выбрать 1 регион."
   ]
  }
 ],
 "metadata": {
  "kernelspec": {
   "display_name": "Python 3",
   "language": "python",
   "name": "python3"
  },
  "language_info": {
   "codemirror_mode": {
    "name": "ipython",
    "version": 3
   },
   "file_extension": ".py",
   "mimetype": "text/x-python",
   "name": "python",
   "nbconvert_exporter": "python",
   "pygments_lexer": "ipython3",
   "version": "3.8.5"
  }
 },
 "nbformat": 4,
 "nbformat_minor": 4
}
