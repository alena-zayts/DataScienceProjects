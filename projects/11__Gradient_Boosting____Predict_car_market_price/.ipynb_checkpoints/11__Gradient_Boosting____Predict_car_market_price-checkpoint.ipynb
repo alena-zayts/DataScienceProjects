{
 "cells": [
  {
   "cell_type": "markdown",
   "metadata": {},
   "source": [
    "# Оглавление\n",
    "* [Описание проекта](#b0)\n",
    "* [1. Загрузка и предобработка данных](#b1)\n",
    "* [2. Подготовка выборок для обучения моделей.](#b2)\n",
    "* [3. Обучение моделей](#b3)\n",
    "* [4. Сравнение моделей](#b4)\n",
    "* [5. Проверка модели](#b5)"
   ]
  },
  {
   "cell_type": "markdown",
   "metadata": {},
   "source": [
    "# Описание проекта<a class=\"anchor\" id=\"b0\"></a>\n",
    "\n",
    "\n",
    "Сервис по продаже автомобилей с пробегом разрабатывает приложение, чтобы привлечь новых клиентов. В нём можно будет узнать рыночную стоимость своего автомобиля. \n",
    "\n",
    "Необходимо построить модель, которая на основе данных о технических характеристиках, комплектации и ценах других автомобилей  умеет определять рыночную стоимость автомобиля. \n",
    "\n",
    "Критерии, которые важны заказчику:\n",
    "* качество предсказания;\n",
    "* время обучения модели;\n",
    "* время предсказания модели.\n",
    "\n",
    "Для оценки качества моделей использовать метрику RMSE. Значение метрики RMSE должно быть меньше 2500.\n",
    "\n",
    "### Описание данных\n",
    "Данные находятся в файле /data/autos.csv. \n",
    "\n",
    "Признаки\n",
    "* DateCrawled — дата скачивания анкеты из базы\n",
    "* VehicleType — тип автомобильного кузова\n",
    "* RegistrationYear — год регистрации автомобиля\n",
    "* Gearbox — тип коробки передач\n",
    "* Power — мощность (л. с.)\n",
    "* Model — модель автомобиля\n",
    "* Kilometer — пробег (км)\n",
    "* RegistrationMonth — месяц регистрации автомобиля\n",
    "* FuelType — тип топлива\n",
    "* Brand — марка автомобиля\n",
    "* Repaired — была машина в ремонте или нет\n",
    "* DateCreated — дата создания анкеты\n",
    "* NumberOfPictures — количество фотографий автомобиля\n",
    "* PostalCode — почтовый индекс владельца анкеты (пользователя)\n",
    "* LastSeen — дата последней активности пользователя\n",
    "\n",
    "Целевой признак\n",
    "* Price — цена (евро)"
   ]
  },
  {
   "cell_type": "code",
   "execution_count": 1,
   "metadata": {},
   "outputs": [
    {
     "name": "stderr",
     "output_type": "stream",
     "text": [
      "C:\\Users\\alena\\anaconda3\\lib\\site-packages\\dask\\dataframe\\utils.py:367: FutureWarning: pandas.Int64Index is deprecated and will be removed from pandas in a future version. Use pandas.Index with the appropriate dtype instead.\n",
      "  _numeric_index_types = (pd.Int64Index, pd.Float64Index, pd.UInt64Index)\n",
      "C:\\Users\\alena\\anaconda3\\lib\\site-packages\\dask\\dataframe\\utils.py:367: FutureWarning: pandas.Float64Index is deprecated and will be removed from pandas in a future version. Use pandas.Index with the appropriate dtype instead.\n",
      "  _numeric_index_types = (pd.Int64Index, pd.Float64Index, pd.UInt64Index)\n",
      "C:\\Users\\alena\\anaconda3\\lib\\site-packages\\dask\\dataframe\\utils.py:367: FutureWarning: pandas.UInt64Index is deprecated and will be removed from pandas in a future version. Use pandas.Index with the appropriate dtype instead.\n",
      "  _numeric_index_types = (pd.Int64Index, pd.Float64Index, pd.UInt64Index)\n",
      "C:\\Users\\alena\\anaconda3\\lib\\site-packages\\xgboost\\compat.py:31: FutureWarning: pandas.Int64Index is deprecated and will be removed from pandas in a future version. Use pandas.Index with the appropriate dtype instead.\n",
      "  from pandas import MultiIndex, Int64Index\n"
     ]
    }
   ],
   "source": [
    "import pandas as pd\n",
    "import numpy as np\n",
    "import matplotlib.pyplot as plt\n",
    "import datetime\n",
    "from time import time\n",
    "\n",
    "from sklearn.model_selection import train_test_split, GridSearchCV\n",
    "from sklearn.preprocessing import OrdinalEncoder\n",
    "\n",
    "from sklearn.metrics import mean_squared_error\n",
    "from sklearn.tree import DecisionTreeRegressor\n",
    "from sklearn.ensemble import RandomForestRegressor\n",
    "\n",
    "import lightgbm as lgb\n",
    "from catboost import CatBoostRegressor"
   ]
  },
  {
   "cell_type": "markdown",
   "metadata": {},
   "source": [
    "# 1. Загрузка и предобработка данных<a class=\"anchor\" id=\"b1\"></a>\n",
    "\n",
    "\n",
    "Загрузим данные в переменную data и посмотрим общую информацию о таблице"
   ]
  },
  {
   "cell_type": "code",
   "execution_count": 2,
   "metadata": {},
   "outputs": [
    {
     "name": "stdout",
     "output_type": "stream",
     "text": [
      "<class 'pandas.core.frame.DataFrame'>\n",
      "RangeIndex: 354369 entries, 0 to 354368\n",
      "Data columns (total 16 columns):\n",
      " #   Column             Non-Null Count   Dtype \n",
      "---  ------             --------------   ----- \n",
      " 0   DateCrawled        354369 non-null  object\n",
      " 1   Price              354369 non-null  int64 \n",
      " 2   VehicleType        316879 non-null  object\n",
      " 3   RegistrationYear   354369 non-null  int64 \n",
      " 4   Gearbox            334536 non-null  object\n",
      " 5   Power              354369 non-null  int64 \n",
      " 6   Model              334664 non-null  object\n",
      " 7   Kilometer          354369 non-null  int64 \n",
      " 8   RegistrationMonth  354369 non-null  int64 \n",
      " 9   FuelType           321474 non-null  object\n",
      " 10  Brand              354369 non-null  object\n",
      " 11  Repaired           283215 non-null  object\n",
      " 12  DateCreated        354369 non-null  object\n",
      " 13  NumberOfPictures   354369 non-null  int64 \n",
      " 14  PostalCode         354369 non-null  int64 \n",
      " 15  LastSeen           354369 non-null  object\n",
      "dtypes: int64(7), object(9)\n",
      "memory usage: 43.3+ MB\n",
      "None\n"
     ]
    },
    {
     "data": {
      "text/html": [
       "<div>\n",
       "<style scoped>\n",
       "    .dataframe tbody tr th:only-of-type {\n",
       "        vertical-align: middle;\n",
       "    }\n",
       "\n",
       "    .dataframe tbody tr th {\n",
       "        vertical-align: top;\n",
       "    }\n",
       "\n",
       "    .dataframe thead th {\n",
       "        text-align: right;\n",
       "    }\n",
       "</style>\n",
       "<table border=\"1\" class=\"dataframe\">\n",
       "  <thead>\n",
       "    <tr style=\"text-align: right;\">\n",
       "      <th></th>\n",
       "      <th>DateCrawled</th>\n",
       "      <th>Price</th>\n",
       "      <th>VehicleType</th>\n",
       "      <th>RegistrationYear</th>\n",
       "      <th>Gearbox</th>\n",
       "      <th>Power</th>\n",
       "      <th>Model</th>\n",
       "      <th>Kilometer</th>\n",
       "      <th>RegistrationMonth</th>\n",
       "      <th>FuelType</th>\n",
       "      <th>Brand</th>\n",
       "      <th>Repaired</th>\n",
       "      <th>DateCreated</th>\n",
       "      <th>NumberOfPictures</th>\n",
       "      <th>PostalCode</th>\n",
       "      <th>LastSeen</th>\n",
       "    </tr>\n",
       "  </thead>\n",
       "  <tbody>\n",
       "    <tr>\n",
       "      <th>0</th>\n",
       "      <td>2016-03-24 11:52:17</td>\n",
       "      <td>480</td>\n",
       "      <td>NaN</td>\n",
       "      <td>1993</td>\n",
       "      <td>manual</td>\n",
       "      <td>0</td>\n",
       "      <td>golf</td>\n",
       "      <td>150000</td>\n",
       "      <td>0</td>\n",
       "      <td>petrol</td>\n",
       "      <td>volkswagen</td>\n",
       "      <td>NaN</td>\n",
       "      <td>2016-03-24 00:00:00</td>\n",
       "      <td>0</td>\n",
       "      <td>70435</td>\n",
       "      <td>2016-04-07 03:16:57</td>\n",
       "    </tr>\n",
       "    <tr>\n",
       "      <th>1</th>\n",
       "      <td>2016-03-24 10:58:45</td>\n",
       "      <td>18300</td>\n",
       "      <td>coupe</td>\n",
       "      <td>2011</td>\n",
       "      <td>manual</td>\n",
       "      <td>190</td>\n",
       "      <td>NaN</td>\n",
       "      <td>125000</td>\n",
       "      <td>5</td>\n",
       "      <td>gasoline</td>\n",
       "      <td>audi</td>\n",
       "      <td>yes</td>\n",
       "      <td>2016-03-24 00:00:00</td>\n",
       "      <td>0</td>\n",
       "      <td>66954</td>\n",
       "      <td>2016-04-07 01:46:50</td>\n",
       "    </tr>\n",
       "    <tr>\n",
       "      <th>2</th>\n",
       "      <td>2016-03-14 12:52:21</td>\n",
       "      <td>9800</td>\n",
       "      <td>suv</td>\n",
       "      <td>2004</td>\n",
       "      <td>auto</td>\n",
       "      <td>163</td>\n",
       "      <td>grand</td>\n",
       "      <td>125000</td>\n",
       "      <td>8</td>\n",
       "      <td>gasoline</td>\n",
       "      <td>jeep</td>\n",
       "      <td>NaN</td>\n",
       "      <td>2016-03-14 00:00:00</td>\n",
       "      <td>0</td>\n",
       "      <td>90480</td>\n",
       "      <td>2016-04-05 12:47:46</td>\n",
       "    </tr>\n",
       "    <tr>\n",
       "      <th>3</th>\n",
       "      <td>2016-03-17 16:54:04</td>\n",
       "      <td>1500</td>\n",
       "      <td>small</td>\n",
       "      <td>2001</td>\n",
       "      <td>manual</td>\n",
       "      <td>75</td>\n",
       "      <td>golf</td>\n",
       "      <td>150000</td>\n",
       "      <td>6</td>\n",
       "      <td>petrol</td>\n",
       "      <td>volkswagen</td>\n",
       "      <td>no</td>\n",
       "      <td>2016-03-17 00:00:00</td>\n",
       "      <td>0</td>\n",
       "      <td>91074</td>\n",
       "      <td>2016-03-17 17:40:17</td>\n",
       "    </tr>\n",
       "    <tr>\n",
       "      <th>4</th>\n",
       "      <td>2016-03-31 17:25:20</td>\n",
       "      <td>3600</td>\n",
       "      <td>small</td>\n",
       "      <td>2008</td>\n",
       "      <td>manual</td>\n",
       "      <td>69</td>\n",
       "      <td>fabia</td>\n",
       "      <td>90000</td>\n",
       "      <td>7</td>\n",
       "      <td>gasoline</td>\n",
       "      <td>skoda</td>\n",
       "      <td>no</td>\n",
       "      <td>2016-03-31 00:00:00</td>\n",
       "      <td>0</td>\n",
       "      <td>60437</td>\n",
       "      <td>2016-04-06 10:17:21</td>\n",
       "    </tr>\n",
       "  </tbody>\n",
       "</table>\n",
       "</div>"
      ],
      "text/plain": [
       "           DateCrawled  Price VehicleType  RegistrationYear Gearbox  Power  \\\n",
       "0  2016-03-24 11:52:17    480         NaN              1993  manual      0   \n",
       "1  2016-03-24 10:58:45  18300       coupe              2011  manual    190   \n",
       "2  2016-03-14 12:52:21   9800         suv              2004    auto    163   \n",
       "3  2016-03-17 16:54:04   1500       small              2001  manual     75   \n",
       "4  2016-03-31 17:25:20   3600       small              2008  manual     69   \n",
       "\n",
       "   Model  Kilometer  RegistrationMonth  FuelType       Brand Repaired  \\\n",
       "0   golf     150000                  0    petrol  volkswagen      NaN   \n",
       "1    NaN     125000                  5  gasoline        audi      yes   \n",
       "2  grand     125000                  8  gasoline        jeep      NaN   \n",
       "3   golf     150000                  6    petrol  volkswagen       no   \n",
       "4  fabia      90000                  7  gasoline       skoda       no   \n",
       "\n",
       "           DateCreated  NumberOfPictures  PostalCode             LastSeen  \n",
       "0  2016-03-24 00:00:00                 0       70435  2016-04-07 03:16:57  \n",
       "1  2016-03-24 00:00:00                 0       66954  2016-04-07 01:46:50  \n",
       "2  2016-03-14 00:00:00                 0       90480  2016-04-05 12:47:46  \n",
       "3  2016-03-17 00:00:00                 0       91074  2016-03-17 17:40:17  \n",
       "4  2016-03-31 00:00:00                 0       60437  2016-04-06 10:17:21  "
      ]
     },
     "execution_count": 2,
     "metadata": {},
     "output_type": "execute_result"
    }
   ],
   "source": [
    "data = pd.read_csv('data/autos.csv')\n",
    "print(data.info())\n",
    "data.head()"
   ]
  },
  {
   "cell_type": "markdown",
   "metadata": {},
   "source": [
    "В таблице 354369 записей об автомобилях, есть пропуски, некорректно выбраны типы данных в столбцах DateCrawled, DateCreated, LastSeen (необходим формат даты)."
   ]
  },
  {
   "cell_type": "markdown",
   "metadata": {},
   "source": [
    "### 1.1. Удаление неинформативных признаков\n",
    "\n",
    "Очевидно, что на целевой признак (Price — цена автомобиля в евро), не оказывают существенного влияния следующие из предоставленных признаков:\n",
    "\n",
    "* PostalCode — почтовый индекс владельца анкеты (пользователя)\n",
    "* LastSeen — дата последней активности пользователя\n",
    "* NumberOfPictures — количество фотографий автомобиля\n",
    "* DateCrawled — дата скачивания анкеты из базы (у нас останется столбец DateCreated — дата создания анкеты)\n",
    "* RegistrationMonth — месяц регистрации автомобиля\n",
    "\n",
    "Удалим их, чтобы моедели обучались корректней и быстрее."
   ]
  },
  {
   "cell_type": "code",
   "execution_count": 3,
   "metadata": {},
   "outputs": [],
   "source": [
    "data = data.drop(['PostalCode', 'LastSeen', 'NumberOfPictures', 'DateCrawled', 'RegistrationMonth'], axis=1)"
   ]
  },
  {
   "cell_type": "markdown",
   "metadata": {},
   "source": [
    "### 1.2. Преобразование типов\n",
    "\n",
    "Данные в столбце DateCreated приведем к нужному типу даты, а затем оставим только 1 поле -- год создания анкеты, так как это наиболее важный признак Чтобы не было ошибок, сразу удалим строки с аномальными значениями: год регистрации <=1950 или >=2024."
   ]
  },
  {
   "cell_type": "code",
   "execution_count": 4,
   "metadata": {},
   "outputs": [],
   "source": [
    "data['DateCreated'] = pd.to_datetime(data['DateCreated'], format = '%Y-%m-%d %H:%M:%S')\n",
    "data['YearCreated'] = data['DateCreated'].dt.year\n",
    "data = data.drop(['DateCreated'], axis=1)\n",
    "data = data[((data['RegistrationYear'] > 1950) & (data['RegistrationYear'] < 2023))]"
   ]
  },
  {
   "cell_type": "markdown",
   "metadata": {},
   "source": [
    "### 1.3. Обработка пропусков\n",
    "\n",
    "Посмотрим, в каких столбцах есть пропуски, а также на их количество"
   ]
  },
  {
   "cell_type": "code",
   "execution_count": 5,
   "metadata": {
    "scrolled": true
   },
   "outputs": [
    {
     "data": {
      "text/plain": [
       "Price                   0\n",
       "VehicleType         37245\n",
       "RegistrationYear        0\n",
       "Gearbox             19597\n",
       "Power                   0\n",
       "Model               19534\n",
       "Kilometer               0\n",
       "FuelType            32677\n",
       "Brand                   0\n",
       "Repaired            70877\n",
       "YearCreated             0\n",
       "dtype: int64"
      ]
     },
     "execution_count": 5,
     "metadata": {},
     "output_type": "execute_result"
    }
   ],
   "source": [
    "data.isna().sum()"
   ]
  },
  {
   "cell_type": "markdown",
   "metadata": {},
   "source": [
    "Пропуски есть в 5 категориальных столбцах: VehicleType, Gearbox, Model, FuelType, Repaired. Каждый из этих признаков оказывает существенное влияние на цену автомобиля, при этом признаки категориальные. То есть такие пропуски нельзя заполнять, например, наиболее распространенным значением по столбцу, случайным."
   ]
  },
  {
   "cell_type": "code",
   "execution_count": 6,
   "metadata": {},
   "outputs": [
    {
     "name": "stdout",
     "output_type": "stream",
     "text": [
      "Строк с хотя бы 1 пропуском: 108216\n"
     ]
    }
   ],
   "source": [
    "print('Строк с хотя бы 1 пропуском:', data[data.isna().sum(axis=1) > 0].shape[0])"
   ]
  },
  {
   "cell_type": "markdown",
   "metadata": {},
   "source": [
    "Удалять все строки с пропусками тоже некорректно: так мы потеряем около четверти всех оставшихся на данный момент данных, и при попытке будущих пользователей рассчитать стоимость своего автомобиля они также могут захотеть оставить пропуски в некоторых их этих столбцов. Но если в одной строке пропущено много значений из этих 5 столбцов, то рассчитать корректно стоимость аавтомобиля будет невозможно, так как как, опять же, они все оказывают существенное влияние на целевой признак. Посмотрим на количество строк  с соответствующим количеством пропусков"
   ]
  },
  {
   "cell_type": "code",
   "execution_count": 7,
   "metadata": {},
   "outputs": [
    {
     "name": "stdout",
     "output_type": "stream",
     "text": [
      "Количество строк с соответствующим количеством пропусков\n",
      "Количество пропусков: 1 -- количество строк: 64262\n",
      "Количество пропусков: 2 -- количество строк: 26167\n",
      "Количество пропусков: 3 -- количество строк: 9956\n",
      "Количество пропусков: 4 -- количество строк: 5689\n",
      "Количество пропусков: 5 -- количество строк: 2142\n"
     ]
    }
   ],
   "source": [
    "print('Количество строк с соответствующим количеством пропусков')\n",
    "for na_amount in range(1, 6):\n",
    "    print(f'Количество пропусков: {na_amount} -- количество строк: {data[data.isna().sum(axis=1) == na_amount].shape[0]}')"
   ]
  },
  {
   "cell_type": "markdown",
   "metadata": {},
   "source": [
    "Можно удалить строки, в которых не менее 3 пропусков, а в будущем приложении ставить ограничение на количество пропсуков. Так мы потеряем около 7000 (то есть 2%) всех оставшихся записей, что в целом немного, и при этом сможем давать более корректные прогнозы стоимости. "
   ]
  },
  {
   "cell_type": "code",
   "execution_count": 8,
   "metadata": {},
   "outputs": [],
   "source": [
    "max_allowed_na_amount = 2\n",
    "data = data[data.isna().sum(axis=1) <= max_allowed_na_amount]"
   ]
  },
  {
   "cell_type": "markdown",
   "metadata": {},
   "source": [
    "Остальные пропуски заполним значением 'unspecified'"
   ]
  },
  {
   "cell_type": "code",
   "execution_count": 9,
   "metadata": {},
   "outputs": [
    {
     "data": {
      "text/plain": [
       "Price               0\n",
       "VehicleType         0\n",
       "RegistrationYear    0\n",
       "Gearbox             0\n",
       "Power               0\n",
       "Model               0\n",
       "Kilometer           0\n",
       "FuelType            0\n",
       "Brand               0\n",
       "Repaired            0\n",
       "YearCreated         0\n",
       "dtype: int64"
      ]
     },
     "execution_count": 9,
     "metadata": {},
     "output_type": "execute_result"
    }
   ],
   "source": [
    "new_na_value = 'unspecified'\n",
    "data = data.fillna(new_na_value)\n",
    "data.isna().sum()"
   ]
  },
  {
   "cell_type": "markdown",
   "metadata": {},
   "source": [
    "### 1.4. Анализ данных и обработка аномалий\n"
   ]
  },
  {
   "cell_type": "markdown",
   "metadata": {},
   "source": [
    "#### Price\n",
    "Сначала проанализируем значения целевого столбца Price. Построим гистограмму, ящик с усами и выведем статистическую информацию"
   ]
  },
  {
   "cell_type": "code",
   "execution_count": 10,
   "metadata": {},
   "outputs": [
    {
     "data": {
      "image/png": "[encoded data removed]",
      "text/plain": [
       "<Figure size 432x288 with 1 Axes>"
      ]
     },
     "metadata": {
      "needs_background": "light"
     },
     "output_type": "display_data"
    },
    {
     "data": {
      "image/png": "[encoded data removed]",
      "text/plain": [
       "<Figure size 432x288 with 1 Axes>"
      ]
     },
     "metadata": {
      "needs_background": "light"
     },
     "output_type": "display_data"
    },
    {
     "data": {
      "text/plain": [
       "count    336213.000000\n",
       "mean       4552.861008\n",
       "std        4542.557370\n",
       "min           0.000000\n",
       "25%        1199.000000\n",
       "50%        2899.000000\n",
       "75%        6500.000000\n",
       "max       20000.000000\n",
       "Name: Price, dtype: float64"
      ]
     },
     "execution_count": 10,
     "metadata": {},
     "output_type": "execute_result"
    }
   ],
   "source": [
    "plt.title('Гистограмма распределения целевого признака Price')\n",
    "plt.xlabel('Цена (евро)')\n",
    "plt.ylabel('Количество')\n",
    "data['Price'].hist(bins=30)\n",
    "plt.show()\n",
    "\n",
    "plt.title('Ящик с усами для целевого признака Price')\n",
    "plt.ylabel('Цена (евро)')\n",
    "data.boxplot('Price')\n",
    "plt.show()\n",
    "data['Price'].describe()"
   ]
  },
  {
   "cell_type": "markdown",
   "metadata": {},
   "source": [
    "По гистограмме видно, что данные сильно смещены вправо. Согласно статистической информации, среднее примерно в два раза болше медианы. То есть в данных много маленьких значений и выбросов в большую сторону. Это наглядно продемонстрировано и на ящике с усами.\n",
    "\n",
    "Максимальная цена составляет 20000 евро, что является вполне адекватным, то есть большие значения нельзя назвать выбросами. Но вот пик цены в районе нуля -- явная аномалия. Оставим в данных только те записи, где цена автомобиля больше 400 евро. "
   ]
  },
  {
   "cell_type": "code",
   "execution_count": 11,
   "metadata": {},
   "outputs": [],
   "source": [
    "min_price = 400\n",
    "data = data[data['Price'] > min_price]"
   ]
  },
  {
   "cell_type": "markdown",
   "metadata": {},
   "source": [
    "#### Категориальные признаки: VehicleType, Gearbox, Model, FuelType, Brand, Repaired\n",
    "\n",
    "Теперь рассмотрим категориальные признаки VehicleType, Gearbox, Model, FuelType, Brand, Repaired на предмет наличия скрытых дублей или аномалий. Выведем все встречающиеся значения и их долю в каждом столбце\n",
    "\n"
   ]
  },
  {
   "cell_type": "code",
   "execution_count": 12,
   "metadata": {},
   "outputs": [
    {
     "name": "stdout",
     "output_type": "stream",
     "text": [
      "Признак: VehicleType\n",
      "Принимаемые значения:\n",
      "sedan          0.276195\n",
      "small          0.222899\n",
      "wagon          0.196361\n",
      "bus            0.089536\n",
      "convertible    0.062695\n",
      "unspecified    0.058192\n",
      "coupe          0.047877\n",
      "suv            0.037517\n",
      "other          0.008729\n",
      "Name: VehicleType, dtype: float64\n",
      "\n",
      "Признак: Gearbox\n",
      "Принимаемые значения:\n",
      "manual         0.773290\n",
      "auto           0.201883\n",
      "unspecified    0.024826\n",
      "Name: Gearbox, dtype: float64\n",
      "\n",
      "Признак: Model\n",
      "Принимаемые значения:\n",
      "golf                  0.083082\n",
      "other                 0.069773\n",
      "3er                   0.058923\n",
      "polo                  0.034055\n",
      "unspecified           0.032260\n",
      "                        ...   \n",
      "samara                0.000016\n",
      "rangerover            0.000013\n",
      "serie_3               0.000010\n",
      "range_rover_evoque    0.000006\n",
      "serie_1               0.000003\n",
      "Name: Model, Length: 251, dtype: float64\n",
      "\n",
      "Признак: FuelType\n",
      "Принимаемые значения:\n",
      "petrol         0.624403\n",
      "gasoline       0.307874\n",
      "unspecified    0.048463\n",
      "lpg            0.016194\n",
      "cng            0.001718\n",
      "hybrid         0.000716\n",
      "other          0.000374\n",
      "electric       0.000258\n",
      "Name: FuelType, dtype: float64\n",
      "\n",
      "Признак: Brand\n",
      "Принимаемые значения:\n",
      "volkswagen        0.216230\n",
      "bmw               0.109014\n",
      "opel              0.106184\n",
      "mercedes_benz     0.096859\n",
      "audi              0.087154\n",
      "ford              0.067049\n",
      "renault           0.047529\n",
      "peugeot           0.031270\n",
      "fiat              0.025487\n",
      "seat              0.019408\n",
      "skoda             0.016861\n",
      "smart             0.015872\n",
      "mazda             0.015766\n",
      "citroen           0.014521\n",
      "toyota            0.014018\n",
      "nissan            0.013819\n",
      "hyundai           0.010705\n",
      "mini              0.009970\n",
      "volvo             0.009299\n",
      "mitsubishi        0.008075\n",
      "honda             0.007984\n",
      "kia               0.007343\n",
      "suzuki            0.006518\n",
      "alfa_romeo        0.006469\n",
      "sonstige_autos    0.006273\n",
      "chevrolet         0.005235\n",
      "chrysler          0.004000\n",
      "dacia             0.002827\n",
      "porsche           0.002160\n",
      "jeep              0.002024\n",
      "subaru            0.002018\n",
      "daihatsu          0.001957\n",
      "land_rover        0.001686\n",
      "saab              0.001550\n",
      "jaguar            0.001518\n",
      "daewoo            0.001325\n",
      "lancia            0.001193\n",
      "rover             0.001180\n",
      "trabant           0.001038\n",
      "lada              0.000612\n",
      "Name: Brand, dtype: float64\n",
      "\n",
      "Признак: Repaired\n",
      "Принимаемые значения:\n",
      "no             0.765000\n",
      "unspecified    0.148033\n",
      "yes            0.086967\n",
      "Name: Repaired, dtype: float64\n",
      "\n"
     ]
    }
   ],
   "source": [
    "categorial_features = ['VehicleType', 'Gearbox', 'Model', 'FuelType', 'Brand', 'Repaired']\n",
    "for feature in categorial_features:\n",
    "    print('Признак:', feature)\n",
    "    print('Принимаемые значения:')\n",
    "    print(data[feature].value_counts(normalize=True))\n",
    "    print()"
   ]
  },
  {
   "cell_type": "markdown",
   "metadata": {},
   "source": [
    "Скрытых дублей нет, но следует отметить несколько моментов.\n",
    "\n",
    "Во-первых, можно заметить, что в некоторых столбцах (например, FuelType) есть значения 'other'. Здесь можно предложить следующее: отнести пропуски (то, что мы заполнили как 'unspecified') к категории 'other'. Однако мы этого делать не будем, так как неуказанное значение не обязательно относится к этой категории, а значения столбцов оказывают значительное влияние на цену автомобиля, то есть такое объединение категорий может значительно испортить исходные данные.\n",
    "\n",
    "Во-вторых, можно отметить, что некоторые значения встречаются очень редко (например, значение range_rover_evoque в поле Model -- всего в 0.000007 доле случаев). Если некоторые значения встречаются редко, то их лучше объединить в одну группу, чтобы модель не концентрировалась на частных случаях, не переобучалась.\n",
    "\n",
    "Выставим следующую границу: будем считать, что некоторое значение встречается редко, если оно представлено менее, чем 0.05% случаев (то есть его доля < 0.0005). Все редкие значения по каждому столбцу объединим в одну категорию -- 'other'"
   ]
  },
  {
   "cell_type": "code",
   "execution_count": 13,
   "metadata": {},
   "outputs": [
    {
     "name": "stdout",
     "output_type": "stream",
     "text": [
      "Признак: VehicleType\n",
      "Принимаемые значения:\n",
      "sedan          0.276195\n",
      "small          0.222899\n",
      "wagon          0.196361\n",
      "bus            0.089536\n",
      "convertible    0.062695\n",
      "unspecified    0.058192\n",
      "coupe          0.047877\n",
      "suv            0.037517\n",
      "other          0.008729\n",
      "Name: VehicleType, dtype: float64\n",
      "\n",
      "Признак: Gearbox\n",
      "Принимаемые значения:\n",
      "manual         0.773290\n",
      "auto           0.201883\n",
      "unspecified    0.024826\n",
      "Name: Gearbox, dtype: float64\n",
      "\n",
      "Признак: Model\n",
      "Принимаемые значения:\n",
      "other          0.084539\n",
      "golf           0.083082\n",
      "3er            0.058923\n",
      "polo           0.034055\n",
      "unspecified    0.032260\n",
      "                 ...   \n",
      "captiva        0.000538\n",
      "ypsilon        0.000525\n",
      "x_type         0.000509\n",
      "calibra        0.000509\n",
      "mustang        0.000506\n",
      "Name: Model, Length: 183, dtype: float64\n",
      "\n",
      "Признак: FuelType\n",
      "Принимаемые значения:\n",
      "petrol         0.624403\n",
      "gasoline       0.307874\n",
      "unspecified    0.048463\n",
      "lpg            0.016194\n",
      "cng            0.001718\n",
      "hybrid         0.000716\n",
      "other          0.000632\n",
      "Name: FuelType, dtype: float64\n",
      "\n",
      "Признак: Brand\n",
      "Принимаемые значения:\n",
      "volkswagen        0.216230\n",
      "bmw               0.109014\n",
      "opel              0.106184\n",
      "mercedes_benz     0.096859\n",
      "audi              0.087154\n",
      "ford              0.067049\n",
      "renault           0.047529\n",
      "peugeot           0.031270\n",
      "fiat              0.025487\n",
      "seat              0.019408\n",
      "skoda             0.016861\n",
      "smart             0.015872\n",
      "mazda             0.015766\n",
      "citroen           0.014521\n",
      "toyota            0.014018\n",
      "nissan            0.013819\n",
      "hyundai           0.010705\n",
      "mini              0.009970\n",
      "volvo             0.009299\n",
      "mitsubishi        0.008075\n",
      "honda             0.007984\n",
      "kia               0.007343\n",
      "suzuki            0.006518\n",
      "alfa_romeo        0.006469\n",
      "sonstige_autos    0.006273\n",
      "chevrolet         0.005235\n",
      "chrysler          0.004000\n",
      "dacia             0.002827\n",
      "porsche           0.002160\n",
      "jeep              0.002024\n",
      "subaru            0.002018\n",
      "daihatsu          0.001957\n",
      "land_rover        0.001686\n",
      "saab              0.001550\n",
      "jaguar            0.001518\n",
      "daewoo            0.001325\n",
      "lancia            0.001193\n",
      "rover             0.001180\n",
      "trabant           0.001038\n",
      "lada              0.000612\n",
      "Name: Brand, dtype: float64\n",
      "\n",
      "Признак: Repaired\n",
      "Принимаемые значения:\n",
      "no             0.765000\n",
      "unspecified    0.148033\n",
      "yes            0.086967\n",
      "Name: Repaired, dtype: float64\n",
      "\n"
     ]
    }
   ],
   "source": [
    "min_prop = 0.0005\n",
    "\n",
    "for feature in categorial_features:\n",
    "    proportions = data[feature].value_counts(normalize=True)\n",
    "    data[feature] = data[feature].apply(lambda x: x if proportions[x] >= min_prop else 'other')\n",
    "    \n",
    "for feature in categorial_features:\n",
    "    print('Признак:', feature)\n",
    "    print('Принимаемые значения:')\n",
    "    print(data[feature].value_counts(normalize=True))\n",
    "    print()"
   ]
  },
  {
   "cell_type": "markdown",
   "metadata": {},
   "source": [
    "#### Power\n",
    "\n",
    "Построим ящик с усами и выведем статистическую информацию для столбца Power"
   ]
  },
  {
   "cell_type": "code",
   "execution_count": 14,
   "metadata": {},
   "outputs": [
    {
     "data": {
      "image/png": "[encoded data removed]",
      "text/plain": [
       "<Figure size 432x288 with 1 Axes>"
      ]
     },
     "metadata": {
      "needs_background": "light"
     },
     "output_type": "display_data"
    },
    {
     "data": {
      "text/plain": [
       "count    310234.000000\n",
       "mean        116.297543\n",
       "std         187.771028\n",
       "min           0.000000\n",
       "25%          75.000000\n",
       "50%         109.000000\n",
       "75%         147.000000\n",
       "max       20000.000000\n",
       "Name: Power, dtype: float64"
      ]
     },
     "execution_count": 14,
     "metadata": {},
     "output_type": "execute_result"
    }
   ],
   "source": [
    "plt.title('Ящик с усами для признака Power')\n",
    "plt.ylabel('Мощность (л. с.)')\n",
    "data.boxplot('Power')\n",
    "plt.show()\n",
    "\n",
    "data['Power'].describe()"
   ]
  },
  {
   "cell_type": "markdown",
   "metadata": {},
   "source": [
    "Очевидно, что в данных много выбросов в бОльшую сторону, максимальное значение составляет 20000, тогда как 75-ти процентная квантиль находится на уровне 146, а медиана и среднее -- около 100. Также есть аномальные нулевые значения. \n",
    "\n",
    "Оставим только строки, где значение столбца Power больше нуля и меньше 99-ти процентной квантили"
   ]
  },
  {
   "cell_type": "code",
   "execution_count": 15,
   "metadata": {},
   "outputs": [
    {
     "name": "stdout",
     "output_type": "stream",
     "text": [
      "Удалено 27124 записей\n"
     ]
    }
   ],
   "source": [
    "prev_len = data.shape[0]\n",
    "data = data[data['Power'] > 0]\n",
    "max_power = data['Power'].quantile(q=0.99)\n",
    "data = data[data['Power'] < max_power]\n",
    "cur_len = data.shape[0]\n",
    "print(f'Удалено {prev_len - cur_len} записей')"
   ]
  },
  {
   "cell_type": "code",
   "execution_count": 16,
   "metadata": {},
   "outputs": [
    {
     "data": {
      "image/png": "[encoded data removed]",
      "text/plain": [
       "<Figure size 432x288 with 1 Axes>"
      ]
     },
     "metadata": {
      "needs_background": "light"
     },
     "output_type": "display_data"
    },
    {
     "data": {
      "image/png": "[encoded data removed]",
      "text/plain": [
       "<Figure size 432x288 with 1 Axes>"
      ]
     },
     "metadata": {
      "needs_background": "light"
     },
     "output_type": "display_data"
    }
   ],
   "source": [
    "plt.title('Гистограмма распределения признака Power')\n",
    "plt.xlabel('Мощность (л. с.)')\n",
    "plt.ylabel('Количество')\n",
    "data['Power'].hist(bins=30)\n",
    "plt.show()\n",
    "\n",
    "plt.title('Ящик с усами для признака Power')\n",
    "plt.ylabel('Мощность (л. с.)')\n",
    "data.boxplot('Power')\n",
    "plt.show()"
   ]
  },
  {
   "cell_type": "markdown",
   "metadata": {},
   "source": [
    "Теперь распределения выглядят более адекватно"
   ]
  },
  {
   "cell_type": "markdown",
   "metadata": {},
   "source": [
    "#### Kilometer\n",
    "Проанализируем значения столбца Kilometer. Построим гистограмму и выведем статистическую информацию"
   ]
  },
  {
   "cell_type": "code",
   "execution_count": 17,
   "metadata": {},
   "outputs": [
    {
     "data": {
      "image/png": "[encoded data removed]",
      "text/plain": [
       "<Figure size 432x288 with 1 Axes>"
      ]
     },
     "metadata": {
      "needs_background": "light"
     },
     "output_type": "display_data"
    },
    {
     "data": {
      "text/plain": [
       "count    283110.000000\n",
       "mean     127780.262089\n",
       "std       36890.364362\n",
       "min        5000.000000\n",
       "25%      125000.000000\n",
       "50%      150000.000000\n",
       "75%      150000.000000\n",
       "max      150000.000000\n",
       "Name: Kilometer, dtype: float64"
      ]
     },
     "execution_count": 17,
     "metadata": {},
     "output_type": "execute_result"
    }
   ],
   "source": [
    "plt.title('Гистограмма распределения признака Kilometer')\n",
    "plt.xlabel('Км')\n",
    "plt.ylabel('Количество')\n",
    "data['Kilometer'].hist()\n",
    "plt.show()\n",
    "\n",
    "data['Kilometer'].describe()"
   ]
  },
  {
   "cell_type": "markdown",
   "metadata": {},
   "source": [
    "Значения выглядят адекватно"
   ]
  },
  {
   "cell_type": "markdown",
   "metadata": {},
   "source": [
    "#### Даты: RegistrationYear и YearCreated"
   ]
  },
  {
   "cell_type": "code",
   "execution_count": 18,
   "metadata": {},
   "outputs": [
    {
     "data": {
      "text/plain": [
       "<AxesSubplot:>"
      ]
     },
     "execution_count": 18,
     "metadata": {},
     "output_type": "execute_result"
    },
    {
     "data": {
      "image/png": "[encoded data removed]",
      "text/plain": [
       "<Figure size 432x288 with 1 Axes>"
      ]
     },
     "metadata": {
      "needs_background": "light"
     },
     "output_type": "display_data"
    }
   ],
   "source": [
    "data['RegistrationYear'].hist()"
   ]
  },
  {
   "cell_type": "code",
   "execution_count": 19,
   "metadata": {},
   "outputs": [
    {
     "data": {
      "text/plain": [
       "<AxesSubplot:>"
      ]
     },
     "execution_count": 19,
     "metadata": {},
     "output_type": "execute_result"
    },
    {
     "data": {
      "image/png": "[encoded data removed]",
      "text/plain": [
       "<Figure size 432x288 with 1 Axes>"
      ]
     },
     "metadata": {
      "needs_background": "light"
     },
     "output_type": "display_data"
    }
   ],
   "source": [
    "data['YearCreated'].hist()"
   ]
  },
  {
   "cell_type": "markdown",
   "metadata": {},
   "source": [
    "С этими данными также все в порядке"
   ]
  },
  {
   "cell_type": "markdown",
   "metadata": {},
   "source": [
    "# 2. Подготовка выборок для обучения моделей.<a class=\"anchor\" id=\"b2\"></a>\n",
    "\n",
    "\n",
    "Будем пробовать обучать следующие модели: сначала попробуем использовать DecisionTreeRegressor как одну из самых простых моделей, затем -- ансамбль деревьев RandomForestRegressor, который усредняет ответы отдельных деревьев (зачастую таких моделей оказывается достаточно), а затем применим бустинг с помощью библиотек LightGBM и CatBoost. Для всех моделей будем пробовать различные наборы гиперпараметров и выбирать наилучшие. Модели будем оценивать по времени обучения на обучающей выборке и RMSE и времени предсказания на валидационной выборке. Но если модель не удовлетворяет требуемому качеству, то и время для нее замерять бессмыслено\n",
    "\n",
    "Чтобы применить модели DecisionTreeRegressor и RandomForestRegressor, необходимо обработать категориальные признаки, например, техникой порядкового кодирования (Ordinal Encoding). Библиотеки LightGBM и CatBoost сами работают с категориальными признаками, но порядковое кодирование сохранит данные в тех же столбцах, просто переименовав принимаемые значения, поэтому на их работе данное преобразование не скажется\n",
    "\n",
    "Разобьем данные на признаки и целевой признак, а также на тренировочную, тестовую и валидационную выборки в отношении 3:1:1. Закодируем категориальные признаки обучения порядковым кодированием.\n"
   ]
  },
  {
   "cell_type": "code",
   "execution_count": 20,
   "metadata": {},
   "outputs": [
    {
     "name": "stdout",
     "output_type": "stream",
     "text": [
      "Длины выборок. Обучающей: 169866, валидационной: 56622, тестовой: 56622\n"
     ]
    }
   ],
   "source": [
    "enc = OrdinalEncoder()\n",
    "enc.fit(data[categorial_features])\n",
    "data[categorial_features] = enc.transform(data[categorial_features])\n",
    "\n",
    "\n",
    "data_target = data['Price']\n",
    "data_features = data.drop('Price', axis=1)\n",
    "\n",
    "features_train, features_vt, target_train, target_vt = train_test_split(\n",
    "    data_features, data_target, test_size=0.4, random_state=12)\n",
    "\n",
    "features_valid, features_test, target_valid, target_test = train_test_split(\n",
    "    features_vt, target_vt, test_size=0.5, random_state=12)\n",
    "\n",
    "print(f'Длины выборок. Обучающей: {len(features_train)}, валидационной: {len(features_valid)}, тестовой: {len(features_test)}') "
   ]
  },
  {
   "cell_type": "markdown",
   "metadata": {},
   "source": [
    "# 3. Обучение моделей<a class=\"anchor\" id=\"b3\"></a>\n"
   ]
  },
  {
   "cell_type": "markdown",
   "metadata": {},
   "source": [
    "### 3.1. DecisionTreeRegressor\n",
    "\n",
    "Подберем параметры DecisionTreeRegressor с помощью кросс-валидации на тренировочной выборке, а затем оценим качество лучшей модели с помощью RMSE на валидационной выборке"
   ]
  },
  {
   "cell_type": "code",
   "execution_count": 21,
   "metadata": {},
   "outputs": [
    {
     "name": "stdout",
     "output_type": "stream",
     "text": [
      "Подобранные параметры DecisionTreeRegressor: DecisionTreeRegressor(max_depth=10, min_samples_split=0.1)\n",
      "RMSE DecisionTreeRegressor на валидационной выборке: 2763.334416313057\n"
     ]
    }
   ],
   "source": [
    "parameters = {\n",
    "    'max_depth': list(range(4, 12)), \n",
    "    'min_samples_split': list(np.arange(0.1, 1, 0.3)), \n",
    "}\n",
    "model = DecisionTreeRegressor()\n",
    "searcher = GridSearchCV(model, parameters)\n",
    "searcher.fit(features_train, target_train)\n",
    "predictions_valid = searcher.predict(features_valid)\n",
    "\n",
    "best_tree = searcher.best_estimator_\n",
    "rmse_valid_tree = mean_squared_error(target_valid, predictions_valid, squared=False)\n",
    "print('Подобранные параметры DecisionTreeRegressor:', best_tree)\n",
    "print('RMSE DecisionTreeRegressor на валидационной выборке:', rmse_valid_tree)"
   ]
  },
  {
   "cell_type": "markdown",
   "metadata": {},
   "source": [
    "Такого качества недостаточно (по заданию RMSE должно быть меньше 2500), поэтому сразу перейдем к более сложным моделям"
   ]
  },
  {
   "cell_type": "markdown",
   "metadata": {},
   "source": [
    "### 3.2. RandomForestRegressor\n",
    "\n",
    "Подберем параметры RandomForestRegressor с помощью кросс-валидации на тренировочной выборке, а затем оценим качество лучшей модели с помощью RMSE на валидационной выборке"
   ]
  },
  {
   "cell_type": "code",
   "execution_count": 22,
   "metadata": {},
   "outputs": [
    {
     "name": "stdout",
     "output_type": "stream",
     "text": [
      "Подобранные параметры RandomForestRegressor: RandomForestRegressor(max_depth=11, n_estimators=120)\n",
      "RMSE RandomForestRegressor на валидационной выборке: 1777.9206473092424\n"
     ]
    }
   ],
   "source": [
    "parameters = {\n",
    "    'n_estimators': list(range(80, 121, 20)), \n",
    "    'max_depth': list(range(4, 12)), \n",
    "    # 'min_samples_split': list(np.arange(0.1, 1, 0.3)), \n",
    "}\n",
    "model = RandomForestRegressor()\n",
    "searcher = GridSearchCV(model, parameters)\n",
    "searcher.fit(features_train, target_train)\n",
    "predictions_valid = searcher.predict(features_valid)\n",
    "\n",
    "best_forest = searcher.best_estimator_\n",
    "rmse_valid_forest = mean_squared_error(target_valid, predictions_valid, squared=False)\n",
    "print('Подобранные параметры RandomForestRegressor:', best_forest)\n",
    "print('RMSE RandomForestRegressor на валидационной выборке:', rmse_valid_forest)"
   ]
  },
  {
   "cell_type": "markdown",
   "metadata": {},
   "source": [
    "Качества RandomForestRegressor уже может оказаться достаточно, поэтому оценим также время обучения и время предсказания. "
   ]
  },
  {
   "cell_type": "code",
   "execution_count": 23,
   "metadata": {},
   "outputs": [
    {
     "name": "stdout",
     "output_type": "stream",
     "text": [
      "RandomForestRegressor\n",
      "Время обучения 19.664745807647705\n",
      "Время предсказания 0.4569058418273926\n",
      "RMSE на валидационной выборке: 1776.032839023925\n"
     ]
    }
   ],
   "source": [
    "print(\"RandomForestRegressor\")\n",
    "\n",
    "best_forest = RandomForestRegressor(random_state = 123, max_depth=11, n_estimators=80)\n",
    "start = time()           \n",
    "best_forest.fit(features_train, target_train)\n",
    "end = time()\n",
    "best_forest_time_train = end - start\n",
    "print(\"Время обучения\", best_forest_time_train)\n",
    "            \n",
    "start = time()\n",
    "best_forest_predictions_valid = best_forest.predict(features_valid)\n",
    "end = time()\n",
    "best_forest_time_pred = end - start\n",
    "print(\"Время предсказания\", best_forest_time_pred)\n",
    "            \n",
    "best_forest_rmse_valid = mean_squared_error(target_valid, best_forest_predictions_valid, squared=False)\n",
    "print('RMSE на валидационной выборке:', best_forest_rmse_valid)\n",
    "            "
   ]
  },
  {
   "cell_type": "markdown",
   "metadata": {},
   "source": [
    "### 3.3. LightGBM"
   ]
  },
  {
   "cell_type": "code",
   "execution_count": 24,
   "metadata": {},
   "outputs": [
    {
     "name": "stderr",
     "output_type": "stream",
     "text": [
      "C:\\Users\\alena\\anaconda3\\lib\\site-packages\\lightgbm\\basic.py:2065: UserWarning: Using categorical_feature in Dataset.\n",
      "  _log_warning('Using categorical_feature in Dataset.')\n"
     ]
    },
    {
     "name": "stdout",
     "output_type": "stream",
     "text": [
      "['LIGHT, max_depth = -1, n_estimators = 80', 1605.711873824474, 0.10099673271179199, 0.6192059516906738]\n"
     ]
    },
    {
     "name": "stderr",
     "output_type": "stream",
     "text": [
      "C:\\Users\\alena\\anaconda3\\lib\\site-packages\\lightgbm\\basic.py:2065: UserWarning: Using categorical_feature in Dataset.\n",
      "  _log_warning('Using categorical_feature in Dataset.')\n"
     ]
    },
    {
     "name": "stdout",
     "output_type": "stream",
     "text": [
      "['LIGHT, max_depth = -1, n_estimators = 100', 1593.2942168579978, 0.0859990119934082, 0.7163689136505127]\n"
     ]
    },
    {
     "name": "stderr",
     "output_type": "stream",
     "text": [
      "C:\\Users\\alena\\anaconda3\\lib\\site-packages\\lightgbm\\basic.py:2065: UserWarning: Using categorical_feature in Dataset.\n",
      "  _log_warning('Using categorical_feature in Dataset.')\n"
     ]
    },
    {
     "name": "stdout",
     "output_type": "stream",
     "text": [
      "['LIGHT, max_depth = -1, n_estimators = 120', 1584.6155952222637, 0.08999109268188477, 0.6913111209869385]\n"
     ]
    },
    {
     "name": "stderr",
     "output_type": "stream",
     "text": [
      "C:\\Users\\alena\\anaconda3\\lib\\site-packages\\lightgbm\\basic.py:2065: UserWarning: Using categorical_feature in Dataset.\n",
      "  _log_warning('Using categorical_feature in Dataset.')\n"
     ]
    },
    {
     "name": "stdout",
     "output_type": "stream",
     "text": [
      "['LIGHT, max_depth = -1, n_estimators = 140', 1577.1539231822455, 0.09999632835388184, 0.7028622627258301]\n"
     ]
    },
    {
     "name": "stderr",
     "output_type": "stream",
     "text": [
      "C:\\Users\\alena\\anaconda3\\lib\\site-packages\\lightgbm\\basic.py:2065: UserWarning: Using categorical_feature in Dataset.\n",
      "  _log_warning('Using categorical_feature in Dataset.')\n"
     ]
    },
    {
     "name": "stdout",
     "output_type": "stream",
     "text": [
      "['LIGHT, max_depth = -1, n_estimators = 160', 1571.7273908650075, 0.1599900722503662, 0.8668684959411621]\n"
     ]
    },
    {
     "name": "stderr",
     "output_type": "stream",
     "text": [
      "C:\\Users\\alena\\anaconda3\\lib\\site-packages\\lightgbm\\basic.py:2065: UserWarning: Using categorical_feature in Dataset.\n",
      "  _log_warning('Using categorical_feature in Dataset.')\n"
     ]
    },
    {
     "name": "stdout",
     "output_type": "stream",
     "text": [
      "['LIGHT, max_depth = 1, n_estimators = 80', 2453.590450549288, 0.02599930763244629, 0.3037540912628174]\n"
     ]
    },
    {
     "name": "stderr",
     "output_type": "stream",
     "text": [
      "C:\\Users\\alena\\anaconda3\\lib\\site-packages\\lightgbm\\basic.py:2065: UserWarning: Using categorical_feature in Dataset.\n",
      "  _log_warning('Using categorical_feature in Dataset.')\n"
     ]
    },
    {
     "name": "stdout",
     "output_type": "stream",
     "text": [
      "['LIGHT, max_depth = 1, n_estimators = 100', 2349.4117373463405, 0.027002334594726562, 0.30899834632873535]\n"
     ]
    },
    {
     "name": "stderr",
     "output_type": "stream",
     "text": [
      "C:\\Users\\alena\\anaconda3\\lib\\site-packages\\lightgbm\\basic.py:2065: UserWarning: Using categorical_feature in Dataset.\n",
      "  _log_warning('Using categorical_feature in Dataset.')\n"
     ]
    },
    {
     "name": "stdout",
     "output_type": "stream",
     "text": [
      "['LIGHT, max_depth = 1, n_estimators = 120', 2275.3842691649547, 0.031000614166259766, 0.3569979667663574]\n"
     ]
    },
    {
     "name": "stderr",
     "output_type": "stream",
     "text": [
      "C:\\Users\\alena\\anaconda3\\lib\\site-packages\\lightgbm\\basic.py:2065: UserWarning: Using categorical_feature in Dataset.\n",
      "  _log_warning('Using categorical_feature in Dataset.')\n"
     ]
    },
    {
     "name": "stdout",
     "output_type": "stream",
     "text": [
      "['LIGHT, max_depth = 1, n_estimators = 140', 2222.2936979254755, 0.033997535705566406, 0.34000325202941895]\n"
     ]
    },
    {
     "name": "stderr",
     "output_type": "stream",
     "text": [
      "C:\\Users\\alena\\anaconda3\\lib\\site-packages\\lightgbm\\basic.py:2065: UserWarning: Using categorical_feature in Dataset.\n",
      "  _log_warning('Using categorical_feature in Dataset.')\n"
     ]
    },
    {
     "name": "stdout",
     "output_type": "stream",
     "text": [
      "['LIGHT, max_depth = 1, n_estimators = 160', 2184.322133725621, 0.03799939155578613, 0.36299848556518555]\n"
     ]
    },
    {
     "name": "stderr",
     "output_type": "stream",
     "text": [
      "C:\\Users\\alena\\anaconda3\\lib\\site-packages\\lightgbm\\basic.py:2065: UserWarning: Using categorical_feature in Dataset.\n",
      "  _log_warning('Using categorical_feature in Dataset.')\n"
     ]
    },
    {
     "name": "stdout",
     "output_type": "stream",
     "text": [
      "['LIGHT, max_depth = 21, n_estimators = 80', 1605.711873824474, 0.07700181007385254, 0.6379985809326172]\n"
     ]
    },
    {
     "name": "stderr",
     "output_type": "stream",
     "text": [
      "C:\\Users\\alena\\anaconda3\\lib\\site-packages\\lightgbm\\basic.py:2065: UserWarning: Using categorical_feature in Dataset.\n",
      "  _log_warning('Using categorical_feature in Dataset.')\n"
     ]
    },
    {
     "name": "stdout",
     "output_type": "stream",
     "text": [
      "['LIGHT, max_depth = 21, n_estimators = 100', 1593.2942168579978, 0.08700037002563477, 0.5949971675872803]\n"
     ]
    },
    {
     "name": "stderr",
     "output_type": "stream",
     "text": [
      "C:\\Users\\alena\\anaconda3\\lib\\site-packages\\lightgbm\\basic.py:2065: UserWarning: Using categorical_feature in Dataset.\n",
      "  _log_warning('Using categorical_feature in Dataset.')\n"
     ]
    },
    {
     "name": "stdout",
     "output_type": "stream",
     "text": [
      "['LIGHT, max_depth = 21, n_estimators = 120', 1584.6155952222637, 0.09800291061401367, 0.653998613357544]\n"
     ]
    },
    {
     "name": "stderr",
     "output_type": "stream",
     "text": [
      "C:\\Users\\alena\\anaconda3\\lib\\site-packages\\lightgbm\\basic.py:2065: UserWarning: Using categorical_feature in Dataset.\n",
      "  _log_warning('Using categorical_feature in Dataset.')\n"
     ]
    },
    {
     "name": "stdout",
     "output_type": "stream",
     "text": [
      "['LIGHT, max_depth = 21, n_estimators = 140', 1577.1539231822455, 0.10799884796142578, 0.7449994087219238]\n"
     ]
    },
    {
     "name": "stderr",
     "output_type": "stream",
     "text": [
      "C:\\Users\\alena\\anaconda3\\lib\\site-packages\\lightgbm\\basic.py:2065: UserWarning: Using categorical_feature in Dataset.\n",
      "  _log_warning('Using categorical_feature in Dataset.')\n"
     ]
    },
    {
     "name": "stdout",
     "output_type": "stream",
     "text": [
      "['LIGHT, max_depth = 21, n_estimators = 160', 1571.7273908650075, 0.15300345420837402, 0.7940003871917725]\n"
     ]
    },
    {
     "name": "stderr",
     "output_type": "stream",
     "text": [
      "C:\\Users\\alena\\anaconda3\\lib\\site-packages\\lightgbm\\basic.py:2065: UserWarning: Using categorical_feature in Dataset.\n",
      "  _log_warning('Using categorical_feature in Dataset.')\n"
     ]
    },
    {
     "name": "stdout",
     "output_type": "stream",
     "text": [
      "['LIGHT, max_depth = 41, n_estimators = 80', 1605.711873824474, 0.12500619888305664, 0.6369991302490234]\n"
     ]
    },
    {
     "name": "stderr",
     "output_type": "stream",
     "text": [
      "C:\\Users\\alena\\anaconda3\\lib\\site-packages\\lightgbm\\basic.py:2065: UserWarning: Using categorical_feature in Dataset.\n",
      "  _log_warning('Using categorical_feature in Dataset.')\n"
     ]
    },
    {
     "name": "stdout",
     "output_type": "stream",
     "text": [
      "['LIGHT, max_depth = 41, n_estimators = 100', 1593.2942168579978, 0.14099788665771484, 0.639998197555542]\n"
     ]
    },
    {
     "name": "stderr",
     "output_type": "stream",
     "text": [
      "C:\\Users\\alena\\anaconda3\\lib\\site-packages\\lightgbm\\basic.py:2065: UserWarning: Using categorical_feature in Dataset.\n",
      "  _log_warning('Using categorical_feature in Dataset.')\n"
     ]
    },
    {
     "name": "stdout",
     "output_type": "stream",
     "text": [
      "['LIGHT, max_depth = 41, n_estimators = 120', 1584.6155952222637, 0.1419978141784668, 0.7520008087158203]\n"
     ]
    },
    {
     "name": "stderr",
     "output_type": "stream",
     "text": [
      "C:\\Users\\alena\\anaconda3\\lib\\site-packages\\lightgbm\\basic.py:2065: UserWarning: Using categorical_feature in Dataset.\n",
      "  _log_warning('Using categorical_feature in Dataset.')\n"
     ]
    },
    {
     "name": "stdout",
     "output_type": "stream",
     "text": [
      "['LIGHT, max_depth = 41, n_estimators = 140', 1577.1539231822455, 0.1100008487701416, 0.945000410079956]\n"
     ]
    },
    {
     "name": "stderr",
     "output_type": "stream",
     "text": [
      "C:\\Users\\alena\\anaconda3\\lib\\site-packages\\lightgbm\\basic.py:2065: UserWarning: Using categorical_feature in Dataset.\n",
      "  _log_warning('Using categorical_feature in Dataset.')\n"
     ]
    },
    {
     "name": "stdout",
     "output_type": "stream",
     "text": [
      "['LIGHT, max_depth = 41, n_estimators = 160', 1571.7273908650075, 0.12399840354919434, 0.868999719619751]\n"
     ]
    },
    {
     "name": "stderr",
     "output_type": "stream",
     "text": [
      "C:\\Users\\alena\\anaconda3\\lib\\site-packages\\lightgbm\\basic.py:2065: UserWarning: Using categorical_feature in Dataset.\n",
      "  _log_warning('Using categorical_feature in Dataset.')\n"
     ]
    },
    {
     "name": "stdout",
     "output_type": "stream",
     "text": [
      "['LIGHT, max_depth = 61, n_estimators = 80', 1605.711873824474, 0.07200455665588379, 0.6259984970092773]\n"
     ]
    },
    {
     "name": "stderr",
     "output_type": "stream",
     "text": [
      "C:\\Users\\alena\\anaconda3\\lib\\site-packages\\lightgbm\\basic.py:2065: UserWarning: Using categorical_feature in Dataset.\n",
      "  _log_warning('Using categorical_feature in Dataset.')\n"
     ]
    },
    {
     "name": "stdout",
     "output_type": "stream",
     "text": [
      "['LIGHT, max_depth = 61, n_estimators = 100', 1593.2942168579978, 0.08999300003051758, 0.7383880615234375]\n"
     ]
    },
    {
     "name": "stderr",
     "output_type": "stream",
     "text": [
      "C:\\Users\\alena\\anaconda3\\lib\\site-packages\\lightgbm\\basic.py:2065: UserWarning: Using categorical_feature in Dataset.\n",
      "  _log_warning('Using categorical_feature in Dataset.')\n"
     ]
    },
    {
     "name": "stdout",
     "output_type": "stream",
     "text": [
      "['LIGHT, max_depth = 61, n_estimators = 120', 1584.6155952222637, 0.11999797821044922, 0.6798899173736572]\n"
     ]
    },
    {
     "name": "stderr",
     "output_type": "stream",
     "text": [
      "C:\\Users\\alena\\anaconda3\\lib\\site-packages\\lightgbm\\basic.py:2065: UserWarning: Using categorical_feature in Dataset.\n",
      "  _log_warning('Using categorical_feature in Dataset.')\n"
     ]
    },
    {
     "name": "stdout",
     "output_type": "stream",
     "text": [
      "['LIGHT, max_depth = 61, n_estimators = 140', 1577.1539231822455, 0.11400198936462402, 0.7942779064178467]\n"
     ]
    },
    {
     "name": "stderr",
     "output_type": "stream",
     "text": [
      "C:\\Users\\alena\\anaconda3\\lib\\site-packages\\lightgbm\\basic.py:2065: UserWarning: Using categorical_feature in Dataset.\n",
      "  _log_warning('Using categorical_feature in Dataset.')\n"
     ]
    },
    {
     "name": "stdout",
     "output_type": "stream",
     "text": [
      "['LIGHT, max_depth = 61, n_estimators = 160', 1571.7273908650075, 0.1199955940246582, 0.9119842052459717]\n"
     ]
    },
    {
     "name": "stderr",
     "output_type": "stream",
     "text": [
      "C:\\Users\\alena\\anaconda3\\lib\\site-packages\\lightgbm\\basic.py:2065: UserWarning: Using categorical_feature in Dataset.\n",
      "  _log_warning('Using categorical_feature in Dataset.')\n"
     ]
    },
    {
     "name": "stdout",
     "output_type": "stream",
     "text": [
      "['LIGHT, max_depth = 81, n_estimators = 80', 1605.711873824474, 0.07399821281433105, 0.6330337524414062]\n"
     ]
    },
    {
     "name": "stderr",
     "output_type": "stream",
     "text": [
      "C:\\Users\\alena\\anaconda3\\lib\\site-packages\\lightgbm\\basic.py:2065: UserWarning: Using categorical_feature in Dataset.\n",
      "  _log_warning('Using categorical_feature in Dataset.')\n"
     ]
    },
    {
     "name": "stdout",
     "output_type": "stream",
     "text": [
      "['LIGHT, max_depth = 81, n_estimators = 100', 1593.2942168579978, 0.08999371528625488, 0.6076483726501465]\n"
     ]
    },
    {
     "name": "stderr",
     "output_type": "stream",
     "text": [
      "C:\\Users\\alena\\anaconda3\\lib\\site-packages\\lightgbm\\basic.py:2065: UserWarning: Using categorical_feature in Dataset.\n",
      "  _log_warning('Using categorical_feature in Dataset.')\n"
     ]
    },
    {
     "name": "stdout",
     "output_type": "stream",
     "text": [
      "['LIGHT, max_depth = 81, n_estimators = 120', 1584.6155952222637, 0.13999462127685547, 0.7933425903320312]\n"
     ]
    },
    {
     "name": "stderr",
     "output_type": "stream",
     "text": [
      "C:\\Users\\alena\\anaconda3\\lib\\site-packages\\lightgbm\\basic.py:2065: UserWarning: Using categorical_feature in Dataset.\n",
      "  _log_warning('Using categorical_feature in Dataset.')\n"
     ]
    },
    {
     "name": "stdout",
     "output_type": "stream",
     "text": [
      "['LIGHT, max_depth = 81, n_estimators = 140', 1577.1539231822455, 0.11999702453613281, 0.8361563682556152]\n"
     ]
    },
    {
     "name": "stderr",
     "output_type": "stream",
     "text": [
      "C:\\Users\\alena\\anaconda3\\lib\\site-packages\\lightgbm\\basic.py:2065: UserWarning: Using categorical_feature in Dataset.\n",
      "  _log_warning('Using categorical_feature in Dataset.')\n"
     ]
    },
    {
     "name": "stdout",
     "output_type": "stream",
     "text": [
      "['LIGHT, max_depth = 81, n_estimators = 160', 1571.7273908650075, 0.1699967384338379, 0.8604679107666016]\n"
     ]
    }
   ],
   "source": [
    "compare = []\n",
    "columns = ['model', 'rmse', 'time_pred', 'time_train']\n",
    "\n",
    "\n",
    "for max_depth in [-1, ] + list(range(1, 100, 20)):\n",
    "    for n_estimators in range(80, 161, 20):\n",
    "        model = lgb.LGBMRegressor(max_depth=max_depth, n_estimators=n_estimators, objective='root_mean_squared_error', random_state=123)\n",
    "\n",
    "        start = time()            \n",
    "        model.fit(features_train, target_train, categorical_feature=categorial_features)\n",
    "        end = time()\n",
    "        time_train = end - start\n",
    "\n",
    "        start = time()\n",
    "        y_pred = model.predict(features_valid)\n",
    "        end = time()\n",
    "        time_pred = end-start\n",
    "\n",
    "        rmse = mean_squared_error(target_valid, y_pred, squared=False)\n",
    "\n",
    "        compare.append([f'LIGHT, max_depth = {max_depth}, n_estimators = {n_estimators}', rmse, time_pred, time_train])\n",
    "        print(compare[-1])"
   ]
  },
  {
   "cell_type": "code",
   "execution_count": 25,
   "metadata": {},
   "outputs": [
    {
     "data": {
      "text/html": [
       "<div>\n",
       "<style scoped>\n",
       "    .dataframe tbody tr th:only-of-type {\n",
       "        vertical-align: middle;\n",
       "    }\n",
       "\n",
       "    .dataframe tbody tr th {\n",
       "        vertical-align: top;\n",
       "    }\n",
       "\n",
       "    .dataframe thead th {\n",
       "        text-align: right;\n",
       "    }\n",
       "</style>\n",
       "<table border=\"1\" class=\"dataframe\">\n",
       "  <thead>\n",
       "    <tr style=\"text-align: right;\">\n",
       "      <th></th>\n",
       "      <th>model</th>\n",
       "      <th>rmse</th>\n",
       "      <th>time_pred</th>\n",
       "      <th>time_train</th>\n",
       "    </tr>\n",
       "  </thead>\n",
       "  <tbody>\n",
       "    <tr>\n",
       "      <th>14</th>\n",
       "      <td>LIGHT, max_depth = 21, n_estimators = 160</td>\n",
       "      <td>1571.727391</td>\n",
       "      <td>0.153003</td>\n",
       "      <td>0.794000</td>\n",
       "    </tr>\n",
       "    <tr>\n",
       "      <th>24</th>\n",
       "      <td>LIGHT, max_depth = 61, n_estimators = 160</td>\n",
       "      <td>1571.727391</td>\n",
       "      <td>0.119996</td>\n",
       "      <td>0.911984</td>\n",
       "    </tr>\n",
       "    <tr>\n",
       "      <th>19</th>\n",
       "      <td>LIGHT, max_depth = 41, n_estimators = 160</td>\n",
       "      <td>1571.727391</td>\n",
       "      <td>0.123998</td>\n",
       "      <td>0.869000</td>\n",
       "    </tr>\n",
       "    <tr>\n",
       "      <th>4</th>\n",
       "      <td>LIGHT, max_depth = -1, n_estimators = 160</td>\n",
       "      <td>1571.727391</td>\n",
       "      <td>0.159990</td>\n",
       "      <td>0.866868</td>\n",
       "    </tr>\n",
       "    <tr>\n",
       "      <th>29</th>\n",
       "      <td>LIGHT, max_depth = 81, n_estimators = 160</td>\n",
       "      <td>1571.727391</td>\n",
       "      <td>0.169997</td>\n",
       "      <td>0.860468</td>\n",
       "    </tr>\n",
       "  </tbody>\n",
       "</table>\n",
       "</div>"
      ],
      "text/plain": [
       "                                        model         rmse  time_pred  \\\n",
       "14  LIGHT, max_depth = 21, n_estimators = 160  1571.727391   0.153003   \n",
       "24  LIGHT, max_depth = 61, n_estimators = 160  1571.727391   0.119996   \n",
       "19  LIGHT, max_depth = 41, n_estimators = 160  1571.727391   0.123998   \n",
       "4   LIGHT, max_depth = -1, n_estimators = 160  1571.727391   0.159990   \n",
       "29  LIGHT, max_depth = 81, n_estimators = 160  1571.727391   0.169997   \n",
       "\n",
       "    time_train  \n",
       "14    0.794000  \n",
       "24    0.911984  \n",
       "19    0.869000  \n",
       "4     0.866868  \n",
       "29    0.860468  "
      ]
     },
     "execution_count": 25,
     "metadata": {},
     "output_type": "execute_result"
    }
   ],
   "source": [
    "compare = pd.DataFrame(data = compare, columns = columns)\n",
    "compare.sort_values('rmse').head()"
   ]
  },
  {
   "cell_type": "code",
   "execution_count": 26,
   "metadata": {},
   "outputs": [
    {
     "name": "stdout",
     "output_type": "stream",
     "text": [
      "LGBMRegressor(max_depth = 21, n_estimators = 160, objective='root_mean_squared_error', random_state=123)\n",
      "Время обучения 0.673438549041748\n",
      "Время предсказания 0.09999847412109375\n",
      "RMSE на валидационной выборке: 1628.6067702319422\n"
     ]
    }
   ],
   "source": [
    "print(\"LGBMRegressor(max_depth = 21, n_estimators = 160, objective='root_mean_squared_error', random_state=123)\")\n",
    "\n",
    "best_lgbm = lgb.LGBMRegressor(max_depth = 21, n_estimators = 160, objective='root_mean_squared_error', random_state=123)\n",
    "\n",
    "start = time()           \n",
    "best_lgbm.fit(features_train, target_train)\n",
    "end = time()\n",
    "best_lgbm_time_train = end - start\n",
    "print(\"Время обучения\", best_lgbm_time_train)\n",
    "            \n",
    "start = time()\n",
    "best_lgbm_predictions_valid = best_lgbm.predict(features_valid)\n",
    "end = time()\n",
    "best_lgbm_time_pred = end - start\n",
    "print(\"Время предсказания\", best_lgbm_time_pred)\n",
    "            \n",
    "best_lgbm_rmse_valid = mean_squared_error(target_valid, best_lgbm_predictions_valid, squared=False)\n",
    "print('RMSE на валидационной выборке:', best_lgbm_rmse_valid)"
   ]
  },
  {
   "cell_type": "markdown",
   "metadata": {},
   "source": [
    "### 3.4. CatBoostRegressor"
   ]
  },
  {
   "cell_type": "code",
   "execution_count": 27,
   "metadata": {},
   "outputs": [
    {
     "name": "stderr",
     "output_type": "stream",
     "text": [
      "<ipython-input-27-3ee37d7a849f>:4: SettingWithCopyWarning: \n",
      "A value is trying to be set on a copy of a slice from a DataFrame.\n",
      "Try using .loc[row_indexer,col_indexer] = value instead\n",
      "\n",
      "See the caveats in the documentation: https://pandas.pydata.org/pandas-docs/stable/user_guide/indexing.html#returning-a-view-versus-a-copy\n",
      "  features_train[categorial_features] = features_train[categorial_features].astype(int)\n",
      "<ipython-input-27-3ee37d7a849f>:5: SettingWithCopyWarning: \n",
      "A value is trying to be set on a copy of a slice from a DataFrame.\n",
      "Try using .loc[row_indexer,col_indexer] = value instead\n",
      "\n",
      "See the caveats in the documentation: https://pandas.pydata.org/pandas-docs/stable/user_guide/indexing.html#returning-a-view-versus-a-copy\n",
      "  features_valid[categorial_features] = features_valid[categorial_features].astype(int)\n",
      "<ipython-input-27-3ee37d7a849f>:6: SettingWithCopyWarning: \n",
      "A value is trying to be set on a copy of a slice from a DataFrame.\n",
      "Try using .loc[row_indexer,col_indexer] = value instead\n",
      "\n",
      "See the caveats in the documentation: https://pandas.pydata.org/pandas-docs/stable/user_guide/indexing.html#returning-a-view-versus-a-copy\n",
      "  features_test[categorial_features] = features_test[categorial_features].astype(int)\n"
     ]
    },
    {
     "name": "stdout",
     "output_type": "stream",
     "text": [
      "Learning rate set to 0.092159\n",
      "0:\tlearn: 4266.7277050\ttotal: 210ms\tremaining: 3m 30s\n",
      "20:\tlearn: 2177.8431828\ttotal: 2.44s\tremaining: 1m 53s\n",
      "40:\tlearn: 1882.8858338\ttotal: 4.63s\tremaining: 1m 48s\n",
      "60:\tlearn: 1803.6789803\ttotal: 6.58s\tremaining: 1m 41s\n",
      "80:\tlearn: 1763.4059869\ttotal: 8.2s\tremaining: 1m 32s\n",
      "100:\tlearn: 1734.5064358\ttotal: 10.1s\tremaining: 1m 30s\n",
      "120:\tlearn: 1713.6538658\ttotal: 12.2s\tremaining: 1m 28s\n",
      "140:\tlearn: 1693.9795308\ttotal: 14.1s\tremaining: 1m 26s\n",
      "160:\tlearn: 1678.8829876\ttotal: 16.2s\tremaining: 1m 24s\n",
      "180:\tlearn: 1665.5749543\ttotal: 18.3s\tremaining: 1m 22s\n",
      "200:\tlearn: 1654.3004000\ttotal: 20.5s\tremaining: 1m 21s\n",
      "220:\tlearn: 1644.2547296\ttotal: 22.6s\tremaining: 1m 19s\n",
      "240:\tlearn: 1635.2204645\ttotal: 25s\tremaining: 1m 18s\n",
      "260:\tlearn: 1627.1767865\ttotal: 27.2s\tremaining: 1m 17s\n",
      "280:\tlearn: 1620.1234710\ttotal: 29.5s\tremaining: 1m 15s\n",
      "300:\tlearn: 1613.2955288\ttotal: 31.5s\tremaining: 1m 13s\n",
      "320:\tlearn: 1608.0057733\ttotal: 33.7s\tremaining: 1m 11s\n",
      "340:\tlearn: 1602.6435364\ttotal: 35.9s\tremaining: 1m 9s\n",
      "360:\tlearn: 1598.8028246\ttotal: 38s\tremaining: 1m 7s\n",
      "380:\tlearn: 1594.6491303\ttotal: 40.3s\tremaining: 1m 5s\n",
      "400:\tlearn: 1590.2318375\ttotal: 42.7s\tremaining: 1m 3s\n",
      "420:\tlearn: 1586.0309926\ttotal: 45s\tremaining: 1m 1s\n",
      "440:\tlearn: 1582.1749248\ttotal: 47.2s\tremaining: 59.8s\n",
      "460:\tlearn: 1579.1811380\ttotal: 49s\tremaining: 57.3s\n",
      "480:\tlearn: 1575.5578337\ttotal: 50.9s\tremaining: 54.9s\n",
      "500:\tlearn: 1571.9062302\ttotal: 52.6s\tremaining: 52.4s\n",
      "520:\tlearn: 1567.8499562\ttotal: 54.4s\tremaining: 50s\n",
      "540:\tlearn: 1565.3104110\ttotal: 56.3s\tremaining: 47.8s\n",
      "560:\tlearn: 1562.9998508\ttotal: 58.1s\tremaining: 45.4s\n",
      "580:\tlearn: 1560.7386947\ttotal: 1m\tremaining: 43.9s\n",
      "600:\tlearn: 1558.7079251\ttotal: 1m 3s\tremaining: 41.9s\n",
      "620:\tlearn: 1556.0075674\ttotal: 1m 5s\tremaining: 39.7s\n",
      "640:\tlearn: 1553.6476212\ttotal: 1m 7s\tremaining: 37.6s\n",
      "660:\tlearn: 1550.8540423\ttotal: 1m 8s\tremaining: 35.3s\n",
      "680:\tlearn: 1548.8731233\ttotal: 1m 10s\tremaining: 33.2s\n",
      "700:\tlearn: 1546.9412854\ttotal: 1m 12s\tremaining: 31s\n",
      "720:\tlearn: 1545.0450487\ttotal: 1m 14s\tremaining: 28.8s\n",
      "740:\tlearn: 1542.5674687\ttotal: 1m 16s\tremaining: 26.6s\n",
      "760:\tlearn: 1540.1526898\ttotal: 1m 17s\tremaining: 24.4s\n",
      "780:\tlearn: 1538.2112184\ttotal: 1m 19s\tremaining: 22.4s\n",
      "800:\tlearn: 1536.0197523\ttotal: 1m 21s\tremaining: 20.3s\n",
      "820:\tlearn: 1534.3361771\ttotal: 1m 23s\tremaining: 18.2s\n",
      "840:\tlearn: 1532.8091653\ttotal: 1m 25s\tremaining: 16.1s\n",
      "860:\tlearn: 1530.9980687\ttotal: 1m 27s\tremaining: 14.1s\n",
      "880:\tlearn: 1528.7462408\ttotal: 1m 29s\tremaining: 12.1s\n",
      "900:\tlearn: 1526.4860057\ttotal: 1m 31s\tremaining: 10s\n",
      "920:\tlearn: 1525.0092953\ttotal: 1m 33s\tremaining: 7.98s\n",
      "940:\tlearn: 1523.6387869\ttotal: 1m 34s\tremaining: 5.94s\n",
      "960:\tlearn: 1521.5978292\ttotal: 1m 36s\tremaining: 3.93s\n",
      "980:\tlearn: 1519.5289167\ttotal: 1m 38s\tremaining: 1.91s\n",
      "999:\tlearn: 1517.9045053\ttotal: 1m 40s\tremaining: 0us\n",
      "['CAT, max_depth = None, n_estimators = None', 1577.0830429063412, 0.24867653846740723, 102.0044379234314]\n",
      "Learning rate set to 0.5\n",
      "0:\tlearn: 3244.1662346\ttotal: 63ms\tremaining: 2.46s\n",
      "20:\tlearn: 1779.2930732\ttotal: 903ms\tremaining: 817ms\n",
      "39:\tlearn: 1703.6491830\ttotal: 1.7s\tremaining: 0us\n",
      "['CAT, max_depth = None, n_estimators = 40', 1719.0342407727926, 0.1576681137084961, 2.368330717086792]\n",
      "Learning rate set to 0.5\n",
      "0:\tlearn: 3244.1662346\ttotal: 53ms\tremaining: 3.66s\n",
      "20:\tlearn: 1779.2930732\ttotal: 897ms\tremaining: 2.09s\n",
      "40:\tlearn: 1699.9128180\ttotal: 1.68s\tremaining: 1.19s\n",
      "60:\tlearn: 1656.8870565\ttotal: 2.42s\tremaining: 357ms\n",
      "69:\tlearn: 1643.3667115\ttotal: 2.75s\tremaining: 0us\n",
      "['CAT, max_depth = None, n_estimators = 70', 1669.3332551643505, 0.13499855995178223, 3.583545684814453]\n",
      "Learning rate set to 0.5\n",
      "0:\tlearn: 3244.1662346\ttotal: 49.3ms\tremaining: 4.88s\n",
      "20:\tlearn: 1779.2930732\ttotal: 849ms\tremaining: 3.19s\n",
      "40:\tlearn: 1699.9128180\ttotal: 1.59s\tremaining: 2.29s\n",
      "60:\tlearn: 1656.8870565\ttotal: 2.36s\tremaining: 1.51s\n",
      "80:\tlearn: 1626.4999457\ttotal: 3.1s\tremaining: 728ms\n",
      "99:\tlearn: 1601.1776854\ttotal: 3.81s\tremaining: 0us\n",
      "['CAT, max_depth = None, n_estimators = 100', 1641.6095917357743, 0.15344500541687012, 4.478612184524536]\n",
      "Learning rate set to 0.092159\n",
      "0:\tlearn: 4293.3395538\ttotal: 64.1ms\tremaining: 1m 3s\n",
      "20:\tlearn: 2364.7981739\ttotal: 1.15s\tremaining: 53.7s\n",
      "40:\tlearn: 2018.9665922\ttotal: 2.1s\tremaining: 49s\n",
      "60:\tlearn: 1914.9375100\ttotal: 3.13s\tremaining: 48.2s\n",
      "80:\tlearn: 1861.5257003\ttotal: 4.23s\tremaining: 48s\n",
      "100:\tlearn: 1829.6725365\ttotal: 5.3s\tremaining: 47.2s\n",
      "120:\tlearn: 1805.3305554\ttotal: 6.44s\tremaining: 46.8s\n",
      "140:\tlearn: 1784.2648256\ttotal: 7.54s\tremaining: 45.9s\n",
      "160:\tlearn: 1769.7998531\ttotal: 8.69s\tremaining: 45.3s\n",
      "180:\tlearn: 1756.2311057\ttotal: 9.93s\tremaining: 44.9s\n",
      "200:\tlearn: 1745.2928640\ttotal: 11.1s\tremaining: 44.1s\n",
      "220:\tlearn: 1734.7205781\ttotal: 12.3s\tremaining: 43.4s\n",
      "240:\tlearn: 1725.9349655\ttotal: 13.6s\tremaining: 42.9s\n",
      "260:\tlearn: 1718.1429075\ttotal: 14.6s\tremaining: 41.3s\n",
      "280:\tlearn: 1709.6315066\ttotal: 15.7s\tremaining: 40.2s\n",
      "300:\tlearn: 1703.2571071\ttotal: 16.7s\tremaining: 38.8s\n",
      "320:\tlearn: 1697.8702535\ttotal: 17.8s\tremaining: 37.6s\n",
      "340:\tlearn: 1692.5870081\ttotal: 18.8s\tremaining: 36.4s\n",
      "360:\tlearn: 1687.0657034\ttotal: 20s\tremaining: 35.5s\n",
      "380:\tlearn: 1681.9871338\ttotal: 21.3s\tremaining: 34.7s\n",
      "400:\tlearn: 1677.6247168\ttotal: 22.6s\tremaining: 33.7s\n",
      "420:\tlearn: 1673.3807527\ttotal: 23.7s\tremaining: 32.6s\n",
      "440:\tlearn: 1669.8401293\ttotal: 24.7s\tremaining: 31.3s\n",
      "460:\tlearn: 1665.8230019\ttotal: 25.8s\tremaining: 30.1s\n",
      "480:\tlearn: 1662.4573991\ttotal: 26.8s\tremaining: 28.9s\n",
      "500:\tlearn: 1658.2314396\ttotal: 27.8s\tremaining: 27.7s\n",
      "520:\tlearn: 1654.7234466\ttotal: 28.8s\tremaining: 26.5s\n",
      "540:\tlearn: 1651.1823596\ttotal: 29.9s\tremaining: 25.3s\n",
      "560:\tlearn: 1648.6836045\ttotal: 31.1s\tremaining: 24.3s\n",
      "580:\tlearn: 1646.1320780\ttotal: 32.2s\tremaining: 23.2s\n",
      "600:\tlearn: 1643.9026395\ttotal: 33.4s\tremaining: 22.1s\n",
      "620:\tlearn: 1641.8004542\ttotal: 34.6s\tremaining: 21.1s\n",
      "640:\tlearn: 1639.6046502\ttotal: 35.8s\tremaining: 20.1s\n",
      "660:\tlearn: 1637.7519356\ttotal: 36.9s\tremaining: 18.9s\n",
      "680:\tlearn: 1635.7803529\ttotal: 38s\tremaining: 17.8s\n",
      "700:\tlearn: 1633.5221718\ttotal: 39.2s\tremaining: 16.7s\n",
      "720:\tlearn: 1631.7075637\ttotal: 40.3s\tremaining: 15.6s\n",
      "740:\tlearn: 1629.4772811\ttotal: 41.4s\tremaining: 14.5s\n",
      "760:\tlearn: 1627.5637490\ttotal: 42.7s\tremaining: 13.4s\n",
      "780:\tlearn: 1625.5939641\ttotal: 43.9s\tremaining: 12.3s\n",
      "800:\tlearn: 1623.6138156\ttotal: 45.3s\tremaining: 11.2s\n",
      "820:\tlearn: 1621.9190148\ttotal: 46.5s\tremaining: 10.1s\n",
      "840:\tlearn: 1620.1797691\ttotal: 47.7s\tremaining: 9.02s\n",
      "860:\tlearn: 1618.6709091\ttotal: 48.8s\tremaining: 7.87s\n",
      "880:\tlearn: 1617.4842691\ttotal: 49.8s\tremaining: 6.72s\n",
      "900:\tlearn: 1615.8172164\ttotal: 50.8s\tremaining: 5.58s\n",
      "920:\tlearn: 1614.1365434\ttotal: 51.8s\tremaining: 4.44s\n",
      "940:\tlearn: 1612.8395564\ttotal: 52.9s\tremaining: 3.31s\n",
      "960:\tlearn: 1611.6451806\ttotal: 54s\tremaining: 2.19s\n",
      "980:\tlearn: 1610.2975986\ttotal: 55.1s\tremaining: 1.07s\n",
      "999:\tlearn: 1609.2420217\ttotal: 56.1s\tremaining: 0us\n",
      "['CAT, max_depth = 4, n_estimators = None', 1628.8316819606214, 0.20885872840881348, 57.062976598739624]\n",
      "Learning rate set to 0.5\n",
      "0:\tlearn: 3384.0105170\ttotal: 36ms\tremaining: 1.4s\n",
      "20:\tlearn: 1888.8737905\ttotal: 640ms\tremaining: 579ms\n",
      "39:\tlearn: 1795.8976502\ttotal: 1.14s\tremaining: 0us\n",
      "['CAT, max_depth = 4, n_estimators = 40', 1789.9461793948938, 0.14759564399719238, 1.8374426364898682]\n",
      "Learning rate set to 0.5\n",
      "0:\tlearn: 3384.0105170\ttotal: 41ms\tremaining: 2.83s\n",
      "20:\tlearn: 1888.8737905\ttotal: 647ms\tremaining: 1.51s\n",
      "40:\tlearn: 1791.5466919\ttotal: 1.23s\tremaining: 868ms\n",
      "60:\tlearn: 1747.0064359\ttotal: 1.82s\tremaining: 269ms\n",
      "69:\tlearn: 1728.8711681\ttotal: 2.05s\tremaining: 0us\n",
      "['CAT, max_depth = 4, n_estimators = 70', 1727.7984888482206, 0.14211416244506836, 2.7067904472351074]\n",
      "Learning rate set to 0.5\n",
      "0:\tlearn: 3384.0105170\ttotal: 34.4ms\tremaining: 3.41s\n",
      "20:\tlearn: 1888.8737905\ttotal: 653ms\tremaining: 2.46s\n",
      "40:\tlearn: 1791.5466919\ttotal: 1.21s\tremaining: 1.75s\n",
      "60:\tlearn: 1747.0064359\ttotal: 1.79s\tremaining: 1.14s\n",
      "80:\tlearn: 1715.9380014\ttotal: 2.31s\tremaining: 543ms\n",
      "99:\tlearn: 1690.7905598\ttotal: 2.83s\tremaining: 0us\n",
      "['CAT, max_depth = 4, n_estimators = 100', 1695.712240061787, 0.18000221252441406, 3.5135021209716797]\n",
      "Learning rate set to 0.092159\n",
      "0:\tlearn: 4247.4189275\ttotal: 139ms\tremaining: 2m 18s\n"
     ]
    },
    {
     "name": "stdout",
     "output_type": "stream",
     "text": [
      "20:\tlearn: 2066.7636238\ttotal: 2.7s\tremaining: 2m 5s\n",
      "40:\tlearn: 1797.3931595\ttotal: 5.02s\tremaining: 1m 57s\n",
      "60:\tlearn: 1726.7102057\ttotal: 7.69s\tremaining: 1m 58s\n",
      "80:\tlearn: 1684.4798925\ttotal: 9.97s\tremaining: 1m 53s\n",
      "100:\tlearn: 1657.7847017\ttotal: 12.4s\tremaining: 1m 50s\n",
      "120:\tlearn: 1637.3478956\ttotal: 15.1s\tremaining: 1m 49s\n",
      "140:\tlearn: 1618.5625978\ttotal: 17.3s\tremaining: 1m 45s\n",
      "160:\tlearn: 1602.8295129\ttotal: 19.5s\tremaining: 1m 41s\n",
      "180:\tlearn: 1590.2255877\ttotal: 22s\tremaining: 1m 39s\n",
      "200:\tlearn: 1579.2098827\ttotal: 24.4s\tremaining: 1m 36s\n",
      "220:\tlearn: 1568.9729574\ttotal: 26.8s\tremaining: 1m 34s\n",
      "240:\tlearn: 1560.1361684\ttotal: 29.4s\tremaining: 1m 32s\n",
      "260:\tlearn: 1554.1164460\ttotal: 31.7s\tremaining: 1m 29s\n",
      "280:\tlearn: 1548.8302683\ttotal: 34s\tremaining: 1m 26s\n",
      "300:\tlearn: 1540.5865656\ttotal: 36.9s\tremaining: 1m 25s\n",
      "320:\tlearn: 1535.0814492\ttotal: 39.6s\tremaining: 1m 23s\n",
      "340:\tlearn: 1529.9342955\ttotal: 42.2s\tremaining: 1m 21s\n",
      "360:\tlearn: 1525.8002615\ttotal: 45s\tremaining: 1m 19s\n",
      "380:\tlearn: 1520.0640374\ttotal: 47.4s\tremaining: 1m 16s\n",
      "400:\tlearn: 1515.8248493\ttotal: 50s\tremaining: 1m 14s\n",
      "420:\tlearn: 1512.0310963\ttotal: 52.5s\tremaining: 1m 12s\n",
      "440:\tlearn: 1508.0379297\ttotal: 54.8s\tremaining: 1m 9s\n",
      "460:\tlearn: 1503.7406934\ttotal: 57.2s\tremaining: 1m 6s\n",
      "480:\tlearn: 1499.9701726\ttotal: 59.6s\tremaining: 1m 4s\n",
      "500:\tlearn: 1495.7877486\ttotal: 1m 1s\tremaining: 1m 1s\n",
      "520:\tlearn: 1491.6390777\ttotal: 1m 4s\tremaining: 59.1s\n",
      "540:\tlearn: 1488.2615138\ttotal: 1m 6s\tremaining: 56.5s\n",
      "560:\tlearn: 1484.7379288\ttotal: 1m 8s\tremaining: 53.9s\n",
      "580:\tlearn: 1480.0768507\ttotal: 1m 11s\tremaining: 51.3s\n",
      "600:\tlearn: 1476.9047583\ttotal: 1m 13s\tremaining: 48.8s\n",
      "620:\tlearn: 1473.5761722\ttotal: 1m 16s\tremaining: 46.5s\n",
      "640:\tlearn: 1469.3835217\ttotal: 1m 18s\tremaining: 43.9s\n",
      "660:\tlearn: 1464.9519448\ttotal: 1m 20s\tremaining: 41.4s\n",
      "680:\tlearn: 1461.4424474\ttotal: 1m 22s\tremaining: 38.9s\n",
      "700:\tlearn: 1458.0716294\ttotal: 1m 25s\tremaining: 36.4s\n",
      "720:\tlearn: 1455.6081988\ttotal: 1m 27s\tremaining: 33.9s\n",
      "740:\tlearn: 1453.0491674\ttotal: 1m 30s\tremaining: 31.5s\n",
      "760:\tlearn: 1449.9397160\ttotal: 1m 32s\tremaining: 29.1s\n",
      "780:\tlearn: 1446.8798269\ttotal: 1m 35s\tremaining: 26.7s\n",
      "800:\tlearn: 1444.2058650\ttotal: 1m 37s\tremaining: 24.3s\n",
      "820:\tlearn: 1441.4975897\ttotal: 1m 40s\tremaining: 22s\n",
      "840:\tlearn: 1439.4218346\ttotal: 1m 43s\tremaining: 19.6s\n",
      "860:\tlearn: 1437.1426355\ttotal: 1m 46s\tremaining: 17.1s\n",
      "880:\tlearn: 1434.3022402\ttotal: 1m 48s\tremaining: 14.7s\n",
      "900:\tlearn: 1431.7572988\ttotal: 1m 51s\tremaining: 12.2s\n",
      "920:\tlearn: 1428.1483864\ttotal: 1m 53s\tremaining: 9.75s\n",
      "940:\tlearn: 1425.6327154\ttotal: 1m 56s\tremaining: 7.27s\n",
      "960:\tlearn: 1423.2363094\ttotal: 1m 58s\tremaining: 4.81s\n",
      "980:\tlearn: 1420.9095298\ttotal: 2m 1s\tremaining: 2.35s\n",
      "999:\tlearn: 1418.6623357\ttotal: 2m 3s\tremaining: 0us\n",
      "['CAT, max_depth = 8, n_estimators = None', 1538.6752643847958, 0.26739025115966797, 125.06702423095703]\n",
      "Learning rate set to 0.5\n",
      "0:\tlearn: 3147.3622091\ttotal: 71.8ms\tremaining: 2.8s\n",
      "20:\tlearn: 1698.0992402\ttotal: 1.12s\tremaining: 1.01s\n",
      "39:\tlearn: 1616.0364395\ttotal: 2.06s\tremaining: 0us\n",
      "['CAT, max_depth = 8, n_estimators = 40', 1657.8217985836313, 0.14148736000061035, 2.7344982624053955]\n",
      "Learning rate set to 0.5\n",
      "0:\tlearn: 3147.3622091\ttotal: 61.7ms\tremaining: 4.25s\n",
      "20:\tlearn: 1698.0992402\ttotal: 1.16s\tremaining: 2.7s\n",
      "40:\tlearn: 1613.1486136\ttotal: 2.24s\tremaining: 1.58s\n",
      "60:\tlearn: 1575.3896395\ttotal: 3.24s\tremaining: 478ms\n",
      "69:\tlearn: 1562.3546050\ttotal: 3.68s\tremaining: 0us\n",
      "['CAT, max_depth = 8, n_estimators = 70', 1633.8609227790312, 0.14857125282287598, 4.35448956489563]\n",
      "Learning rate set to 0.5\n",
      "0:\tlearn: 3147.3622091\ttotal: 70.8ms\tremaining: 7s\n",
      "20:\tlearn: 1698.0992402\ttotal: 1.16s\tremaining: 4.38s\n",
      "40:\tlearn: 1613.1486136\ttotal: 2.2s\tremaining: 3.16s\n",
      "60:\tlearn: 1575.3896395\ttotal: 3.18s\tremaining: 2.03s\n",
      "80:\tlearn: 1541.2903909\ttotal: 4.16s\tremaining: 976ms\n",
      "99:\tlearn: 1514.9131535\ttotal: 5.09s\tremaining: 0us\n",
      "['CAT, max_depth = 8, n_estimators = 100', 1607.2856026080817, 0.14999604225158691, 5.788243532180786]\n",
      "Learning rate set to 0.092159\n",
      "0:\tlearn: 4220.8394136\ttotal: 268ms\tremaining: 4m 27s\n",
      "20:\tlearn: 1915.1196671\ttotal: 5.08s\tremaining: 3m 56s\n",
      "40:\tlearn: 1657.4662930\ttotal: 10.1s\tremaining: 3m 55s\n",
      "60:\tlearn: 1585.5791429\ttotal: 15.3s\tremaining: 3m 54s\n",
      "80:\tlearn: 1546.2946996\ttotal: 20.7s\tremaining: 3m 54s\n",
      "100:\tlearn: 1516.4021607\ttotal: 26.3s\tremaining: 3m 53s\n",
      "120:\tlearn: 1492.1710075\ttotal: 32.3s\tremaining: 3m 54s\n",
      "140:\tlearn: 1471.6745679\ttotal: 38.4s\tremaining: 3m 53s\n",
      "160:\tlearn: 1453.3116622\ttotal: 44.1s\tremaining: 3m 49s\n",
      "180:\tlearn: 1435.9204214\ttotal: 49.9s\tremaining: 3m 46s\n",
      "200:\tlearn: 1422.6318154\ttotal: 55.7s\tremaining: 3m 41s\n",
      "220:\tlearn: 1409.3829097\ttotal: 1m 1s\tremaining: 3m 38s\n",
      "240:\tlearn: 1397.8927216\ttotal: 1m 7s\tremaining: 3m 32s\n",
      "260:\tlearn: 1387.8036509\ttotal: 1m 13s\tremaining: 3m 28s\n",
      "280:\tlearn: 1378.3404816\ttotal: 1m 20s\tremaining: 3m 27s\n",
      "300:\tlearn: 1368.9761968\ttotal: 1m 28s\tremaining: 3m 25s\n",
      "320:\tlearn: 1360.2719553\ttotal: 1m 35s\tremaining: 3m 22s\n",
      "340:\tlearn: 1350.7816102\ttotal: 1m 43s\tremaining: 3m 19s\n",
      "360:\tlearn: 1342.2061591\ttotal: 1m 51s\tremaining: 3m 17s\n",
      "380:\tlearn: 1334.7553862\ttotal: 1m 59s\tremaining: 3m 14s\n",
      "400:\tlearn: 1326.8063815\ttotal: 2m 7s\tremaining: 3m 10s\n",
      "420:\tlearn: 1319.2260230\ttotal: 2m 14s\tremaining: 3m 5s\n",
      "440:\tlearn: 1312.4341338\ttotal: 2m 22s\tremaining: 3m\n",
      "460:\tlearn: 1305.4344806\ttotal: 2m 28s\tremaining: 2m 54s\n",
      "480:\tlearn: 1299.3699580\ttotal: 2m 36s\tremaining: 2m 48s\n",
      "500:\tlearn: 1293.6127257\ttotal: 2m 43s\tremaining: 2m 43s\n",
      "520:\tlearn: 1286.3663228\ttotal: 2m 50s\tremaining: 2m 36s\n",
      "540:\tlearn: 1281.8631311\ttotal: 2m 57s\tremaining: 2m 30s\n",
      "560:\tlearn: 1276.3399352\ttotal: 3m 3s\tremaining: 2m 23s\n",
      "580:\tlearn: 1271.7574331\ttotal: 3m 9s\tremaining: 2m 16s\n",
      "600:\tlearn: 1267.2495687\ttotal: 3m 15s\tremaining: 2m 10s\n",
      "620:\tlearn: 1262.7695642\ttotal: 3m 22s\tremaining: 2m 3s\n",
      "640:\tlearn: 1258.2237291\ttotal: 3m 28s\tremaining: 1m 56s\n",
      "660:\tlearn: 1253.2527554\ttotal: 3m 34s\tremaining: 1m 50s\n",
      "680:\tlearn: 1248.0031303\ttotal: 3m 41s\tremaining: 1m 43s\n",
      "700:\tlearn: 1243.2845717\ttotal: 3m 47s\tremaining: 1m 36s\n",
      "720:\tlearn: 1239.9885190\ttotal: 3m 53s\tremaining: 1m 30s\n",
      "740:\tlearn: 1235.7932662\ttotal: 4m\tremaining: 1m 23s\n",
      "760:\tlearn: 1231.1423120\ttotal: 4m 6s\tremaining: 1m 17s\n",
      "780:\tlearn: 1227.4810982\ttotal: 4m 13s\tremaining: 1m 11s\n",
      "800:\tlearn: 1223.3842654\ttotal: 4m 20s\tremaining: 1m 4s\n",
      "820:\tlearn: 1218.9343439\ttotal: 4m 26s\tremaining: 58.1s\n",
      "840:\tlearn: 1214.6883914\ttotal: 4m 33s\tremaining: 51.6s\n",
      "860:\tlearn: 1209.4692262\ttotal: 4m 40s\tremaining: 45.2s\n",
      "880:\tlearn: 1205.5878713\ttotal: 4m 46s\tremaining: 38.8s\n",
      "900:\tlearn: 1202.4728950\ttotal: 4m 53s\tremaining: 32.3s\n",
      "920:\tlearn: 1199.1947770\ttotal: 5m\tremaining: 25.8s\n",
      "940:\tlearn: 1195.2587170\ttotal: 5m 7s\tremaining: 19.3s\n",
      "960:\tlearn: 1191.4426913\ttotal: 5m 14s\tremaining: 12.8s\n",
      "980:\tlearn: 1188.0804601\ttotal: 5m 20s\tremaining: 6.21s\n",
      "999:\tlearn: 1185.3507593\ttotal: 5m 26s\tremaining: 0us\n",
      "['CAT, max_depth = 12, n_estimators = None', 1509.8418494648552, 0.5591528415679932, 328.6749143600464]\n",
      "Learning rate set to 0.5\n",
      "0:\tlearn: 3043.6710399\ttotal: 139ms\tremaining: 5.43s\n",
      "20:\tlearn: 1568.2969252\ttotal: 2.52s\tremaining: 2.28s\n",
      "39:\tlearn: 1446.6997239\ttotal: 4.83s\tremaining: 0us\n",
      "['CAT, max_depth = 12, n_estimators = 40', 1593.9465598644506, 0.13799643516540527, 5.537672996520996]\n",
      "Learning rate set to 0.5\n",
      "0:\tlearn: 3043.6710399\ttotal: 141ms\tremaining: 9.71s\n",
      "20:\tlearn: 1568.2969252\ttotal: 2.65s\tremaining: 6.18s\n",
      "40:\tlearn: 1442.3083096\ttotal: 5.08s\tremaining: 3.59s\n",
      "60:\tlearn: 1373.1423196\ttotal: 7.44s\tremaining: 1.1s\n",
      "69:\tlearn: 1353.4250716\ttotal: 8.52s\tremaining: 0us\n",
      "['CAT, max_depth = 12, n_estimators = 70', 1570.687098014921, 0.13000011444091797, 9.23937726020813]\n",
      "Learning rate set to 0.5\n",
      "0:\tlearn: 3043.6710399\ttotal: 142ms\tremaining: 14s\n",
      "20:\tlearn: 1568.2969252\ttotal: 2.67s\tremaining: 10.1s\n",
      "40:\tlearn: 1442.3083096\ttotal: 5.09s\tremaining: 7.33s\n",
      "60:\tlearn: 1373.1423196\ttotal: 7.46s\tremaining: 4.77s\n",
      "80:\tlearn: 1329.5488645\ttotal: 9.8s\tremaining: 2.3s\n",
      "99:\tlearn: 1296.1506590\ttotal: 12.1s\tremaining: 0us\n",
      "['CAT, max_depth = 12, n_estimators = 100', 1559.589282071053, 0.1552126407623291, 13.013657093048096]\n"
     ]
    },
    {
     "data": {
      "text/html": [
       "<div>\n",
       "<style scoped>\n",
       "    .dataframe tbody tr th:only-of-type {\n",
       "        vertical-align: middle;\n",
       "    }\n",
       "\n",
       "    .dataframe tbody tr th {\n",
       "        vertical-align: top;\n",
       "    }\n",
       "\n",
       "    .dataframe thead th {\n",
       "        text-align: right;\n",
       "    }\n",
       "</style>\n",
       "<table border=\"1\" class=\"dataframe\">\n",
       "  <thead>\n",
       "    <tr style=\"text-align: right;\">\n",
       "      <th></th>\n",
       "      <th>model</th>\n",
       "      <th>rmse</th>\n",
       "      <th>time_pred</th>\n",
       "      <th>time_train</th>\n",
       "    </tr>\n",
       "  </thead>\n",
       "  <tbody>\n",
       "    <tr>\n",
       "      <th>12</th>\n",
       "      <td>CAT, max_depth = 12, n_estimators = None</td>\n",
       "      <td>1509.841849</td>\n",
       "      <td>0.559153</td>\n",
       "      <td>328.674914</td>\n",
       "    </tr>\n",
       "    <tr>\n",
       "      <th>8</th>\n",
       "      <td>CAT, max_depth = 8, n_estimators = None</td>\n",
       "      <td>1538.675264</td>\n",
       "      <td>0.267390</td>\n",
       "      <td>125.067024</td>\n",
       "    </tr>\n",
       "    <tr>\n",
       "      <th>15</th>\n",
       "      <td>CAT, max_depth = 12, n_estimators = 100</td>\n",
       "      <td>1559.589282</td>\n",
       "      <td>0.155213</td>\n",
       "      <td>13.013657</td>\n",
       "    </tr>\n",
       "    <tr>\n",
       "      <th>14</th>\n",
       "      <td>CAT, max_depth = 12, n_estimators = 70</td>\n",
       "      <td>1570.687098</td>\n",
       "      <td>0.130000</td>\n",
       "      <td>9.239377</td>\n",
       "    </tr>\n",
       "    <tr>\n",
       "      <th>0</th>\n",
       "      <td>CAT, max_depth = None, n_estimators = None</td>\n",
       "      <td>1577.083043</td>\n",
       "      <td>0.248677</td>\n",
       "      <td>102.004438</td>\n",
       "    </tr>\n",
       "  </tbody>\n",
       "</table>\n",
       "</div>"
      ],
      "text/plain": [
       "                                         model         rmse  time_pred  \\\n",
       "12    CAT, max_depth = 12, n_estimators = None  1509.841849   0.559153   \n",
       "8      CAT, max_depth = 8, n_estimators = None  1538.675264   0.267390   \n",
       "15     CAT, max_depth = 12, n_estimators = 100  1559.589282   0.155213   \n",
       "14      CAT, max_depth = 12, n_estimators = 70  1570.687098   0.130000   \n",
       "0   CAT, max_depth = None, n_estimators = None  1577.083043   0.248677   \n",
       "\n",
       "    time_train  \n",
       "12  328.674914  \n",
       "8   125.067024  \n",
       "15   13.013657  \n",
       "14    9.239377  \n",
       "0   102.004438  "
      ]
     },
     "execution_count": 27,
     "metadata": {},
     "output_type": "execute_result"
    }
   ],
   "source": [
    "compare = []\n",
    "columns = ['model', 'rmse', 'time_pred', 'time_train']\n",
    "\n",
    "features_train[categorial_features] = features_train[categorial_features].astype(int) \n",
    "features_valid[categorial_features] = features_valid[categorial_features].astype(int) \n",
    "features_test[categorial_features] = features_test[categorial_features].astype(int) \n",
    "\n",
    "\n",
    "for max_depth in [None, ] + list(range(4, 13, 4)):\n",
    "    for n_estimators in [None, ] + list(range(40, 101, 30)):  \n",
    "        model = CatBoostRegressor(loss_function=\"RMSE\", max_depth = max_depth, n_estimators = n_estimators, random_state=123)\n",
    "\n",
    "        start = time()           \n",
    "        model.fit(features_train, target_train, cat_features=categorial_features, verbose=20)\n",
    "        end = time()\n",
    "        time_train = end-start\n",
    "\n",
    "        start = time()\n",
    "        y_pred = model.predict(features_valid)\n",
    "        end = time()\n",
    "        time_pred = end-start\n",
    "\n",
    "        rmse = mean_squared_error(target_valid, y_pred) ** 0.5\n",
    "\n",
    "        compare.append([f'CAT, max_depth = {max_depth}, n_estimators = {n_estimators}', rmse, time_pred, time_train])\n",
    "        print(compare[-1])\n",
    "            \n",
    "compare = pd.DataFrame(data = compare, columns = columns)\n",
    "compare.sort_values('rmse').head()"
   ]
  },
  {
   "cell_type": "code",
   "execution_count": 29,
   "metadata": {},
   "outputs": [
    {
     "name": "stdout",
     "output_type": "stream",
     "text": [
      "CatBoostRegressor(loss_function=\"RMSE\", max_depth = 12, n_estimators = 70, random_state=123)\n",
      "Learning rate set to 0.5\n",
      "0:\tlearn: 3037.4541586\ttotal: 83.4ms\tremaining: 5.75s\n",
      "1:\tlearn: 2362.2519455\ttotal: 155ms\tremaining: 5.28s\n",
      "2:\tlearn: 2059.2846056\ttotal: 221ms\tremaining: 4.94s\n",
      "3:\tlearn: 1914.2790326\ttotal: 291ms\tremaining: 4.81s\n",
      "4:\tlearn: 1825.7814125\ttotal: 369ms\tremaining: 4.8s\n",
      "5:\tlearn: 1787.6628108\ttotal: 432ms\tremaining: 4.61s\n",
      "6:\tlearn: 1751.2528770\ttotal: 494ms\tremaining: 4.44s\n",
      "7:\tlearn: 1724.3250902\ttotal: 560ms\tremaining: 4.34s\n",
      "8:\tlearn: 1700.2325024\ttotal: 621ms\tremaining: 4.21s\n",
      "9:\tlearn: 1684.4605786\ttotal: 682ms\tremaining: 4.09s\n",
      "10:\tlearn: 1665.9704430\ttotal: 747ms\tremaining: 4s\n",
      "11:\tlearn: 1650.2289073\ttotal: 806ms\tremaining: 3.9s\n",
      "12:\tlearn: 1642.5656226\ttotal: 869ms\tremaining: 3.81s\n",
      "13:\tlearn: 1635.6066922\ttotal: 937ms\tremaining: 3.75s\n",
      "14:\tlearn: 1620.4623719\ttotal: 1s\tremaining: 3.67s\n",
      "15:\tlearn: 1614.0193386\ttotal: 1.06s\tremaining: 3.59s\n",
      "16:\tlearn: 1606.9704779\ttotal: 1.13s\tremaining: 3.52s\n",
      "17:\tlearn: 1601.0772553\ttotal: 1.2s\tremaining: 3.45s\n",
      "18:\tlearn: 1594.3707571\ttotal: 1.26s\tremaining: 3.37s\n",
      "19:\tlearn: 1589.4825411\ttotal: 1.32s\tremaining: 3.3s\n",
      "20:\tlearn: 1580.8573814\ttotal: 1.39s\tremaining: 3.23s\n",
      "21:\tlearn: 1572.2534424\ttotal: 1.45s\tremaining: 3.17s\n",
      "22:\tlearn: 1564.2976138\ttotal: 1.52s\tremaining: 3.1s\n",
      "23:\tlearn: 1558.3225955\ttotal: 1.58s\tremaining: 3.03s\n",
      "24:\tlearn: 1551.8259176\ttotal: 1.65s\tremaining: 2.96s\n",
      "25:\tlearn: 1543.4871335\ttotal: 1.71s\tremaining: 2.89s\n",
      "26:\tlearn: 1535.9188237\ttotal: 1.77s\tremaining: 2.83s\n",
      "27:\tlearn: 1532.1923033\ttotal: 1.83s\tremaining: 2.75s\n",
      "28:\tlearn: 1528.4027049\ttotal: 1.9s\tremaining: 2.68s\n",
      "29:\tlearn: 1522.2070999\ttotal: 1.96s\tremaining: 2.61s\n",
      "30:\tlearn: 1517.6097317\ttotal: 2.02s\tremaining: 2.54s\n",
      "31:\tlearn: 1514.9567845\ttotal: 2.08s\tremaining: 2.47s\n",
      "32:\tlearn: 1506.0742728\ttotal: 2.14s\tremaining: 2.4s\n",
      "33:\tlearn: 1499.8576063\ttotal: 2.2s\tremaining: 2.33s\n",
      "34:\tlearn: 1495.3211036\ttotal: 2.27s\tremaining: 2.27s\n",
      "35:\tlearn: 1491.2580900\ttotal: 2.33s\tremaining: 2.2s\n",
      "36:\tlearn: 1484.8096498\ttotal: 2.39s\tremaining: 2.13s\n",
      "37:\tlearn: 1480.1108975\ttotal: 2.45s\tremaining: 2.06s\n",
      "38:\tlearn: 1474.1202037\ttotal: 2.51s\tremaining: 2s\n",
      "39:\tlearn: 1470.2694644\ttotal: 2.58s\tremaining: 1.93s\n",
      "40:\tlearn: 1465.6904151\ttotal: 2.65s\tremaining: 1.87s\n",
      "41:\tlearn: 1462.0940220\ttotal: 2.71s\tremaining: 1.8s\n",
      "42:\tlearn: 1459.1024757\ttotal: 2.77s\tremaining: 1.74s\n",
      "43:\tlearn: 1457.1820841\ttotal: 2.83s\tremaining: 1.68s\n",
      "44:\tlearn: 1453.3844304\ttotal: 2.9s\tremaining: 1.61s\n",
      "45:\tlearn: 1450.5982067\ttotal: 2.96s\tremaining: 1.54s\n",
      "46:\tlearn: 1447.4674315\ttotal: 3.03s\tremaining: 1.48s\n",
      "47:\tlearn: 1443.6063203\ttotal: 3.09s\tremaining: 1.42s\n",
      "48:\tlearn: 1440.8240861\ttotal: 3.16s\tremaining: 1.35s\n",
      "49:\tlearn: 1438.3116688\ttotal: 3.22s\tremaining: 1.29s\n",
      "50:\tlearn: 1434.9545097\ttotal: 3.28s\tremaining: 1.22s\n",
      "51:\tlearn: 1433.0865556\ttotal: 3.34s\tremaining: 1.16s\n",
      "52:\tlearn: 1429.7637005\ttotal: 3.4s\tremaining: 1.09s\n",
      "53:\tlearn: 1427.7068128\ttotal: 3.46s\tremaining: 1.02s\n",
      "54:\tlearn: 1423.8789786\ttotal: 3.52s\tremaining: 961ms\n",
      "55:\tlearn: 1422.1089688\ttotal: 3.58s\tremaining: 896ms\n",
      "56:\tlearn: 1418.0890714\ttotal: 3.64s\tremaining: 831ms\n",
      "57:\tlearn: 1414.7439604\ttotal: 3.7s\tremaining: 766ms\n",
      "58:\tlearn: 1411.8181822\ttotal: 3.77s\tremaining: 702ms\n",
      "59:\tlearn: 1409.1307004\ttotal: 3.83s\tremaining: 638ms\n",
      "60:\tlearn: 1406.0078502\ttotal: 3.89s\tremaining: 574ms\n",
      "61:\tlearn: 1404.4893360\ttotal: 3.95s\tremaining: 510ms\n",
      "62:\tlearn: 1401.4473233\ttotal: 4.01s\tremaining: 446ms\n",
      "63:\tlearn: 1398.7267996\ttotal: 4.07s\tremaining: 382ms\n",
      "64:\tlearn: 1397.3027860\ttotal: 4.14s\tremaining: 319ms\n",
      "65:\tlearn: 1395.4442942\ttotal: 4.21s\tremaining: 255ms\n",
      "66:\tlearn: 1391.4846714\ttotal: 4.27s\tremaining: 191ms\n",
      "67:\tlearn: 1389.8454525\ttotal: 4.33s\tremaining: 128ms\n",
      "68:\tlearn: 1387.6138330\ttotal: 4.41s\tremaining: 63.9ms\n",
      "69:\tlearn: 1384.3650953\ttotal: 4.47s\tremaining: 0us\n",
      "Время обучения 4.858881711959839\n",
      "Время предсказания 0.018996000289916992\n",
      "RMSE на валидационной выборке: 1587.7245600813155\n"
     ]
    }
   ],
   "source": [
    "print('CatBoostRegressor(loss_function=\"RMSE\", max_depth = 12, n_estimators = 70, random_state=123)')\n",
    "\n",
    "best_cat = CatBoostRegressor(loss_function=\"RMSE\", max_depth = 12, n_estimators = 70, random_state=123)\n",
    "\n",
    "start = time()           \n",
    "best_cat.fit(features_train, target_train)\n",
    "end = time()\n",
    "best_cat_time_train = end - start\n",
    "print(\"Время обучения\", best_cat_time_train)\n",
    "            \n",
    "start = time()\n",
    "best_cat_predictions_valid = best_cat.predict(features_valid)\n",
    "end = time()\n",
    "best_cat_time_pred = end - start\n",
    "print(\"Время предсказания\", best_cat_time_pred)\n",
    "            \n",
    "best_cat_rmse_valid = mean_squared_error(target_valid, best_cat_predictions_valid, squared=False)\n",
    "print('RMSE на валидационной выборке:', best_cat_rmse_valid)"
   ]
  },
  {
   "cell_type": "markdown",
   "metadata": {},
   "source": [
    "# 4. Сравнение моделей<a class=\"anchor\" id=\"b4\"></a>\n",
    "\n",
    "\n",
    "Согласно заданию, критерии, которые важны заказчику:\n",
    "* качество предсказания;\n",
    "* время обучения модели;\n",
    "* время предсказания модели.\n",
    "\n",
    "Опираясь на критерии заказчика, Сравним лучшие модели, прошедшие по качеству, по времени обучения на обучающей выборке и RMSE и времени предсказания на валидационной выборке, а затем выберем лучшую модель.\n"
   ]
  },
  {
   "cell_type": "code",
   "execution_count": 30,
   "metadata": {},
   "outputs": [
    {
     "data": {
      "text/html": [
       "<div>\n",
       "<style scoped>\n",
       "    .dataframe tbody tr th:only-of-type {\n",
       "        vertical-align: middle;\n",
       "    }\n",
       "\n",
       "    .dataframe tbody tr th {\n",
       "        vertical-align: top;\n",
       "    }\n",
       "\n",
       "    .dataframe thead th {\n",
       "        text-align: right;\n",
       "    }\n",
       "</style>\n",
       "<table border=\"1\" class=\"dataframe\">\n",
       "  <thead>\n",
       "    <tr style=\"text-align: right;\">\n",
       "      <th></th>\n",
       "      <th>model</th>\n",
       "      <th>rmse_valid</th>\n",
       "      <th>time_pred</th>\n",
       "      <th>time_train</th>\n",
       "    </tr>\n",
       "  </thead>\n",
       "  <tbody>\n",
       "    <tr>\n",
       "      <th>0</th>\n",
       "      <td>(DecisionTreeRegressor(max_depth=11, max_featu...</td>\n",
       "      <td>1776.032839</td>\n",
       "      <td>0.456906</td>\n",
       "      <td>19.664746</td>\n",
       "    </tr>\n",
       "    <tr>\n",
       "      <th>1</th>\n",
       "      <td>LGBMRegressor(max_depth=21, n_estimators=160,\\...</td>\n",
       "      <td>1628.606770</td>\n",
       "      <td>0.099998</td>\n",
       "      <td>0.673439</td>\n",
       "    </tr>\n",
       "    <tr>\n",
       "      <th>2</th>\n",
       "      <td>&lt;catboost.core.CatBoostRegressor object at 0x0...</td>\n",
       "      <td>1587.724560</td>\n",
       "      <td>0.018996</td>\n",
       "      <td>4.858882</td>\n",
       "    </tr>\n",
       "  </tbody>\n",
       "</table>\n",
       "</div>"
      ],
      "text/plain": [
       "                                               model   rmse_valid  time_pred  \\\n",
       "0  (DecisionTreeRegressor(max_depth=11, max_featu...  1776.032839   0.456906   \n",
       "1  LGBMRegressor(max_depth=21, n_estimators=160,\\...  1628.606770   0.099998   \n",
       "2  <catboost.core.CatBoostRegressor object at 0x0...  1587.724560   0.018996   \n",
       "\n",
       "   time_train  \n",
       "0   19.664746  \n",
       "1    0.673439  \n",
       "2    4.858882  "
      ]
     },
     "execution_count": 30,
     "metadata": {},
     "output_type": "execute_result"
    }
   ],
   "source": [
    "columns = ['model', 'rmse_valid', 'time_pred', 'time_train']\n",
    "compare = [\n",
    "    [best_forest, best_forest_rmse_valid, best_forest_time_pred, best_forest_time_train, ],\n",
    "    [best_lgbm, best_lgbm_rmse_valid, best_lgbm_time_pred, best_lgbm_time_train, ],\n",
    "    [best_cat, best_cat_rmse_valid, best_cat_time_pred, best_cat_time_train, ],\n",
    "]\n",
    "\n",
    "compare_table = pd.DataFrame(data = compare, columns = columns)\n",
    "compare_table"
   ]
  },
  {
   "cell_type": "markdown",
   "metadata": {},
   "source": [
    "Хуже всех оказалась модель DecisionTreeRegressor: она проигрывает остальным и по качеству и по временам. Модели LGBMRegressor и CatBoostRegressor близки по качеству (CatBoostRegressor примерно на 40 (в 1.02) лучше), по времени обучения LGBMRegressor лучше примерно в 8 раз, по времени предсказания лучше CatBoostRegressor примерно в 4 раза. Таким образом, эти модели можно назвать сравнительно равными. Остановимся на LGBMRegressor, так как она значительно быстрее обучается\n",
    "\n",
    "Также интересно посмотреть на то, какие признаки различные модели сочли более или менее важными: "
   ]
  },
  {
   "cell_type": "code",
   "execution_count": 31,
   "metadata": {},
   "outputs": [
    {
     "name": "stdout",
     "output_type": "stream",
     "text": [
      "RandomForestRegressor(max_depth=11, n_estimators=80, random_state=123)\n"
     ]
    },
    {
     "data": {
      "image/png": "[encoded data removed]",
      "text/plain": [
       "<Figure size 792x360 with 1 Axes>"
      ]
     },
     "metadata": {
      "needs_background": "light"
     },
     "output_type": "display_data"
    },
    {
     "name": "stdout",
     "output_type": "stream",
     "text": [
      "LGBMRegressor(max_depth=21, n_estimators=160,\n",
      "              objective='root_mean_squared_error', random_state=123)\n"
     ]
    },
    {
     "data": {
      "image/png": "[encoded data removed]",
      "text/plain": [
       "<Figure size 792x360 with 1 Axes>"
      ]
     },
     "metadata": {
      "needs_background": "light"
     },
     "output_type": "display_data"
    },
    {
     "name": "stdout",
     "output_type": "stream",
     "text": [
      "<catboost.core.CatBoostRegressor object at 0x0000016A4BF963A0>\n"
     ]
    },
    {
     "data": {
      "image/png": "[encoded data removed]",
      "text/plain": [
       "<Figure size 792x360 with 1 Axes>"
      ]
     },
     "metadata": {
      "needs_background": "light"
     },
     "output_type": "display_data"
    }
   ],
   "source": [
    "def disaplay_features_importances(model, features):\n",
    "    features = features.columns\n",
    "    n = len(features)\n",
    "    \n",
    "    importances = model.feature_importances_\n",
    "    indices = np.argsort(importances)\n",
    "    \n",
    "    plt.figure(figsize=(11, 5))\n",
    "    plt.title('Важность признаков')\n",
    "    plt.barh(range(n), importances[indices])\n",
    "    plt.yticks(range(len(indices)), features[indices])\n",
    "    plt.xlabel('Относительная важность')\n",
    "    plt.show()\n",
    "\n",
    "for model_results in compare:\n",
    "    print(model_results[0])\n",
    "    disaplay_features_importances(model_results[0], features_valid)\n",
    "    "
   ]
  },
  {
   "cell_type": "markdown",
   "metadata": {},
   "source": [
    "Все модели наиболее важными признаками посчтилаи RegistrationYear (год регистрации автомобиля) и Power (мощность его двигателя). Также к важным у всех относится и Kilometers (пробег). Более сложные модели -- LGBMRegressor и CatBoostRegressor также значительное влияние уделяют бренду и модели автомобиля, тогда как RandomForestRegressor, который показал значительно худшее качество, -- нет. Вероятно, в этом заключается основная его проблема"
   ]
  },
  {
   "cell_type": "markdown",
   "metadata": {},
   "source": [
    "# 5. Проверка модели<a class=\"anchor\" id=\"b5\"></a>\n",
    "\n",
    "\n",
    "Проверим качество выбранной модели на тестовой выборке: rmse должна быть не больше 2500."
   ]
  },
  {
   "cell_type": "code",
   "execution_count": 32,
   "metadata": {},
   "outputs": [
    {
     "name": "stdout",
     "output_type": "stream",
     "text": [
      "Выбранная модель: LGBMRegressor(max_depth=21, n_estimators=160,\n",
      "              objective='root_mean_squared_error', random_state=123)\n",
      "Время обучения 0.6425373554229736\n",
      "Время предсказания 0.029996633529663086\n",
      "RMSE на тестовой выборке: 1567.9662091782106\n"
     ]
    }
   ],
   "source": [
    "best_model = best_lgbm\n",
    "\n",
    "print('Выбранная модель:', best_model)\n",
    "start = time()           \n",
    "best_model.fit(features_train, target_train)\n",
    "end = time()\n",
    "best_model_time_train = end - start\n",
    "print(\"Время обучения\", best_model_time_train)\n",
    "            \n",
    "start = time()\n",
    "best_model_predictions_test = best_cat.predict(features_test)\n",
    "end = time()\n",
    "best_model_time_pred = end - start\n",
    "print(\"Время предсказания\", best_model_time_pred)\n",
    "            \n",
    "best_model_rmse_test = mean_squared_error(target_test, best_model_predictions_test, squared=False)\n",
    "print('RMSE на тестовой выборке:', best_model_rmse_test)"
   ]
  },
  {
   "cell_type": "code",
   "execution_count": 33,
   "metadata": {},
   "outputs": [
    {
     "name": "stdout",
     "output_type": "stream",
     "text": [
      "лучший rmse константной модели 4543.78418860805\n"
     ]
    }
   ],
   "source": [
    "test_mean_rmse = mean_squared_error(target_test, [target_test.mean()]*len(target_test)) ** 0.5\n",
    "test_median_rmse = mean_squared_error(target_test, [target_test.median()]*len(target_test)) ** 0.5\n",
    "level = min(test_mean_rmse,test_median_rmse) \n",
    "print('лучший rmse константной модели',level)"
   ]
  },
  {
   "cell_type": "markdown",
   "metadata": {},
   "source": [
    "Таким образом, задание выполнено: с учетом сравнения различных моделей по качеству и времени обучения и предсказания построена и обучена модель, удовлетворяющая требуемому качеству предсказаний."
   ]
  },
  {
   "cell_type": "code",
   "execution_count": null,
   "metadata": {},
   "outputs": [],
   "source": []
  }
 ],
 "metadata": {
  "kernelspec": {
   "display_name": "Python 3",
   "language": "python",
   "name": "python3"
  },
  "language_info": {
   "codemirror_mode": {
    "name": "ipython",
    "version": 3
   },
   "file_extension": ".py",
   "mimetype": "text/x-python",
   "name": "python",
   "nbconvert_exporter": "python",
   "pygments_lexer": "ipython3",
   "version": "3.8.5"
  }
 },
 "nbformat": 4,
 "nbformat_minor": 4
}
