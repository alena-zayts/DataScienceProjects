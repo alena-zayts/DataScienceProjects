{
 "cells": [
  {
   "cell_type": "markdown",
   "metadata": {},
   "source": [
    "## Комментарий наставника\n",
    "Привет, Алена! Меня зовут Александр и я буду проверять твой проект. Спасибо за твою работу:) Далее по ходу работы я оставлю свои комментарии и предложения. Постарайся их учесть в этом и дальнейших проектах. Комментарии ты можешь найти в текстовой ячейке с заголовком «Комментарий наставника» (как здесь) либо в ячейках с кодом в следующем виде: «#Комментарий наставника: <сам комментарий>». \\\n",
    "Часть комментариев может быть выделена цветом: \\\n",
    "<span style=\"color:green\">Зелёный цвет символизирует, что всё отлично</span> \\\n",
    "<span style=\"color:orange\">Оранжевый цвет символизирует рекомендации</span> \\\n",
    "<span style=\"color:red\">Красный цвет символизирует недочёты</span>"
   ]
  },
  {
   "cell_type": "markdown",
   "metadata": {},
   "source": [
    "Сервис по продаже автомобилей с пробегом «Не бит, не крашен» разрабатывает приложение для привлечения новых клиентов. В нём можно быстро узнать рыночную стоимость своего автомобиля. В вашем распоряжении исторические данные: технические характеристики, комплектации и цены автомобилей. Вам нужно построить модель для определения стоимости. \n",
    "\n",
    "Заказчику важны:\n",
    "\n",
    "- качество предсказания;\n",
    "- скорость предсказания;\n",
    "- время обучения."
   ]
  },
  {
   "cell_type": "markdown",
   "metadata": {},
   "source": [
    "# 0. Импорт библиотек"
   ]
  },
  {
   "cell_type": "code",
   "execution_count": 41,
   "metadata": {
    "scrolled": true
   },
   "outputs": [],
   "source": [
    "import lightgbm as lgb\n",
    "import matplotlib.pyplot as plt\n",
    "import pandas as pd\n",
    "import matplotlib.pyplot as plt\n",
    "from sklearn.model_selection import train_test_split\n",
    "from sklearn.metrics import mean_squared_error\n",
    "from notebook.services.config import ConfigManager\n",
    "ConfigManager().update('notebook', {'ExecuteTime': {\n",
    "    'display_absolute_timestamps': False,\n",
    "    'relative_timing_update_period': 5,\n",
    "    'template': {\n",
    "        'executed': 'started ${start_time}, finished in ${duration}',\n",
    "    }\n",
    "}})\n",
    "from sklearn import preprocessing\n",
    "from sklearn.preprocessing import OrdinalEncoder\n",
    "from time import time\n",
    "from catboost import CatBoostRegressor\n",
    "from sklearn.ensemble import RandomForestRegressor"
   ]
  },
  {
   "cell_type": "markdown",
   "metadata": {},
   "source": [
    "# 1. Подготовка данных"
   ]
  },
  {
   "cell_type": "markdown",
   "metadata": {},
   "source": [
    "Загрузим данные в переменную data и посмотрим общую информацию о таблице"
   ]
  },
  {
   "cell_type": "code",
   "execution_count": 27,
   "metadata": {
    "scrolled": false
   },
   "outputs": [
    {
     "name": "stdout",
     "output_type": "stream",
     "text": [
      "<class 'pandas.core.frame.DataFrame'>\n",
      "RangeIndex: 354369 entries, 0 to 354368\n",
      "Data columns (total 16 columns):\n",
      " #   Column             Non-Null Count   Dtype \n",
      "---  ------             --------------   ----- \n",
      " 0   DateCrawled        354369 non-null  object\n",
      " 1   Price              354369 non-null  int64 \n",
      " 2   VehicleType        316879 non-null  object\n",
      " 3   RegistrationYear   354369 non-null  int64 \n",
      " 4   Gearbox            334536 non-null  object\n",
      " 5   Power              354369 non-null  int64 \n",
      " 6   Model              334664 non-null  object\n",
      " 7   Kilometer          354369 non-null  int64 \n",
      " 8   RegistrationMonth  354369 non-null  int64 \n",
      " 9   FuelType           321474 non-null  object\n",
      " 10  Brand              354369 non-null  object\n",
      " 11  NotRepaired        283215 non-null  object\n",
      " 12  DateCreated        354369 non-null  object\n",
      " 13  NumberOfPictures   354369 non-null  int64 \n",
      " 14  PostalCode         354369 non-null  int64 \n",
      " 15  LastSeen           354369 non-null  object\n",
      "dtypes: int64(7), object(9)\n",
      "memory usage: 43.3+ MB\n",
      "None\n"
     ]
    },
    {
     "data": {
      "text/html": [
       "<div>\n",
       "<style scoped>\n",
       "    .dataframe tbody tr th:only-of-type {\n",
       "        vertical-align: middle;\n",
       "    }\n",
       "\n",
       "    .dataframe tbody tr th {\n",
       "        vertical-align: top;\n",
       "    }\n",
       "\n",
       "    .dataframe thead th {\n",
       "        text-align: right;\n",
       "    }\n",
       "</style>\n",
       "<table border=\"1\" class=\"dataframe\">\n",
       "  <thead>\n",
       "    <tr style=\"text-align: right;\">\n",
       "      <th></th>\n",
       "      <th>DateCrawled</th>\n",
       "      <th>Price</th>\n",
       "      <th>VehicleType</th>\n",
       "      <th>RegistrationYear</th>\n",
       "      <th>Gearbox</th>\n",
       "      <th>Power</th>\n",
       "      <th>Model</th>\n",
       "      <th>Kilometer</th>\n",
       "      <th>RegistrationMonth</th>\n",
       "      <th>FuelType</th>\n",
       "      <th>Brand</th>\n",
       "      <th>NotRepaired</th>\n",
       "      <th>DateCreated</th>\n",
       "      <th>NumberOfPictures</th>\n",
       "      <th>PostalCode</th>\n",
       "      <th>LastSeen</th>\n",
       "    </tr>\n",
       "  </thead>\n",
       "  <tbody>\n",
       "    <tr>\n",
       "      <th>0</th>\n",
       "      <td>2016-03-24 11:52:17</td>\n",
       "      <td>480</td>\n",
       "      <td>NaN</td>\n",
       "      <td>1993</td>\n",
       "      <td>manual</td>\n",
       "      <td>0</td>\n",
       "      <td>golf</td>\n",
       "      <td>150000</td>\n",
       "      <td>0</td>\n",
       "      <td>petrol</td>\n",
       "      <td>volkswagen</td>\n",
       "      <td>NaN</td>\n",
       "      <td>2016-03-24 00:00:00</td>\n",
       "      <td>0</td>\n",
       "      <td>70435</td>\n",
       "      <td>2016-04-07 03:16:57</td>\n",
       "    </tr>\n",
       "    <tr>\n",
       "      <th>1</th>\n",
       "      <td>2016-03-24 10:58:45</td>\n",
       "      <td>18300</td>\n",
       "      <td>coupe</td>\n",
       "      <td>2011</td>\n",
       "      <td>manual</td>\n",
       "      <td>190</td>\n",
       "      <td>NaN</td>\n",
       "      <td>125000</td>\n",
       "      <td>5</td>\n",
       "      <td>gasoline</td>\n",
       "      <td>audi</td>\n",
       "      <td>yes</td>\n",
       "      <td>2016-03-24 00:00:00</td>\n",
       "      <td>0</td>\n",
       "      <td>66954</td>\n",
       "      <td>2016-04-07 01:46:50</td>\n",
       "    </tr>\n",
       "    <tr>\n",
       "      <th>2</th>\n",
       "      <td>2016-03-14 12:52:21</td>\n",
       "      <td>9800</td>\n",
       "      <td>suv</td>\n",
       "      <td>2004</td>\n",
       "      <td>auto</td>\n",
       "      <td>163</td>\n",
       "      <td>grand</td>\n",
       "      <td>125000</td>\n",
       "      <td>8</td>\n",
       "      <td>gasoline</td>\n",
       "      <td>jeep</td>\n",
       "      <td>NaN</td>\n",
       "      <td>2016-03-14 00:00:00</td>\n",
       "      <td>0</td>\n",
       "      <td>90480</td>\n",
       "      <td>2016-04-05 12:47:46</td>\n",
       "    </tr>\n",
       "    <tr>\n",
       "      <th>3</th>\n",
       "      <td>2016-03-17 16:54:04</td>\n",
       "      <td>1500</td>\n",
       "      <td>small</td>\n",
       "      <td>2001</td>\n",
       "      <td>manual</td>\n",
       "      <td>75</td>\n",
       "      <td>golf</td>\n",
       "      <td>150000</td>\n",
       "      <td>6</td>\n",
       "      <td>petrol</td>\n",
       "      <td>volkswagen</td>\n",
       "      <td>no</td>\n",
       "      <td>2016-03-17 00:00:00</td>\n",
       "      <td>0</td>\n",
       "      <td>91074</td>\n",
       "      <td>2016-03-17 17:40:17</td>\n",
       "    </tr>\n",
       "    <tr>\n",
       "      <th>4</th>\n",
       "      <td>2016-03-31 17:25:20</td>\n",
       "      <td>3600</td>\n",
       "      <td>small</td>\n",
       "      <td>2008</td>\n",
       "      <td>manual</td>\n",
       "      <td>69</td>\n",
       "      <td>fabia</td>\n",
       "      <td>90000</td>\n",
       "      <td>7</td>\n",
       "      <td>gasoline</td>\n",
       "      <td>skoda</td>\n",
       "      <td>no</td>\n",
       "      <td>2016-03-31 00:00:00</td>\n",
       "      <td>0</td>\n",
       "      <td>60437</td>\n",
       "      <td>2016-04-06 10:17:21</td>\n",
       "    </tr>\n",
       "  </tbody>\n",
       "</table>\n",
       "</div>"
      ],
      "text/plain": [
       "           DateCrawled  Price VehicleType  RegistrationYear Gearbox  Power  \\\n",
       "0  2016-03-24 11:52:17    480         NaN              1993  manual      0   \n",
       "1  2016-03-24 10:58:45  18300       coupe              2011  manual    190   \n",
       "2  2016-03-14 12:52:21   9800         suv              2004    auto    163   \n",
       "3  2016-03-17 16:54:04   1500       small              2001  manual     75   \n",
       "4  2016-03-31 17:25:20   3600       small              2008  manual     69   \n",
       "\n",
       "   Model  Kilometer  RegistrationMonth  FuelType       Brand NotRepaired  \\\n",
       "0   golf     150000                  0    petrol  volkswagen         NaN   \n",
       "1    NaN     125000                  5  gasoline        audi         yes   \n",
       "2  grand     125000                  8  gasoline        jeep         NaN   \n",
       "3   golf     150000                  6    petrol  volkswagen          no   \n",
       "4  fabia      90000                  7  gasoline       skoda          no   \n",
       "\n",
       "           DateCreated  NumberOfPictures  PostalCode             LastSeen  \n",
       "0  2016-03-24 00:00:00                 0       70435  2016-04-07 03:16:57  \n",
       "1  2016-03-24 00:00:00                 0       66954  2016-04-07 01:46:50  \n",
       "2  2016-03-14 00:00:00                 0       90480  2016-04-05 12:47:46  \n",
       "3  2016-03-17 00:00:00                 0       91074  2016-03-17 17:40:17  \n",
       "4  2016-03-31 00:00:00                 0       60437  2016-04-06 10:17:21  "
      ]
     },
     "execution_count": 27,
     "metadata": {},
     "output_type": "execute_result"
    }
   ],
   "source": [
    "data = pd.read_csv('/datasets/autos.csv')\n",
    "print(data.info())\n",
    "data.head()"
   ]
  },
  {
   "cell_type": "markdown",
   "metadata": {},
   "source": [
    "В таблице 354369 записей об автомобилях, для каждого:\n",
    "\n",
    "Признаки\n",
    "\n",
    "DateCrawled — дата скачивания анкеты из базы\n",
    "\n",
    "VehicleType — тип автомобильного кузова\n",
    "\n",
    "RegistrationYear — год регистрации автомобиля\n",
    "\n",
    "Gearbox — тип коробки передач\n",
    "\n",
    "Power — мощность (л. с.)\n",
    "\n",
    "Model — модель автомобиля\n",
    "\n",
    "Kilometer — пробег (км)\n",
    "\n",
    "RegistrationMonth — месяц регистрации автомобиля\n",
    "\n",
    "FuelType — тип топлива\n",
    "\n",
    "Brand — марка автомобиля\n",
    "\n",
    "NotRepaired — была машина в ремонте или нет\n",
    "\n",
    "DateCreated — дата создания анкеты\n",
    "\n",
    "NumberOfPictures — количество фотографий автомобиля\n",
    "\n",
    "PostalCode — почтовый индекс владельца анкеты (пользователя)\n",
    "\n",
    "LastSeen — дата последней активности пользователя\n",
    "\n",
    "Целевой признак\n",
    "\n",
    "Price — цена (евро)\n",
    "\n",
    "Перед обучением модели нужно привести данные в столбцах с датамик нужному типу даты (DateCrawled, DateCreated, LastSeen)"
   ]
  },
  {
   "cell_type": "markdown",
   "metadata": {},
   "source": [
    "## Комментарий наставника\n",
    "<span style=\"color:green\">Хорошо, приступим к обработке данных.</span>"
   ]
  },
  {
   "cell_type": "code",
   "execution_count": 28,
   "metadata": {
    "scrolled": true
   },
   "outputs": [],
   "source": [
    "data['DateCrawled'] = pd.to_datetime(data['DateCrawled'], format = '%Y-%m-%d %H:%M:%S')\n",
    "data['DateCreated'] = pd.to_datetime(data['DateCreated'], format = '%Y-%m-%d %H:%M:%S')\n",
    "data['LastSeen'] = pd.to_datetime(data['LastSeen'], format = '%Y-%m-%d %H:%M:%S')"
   ]
  },
  {
   "cell_type": "markdown",
   "metadata": {},
   "source": [
    "Также проверим данные на наличие пропусков"
   ]
  },
  {
   "cell_type": "code",
   "execution_count": 29,
   "metadata": {
    "scrolled": true
   },
   "outputs": [
    {
     "data": {
      "text/plain": [
       "DateCrawled              0\n",
       "Price                    0\n",
       "VehicleType          37490\n",
       "RegistrationYear         0\n",
       "Gearbox              19833\n",
       "Power                    0\n",
       "Model                19705\n",
       "Kilometer                0\n",
       "RegistrationMonth        0\n",
       "FuelType             32895\n",
       "Brand                    0\n",
       "NotRepaired          71154\n",
       "DateCreated              0\n",
       "NumberOfPictures         0\n",
       "PostalCode               0\n",
       "LastSeen                 0\n",
       "dtype: int64"
      ]
     },
     "execution_count": 29,
     "metadata": {},
     "output_type": "execute_result"
    }
   ],
   "source": [
    "data.isna().sum()"
   ]
  },
  {
   "cell_type": "markdown",
   "metadata": {},
   "source": [
    "Пропуски есть в столбцах:\n",
    "\n",
    "VehicleType — тип автомобильного кузова\n",
    "\n",
    "Gearbox — тип коробки передач\n",
    "\n",
    "Model — модель автомобиля\n",
    "\n",
    "FuelType — тип топлива\n",
    "\n",
    "NotRepaired — была машина в ремонте или нет\n",
    "\n",
    "Несмотря на то что строк с пропусками в процентном соотношении не превышает 71154/354369 = 20% и выборка досточно большая, от них лучше не избавляться, так как при попытке будущих пользователей рассчитать стоимость своего автомобиля они также могут оставить пропуски в этих столбцах. можем заменить их записью 'unspecified', чтобы любая модель могла выделить такие записи в отдельный класс"
   ]
  },
  {
   "cell_type": "code",
   "execution_count": 30,
   "metadata": {
    "scrolled": true
   },
   "outputs": [
    {
     "data": {
      "text/plain": [
       "DateCrawled          0\n",
       "Price                0\n",
       "VehicleType          0\n",
       "RegistrationYear     0\n",
       "Gearbox              0\n",
       "Power                0\n",
       "Model                0\n",
       "Kilometer            0\n",
       "RegistrationMonth    0\n",
       "FuelType             0\n",
       "Brand                0\n",
       "NotRepaired          0\n",
       "DateCreated          0\n",
       "NumberOfPictures     0\n",
       "PostalCode           0\n",
       "LastSeen             0\n",
       "dtype: int64"
      ]
     },
     "execution_count": 30,
     "metadata": {},
     "output_type": "execute_result"
    }
   ],
   "source": [
    "data = data.fillna('unspecified')\n",
    "data.isna().sum()"
   ]
  },
  {
   "cell_type": "markdown",
   "metadata": {},
   "source": [
    "## Комментарий наставника\n",
    "<span style=\"color:green\">Верное решение. Вопросов нет, идём далее.</span>"
   ]
  },
  {
   "cell_type": "markdown",
   "metadata": {},
   "source": [
    "Проверим данные на выборсы и странные значения. Начнем "
   ]
  },
  {
   "cell_type": "code",
   "execution_count": 31,
   "metadata": {
    "scrolled": false
   },
   "outputs": [
    {
     "name": "stdout",
     "output_type": "stream",
     "text": [
      "DateCrawled\n"
     ]
    },
    {
     "data": {
      "image/png": "[encoded data removed]",
      "text/plain": [
       "<Figure size 432x288 with 1 Axes>"
      ]
     },
     "metadata": {
      "needs_background": "light"
     },
     "output_type": "display_data"
    },
    {
     "name": "stdout",
     "output_type": "stream",
     "text": [
      "Price\n"
     ]
    },
    {
     "data": {
      "image/png": "[encoded data removed]",
      "text/plain": [
       "<Figure size 432x288 with 1 Axes>"
      ]
     },
     "metadata": {
      "needs_background": "light"
     },
     "output_type": "display_data"
    },
    {
     "name": "stdout",
     "output_type": "stream",
     "text": [
      "RegistrationYear\n"
     ]
    },
    {
     "data": {
      "image/png": "[encoded data removed]",
      "text/plain": [
       "<Figure size 432x288 with 1 Axes>"
      ]
     },
     "metadata": {
      "needs_background": "light"
     },
     "output_type": "display_data"
    },
    {
     "name": "stdout",
     "output_type": "stream",
     "text": [
      "Power\n"
     ]
    },
    {
     "data": {
      "image/png": "[encoded data removed]",
      "text/plain": [
       "<Figure size 432x288 with 1 Axes>"
      ]
     },
     "metadata": {
      "needs_background": "light"
     },
     "output_type": "display_data"
    },
    {
     "name": "stdout",
     "output_type": "stream",
     "text": [
      "Kilometer\n"
     ]
    },
    {
     "data": {
      "image/png": "[encoded data removed]",
      "text/plain": [
       "<Figure size 432x288 with 1 Axes>"
      ]
     },
     "metadata": {
      "needs_background": "light"
     },
     "output_type": "display_data"
    },
    {
     "name": "stdout",
     "output_type": "stream",
     "text": [
      "RegistrationMonth\n"
     ]
    },
    {
     "data": {
      "image/png": "[encoded data removed]",
      "text/plain": [
       "<Figure size 432x288 with 1 Axes>"
      ]
     },
     "metadata": {
      "needs_background": "light"
     },
     "output_type": "display_data"
    },
    {
     "name": "stdout",
     "output_type": "stream",
     "text": [
      "DateCreated\n"
     ]
    },
    {
     "data": {
      "image/png": "[encoded data removed]",
      "text/plain": [
       "<Figure size 432x288 with 1 Axes>"
      ]
     },
     "metadata": {
      "needs_background": "light"
     },
     "output_type": "display_data"
    },
    {
     "name": "stdout",
     "output_type": "stream",
     "text": [
      "NumberOfPictures\n"
     ]
    },
    {
     "data": {
      "image/png": "[encoded data removed]",
      "text/plain": [
       "<Figure size 432x288 with 1 Axes>"
      ]
     },
     "metadata": {
      "needs_background": "light"
     },
     "output_type": "display_data"
    },
    {
     "name": "stdout",
     "output_type": "stream",
     "text": [
      "LastSeen\n"
     ]
    },
    {
     "data": {
      "image/png": "[encoded data removed]",
      "text/plain": [
       "<Figure size 432x288 with 1 Axes>"
      ]
     },
     "metadata": {
      "needs_background": "light"
     },
     "output_type": "display_data"
    },
    {
     "name": "stdout",
     "output_type": "stream",
     "text": [
      "VehicleType\n",
      "['unspecified' 'coupe' 'suv' 'small' 'sedan' 'convertible' 'bus' 'wagon'\n",
      " 'other']\n",
      "Gearbox\n",
      "['manual' 'auto' 'unspecified']\n",
      "Model\n",
      "['golf' 'unspecified' 'grand' 'fabia' '3er' '2_reihe' 'other' 'c_max'\n",
      " '3_reihe' 'passat' 'navara' 'ka' 'polo' 'twingo' 'a_klasse' 'scirocco'\n",
      " '5er' 'meriva' 'arosa' 'c4' 'civic' 'transporter' 'punto' 'e_klasse'\n",
      " 'clio' 'kadett' 'kangoo' 'corsa' 'one' 'fortwo' '1er' 'b_klasse' 'signum'\n",
      " 'astra' 'a8' 'jetta' 'fiesta' 'c_klasse' 'micra' 'vito' 'sprinter' '156'\n",
      " 'escort' 'forester' 'xc_reihe' 'scenic' 'a4' 'a1' 'insignia' 'combo'\n",
      " 'focus' 'tt' 'a6' 'jazz' 'omega' 'slk' '7er' '80' '147' '100' 'z_reihe'\n",
      " 'sportage' 'sorento' 'v40' 'ibiza' 'mustang' 'eos' 'touran' 'getz' 'a3'\n",
      " 'almera' 'megane' 'lupo' 'r19' 'zafira' 'caddy' 'mondeo' 'cordoba' 'colt'\n",
      " 'impreza' 'vectra' 'berlingo' 'tiguan' 'i_reihe' 'espace' 'sharan'\n",
      " '6_reihe' 'panda' 'up' 'seicento' 'ceed' '5_reihe' 'yeti' 'octavia' 'mii'\n",
      " 'rx_reihe' '6er' 'modus' 'fox' 'matiz' 'beetle' 'c1' 'rio' 'touareg'\n",
      " 'logan' 'spider' 'cuore' 's_max' 'a2' 'galaxy' 'c3' 'viano' 's_klasse'\n",
      " '1_reihe' 'avensis' 'roomster' 'sl' 'kaefer' 'santa' 'cooper' 'leon'\n",
      " '4_reihe' 'a5' '500' 'laguna' 'ptcruiser' 'clk' 'primera' 'x_reihe'\n",
      " 'exeo' '159' 'transit' 'juke' 'qashqai' 'carisma' 'accord' 'corolla'\n",
      " 'lanos' 'phaeton' 'verso' 'swift' 'rav' 'picanto' 'boxster' 'kalos'\n",
      " 'superb' 'stilo' 'alhambra' 'mx_reihe' 'roadster' 'ypsilon' 'cayenne'\n",
      " 'galant' 'justy' '90' 'sirion' 'crossfire' 'agila' 'duster' 'cr_reihe'\n",
      " 'v50' 'c_reihe' 'v_klasse' 'm_klasse' 'yaris' 'c5' 'aygo' 'cc' 'carnival'\n",
      " 'fusion' '911' 'bora' 'forfour' 'm_reihe' 'cl' 'tigra' '300c' 'spark'\n",
      " 'v70' 'kuga' 'x_type' 'ducato' 's_type' 'x_trail' 'toledo' 'altea'\n",
      " 'voyager' 'calibra' 'bravo' 'antara' 'tucson' 'citigo' 'jimny' 'wrangler'\n",
      " 'lybra' 'q7' 'lancer' 'captiva' 'c2' 'discovery' 'freelander' 'sandero'\n",
      " 'note' '900' 'cherokee' 'clubman' 'samara' 'defender' '601' 'cx_reihe'\n",
      " 'legacy' 'pajero' 'auris' 'niva' 's60' 'nubira' 'vivaro' 'g_klasse'\n",
      " 'lodgy' '850' 'range_rover' 'q3' 'serie_2' 'glk' 'charade' 'croma'\n",
      " 'outlander' 'doblo' 'musa' 'move' '9000' 'v60' '145' 'aveo' '200' 'b_max'\n",
      " 'range_rover_sport' 'terios' 'rangerover' 'q5' 'range_rover_evoque'\n",
      " 'materia' 'delta' 'gl' 'kalina' 'amarok' 'elefantino' 'i3' 'kappa'\n",
      " 'serie_3' 'serie_1']\n",
      "FuelType\n",
      "['petrol' 'gasoline' 'unspecified' 'lpg' 'other' 'hybrid' 'cng' 'electric']\n",
      "Brand\n",
      "['volkswagen' 'audi' 'jeep' 'skoda' 'bmw' 'peugeot' 'ford' 'mazda'\n",
      " 'nissan' 'renault' 'mercedes_benz' 'opel' 'seat' 'citroen' 'honda' 'fiat'\n",
      " 'mini' 'smart' 'hyundai' 'sonstige_autos' 'alfa_romeo' 'subaru' 'volvo'\n",
      " 'mitsubishi' 'kia' 'suzuki' 'lancia' 'toyota' 'chevrolet' 'dacia'\n",
      " 'daihatsu' 'trabant' 'saab' 'chrysler' 'jaguar' 'daewoo' 'porsche'\n",
      " 'rover' 'land_rover' 'lada']\n",
      "NotRepaired\n",
      "['unspecified' 'yes' 'no']\n"
     ]
    }
   ],
   "source": [
    "columns1 = ['DateCrawled', 'Price', 'RegistrationYear',\n",
    "       'Power', 'Kilometer', 'RegistrationMonth', 'DateCreated',\n",
    "            'NumberOfPictures', 'LastSeen']\n",
    "columns2 = ['VehicleType', 'Gearbox',\n",
    "        'Model', 'FuelType', 'Brand',\n",
    "       'NotRepaired']\n",
    "for column in columns1:\n",
    "    print(column)\n",
    "    data[column].hist()\n",
    "    plt.xticks([data[column].min(), data[column].max()])\n",
    "    \n",
    "    plt.show()\n",
    "for column in columns2:\n",
    "    print(column)\n",
    "    print(data[column].unique())"
   ]
  },
  {
   "cell_type": "markdown",
   "metadata": {},
   "source": [
    "В данных есть аномалии: во-первых, пики в районе нуля в столбцах Price и Power. Попробуем избавиться от таких значений"
   ]
  },
  {
   "cell_type": "markdown",
   "metadata": {},
   "source": [
    "## Комментарий наставника\n",
    "<span style=\"color:green\">Довольно подробный анализ данных, визуализация есть. Нечего даже добавить:)</span>"
   ]
  },
  {
   "cell_type": "code",
   "execution_count": 32,
   "metadata": {
    "scrolled": true
   },
   "outputs": [
    {
     "name": "stdout",
     "output_type": "stream",
     "text": [
      "Длина выборки до преобразований 354369\n",
      "Длина выборки после преобразований 307237\n"
     ]
    }
   ],
   "source": [
    "print('Длина выборки до преобразований', len(data))\n",
    "data = data[((data['Power'] > 0)& (data['Price'] > 0))]\n",
    "print('Длина выборки после преобразований', len(data))"
   ]
  },
  {
   "cell_type": "markdown",
   "metadata": {},
   "source": [
    "Также в столбце 'Power' есть выбросы с огромными значениями"
   ]
  },
  {
   "cell_type": "code",
   "execution_count": 33,
   "metadata": {},
   "outputs": [
    {
     "data": {
      "image/png": "[encoded data removed]",
      "text/plain": [
       "<Figure size 432x288 with 1 Axes>"
      ]
     },
     "metadata": {
      "needs_background": "light"
     },
     "output_type": "display_data"
    },
    {
     "data": {
      "text/plain": [
       "<matplotlib.axes._subplots.AxesSubplot at 0x7fb1ff757210>"
      ]
     },
     "execution_count": 33,
     "metadata": {},
     "output_type": "execute_result"
    },
    {
     "data": {
      "image/png": "[encoded data removed]",
      "text/plain": [
       "<Figure size 432x288 with 1 Axes>"
      ]
     },
     "metadata": {
      "needs_background": "light"
     },
     "output_type": "display_data"
    }
   ],
   "source": [
    "plt.boxplot(data['Power'])\n",
    "plt.show()\n",
    "data['Power'].hist(bins = 3)"
   ]
  },
  {
   "cell_type": "markdown",
   "metadata": {},
   "source": [
    "Оставим из них наиболее 'реальные', но и постараемся не \"обеднить\" выборку - <= 600 л.с."
   ]
  },
  {
   "cell_type": "code",
   "execution_count": 36,
   "metadata": {},
   "outputs": [
    {
     "name": "stdout",
     "output_type": "stream",
     "text": [
      "Длина выборки до преобразований 306876\n",
      "Длина выборки после преобразований 306876\n"
     ]
    },
    {
     "data": {
      "image/png": "[encoded data removed]",
      "text/plain": [
       "<Figure size 432x288 with 1 Axes>"
      ]
     },
     "metadata": {
      "needs_background": "light"
     },
     "output_type": "display_data"
    },
    {
     "data": {
      "text/plain": [
       "<matplotlib.axes._subplots.AxesSubplot at 0x7fb23c90e8d0>"
      ]
     },
     "execution_count": 36,
     "metadata": {},
     "output_type": "execute_result"
    },
    {
     "data": {
      "image/png": "[encoded data removed]",
      "text/plain": [
       "<Figure size 432x288 with 1 Axes>"
      ]
     },
     "metadata": {
      "needs_background": "light"
     },
     "output_type": "display_data"
    }
   ],
   "source": [
    "print('Длина выборки до преобразований', len(data))\n",
    "data = data[(data['Power'] <= 600)]\n",
    "print('Длина выборки после преобразований', len(data))\n",
    "\n",
    "plt.boxplot(data['Power'])\n",
    "plt.show()\n",
    "data['Power'].hist(bins = 3)"
   ]
  },
  {
   "cell_type": "markdown",
   "metadata": {},
   "source": [
    "## Комментарий наставника\n",
    "<span style=\"color:green\">Согласен с действиями.</span> \\\n",
    "<span style=\"color:orange\">Верхний предел мощности авто тоже можно было ограничить.</span>"
   ]
  },
  {
   "cell_type": "markdown",
   "metadata": {},
   "source": [
    "Длины выборки сильно не пострадала. Теперь посмотрим на столбец RegistrationYear — год регистрации автомобиля. Там есть значения в районе 1000 и 9999, что далеко от правды. Избавимся и от этих значений: оставим автомобили, зарегистрированные до текущего года, но позднее 1885 - года создания первого автомобиля (мало ли)"
   ]
  },
  {
   "cell_type": "code",
   "execution_count": 37,
   "metadata": {
    "scrolled": true
   },
   "outputs": [
    {
     "name": "stdout",
     "output_type": "stream",
     "text": [
      "Длина выборки до преобразований 306876\n",
      "Длина выборки после преобразований 306847\n"
     ]
    }
   ],
   "source": [
    "print('Длина выборки до преобразований', len(data))\n",
    "data = data[((data['RegistrationYear'] > 1884)& (data['RegistrationYear'] <2021))]\n",
    "print('Длина выборки после преобразований', len(data))"
   ]
  },
  {
   "cell_type": "markdown",
   "metadata": {},
   "source": [
    "## Комментарий наставника\n",
    "<span style=\"color:green\">Хорошо, всё верно.</span>"
   ]
  },
  {
   "cell_type": "markdown",
   "metadata": {},
   "source": [
    "Данные готовы к дальнейшей работе. Уберем признаки, от которых можно спокойно избавиться, чтобы те не путали модель \n",
    "\n",
    " - DateCrawled — дата скачивания анкеты из базы\n",
    " - PostalCode — почтовый индекс владельца анкеты (пользователя)\n",
    " - NumberOfPictures — количество фотографий автомобиля\n",
    " - LastSeen — дата последней активности пользователя.\n",
    " \n",
    " Избавимся от них\n",
    "\n",
    " Также Разобьем их на признаки и целевой признак, на тренировочную, тестовую и валидационную выборки 3:1:1. Закодируем категориальные признаки обучения порядковым кодированием."
   ]
  },
  {
   "cell_type": "code",
   "execution_count": 40,
   "metadata": {},
   "outputs": [],
   "source": [
    "data = data.drop(['DateCrawled','PostalCode','NumberOfPictures','LastSeen'], axis=1)"
   ]
  },
  {
   "cell_type": "code",
   "execution_count": 47,
   "metadata": {},
   "outputs": [
    {
     "name": "stdout",
     "output_type": "stream",
     "text": [
      "184108 61369 61370\n"
     ]
    }
   ],
   "source": [
    "enc = OrdinalEncoder()\n",
    "\n",
    "categorial = ['VehicleType', 'Gearbox', 'Model', \n",
    "              'FuelType', 'Brand', 'NotRepaired', 'DateCreated']\n",
    "enc.fit(data[categorial])\n",
    "data[categorial] = enc.transform(data[categorial])\n",
    "\n",
    "data_target = data['Price']\n",
    "data_features = data.drop('Price', axis=1)\n",
    "\n",
    "features_train, features_vt, target_train, target_vt = train_test_split(\n",
    "    data_features, data_target, test_size=0.4, random_state=12)\n",
    "\n",
    "features_valid, features_test, target_valid, target_test = train_test_split(\n",
    "    features_vt, target_vt, test_size=0.5, random_state=12)\n",
    "print(len(features_train), len(features_valid), len(features_test)) "
   ]
  },
  {
   "cell_type": "markdown",
   "metadata": {},
   "source": [
    "## Комментарий наставника\n",
    "<span style=\"color:orange\">В датасете есть признаки, от которых можно спокойно избавиться, чтобы те не путали нашу модель. Эти признаки никаким образом не влияют на наш целевой признак. Подумай, что это за признаки? \\\n",
    "Для кодирования категориальных признаков **обучения** используй OrdinalEncoder: https://scikit-learn.org/stable/modules/generated/sklearn.preprocessing.OrdinalEncoder.html?highlight=ordinalencoder#sklearn.preprocessing.OrdinalEncoder. Он как минимум удобнее и с его помощью можно закодировать все признаки сразу без использования цикла. Тот, который используешь ты, предназначен для кодирования **целевых** признаков.</span>"
   ]
  },
  {
   "cell_type": "markdown",
   "metadata": {},
   "source": [
    "# 2. Обучение моделей"
   ]
  },
  {
   "cell_type": "markdown",
   "metadata": {},
   "source": [
    "Обучим модели из библиотек LightGBM, CatBoost (они работают с категориальными признаками) и модель RandomForestRegressor из библиотеки sklearn. Данные о модели, ее гипермараметрах и характеристиках (тех, что важны заказчику - rmse, скорость предсказания и время обучения) будем сохранять в одной таблице compare для дальнейшего анализа."
   ]
  },
  {
   "cell_type": "markdown",
   "metadata": {},
   "source": [
    "Для модели градиентного бустинга LightGBM проварьируем гипермараметры num_leaves, num_boost_round и early_stopping_rounds"
   ]
  },
  {
   "cell_type": "code",
   "execution_count": 54,
   "metadata": {
    "scrolled": true
   },
   "outputs": [
    {
     "name": "stderr",
     "output_type": "stream",
     "text": [
      "/opt/conda/lib/python3.7/site-packages/lightgbm/basic.py:1291: UserWarning: Using categorical_feature in Dataset.\n",
      "  warnings.warn('Using categorical_feature in Dataset.')\n"
     ]
    },
    {
     "name": "stdout",
     "output_type": "stream",
     "text": [
      "[1]\tvalid_0's rmse: 4447.44\n",
      "Training until validation scores don't improve for 5 rounds\n",
      "[2]\tvalid_0's rmse: 4301.01\n",
      "[3]\tvalid_0's rmse: 4159.54\n",
      "[4]\tvalid_0's rmse: 4028.23\n",
      "[5]\tvalid_0's rmse: 3898.3\n",
      "[6]\tvalid_0's rmse: 3779.17\n",
      "[7]\tvalid_0's rmse: 3670.34\n",
      "[8]\tvalid_0's rmse: 3564.62\n",
      "[9]\tvalid_0's rmse: 3468.99\n",
      "[10]\tvalid_0's rmse: 3373.7\n",
      "[11]\tvalid_0's rmse: 3285.81\n",
      "[12]\tvalid_0's rmse: 3202.27\n",
      "[13]\tvalid_0's rmse: 3121.34\n",
      "[14]\tvalid_0's rmse: 3044.07\n",
      "[15]\tvalid_0's rmse: 2973.06\n",
      "[16]\tvalid_0's rmse: 2907.22\n",
      "[17]\tvalid_0's rmse: 2844.82\n",
      "[18]\tvalid_0's rmse: 2782.6\n",
      "[19]\tvalid_0's rmse: 2728.21\n",
      "[20]\tvalid_0's rmse: 2675.25\n",
      "Did not meet early stopping. Best iteration is:\n",
      "[20]\tvalid_0's rmse: 2675.25\n"
     ]
    },
    {
     "name": "stderr",
     "output_type": "stream",
     "text": [
      "/opt/conda/lib/python3.7/site-packages/lightgbm/basic.py:1291: UserWarning: Using categorical_feature in Dataset.\n",
      "  warnings.warn('Using categorical_feature in Dataset.')\n"
     ]
    },
    {
     "name": "stdout",
     "output_type": "stream",
     "text": [
      "[1]\tvalid_0's rmse: 4447.44\n",
      "Training until validation scores don't improve for 10 rounds\n",
      "[2]\tvalid_0's rmse: 4301.01\n",
      "[3]\tvalid_0's rmse: 4159.54\n",
      "[4]\tvalid_0's rmse: 4028.23\n",
      "[5]\tvalid_0's rmse: 3898.3\n",
      "[6]\tvalid_0's rmse: 3779.17\n",
      "[7]\tvalid_0's rmse: 3670.34\n",
      "[8]\tvalid_0's rmse: 3564.62\n",
      "[9]\tvalid_0's rmse: 3468.99\n",
      "[10]\tvalid_0's rmse: 3373.7\n",
      "[11]\tvalid_0's rmse: 3285.81\n",
      "[12]\tvalid_0's rmse: 3202.27\n",
      "[13]\tvalid_0's rmse: 3121.34\n",
      "[14]\tvalid_0's rmse: 3044.07\n",
      "[15]\tvalid_0's rmse: 2973.06\n",
      "[16]\tvalid_0's rmse: 2907.22\n",
      "[17]\tvalid_0's rmse: 2844.82\n",
      "[18]\tvalid_0's rmse: 2782.6\n",
      "[19]\tvalid_0's rmse: 2728.21\n",
      "[20]\tvalid_0's rmse: 2675.25\n",
      "Did not meet early stopping. Best iteration is:\n",
      "[20]\tvalid_0's rmse: 2675.25\n"
     ]
    },
    {
     "name": "stderr",
     "output_type": "stream",
     "text": [
      "/opt/conda/lib/python3.7/site-packages/lightgbm/basic.py:1291: UserWarning: Using categorical_feature in Dataset.\n",
      "  warnings.warn('Using categorical_feature in Dataset.')\n"
     ]
    },
    {
     "name": "stdout",
     "output_type": "stream",
     "text": [
      "[1]\tvalid_0's rmse: 4447.44\n",
      "Training until validation scores don't improve for 5 rounds\n",
      "[2]\tvalid_0's rmse: 4301.01\n",
      "[3]\tvalid_0's rmse: 4159.54\n",
      "[4]\tvalid_0's rmse: 4028.23\n",
      "[5]\tvalid_0's rmse: 3898.3\n",
      "[6]\tvalid_0's rmse: 3779.17\n",
      "[7]\tvalid_0's rmse: 3670.34\n",
      "[8]\tvalid_0's rmse: 3564.62\n",
      "[9]\tvalid_0's rmse: 3468.99\n",
      "[10]\tvalid_0's rmse: 3373.7\n",
      "[11]\tvalid_0's rmse: 3285.81\n",
      "[12]\tvalid_0's rmse: 3202.27\n",
      "[13]\tvalid_0's rmse: 3121.34\n",
      "[14]\tvalid_0's rmse: 3044.07\n",
      "[15]\tvalid_0's rmse: 2973.06\n",
      "[16]\tvalid_0's rmse: 2907.22\n",
      "[17]\tvalid_0's rmse: 2844.82\n",
      "[18]\tvalid_0's rmse: 2782.6\n",
      "[19]\tvalid_0's rmse: 2728.21\n",
      "[20]\tvalid_0's rmse: 2675.25\n",
      "[21]\tvalid_0's rmse: 2624.95\n",
      "[22]\tvalid_0's rmse: 2576.98\n",
      "[23]\tvalid_0's rmse: 2532.09\n",
      "[24]\tvalid_0's rmse: 2490.7\n",
      "[25]\tvalid_0's rmse: 2450.74\n",
      "[26]\tvalid_0's rmse: 2414.39\n",
      "[27]\tvalid_0's rmse: 2379.79\n",
      "[28]\tvalid_0's rmse: 2346.58\n",
      "[29]\tvalid_0's rmse: 2314.81\n",
      "[30]\tvalid_0's rmse: 2286.16\n",
      "[31]\tvalid_0's rmse: 2258.65\n",
      "[32]\tvalid_0's rmse: 2231.65\n",
      "[33]\tvalid_0's rmse: 2206.59\n",
      "[34]\tvalid_0's rmse: 2180.89\n",
      "[35]\tvalid_0's rmse: 2158.2\n",
      "[36]\tvalid_0's rmse: 2137.84\n",
      "[37]\tvalid_0's rmse: 2118.33\n",
      "[38]\tvalid_0's rmse: 2099.17\n",
      "[39]\tvalid_0's rmse: 2080.91\n",
      "[40]\tvalid_0's rmse: 2062.8\n",
      "[41]\tvalid_0's rmse: 2046.07\n",
      "[42]\tvalid_0's rmse: 2031.08\n",
      "[43]\tvalid_0's rmse: 2017.42\n",
      "[44]\tvalid_0's rmse: 2004.04\n",
      "[45]\tvalid_0's rmse: 1991.19\n",
      "[46]\tvalid_0's rmse: 1978.03\n",
      "[47]\tvalid_0's rmse: 1966.03\n",
      "[48]\tvalid_0's rmse: 1954.19\n",
      "[49]\tvalid_0's rmse: 1943.79\n",
      "[50]\tvalid_0's rmse: 1933.83\n",
      "[51]\tvalid_0's rmse: 1924.61\n",
      "[52]\tvalid_0's rmse: 1915.86\n",
      "[53]\tvalid_0's rmse: 1907.37\n",
      "[54]\tvalid_0's rmse: 1899.4\n",
      "[55]\tvalid_0's rmse: 1891.96\n",
      "[56]\tvalid_0's rmse: 1884.84\n",
      "[57]\tvalid_0's rmse: 1878.48\n",
      "[58]\tvalid_0's rmse: 1872.2\n",
      "[59]\tvalid_0's rmse: 1865.81\n",
      "[60]\tvalid_0's rmse: 1860.21\n",
      "[61]\tvalid_0's rmse: 1854.14\n",
      "[62]\tvalid_0's rmse: 1848.55\n",
      "[63]\tvalid_0's rmse: 1843.06\n",
      "[64]\tvalid_0's rmse: 1838.18\n",
      "[65]\tvalid_0's rmse: 1833.53\n",
      "[66]\tvalid_0's rmse: 1828.92\n",
      "[67]\tvalid_0's rmse: 1824.79\n",
      "[68]\tvalid_0's rmse: 1821.06\n",
      "[69]\tvalid_0's rmse: 1817.15\n",
      "[70]\tvalid_0's rmse: 1813.81\n",
      "[71]\tvalid_0's rmse: 1810.65\n",
      "[72]\tvalid_0's rmse: 1807.35\n",
      "[73]\tvalid_0's rmse: 1803.98\n",
      "[74]\tvalid_0's rmse: 1801.21\n",
      "[75]\tvalid_0's rmse: 1798.25\n",
      "[76]\tvalid_0's rmse: 1795.34\n",
      "[77]\tvalid_0's rmse: 1792.22\n",
      "[78]\tvalid_0's rmse: 1789.88\n",
      "[79]\tvalid_0's rmse: 1787.6\n",
      "[80]\tvalid_0's rmse: 1784.88\n",
      "[81]\tvalid_0's rmse: 1782.42\n",
      "[82]\tvalid_0's rmse: 1780.1\n",
      "[83]\tvalid_0's rmse: 1777.91\n",
      "[84]\tvalid_0's rmse: 1775.47\n",
      "[85]\tvalid_0's rmse: 1773.26\n",
      "[86]\tvalid_0's rmse: 1771.3\n",
      "[87]\tvalid_0's rmse: 1769.23\n",
      "[88]\tvalid_0's rmse: 1767.51\n",
      "[89]\tvalid_0's rmse: 1765.45\n",
      "[90]\tvalid_0's rmse: 1763.86\n",
      "[91]\tvalid_0's rmse: 1761.97\n",
      "[92]\tvalid_0's rmse: 1760.36\n",
      "[93]\tvalid_0's rmse: 1758.63\n",
      "[94]\tvalid_0's rmse: 1757.44\n",
      "[95]\tvalid_0's rmse: 1755.6\n",
      "[96]\tvalid_0's rmse: 1754.32\n",
      "[97]\tvalid_0's rmse: 1752.83\n",
      "[98]\tvalid_0's rmse: 1751.54\n",
      "[99]\tvalid_0's rmse: 1750.67\n",
      "[100]\tvalid_0's rmse: 1749.75\n",
      "Did not meet early stopping. Best iteration is:\n",
      "[100]\tvalid_0's rmse: 1749.75\n"
     ]
    },
    {
     "name": "stderr",
     "output_type": "stream",
     "text": [
      "/opt/conda/lib/python3.7/site-packages/lightgbm/basic.py:1291: UserWarning: Using categorical_feature in Dataset.\n",
      "  warnings.warn('Using categorical_feature in Dataset.')\n"
     ]
    },
    {
     "name": "stdout",
     "output_type": "stream",
     "text": [
      "[1]\tvalid_0's rmse: 4447.44\n",
      "Training until validation scores don't improve for 10 rounds\n",
      "[2]\tvalid_0's rmse: 4301.01\n",
      "[3]\tvalid_0's rmse: 4159.54\n",
      "[4]\tvalid_0's rmse: 4028.23\n",
      "[5]\tvalid_0's rmse: 3898.3\n",
      "[6]\tvalid_0's rmse: 3779.17\n",
      "[7]\tvalid_0's rmse: 3670.34\n",
      "[8]\tvalid_0's rmse: 3564.62\n",
      "[9]\tvalid_0's rmse: 3468.99\n",
      "[10]\tvalid_0's rmse: 3373.7\n",
      "[11]\tvalid_0's rmse: 3285.81\n",
      "[12]\tvalid_0's rmse: 3202.27\n",
      "[13]\tvalid_0's rmse: 3121.34\n",
      "[14]\tvalid_0's rmse: 3044.07\n",
      "[15]\tvalid_0's rmse: 2973.06\n",
      "[16]\tvalid_0's rmse: 2907.22\n",
      "[17]\tvalid_0's rmse: 2844.82\n",
      "[18]\tvalid_0's rmse: 2782.6\n",
      "[19]\tvalid_0's rmse: 2728.21\n",
      "[20]\tvalid_0's rmse: 2675.25\n",
      "[21]\tvalid_0's rmse: 2624.95\n",
      "[22]\tvalid_0's rmse: 2576.98\n",
      "[23]\tvalid_0's rmse: 2532.09\n",
      "[24]\tvalid_0's rmse: 2490.7\n",
      "[25]\tvalid_0's rmse: 2450.74\n",
      "[26]\tvalid_0's rmse: 2414.39\n",
      "[27]\tvalid_0's rmse: 2379.79\n",
      "[28]\tvalid_0's rmse: 2346.58\n",
      "[29]\tvalid_0's rmse: 2314.81\n",
      "[30]\tvalid_0's rmse: 2286.16\n",
      "[31]\tvalid_0's rmse: 2258.65\n",
      "[32]\tvalid_0's rmse: 2231.65\n",
      "[33]\tvalid_0's rmse: 2206.59\n",
      "[34]\tvalid_0's rmse: 2180.89\n",
      "[35]\tvalid_0's rmse: 2158.2\n",
      "[36]\tvalid_0's rmse: 2137.84\n",
      "[37]\tvalid_0's rmse: 2118.33\n",
      "[38]\tvalid_0's rmse: 2099.17\n",
      "[39]\tvalid_0's rmse: 2080.91\n",
      "[40]\tvalid_0's rmse: 2062.8\n",
      "[41]\tvalid_0's rmse: 2046.07\n",
      "[42]\tvalid_0's rmse: 2031.08\n",
      "[43]\tvalid_0's rmse: 2017.42\n",
      "[44]\tvalid_0's rmse: 2004.04\n",
      "[45]\tvalid_0's rmse: 1991.19\n",
      "[46]\tvalid_0's rmse: 1978.03\n",
      "[47]\tvalid_0's rmse: 1966.03\n",
      "[48]\tvalid_0's rmse: 1954.19\n",
      "[49]\tvalid_0's rmse: 1943.79\n",
      "[50]\tvalid_0's rmse: 1933.83\n",
      "[51]\tvalid_0's rmse: 1924.61\n",
      "[52]\tvalid_0's rmse: 1915.86\n",
      "[53]\tvalid_0's rmse: 1907.37\n",
      "[54]\tvalid_0's rmse: 1899.4\n",
      "[55]\tvalid_0's rmse: 1891.96\n",
      "[56]\tvalid_0's rmse: 1884.84\n",
      "[57]\tvalid_0's rmse: 1878.48\n",
      "[58]\tvalid_0's rmse: 1872.2\n",
      "[59]\tvalid_0's rmse: 1865.81\n",
      "[60]\tvalid_0's rmse: 1860.21\n",
      "[61]\tvalid_0's rmse: 1854.14\n",
      "[62]\tvalid_0's rmse: 1848.55\n",
      "[63]\tvalid_0's rmse: 1843.06\n",
      "[64]\tvalid_0's rmse: 1838.18\n",
      "[65]\tvalid_0's rmse: 1833.53\n",
      "[66]\tvalid_0's rmse: 1828.92\n",
      "[67]\tvalid_0's rmse: 1824.79\n",
      "[68]\tvalid_0's rmse: 1821.06\n",
      "[69]\tvalid_0's rmse: 1817.15\n",
      "[70]\tvalid_0's rmse: 1813.81\n",
      "[71]\tvalid_0's rmse: 1810.65\n",
      "[72]\tvalid_0's rmse: 1807.35\n",
      "[73]\tvalid_0's rmse: 1803.98\n",
      "[74]\tvalid_0's rmse: 1801.21\n",
      "[75]\tvalid_0's rmse: 1798.25\n",
      "[76]\tvalid_0's rmse: 1795.34\n",
      "[77]\tvalid_0's rmse: 1792.22\n",
      "[78]\tvalid_0's rmse: 1789.88\n",
      "[79]\tvalid_0's rmse: 1787.6\n",
      "[80]\tvalid_0's rmse: 1784.88\n",
      "[81]\tvalid_0's rmse: 1782.42\n",
      "[82]\tvalid_0's rmse: 1780.1\n",
      "[83]\tvalid_0's rmse: 1777.91\n",
      "[84]\tvalid_0's rmse: 1775.47\n",
      "[85]\tvalid_0's rmse: 1773.26\n",
      "[86]\tvalid_0's rmse: 1771.3\n",
      "[87]\tvalid_0's rmse: 1769.23\n",
      "[88]\tvalid_0's rmse: 1767.51\n",
      "[89]\tvalid_0's rmse: 1765.45\n",
      "[90]\tvalid_0's rmse: 1763.86\n",
      "[91]\tvalid_0's rmse: 1761.97\n",
      "[92]\tvalid_0's rmse: 1760.36\n",
      "[93]\tvalid_0's rmse: 1758.63\n",
      "[94]\tvalid_0's rmse: 1757.44\n",
      "[95]\tvalid_0's rmse: 1755.6\n",
      "[96]\tvalid_0's rmse: 1754.32\n",
      "[97]\tvalid_0's rmse: 1752.83\n",
      "[98]\tvalid_0's rmse: 1751.54\n",
      "[99]\tvalid_0's rmse: 1750.67\n",
      "[100]\tvalid_0's rmse: 1749.75\n",
      "Did not meet early stopping. Best iteration is:\n",
      "[100]\tvalid_0's rmse: 1749.75\n"
     ]
    },
    {
     "name": "stderr",
     "output_type": "stream",
     "text": [
      "/opt/conda/lib/python3.7/site-packages/lightgbm/basic.py:1291: UserWarning: Using categorical_feature in Dataset.\n",
      "  warnings.warn('Using categorical_feature in Dataset.')\n"
     ]
    },
    {
     "name": "stdout",
     "output_type": "stream",
     "text": [
      "[1]\tvalid_0's rmse: 4438.25\n",
      "Training until validation scores don't improve for 5 rounds\n",
      "[2]\tvalid_0's rmse: 4286.2\n",
      "[3]\tvalid_0's rmse: 4138.23\n",
      "[4]\tvalid_0's rmse: 4001.05\n",
      "[5]\tvalid_0's rmse: 3867.1\n",
      "[6]\tvalid_0's rmse: 3743.44\n",
      "[7]\tvalid_0's rmse: 3625.95\n",
      "[8]\tvalid_0's rmse: 3518.17\n",
      "[9]\tvalid_0's rmse: 3413.76\n",
      "[10]\tvalid_0's rmse: 3313.78\n",
      "[11]\tvalid_0's rmse: 3223.87\n",
      "[12]\tvalid_0's rmse: 3137.62\n",
      "[13]\tvalid_0's rmse: 3056.79\n",
      "[14]\tvalid_0's rmse: 2980.19\n",
      "[15]\tvalid_0's rmse: 2908.66\n",
      "[16]\tvalid_0's rmse: 2839.12\n",
      "[17]\tvalid_0's rmse: 2774.31\n",
      "[18]\tvalid_0's rmse: 2714.46\n",
      "[19]\tvalid_0's rmse: 2657.23\n",
      "[20]\tvalid_0's rmse: 2603.23\n",
      "Did not meet early stopping. Best iteration is:\n",
      "[20]\tvalid_0's rmse: 2603.23\n"
     ]
    },
    {
     "name": "stderr",
     "output_type": "stream",
     "text": [
      "/opt/conda/lib/python3.7/site-packages/lightgbm/basic.py:1291: UserWarning: Using categorical_feature in Dataset.\n",
      "  warnings.warn('Using categorical_feature in Dataset.')\n"
     ]
    },
    {
     "name": "stdout",
     "output_type": "stream",
     "text": [
      "[1]\tvalid_0's rmse: 4438.25\n",
      "Training until validation scores don't improve for 10 rounds\n",
      "[2]\tvalid_0's rmse: 4286.2\n",
      "[3]\tvalid_0's rmse: 4138.23\n",
      "[4]\tvalid_0's rmse: 4001.05\n",
      "[5]\tvalid_0's rmse: 3867.1\n",
      "[6]\tvalid_0's rmse: 3743.44\n",
      "[7]\tvalid_0's rmse: 3625.95\n",
      "[8]\tvalid_0's rmse: 3518.17\n",
      "[9]\tvalid_0's rmse: 3413.76\n",
      "[10]\tvalid_0's rmse: 3313.78\n",
      "[11]\tvalid_0's rmse: 3223.87\n",
      "[12]\tvalid_0's rmse: 3137.62\n",
      "[13]\tvalid_0's rmse: 3056.79\n",
      "[14]\tvalid_0's rmse: 2980.19\n",
      "[15]\tvalid_0's rmse: 2908.66\n",
      "[16]\tvalid_0's rmse: 2839.12\n",
      "[17]\tvalid_0's rmse: 2774.31\n",
      "[18]\tvalid_0's rmse: 2714.46\n",
      "[19]\tvalid_0's rmse: 2657.23\n",
      "[20]\tvalid_0's rmse: 2603.23\n",
      "Did not meet early stopping. Best iteration is:\n",
      "[20]\tvalid_0's rmse: 2603.23\n"
     ]
    },
    {
     "name": "stderr",
     "output_type": "stream",
     "text": [
      "/opt/conda/lib/python3.7/site-packages/lightgbm/basic.py:1291: UserWarning: Using categorical_feature in Dataset.\n",
      "  warnings.warn('Using categorical_feature in Dataset.')\n"
     ]
    },
    {
     "name": "stdout",
     "output_type": "stream",
     "text": [
      "[1]\tvalid_0's rmse: 4438.25\n",
      "Training until validation scores don't improve for 5 rounds\n",
      "[2]\tvalid_0's rmse: 4286.2\n",
      "[3]\tvalid_0's rmse: 4138.23\n",
      "[4]\tvalid_0's rmse: 4001.05\n",
      "[5]\tvalid_0's rmse: 3867.1\n",
      "[6]\tvalid_0's rmse: 3743.44\n",
      "[7]\tvalid_0's rmse: 3625.95\n",
      "[8]\tvalid_0's rmse: 3518.17\n",
      "[9]\tvalid_0's rmse: 3413.76\n",
      "[10]\tvalid_0's rmse: 3313.78\n",
      "[11]\tvalid_0's rmse: 3223.87\n",
      "[12]\tvalid_0's rmse: 3137.62\n",
      "[13]\tvalid_0's rmse: 3056.79\n",
      "[14]\tvalid_0's rmse: 2980.19\n",
      "[15]\tvalid_0's rmse: 2908.66\n",
      "[16]\tvalid_0's rmse: 2839.12\n",
      "[17]\tvalid_0's rmse: 2774.31\n",
      "[18]\tvalid_0's rmse: 2714.46\n",
      "[19]\tvalid_0's rmse: 2657.23\n",
      "[20]\tvalid_0's rmse: 2603.23\n",
      "[21]\tvalid_0's rmse: 2553.34\n",
      "[22]\tvalid_0's rmse: 2505.58\n",
      "[23]\tvalid_0's rmse: 2459.16\n",
      "[24]\tvalid_0's rmse: 2417.18\n",
      "[25]\tvalid_0's rmse: 2377.46\n",
      "[26]\tvalid_0's rmse: 2340.98\n",
      "[27]\tvalid_0's rmse: 2305.69\n",
      "[28]\tvalid_0's rmse: 2272.49\n",
      "[29]\tvalid_0's rmse: 2240.68\n",
      "[30]\tvalid_0's rmse: 2211.42\n",
      "[31]\tvalid_0's rmse: 2183.64\n",
      "[32]\tvalid_0's rmse: 2157.58\n",
      "[33]\tvalid_0's rmse: 2133.46\n",
      "[34]\tvalid_0's rmse: 2109.65\n",
      "[35]\tvalid_0's rmse: 2087.66\n",
      "[36]\tvalid_0's rmse: 2067.85\n",
      "[37]\tvalid_0's rmse: 2048.97\n",
      "[38]\tvalid_0's rmse: 2030.9\n",
      "[39]\tvalid_0's rmse: 2014.46\n",
      "[40]\tvalid_0's rmse: 1998.13\n",
      "[41]\tvalid_0's rmse: 1982.72\n",
      "[42]\tvalid_0's rmse: 1967.78\n",
      "[43]\tvalid_0's rmse: 1954.07\n",
      "[44]\tvalid_0's rmse: 1941.15\n",
      "[45]\tvalid_0's rmse: 1929.04\n",
      "[46]\tvalid_0's rmse: 1917.44\n",
      "[47]\tvalid_0's rmse: 1906.66\n",
      "[48]\tvalid_0's rmse: 1896.22\n",
      "[49]\tvalid_0's rmse: 1886.9\n",
      "[50]\tvalid_0's rmse: 1878.04\n",
      "[51]\tvalid_0's rmse: 1869.48\n",
      "[52]\tvalid_0's rmse: 1861.55\n",
      "[53]\tvalid_0's rmse: 1853.85\n",
      "[54]\tvalid_0's rmse: 1846.2\n",
      "[55]\tvalid_0's rmse: 1839.44\n",
      "[56]\tvalid_0's rmse: 1832.81\n",
      "[57]\tvalid_0's rmse: 1826.91\n",
      "[58]\tvalid_0's rmse: 1820.81\n",
      "[59]\tvalid_0's rmse: 1815.49\n",
      "[60]\tvalid_0's rmse: 1810.02\n",
      "[61]\tvalid_0's rmse: 1804.9\n",
      "[62]\tvalid_0's rmse: 1800.16\n",
      "[63]\tvalid_0's rmse: 1795.1\n",
      "[64]\tvalid_0's rmse: 1790.42\n",
      "[65]\tvalid_0's rmse: 1786.46\n",
      "[66]\tvalid_0's rmse: 1782.53\n",
      "[67]\tvalid_0's rmse: 1779.13\n",
      "[68]\tvalid_0's rmse: 1775.8\n",
      "[69]\tvalid_0's rmse: 1772.26\n",
      "[70]\tvalid_0's rmse: 1768.97\n",
      "[71]\tvalid_0's rmse: 1765.8\n",
      "[72]\tvalid_0's rmse: 1762.92\n",
      "[73]\tvalid_0's rmse: 1759.76\n",
      "[74]\tvalid_0's rmse: 1756.98\n",
      "[75]\tvalid_0's rmse: 1754.17\n",
      "[76]\tvalid_0's rmse: 1751.49\n",
      "[77]\tvalid_0's rmse: 1748.82\n",
      "[78]\tvalid_0's rmse: 1746.77\n",
      "[79]\tvalid_0's rmse: 1744.56\n",
      "[80]\tvalid_0's rmse: 1742.14\n",
      "[81]\tvalid_0's rmse: 1740.46\n",
      "[82]\tvalid_0's rmse: 1738.52\n",
      "[83]\tvalid_0's rmse: 1736.18\n",
      "[84]\tvalid_0's rmse: 1734.04\n",
      "[85]\tvalid_0's rmse: 1732.36\n",
      "[86]\tvalid_0's rmse: 1730.44\n",
      "[87]\tvalid_0's rmse: 1728.54\n",
      "[88]\tvalid_0's rmse: 1726.82\n",
      "[89]\tvalid_0's rmse: 1725.12\n",
      "[90]\tvalid_0's rmse: 1723.43\n",
      "[91]\tvalid_0's rmse: 1721.91\n",
      "[92]\tvalid_0's rmse: 1720.41\n",
      "[93]\tvalid_0's rmse: 1719.13\n",
      "[94]\tvalid_0's rmse: 1717.97\n",
      "[95]\tvalid_0's rmse: 1716.75\n",
      "[96]\tvalid_0's rmse: 1715.48\n",
      "[97]\tvalid_0's rmse: 1713.92\n",
      "[98]\tvalid_0's rmse: 1712.9\n",
      "[99]\tvalid_0's rmse: 1712.06\n",
      "[100]\tvalid_0's rmse: 1711.14\n",
      "Did not meet early stopping. Best iteration is:\n",
      "[100]\tvalid_0's rmse: 1711.14\n"
     ]
    },
    {
     "name": "stderr",
     "output_type": "stream",
     "text": [
      "/opt/conda/lib/python3.7/site-packages/lightgbm/basic.py:1291: UserWarning: Using categorical_feature in Dataset.\n",
      "  warnings.warn('Using categorical_feature in Dataset.')\n"
     ]
    },
    {
     "name": "stdout",
     "output_type": "stream",
     "text": [
      "[1]\tvalid_0's rmse: 4438.25\n",
      "Training until validation scores don't improve for 10 rounds\n",
      "[2]\tvalid_0's rmse: 4286.2\n",
      "[3]\tvalid_0's rmse: 4138.23\n",
      "[4]\tvalid_0's rmse: 4001.05\n",
      "[5]\tvalid_0's rmse: 3867.1\n",
      "[6]\tvalid_0's rmse: 3743.44\n",
      "[7]\tvalid_0's rmse: 3625.95\n",
      "[8]\tvalid_0's rmse: 3518.17\n",
      "[9]\tvalid_0's rmse: 3413.76\n",
      "[10]\tvalid_0's rmse: 3313.78\n",
      "[11]\tvalid_0's rmse: 3223.87\n",
      "[12]\tvalid_0's rmse: 3137.62\n",
      "[13]\tvalid_0's rmse: 3056.79\n",
      "[14]\tvalid_0's rmse: 2980.19\n",
      "[15]\tvalid_0's rmse: 2908.66\n",
      "[16]\tvalid_0's rmse: 2839.12\n",
      "[17]\tvalid_0's rmse: 2774.31\n",
      "[18]\tvalid_0's rmse: 2714.46\n",
      "[19]\tvalid_0's rmse: 2657.23\n",
      "[20]\tvalid_0's rmse: 2603.23\n",
      "[21]\tvalid_0's rmse: 2553.34\n",
      "[22]\tvalid_0's rmse: 2505.58\n",
      "[23]\tvalid_0's rmse: 2459.16\n",
      "[24]\tvalid_0's rmse: 2417.18\n",
      "[25]\tvalid_0's rmse: 2377.46\n",
      "[26]\tvalid_0's rmse: 2340.98\n",
      "[27]\tvalid_0's rmse: 2305.69\n",
      "[28]\tvalid_0's rmse: 2272.49\n",
      "[29]\tvalid_0's rmse: 2240.68\n",
      "[30]\tvalid_0's rmse: 2211.42\n",
      "[31]\tvalid_0's rmse: 2183.64\n",
      "[32]\tvalid_0's rmse: 2157.58\n",
      "[33]\tvalid_0's rmse: 2133.46\n",
      "[34]\tvalid_0's rmse: 2109.65\n",
      "[35]\tvalid_0's rmse: 2087.66\n",
      "[36]\tvalid_0's rmse: 2067.85\n",
      "[37]\tvalid_0's rmse: 2048.97\n",
      "[38]\tvalid_0's rmse: 2030.9\n",
      "[39]\tvalid_0's rmse: 2014.46\n",
      "[40]\tvalid_0's rmse: 1998.13\n",
      "[41]\tvalid_0's rmse: 1982.72\n",
      "[42]\tvalid_0's rmse: 1967.78\n",
      "[43]\tvalid_0's rmse: 1954.07\n",
      "[44]\tvalid_0's rmse: 1941.15\n",
      "[45]\tvalid_0's rmse: 1929.04\n",
      "[46]\tvalid_0's rmse: 1917.44\n",
      "[47]\tvalid_0's rmse: 1906.66\n",
      "[48]\tvalid_0's rmse: 1896.22\n",
      "[49]\tvalid_0's rmse: 1886.9\n",
      "[50]\tvalid_0's rmse: 1878.04\n",
      "[51]\tvalid_0's rmse: 1869.48\n",
      "[52]\tvalid_0's rmse: 1861.55\n",
      "[53]\tvalid_0's rmse: 1853.85\n",
      "[54]\tvalid_0's rmse: 1846.2\n",
      "[55]\tvalid_0's rmse: 1839.44\n",
      "[56]\tvalid_0's rmse: 1832.81\n",
      "[57]\tvalid_0's rmse: 1826.91\n",
      "[58]\tvalid_0's rmse: 1820.81\n",
      "[59]\tvalid_0's rmse: 1815.49\n",
      "[60]\tvalid_0's rmse: 1810.02\n",
      "[61]\tvalid_0's rmse: 1804.9\n",
      "[62]\tvalid_0's rmse: 1800.16\n",
      "[63]\tvalid_0's rmse: 1795.1\n",
      "[64]\tvalid_0's rmse: 1790.42\n",
      "[65]\tvalid_0's rmse: 1786.46\n",
      "[66]\tvalid_0's rmse: 1782.53\n",
      "[67]\tvalid_0's rmse: 1779.13\n",
      "[68]\tvalid_0's rmse: 1775.8\n",
      "[69]\tvalid_0's rmse: 1772.26\n",
      "[70]\tvalid_0's rmse: 1768.97\n",
      "[71]\tvalid_0's rmse: 1765.8\n",
      "[72]\tvalid_0's rmse: 1762.92\n",
      "[73]\tvalid_0's rmse: 1759.76\n",
      "[74]\tvalid_0's rmse: 1756.98\n",
      "[75]\tvalid_0's rmse: 1754.17\n",
      "[76]\tvalid_0's rmse: 1751.49\n",
      "[77]\tvalid_0's rmse: 1748.82\n",
      "[78]\tvalid_0's rmse: 1746.77\n",
      "[79]\tvalid_0's rmse: 1744.56\n",
      "[80]\tvalid_0's rmse: 1742.14\n",
      "[81]\tvalid_0's rmse: 1740.46\n",
      "[82]\tvalid_0's rmse: 1738.52\n",
      "[83]\tvalid_0's rmse: 1736.18\n",
      "[84]\tvalid_0's rmse: 1734.04\n",
      "[85]\tvalid_0's rmse: 1732.36\n",
      "[86]\tvalid_0's rmse: 1730.44\n",
      "[87]\tvalid_0's rmse: 1728.54\n",
      "[88]\tvalid_0's rmse: 1726.82\n",
      "[89]\tvalid_0's rmse: 1725.12\n",
      "[90]\tvalid_0's rmse: 1723.43\n",
      "[91]\tvalid_0's rmse: 1721.91\n",
      "[92]\tvalid_0's rmse: 1720.41\n",
      "[93]\tvalid_0's rmse: 1719.13\n",
      "[94]\tvalid_0's rmse: 1717.97\n",
      "[95]\tvalid_0's rmse: 1716.75\n",
      "[96]\tvalid_0's rmse: 1715.48\n",
      "[97]\tvalid_0's rmse: 1713.92\n",
      "[98]\tvalid_0's rmse: 1712.9\n",
      "[99]\tvalid_0's rmse: 1712.06\n",
      "[100]\tvalid_0's rmse: 1711.14\n",
      "Did not meet early stopping. Best iteration is:\n",
      "[100]\tvalid_0's rmse: 1711.14\n"
     ]
    },
    {
     "name": "stderr",
     "output_type": "stream",
     "text": [
      "/opt/conda/lib/python3.7/site-packages/lightgbm/basic.py:1291: UserWarning: Using categorical_feature in Dataset.\n",
      "  warnings.warn('Using categorical_feature in Dataset.')\n"
     ]
    },
    {
     "name": "stdout",
     "output_type": "stream",
     "text": [
      "[1]\tvalid_0's rmse: 4433.83\n",
      "Training until validation scores don't improve for 5 rounds\n",
      "[2]\tvalid_0's rmse: 4278.62\n",
      "[3]\tvalid_0's rmse: 4126.56\n",
      "[4]\tvalid_0's rmse: 3985.56\n",
      "[5]\tvalid_0's rmse: 3848.86\n",
      "[6]\tvalid_0's rmse: 3722.92\n",
      "[7]\tvalid_0's rmse: 3602.11\n",
      "[8]\tvalid_0's rmse: 3492.2\n",
      "[9]\tvalid_0's rmse: 3385.01\n",
      "[10]\tvalid_0's rmse: 3285.26\n",
      "[11]\tvalid_0's rmse: 3192.78\n",
      "[12]\tvalid_0's rmse: 3105.2\n",
      "[13]\tvalid_0's rmse: 3021.41\n",
      "[14]\tvalid_0's rmse: 2943.4\n",
      "[15]\tvalid_0's rmse: 2870.46\n",
      "[16]\tvalid_0's rmse: 2801.8\n",
      "[17]\tvalid_0's rmse: 2737.02\n",
      "[18]\tvalid_0's rmse: 2676.06\n",
      "[19]\tvalid_0's rmse: 2617.08\n",
      "[20]\tvalid_0's rmse: 2561.93\n",
      "Did not meet early stopping. Best iteration is:\n",
      "[20]\tvalid_0's rmse: 2561.93\n"
     ]
    },
    {
     "name": "stderr",
     "output_type": "stream",
     "text": [
      "/opt/conda/lib/python3.7/site-packages/lightgbm/basic.py:1291: UserWarning: Using categorical_feature in Dataset.\n",
      "  warnings.warn('Using categorical_feature in Dataset.')\n"
     ]
    },
    {
     "name": "stdout",
     "output_type": "stream",
     "text": [
      "[1]\tvalid_0's rmse: 4433.83\n",
      "Training until validation scores don't improve for 10 rounds\n",
      "[2]\tvalid_0's rmse: 4278.62\n",
      "[3]\tvalid_0's rmse: 4126.56\n",
      "[4]\tvalid_0's rmse: 3985.56\n",
      "[5]\tvalid_0's rmse: 3848.86\n",
      "[6]\tvalid_0's rmse: 3722.92\n",
      "[7]\tvalid_0's rmse: 3602.11\n",
      "[8]\tvalid_0's rmse: 3492.2\n",
      "[9]\tvalid_0's rmse: 3385.01\n",
      "[10]\tvalid_0's rmse: 3285.26\n",
      "[11]\tvalid_0's rmse: 3192.78\n",
      "[12]\tvalid_0's rmse: 3105.2\n",
      "[13]\tvalid_0's rmse: 3021.41\n",
      "[14]\tvalid_0's rmse: 2943.4\n",
      "[15]\tvalid_0's rmse: 2870.46\n",
      "[16]\tvalid_0's rmse: 2801.8\n",
      "[17]\tvalid_0's rmse: 2737.02\n",
      "[18]\tvalid_0's rmse: 2676.06\n",
      "[19]\tvalid_0's rmse: 2617.08\n",
      "[20]\tvalid_0's rmse: 2561.93\n",
      "Did not meet early stopping. Best iteration is:\n",
      "[20]\tvalid_0's rmse: 2561.93\n"
     ]
    },
    {
     "name": "stderr",
     "output_type": "stream",
     "text": [
      "/opt/conda/lib/python3.7/site-packages/lightgbm/basic.py:1291: UserWarning: Using categorical_feature in Dataset.\n",
      "  warnings.warn('Using categorical_feature in Dataset.')\n"
     ]
    },
    {
     "name": "stdout",
     "output_type": "stream",
     "text": [
      "[1]\tvalid_0's rmse: 4433.83\n",
      "Training until validation scores don't improve for 5 rounds\n",
      "[2]\tvalid_0's rmse: 4278.62\n",
      "[3]\tvalid_0's rmse: 4126.56\n",
      "[4]\tvalid_0's rmse: 3985.56\n",
      "[5]\tvalid_0's rmse: 3848.86\n",
      "[6]\tvalid_0's rmse: 3722.92\n",
      "[7]\tvalid_0's rmse: 3602.11\n",
      "[8]\tvalid_0's rmse: 3492.2\n",
      "[9]\tvalid_0's rmse: 3385.01\n",
      "[10]\tvalid_0's rmse: 3285.26\n",
      "[11]\tvalid_0's rmse: 3192.78\n",
      "[12]\tvalid_0's rmse: 3105.2\n",
      "[13]\tvalid_0's rmse: 3021.41\n",
      "[14]\tvalid_0's rmse: 2943.4\n",
      "[15]\tvalid_0's rmse: 2870.46\n",
      "[16]\tvalid_0's rmse: 2801.8\n",
      "[17]\tvalid_0's rmse: 2737.02\n",
      "[18]\tvalid_0's rmse: 2676.06\n",
      "[19]\tvalid_0's rmse: 2617.08\n",
      "[20]\tvalid_0's rmse: 2561.93\n",
      "[21]\tvalid_0's rmse: 2510.54\n",
      "[22]\tvalid_0's rmse: 2463.58\n",
      "[23]\tvalid_0's rmse: 2418.37\n",
      "[24]\tvalid_0's rmse: 2376.2\n",
      "[25]\tvalid_0's rmse: 2336.25\n",
      "[26]\tvalid_0's rmse: 2298.96\n",
      "[27]\tvalid_0's rmse: 2262.84\n",
      "[28]\tvalid_0's rmse: 2230.35\n",
      "[29]\tvalid_0's rmse: 2199.23\n",
      "[30]\tvalid_0's rmse: 2169.6\n",
      "[31]\tvalid_0's rmse: 2142.06\n",
      "[32]\tvalid_0's rmse: 2115.59\n",
      "[33]\tvalid_0's rmse: 2091.64\n",
      "[34]\tvalid_0's rmse: 2068.22\n",
      "[35]\tvalid_0's rmse: 2046.27\n",
      "[36]\tvalid_0's rmse: 2026.67\n",
      "[37]\tvalid_0's rmse: 2008.02\n",
      "[38]\tvalid_0's rmse: 1990.78\n",
      "[39]\tvalid_0's rmse: 1974.64\n",
      "[40]\tvalid_0's rmse: 1959.27\n",
      "[41]\tvalid_0's rmse: 1943.7\n",
      "[42]\tvalid_0's rmse: 1929.9\n",
      "[43]\tvalid_0's rmse: 1917.02\n",
      "[44]\tvalid_0's rmse: 1904.92\n",
      "[45]\tvalid_0's rmse: 1892.65\n",
      "[46]\tvalid_0's rmse: 1881.55\n",
      "[47]\tvalid_0's rmse: 1871.64\n",
      "[48]\tvalid_0's rmse: 1862.02\n",
      "[49]\tvalid_0's rmse: 1852.92\n",
      "[50]\tvalid_0's rmse: 1844.26\n",
      "[51]\tvalid_0's rmse: 1836.65\n",
      "[52]\tvalid_0's rmse: 1828.96\n",
      "[53]\tvalid_0's rmse: 1821.9\n",
      "[54]\tvalid_0's rmse: 1815.08\n",
      "[55]\tvalid_0's rmse: 1808.75\n",
      "[56]\tvalid_0's rmse: 1802.71\n",
      "[57]\tvalid_0's rmse: 1797\n",
      "[58]\tvalid_0's rmse: 1791.43\n",
      "[59]\tvalid_0's rmse: 1786.14\n",
      "[60]\tvalid_0's rmse: 1781.17\n",
      "[61]\tvalid_0's rmse: 1775.86\n",
      "[62]\tvalid_0's rmse: 1770.99\n",
      "[63]\tvalid_0's rmse: 1766.21\n",
      "[64]\tvalid_0's rmse: 1762.02\n",
      "[65]\tvalid_0's rmse: 1757.81\n",
      "[66]\tvalid_0's rmse: 1754.47\n",
      "[67]\tvalid_0's rmse: 1751.19\n",
      "[68]\tvalid_0's rmse: 1747.76\n",
      "[69]\tvalid_0's rmse: 1744.34\n",
      "[70]\tvalid_0's rmse: 1741.17\n",
      "[71]\tvalid_0's rmse: 1738.23\n",
      "[72]\tvalid_0's rmse: 1735.42\n",
      "[73]\tvalid_0's rmse: 1732.5\n",
      "[74]\tvalid_0's rmse: 1729.93\n",
      "[75]\tvalid_0's rmse: 1727.5\n",
      "[76]\tvalid_0's rmse: 1724.84\n",
      "[77]\tvalid_0's rmse: 1722.62\n",
      "[78]\tvalid_0's rmse: 1720.69\n",
      "[79]\tvalid_0's rmse: 1718.49\n",
      "[80]\tvalid_0's rmse: 1716.3\n",
      "[81]\tvalid_0's rmse: 1714.52\n",
      "[82]\tvalid_0's rmse: 1712.67\n",
      "[83]\tvalid_0's rmse: 1710.74\n",
      "[84]\tvalid_0's rmse: 1709.04\n",
      "[85]\tvalid_0's rmse: 1707.43\n",
      "[86]\tvalid_0's rmse: 1705.67\n",
      "[87]\tvalid_0's rmse: 1703.88\n",
      "[88]\tvalid_0's rmse: 1702.25\n",
      "[89]\tvalid_0's rmse: 1700.87\n",
      "[90]\tvalid_0's rmse: 1700.01\n",
      "[91]\tvalid_0's rmse: 1698.3\n",
      "[92]\tvalid_0's rmse: 1696.61\n",
      "[93]\tvalid_0's rmse: 1695.49\n",
      "[94]\tvalid_0's rmse: 1694.51\n",
      "[95]\tvalid_0's rmse: 1693.38\n",
      "[96]\tvalid_0's rmse: 1692.37\n",
      "[97]\tvalid_0's rmse: 1690.7\n",
      "[98]\tvalid_0's rmse: 1689.79\n",
      "[99]\tvalid_0's rmse: 1689.09\n",
      "[100]\tvalid_0's rmse: 1688.4\n",
      "Did not meet early stopping. Best iteration is:\n",
      "[100]\tvalid_0's rmse: 1688.4\n"
     ]
    },
    {
     "name": "stderr",
     "output_type": "stream",
     "text": [
      "/opt/conda/lib/python3.7/site-packages/lightgbm/basic.py:1291: UserWarning: Using categorical_feature in Dataset.\n",
      "  warnings.warn('Using categorical_feature in Dataset.')\n"
     ]
    },
    {
     "name": "stdout",
     "output_type": "stream",
     "text": [
      "[1]\tvalid_0's rmse: 4433.83\n",
      "Training until validation scores don't improve for 10 rounds\n",
      "[2]\tvalid_0's rmse: 4278.62\n",
      "[3]\tvalid_0's rmse: 4126.56\n",
      "[4]\tvalid_0's rmse: 3985.56\n",
      "[5]\tvalid_0's rmse: 3848.86\n",
      "[6]\tvalid_0's rmse: 3722.92\n",
      "[7]\tvalid_0's rmse: 3602.11\n",
      "[8]\tvalid_0's rmse: 3492.2\n",
      "[9]\tvalid_0's rmse: 3385.01\n",
      "[10]\tvalid_0's rmse: 3285.26\n",
      "[11]\tvalid_0's rmse: 3192.78\n",
      "[12]\tvalid_0's rmse: 3105.2\n",
      "[13]\tvalid_0's rmse: 3021.41\n",
      "[14]\tvalid_0's rmse: 2943.4\n",
      "[15]\tvalid_0's rmse: 2870.46\n",
      "[16]\tvalid_0's rmse: 2801.8\n",
      "[17]\tvalid_0's rmse: 2737.02\n",
      "[18]\tvalid_0's rmse: 2676.06\n",
      "[19]\tvalid_0's rmse: 2617.08\n",
      "[20]\tvalid_0's rmse: 2561.93\n",
      "[21]\tvalid_0's rmse: 2510.54\n",
      "[22]\tvalid_0's rmse: 2463.58\n",
      "[23]\tvalid_0's rmse: 2418.37\n",
      "[24]\tvalid_0's rmse: 2376.2\n",
      "[25]\tvalid_0's rmse: 2336.25\n",
      "[26]\tvalid_0's rmse: 2298.96\n",
      "[27]\tvalid_0's rmse: 2262.84\n",
      "[28]\tvalid_0's rmse: 2230.35\n",
      "[29]\tvalid_0's rmse: 2199.23\n",
      "[30]\tvalid_0's rmse: 2169.6\n",
      "[31]\tvalid_0's rmse: 2142.06\n",
      "[32]\tvalid_0's rmse: 2115.59\n",
      "[33]\tvalid_0's rmse: 2091.64\n",
      "[34]\tvalid_0's rmse: 2068.22\n",
      "[35]\tvalid_0's rmse: 2046.27\n",
      "[36]\tvalid_0's rmse: 2026.67\n",
      "[37]\tvalid_0's rmse: 2008.02\n",
      "[38]\tvalid_0's rmse: 1990.78\n",
      "[39]\tvalid_0's rmse: 1974.64\n",
      "[40]\tvalid_0's rmse: 1959.27\n",
      "[41]\tvalid_0's rmse: 1943.7\n",
      "[42]\tvalid_0's rmse: 1929.9\n",
      "[43]\tvalid_0's rmse: 1917.02\n",
      "[44]\tvalid_0's rmse: 1904.92\n",
      "[45]\tvalid_0's rmse: 1892.65\n",
      "[46]\tvalid_0's rmse: 1881.55\n",
      "[47]\tvalid_0's rmse: 1871.64\n",
      "[48]\tvalid_0's rmse: 1862.02\n",
      "[49]\tvalid_0's rmse: 1852.92\n",
      "[50]\tvalid_0's rmse: 1844.26\n",
      "[51]\tvalid_0's rmse: 1836.65\n",
      "[52]\tvalid_0's rmse: 1828.96\n",
      "[53]\tvalid_0's rmse: 1821.9\n",
      "[54]\tvalid_0's rmse: 1815.08\n",
      "[55]\tvalid_0's rmse: 1808.75\n",
      "[56]\tvalid_0's rmse: 1802.71\n",
      "[57]\tvalid_0's rmse: 1797\n",
      "[58]\tvalid_0's rmse: 1791.43\n",
      "[59]\tvalid_0's rmse: 1786.14\n",
      "[60]\tvalid_0's rmse: 1781.17\n",
      "[61]\tvalid_0's rmse: 1775.86\n",
      "[62]\tvalid_0's rmse: 1770.99\n",
      "[63]\tvalid_0's rmse: 1766.21\n",
      "[64]\tvalid_0's rmse: 1762.02\n",
      "[65]\tvalid_0's rmse: 1757.81\n",
      "[66]\tvalid_0's rmse: 1754.47\n",
      "[67]\tvalid_0's rmse: 1751.19\n",
      "[68]\tvalid_0's rmse: 1747.76\n",
      "[69]\tvalid_0's rmse: 1744.34\n",
      "[70]\tvalid_0's rmse: 1741.17\n",
      "[71]\tvalid_0's rmse: 1738.23\n",
      "[72]\tvalid_0's rmse: 1735.42\n",
      "[73]\tvalid_0's rmse: 1732.5\n",
      "[74]\tvalid_0's rmse: 1729.93\n",
      "[75]\tvalid_0's rmse: 1727.5\n",
      "[76]\tvalid_0's rmse: 1724.84\n",
      "[77]\tvalid_0's rmse: 1722.62\n",
      "[78]\tvalid_0's rmse: 1720.69\n",
      "[79]\tvalid_0's rmse: 1718.49\n",
      "[80]\tvalid_0's rmse: 1716.3\n",
      "[81]\tvalid_0's rmse: 1714.52\n",
      "[82]\tvalid_0's rmse: 1712.67\n",
      "[83]\tvalid_0's rmse: 1710.74\n",
      "[84]\tvalid_0's rmse: 1709.04\n",
      "[85]\tvalid_0's rmse: 1707.43\n",
      "[86]\tvalid_0's rmse: 1705.67\n",
      "[87]\tvalid_0's rmse: 1703.88\n",
      "[88]\tvalid_0's rmse: 1702.25\n",
      "[89]\tvalid_0's rmse: 1700.87\n",
      "[90]\tvalid_0's rmse: 1700.01\n",
      "[91]\tvalid_0's rmse: 1698.3\n",
      "[92]\tvalid_0's rmse: 1696.61\n",
      "[93]\tvalid_0's rmse: 1695.49\n",
      "[94]\tvalid_0's rmse: 1694.51\n",
      "[95]\tvalid_0's rmse: 1693.38\n",
      "[96]\tvalid_0's rmse: 1692.37\n",
      "[97]\tvalid_0's rmse: 1690.7\n",
      "[98]\tvalid_0's rmse: 1689.79\n",
      "[99]\tvalid_0's rmse: 1689.09\n",
      "[100]\tvalid_0's rmse: 1688.4\n",
      "Did not meet early stopping. Best iteration is:\n",
      "[100]\tvalid_0's rmse: 1688.4\n"
     ]
    }
   ],
   "source": [
    "compare = []\n",
    "columns = ['model', 'rmse', 'time_pred', 'time_train']\n",
    "\n",
    "# create dataset for lightgbm\n",
    "lgb_train = lgb.Dataset(features_train, target_train, categorical_feature = categorial, \n",
    "                        free_raw_data=False)\n",
    "lgb_valid = lgb.Dataset(features_valid, target_valid, reference=lgb_train, categorical_feature = categorial, \n",
    "                        free_raw_data=False)\n",
    "lgb_test = lgb.Dataset(features_test, target_test, reference=lgb_train, categorical_feature = categorial,\n",
    "                       free_raw_data=False)\n",
    "\n",
    "params = {\n",
    "    'boosting_type': 'gbdt',\n",
    "    'objective': 'regression',\n",
    "    'metric': 'root_mean_squared_error',\n",
    "    'num_leaves': 31,\n",
    "    'learning_rate': 0.05,\n",
    "    'feature_fraction': 0.9,\n",
    "    'bagging_fraction': 0.8,\n",
    "    'bagging_freq': 5,\n",
    "    'verbose': 0\n",
    "}\n",
    "\n",
    "for num_leaves0 in range(20,41,10):\n",
    "    for num_boost_round0 in (20, 100):\n",
    "        for early_stopping_rounds0 in (5, 10):\n",
    "            params['num_leaves'] = num_leaves0\n",
    "            \n",
    "            start = time()            \n",
    "            gbm = lgb.train(params,\n",
    "                lgb_train,\n",
    "                num_boost_round=num_boost_round0,\n",
    "                valid_sets=lgb_valid,\n",
    "                early_stopping_rounds=early_stopping_rounds0)\n",
    "            end = time()\n",
    "            time_train = end-start\n",
    "            \n",
    "            start = time()\n",
    "            y_pred = gbm.predict(features_valid, num_iteration=gbm.best_iteration)\n",
    "            end = time()\n",
    "            time_pred = end-start\n",
    "            \n",
    "            rmse = mean_squared_error(target_valid, y_pred) ** 0.5\n",
    "            \n",
    "            compare.append(['LIGHT, n_leaves = {}, n_boost = {}, rounds = {}'.format(\n",
    "                num_leaves0, num_boost_round0, early_stopping_rounds0), rmse, time_pred, time_train])\n",
    "\n"
   ]
  },
  {
   "cell_type": "markdown",
   "metadata": {},
   "source": [
    "## Комментарий наставника\n",
    "<span style=\"color:green\">К LightGBM вопросов нет! Хороший подбор параметров.</span> \\\n",
    "<span style=\"color:orange\">Советую только указать категориальные признаки списком при формировании датасета для LightGBM (**lgb.Dataset**). Так модель будет знать, какие признаки считать категориальными и сможет работать с ними соответствующим образом.</span>"
   ]
  },
  {
   "cell_type": "markdown",
   "metadata": {},
   "source": [
    "Для модели градиентного бустинга CatBoostRegressor проварьируем гипермараметры iterations, depth, learning_rate"
   ]
  },
  {
   "cell_type": "code",
   "execution_count": 56,
   "metadata": {},
   "outputs": [
    {
     "name": "stdout",
     "output_type": "stream",
     "text": [
      "0:\tlearn: 3992.3325559\ttotal: 111ms\tremaining: 4.35s\n",
      "20:\tlearn: 2300.5120876\ttotal: 1.7s\tremaining: 1.54s\n",
      "39:\tlearn: 2144.1175051\ttotal: 3.1s\tremaining: 0us\n",
      "0:\tlearn: 3679.4397535\ttotal: 11.1ms\tremaining: 432ms\n",
      "20:\tlearn: 2188.2363288\ttotal: 1.57s\tremaining: 1.43s\n",
      "39:\tlearn: 2046.2535935\ttotal: 3.07s\tremaining: 0us\n",
      "0:\tlearn: 3842.2695181\ttotal: 59.5ms\tremaining: 2.32s\n",
      "20:\tlearn: 2033.2990104\ttotal: 2.25s\tremaining: 2.03s\n",
      "39:\tlearn: 1920.4530909\ttotal: 4.24s\tremaining: 0us\n",
      "0:\tlearn: 3436.4164428\ttotal: 21.5ms\tremaining: 839ms\n",
      "20:\tlearn: 1973.6049569\ttotal: 2.11s\tremaining: 1.91s\n",
      "39:\tlearn: 1872.0295346\ttotal: 4.1s\tremaining: 0us\n",
      "0:\tlearn: 3992.3325559\ttotal: 11.2ms\tremaining: 886ms\n",
      "20:\tlearn: 2300.5120876\ttotal: 1.58s\tremaining: 4.45s\n",
      "40:\tlearn: 2133.4081673\ttotal: 3.17s\tremaining: 3.02s\n",
      "60:\tlearn: 2055.0252247\ttotal: 4.76s\tremaining: 1.48s\n",
      "79:\tlearn: 2007.5642785\ttotal: 6.25s\tremaining: 0us\n",
      "0:\tlearn: 3679.4397535\ttotal: 12.5ms\tremaining: 990ms\n",
      "20:\tlearn: 2188.2363288\ttotal: 1.53s\tremaining: 4.29s\n",
      "40:\tlearn: 2042.6207449\ttotal: 3.12s\tremaining: 2.97s\n",
      "60:\tlearn: 1973.3467032\ttotal: 4.7s\tremaining: 1.47s\n",
      "79:\tlearn: 1940.0056309\ttotal: 6.19s\tremaining: 0us\n",
      "0:\tlearn: 3842.2695181\ttotal: 91.2ms\tremaining: 7.2s\n",
      "20:\tlearn: 2033.2990104\ttotal: 2.19s\tremaining: 6.14s\n",
      "40:\tlearn: 1917.8526060\ttotal: 4.28s\tremaining: 4.07s\n",
      "60:\tlearn: 1860.0304814\ttotal: 6.36s\tremaining: 1.98s\n",
      "79:\tlearn: 1822.8565669\ttotal: 8.35s\tremaining: 0us\n",
      "0:\tlearn: 3436.4164428\ttotal: 32.5ms\tremaining: 2.56s\n",
      "20:\tlearn: 1973.6049569\ttotal: 2.13s\tremaining: 5.97s\n",
      "40:\tlearn: 1868.0707913\ttotal: 4.31s\tremaining: 4.1s\n",
      "60:\tlearn: 1807.6938146\ttotal: 6.41s\tremaining: 2s\n",
      "79:\tlearn: 1772.4163235\ttotal: 8.49s\tremaining: 0us\n"
     ]
    }
   ],
   "source": [
    "cat_features = categorial \n",
    "cat_features = None\n",
    "\n",
    "for iterations in (40, 80):\n",
    "    for depth in (2, 4):\n",
    "        for learning_rate in (0.3, 0.5):\n",
    "            \n",
    "            model = CatBoostRegressor(\n",
    "                loss_function=\"RMSE\", iterations=iterations, depth = depth, learning_rate = learning_rate)\n",
    "            \n",
    "            start = time()           \n",
    "            model.fit(features_train, target_train, cat_features=cat_features, verbose=20)\n",
    "            end = time()\n",
    "            time_train = end-start\n",
    "            \n",
    "            start = time()\n",
    "            y_pred = model.predict(features_valid)\n",
    "            end = time()\n",
    "            time_pred = end-start\n",
    "            \n",
    "            rmse = mean_squared_error(target_valid, y_pred) ** 0.5\n",
    "            \n",
    "            compare.append(['CAT, it = {}, depth = {}, learning_rate = {}'.format(\n",
    "                iterations, depth, learning_rate), rmse, time_pred, time_train])\n"
   ]
  },
  {
   "cell_type": "markdown",
   "metadata": {},
   "source": [
    "## Комментарий наставника\n",
    "<span style=\"color:green\">С «кошачьей» моделью тоже всё здорово. Здесь уже и категориальные признаки указаны.</span>"
   ]
  },
  {
   "cell_type": "markdown",
   "metadata": {},
   "source": [
    "Для модели RandomForestRegressor проварьируем гипермараметры n_estimators, min_samples_split"
   ]
  },
  {
   "cell_type": "code",
   "execution_count": 58,
   "metadata": {},
   "outputs": [
    {
     "name": "stdout",
     "output_type": "stream",
     "text": [
      "!!\n",
      "!!\n",
      "!!\n",
      "!!\n"
     ]
    }
   ],
   "source": [
    "features_train_ohe = features_train\n",
    "features_valid_ohe = features_valid\n",
    "features_test_ohe = features_test\n",
    "\n",
    "for n_estimators in (10, 50):\n",
    "    for min_samples_split in (2, 4):            \n",
    "            model = RandomForestRegressor(\n",
    "                random_state = 123, n_estimators=n_estimators, min_samples_split=min_samples_split)\n",
    "            \n",
    "            start = time()           \n",
    "            model.fit(features_train_ohe, target_train)\n",
    "            end = time()\n",
    "            time_train = end-start\n",
    "            \n",
    "            start = time()\n",
    "            y_pred = model.predict(features_valid_ohe)\n",
    "            end = time()\n",
    "            time_pred = end-start\n",
    "            \n",
    "            rmse = mean_squared_error(target_valid, y_pred) ** 0.5\n",
    "            \n",
    "            compare.append(['SK, n_est = {}, min..split = {}'.format(\n",
    "                n_estimators, min_samples_split), rmse, time_pred, time_train])\n",
    "            print(\"!!\")"
   ]
  },
  {
   "cell_type": "markdown",
   "metadata": {},
   "source": [
    "## Комментарий наставника\n",
    "<span style=\"color:orange\">Вот здесь важный момент: для случайного леса тоже используй порядковое кодирование, прямое здесь не нужно. Прямое используется для линейных моделей (для линейной регрессии, например). Но так как ты ранее уже закодировала порядковым кодировщиком категориальные признаки, то у тебя прямой кодировщик (функция `get_dummies`) не сработал и признаки `features_train_ohe` и `features_train` получились идентичными. Поэтому всё получилось правильно.</span>"
   ]
  },
  {
   "cell_type": "code",
   "execution_count": null,
   "metadata": {},
   "outputs": [],
   "source": [
    "features_train.equals(features_train_ohe) "
   ]
  },
  {
   "cell_type": "markdown",
   "metadata": {},
   "source": [
    "# 3. Анализ моделей"
   ]
  },
  {
   "cell_type": "code",
   "execution_count": null,
   "metadata": {},
   "outputs": [],
   "source": [
    "#модели, отсортированные по росту rmse\n",
    "compare = pd.DataFrame(data = compare, columns = columns)\n",
    "c = compare\n",
    "compare.sort_values('rmse')"
   ]
  },
  {
   "cell_type": "code",
   "execution_count": 149,
   "metadata": {},
   "outputs": [
    {
     "data": {
      "text/html": [
       "<div>\n",
       "<style scoped>\n",
       "    .dataframe tbody tr th:only-of-type {\n",
       "        vertical-align: middle;\n",
       "    }\n",
       "\n",
       "    .dataframe tbody tr th {\n",
       "        vertical-align: top;\n",
       "    }\n",
       "\n",
       "    .dataframe thead th {\n",
       "        text-align: right;\n",
       "    }\n",
       "</style>\n",
       "<table border=\"1\" class=\"dataframe\">\n",
       "  <thead>\n",
       "    <tr style=\"text-align: right;\">\n",
       "      <th></th>\n",
       "      <th>model</th>\n",
       "      <th>rmse</th>\n",
       "      <th>time_pred</th>\n",
       "      <th>time_train</th>\n",
       "    </tr>\n",
       "  </thead>\n",
       "  <tbody>\n",
       "    <tr>\n",
       "      <td>22</td>\n",
       "      <td>SK, n_est = 50, min..split = 2</td>\n",
       "      <td>1615.624225</td>\n",
       "      <td>1.798911</td>\n",
       "      <td>84.813422</td>\n",
       "    </tr>\n",
       "    <tr>\n",
       "      <td>23</td>\n",
       "      <td>SK, n_est = 50, min..split = 4</td>\n",
       "      <td>1617.500404</td>\n",
       "      <td>1.459679</td>\n",
       "      <td>84.237962</td>\n",
       "    </tr>\n",
       "    <tr>\n",
       "      <td>21</td>\n",
       "      <td>SK, n_est = 10, min..split = 4</td>\n",
       "      <td>1691.144773</td>\n",
       "      <td>0.268023</td>\n",
       "      <td>15.596700</td>\n",
       "    </tr>\n",
       "    <tr>\n",
       "      <td>20</td>\n",
       "      <td>SK, n_est = 10, min..split = 2</td>\n",
       "      <td>1692.502322</td>\n",
       "      <td>0.328890</td>\n",
       "      <td>16.410977</td>\n",
       "    </tr>\n",
       "    <tr>\n",
       "      <td>19</td>\n",
       "      <td>CAT, it = 80, depth = 4, learning_rate = 0.5</td>\n",
       "      <td>1750.802941</td>\n",
       "      <td>0.343508</td>\n",
       "      <td>26.786606</td>\n",
       "    </tr>\n",
       "    <tr>\n",
       "      <td>10</td>\n",
       "      <td>LIGHT, n_leaves = 40, n_boost = 100, rounds = 5</td>\n",
       "      <td>1762.203193</td>\n",
       "      <td>0.797430</td>\n",
       "      <td>12.602821</td>\n",
       "    </tr>\n",
       "    <tr>\n",
       "      <td>11</td>\n",
       "      <td>LIGHT, n_leaves = 40, n_boost = 100, rounds = 10</td>\n",
       "      <td>1762.203193</td>\n",
       "      <td>0.704556</td>\n",
       "      <td>12.802062</td>\n",
       "    </tr>\n",
       "    <tr>\n",
       "      <td>18</td>\n",
       "      <td>CAT, it = 80, depth = 4, learning_rate = 0.3</td>\n",
       "      <td>1777.883016</td>\n",
       "      <td>0.323583</td>\n",
       "      <td>27.003676</td>\n",
       "    </tr>\n",
       "    <tr>\n",
       "      <td>7</td>\n",
       "      <td>LIGHT, n_leaves = 30, n_boost = 100, rounds = 10</td>\n",
       "      <td>1790.082714</td>\n",
       "      <td>0.700711</td>\n",
       "      <td>15.391416</td>\n",
       "    </tr>\n",
       "    <tr>\n",
       "      <td>6</td>\n",
       "      <td>LIGHT, n_leaves = 30, n_boost = 100, rounds = 5</td>\n",
       "      <td>1790.082714</td>\n",
       "      <td>0.708401</td>\n",
       "      <td>12.306747</td>\n",
       "    </tr>\n",
       "    <tr>\n",
       "      <td>15</td>\n",
       "      <td>CAT, it = 40, depth = 4, learning_rate = 0.5</td>\n",
       "      <td>1825.041265</td>\n",
       "      <td>0.404853</td>\n",
       "      <td>17.474972</td>\n",
       "    </tr>\n",
       "    <tr>\n",
       "      <td>3</td>\n",
       "      <td>LIGHT, n_leaves = 20, n_boost = 100, rounds = 10</td>\n",
       "      <td>1845.300513</td>\n",
       "      <td>0.693218</td>\n",
       "      <td>12.703001</td>\n",
       "    </tr>\n",
       "    <tr>\n",
       "      <td>2</td>\n",
       "      <td>LIGHT, n_leaves = 20, n_boost = 100, rounds = 5</td>\n",
       "      <td>1845.300513</td>\n",
       "      <td>0.606541</td>\n",
       "      <td>10.391504</td>\n",
       "    </tr>\n",
       "    <tr>\n",
       "      <td>14</td>\n",
       "      <td>CAT, it = 40, depth = 4, learning_rate = 0.3</td>\n",
       "      <td>1863.997887</td>\n",
       "      <td>0.404209</td>\n",
       "      <td>17.092781</td>\n",
       "    </tr>\n",
       "    <tr>\n",
       "      <td>17</td>\n",
       "      <td>CAT, it = 80, depth = 2, learning_rate = 0.5</td>\n",
       "      <td>1912.137068</td>\n",
       "      <td>0.384049</td>\n",
       "      <td>18.997752</td>\n",
       "    </tr>\n",
       "    <tr>\n",
       "      <td>16</td>\n",
       "      <td>CAT, it = 80, depth = 2, learning_rate = 0.3</td>\n",
       "      <td>1949.602295</td>\n",
       "      <td>0.478921</td>\n",
       "      <td>19.138282</td>\n",
       "    </tr>\n",
       "    <tr>\n",
       "      <td>13</td>\n",
       "      <td>CAT, it = 40, depth = 2, learning_rate = 0.5</td>\n",
       "      <td>2024.077494</td>\n",
       "      <td>0.351157</td>\n",
       "      <td>15.545914</td>\n",
       "    </tr>\n",
       "    <tr>\n",
       "      <td>12</td>\n",
       "      <td>CAT, it = 40, depth = 2, learning_rate = 0.3</td>\n",
       "      <td>2057.753446</td>\n",
       "      <td>0.342876</td>\n",
       "      <td>14.377707</td>\n",
       "    </tr>\n",
       "    <tr>\n",
       "      <td>9</td>\n",
       "      <td>LIGHT, n_leaves = 40, n_boost = 20, rounds = 10</td>\n",
       "      <td>2656.488866</td>\n",
       "      <td>0.199001</td>\n",
       "      <td>3.192919</td>\n",
       "    </tr>\n",
       "    <tr>\n",
       "      <td>8</td>\n",
       "      <td>LIGHT, n_leaves = 40, n_boost = 20, rounds = 5</td>\n",
       "      <td>2656.488866</td>\n",
       "      <td>0.199513</td>\n",
       "      <td>2.894742</td>\n",
       "    </tr>\n",
       "    <tr>\n",
       "      <td>4</td>\n",
       "      <td>LIGHT, n_leaves = 30, n_boost = 20, rounds = 5</td>\n",
       "      <td>2695.494248</td>\n",
       "      <td>0.198504</td>\n",
       "      <td>2.404336</td>\n",
       "    </tr>\n",
       "    <tr>\n",
       "      <td>5</td>\n",
       "      <td>LIGHT, n_leaves = 30, n_boost = 20, rounds = 10</td>\n",
       "      <td>2695.494248</td>\n",
       "      <td>0.195830</td>\n",
       "      <td>2.497027</td>\n",
       "    </tr>\n",
       "    <tr>\n",
       "      <td>1</td>\n",
       "      <td>LIGHT, n_leaves = 20, n_boost = 20, rounds = 10</td>\n",
       "      <td>2759.571690</td>\n",
       "      <td>0.105722</td>\n",
       "      <td>2.301022</td>\n",
       "    </tr>\n",
       "    <tr>\n",
       "      <td>0</td>\n",
       "      <td>LIGHT, n_leaves = 20, n_boost = 20, rounds = 5</td>\n",
       "      <td>2759.571690</td>\n",
       "      <td>0.191823</td>\n",
       "      <td>2.970733</td>\n",
       "    </tr>\n",
       "  </tbody>\n",
       "</table>\n",
       "</div>"
      ],
      "text/plain": [
       "                                               model         rmse  time_pred  \\\n",
       "22                    SK, n_est = 50, min..split = 2  1615.624225   1.798911   \n",
       "23                    SK, n_est = 50, min..split = 4  1617.500404   1.459679   \n",
       "21                    SK, n_est = 10, min..split = 4  1691.144773   0.268023   \n",
       "20                    SK, n_est = 10, min..split = 2  1692.502322   0.328890   \n",
       "19      CAT, it = 80, depth = 4, learning_rate = 0.5  1750.802941   0.343508   \n",
       "10   LIGHT, n_leaves = 40, n_boost = 100, rounds = 5  1762.203193   0.797430   \n",
       "11  LIGHT, n_leaves = 40, n_boost = 100, rounds = 10  1762.203193   0.704556   \n",
       "18      CAT, it = 80, depth = 4, learning_rate = 0.3  1777.883016   0.323583   \n",
       "7   LIGHT, n_leaves = 30, n_boost = 100, rounds = 10  1790.082714   0.700711   \n",
       "6    LIGHT, n_leaves = 30, n_boost = 100, rounds = 5  1790.082714   0.708401   \n",
       "15      CAT, it = 40, depth = 4, learning_rate = 0.5  1825.041265   0.404853   \n",
       "3   LIGHT, n_leaves = 20, n_boost = 100, rounds = 10  1845.300513   0.693218   \n",
       "2    LIGHT, n_leaves = 20, n_boost = 100, rounds = 5  1845.300513   0.606541   \n",
       "14      CAT, it = 40, depth = 4, learning_rate = 0.3  1863.997887   0.404209   \n",
       "17      CAT, it = 80, depth = 2, learning_rate = 0.5  1912.137068   0.384049   \n",
       "16      CAT, it = 80, depth = 2, learning_rate = 0.3  1949.602295   0.478921   \n",
       "13      CAT, it = 40, depth = 2, learning_rate = 0.5  2024.077494   0.351157   \n",
       "12      CAT, it = 40, depth = 2, learning_rate = 0.3  2057.753446   0.342876   \n",
       "9    LIGHT, n_leaves = 40, n_boost = 20, rounds = 10  2656.488866   0.199001   \n",
       "8     LIGHT, n_leaves = 40, n_boost = 20, rounds = 5  2656.488866   0.199513   \n",
       "4     LIGHT, n_leaves = 30, n_boost = 20, rounds = 5  2695.494248   0.198504   \n",
       "5    LIGHT, n_leaves = 30, n_boost = 20, rounds = 10  2695.494248   0.195830   \n",
       "1    LIGHT, n_leaves = 20, n_boost = 20, rounds = 10  2759.571690   0.105722   \n",
       "0     LIGHT, n_leaves = 20, n_boost = 20, rounds = 5  2759.571690   0.191823   \n",
       "\n",
       "    time_train  \n",
       "22   84.813422  \n",
       "23   84.237962  \n",
       "21   15.596700  \n",
       "20   16.410977  \n",
       "19   26.786606  \n",
       "10   12.602821  \n",
       "11   12.802062  \n",
       "18   27.003676  \n",
       "7    15.391416  \n",
       "6    12.306747  \n",
       "15   17.474972  \n",
       "3    12.703001  \n",
       "2    10.391504  \n",
       "14   17.092781  \n",
       "17   18.997752  \n",
       "16   19.138282  \n",
       "13   15.545914  \n",
       "12   14.377707  \n",
       "9     3.192919  \n",
       "8     2.894742  \n",
       "4     2.404336  \n",
       "5     2.497027  \n",
       "1     2.301022  \n",
       "0     2.970733  "
      ]
     },
     "execution_count": 149,
     "metadata": {},
     "output_type": "execute_result"
    }
   ],
   "source": [
    "#модели, отсортированные по росту rmse\n",
    "compare = pd.DataFrame(data = compare, columns = columns)\n",
    "c = compare\n",
    "compare.sort_values('rmse')"
   ]
  },
  {
   "cell_type": "markdown",
   "metadata": {},
   "source": [
    "## Комментарий наставника\n",
    "<span style=\"color:green\">Превосходная итоговая таблица! Все результаты в максимально наглядном виде, затраченное время на обучение/предсказание есть. Отдельный + за такую таблицу.</span>"
   ]
  },
  {
   "cell_type": "markdown",
   "metadata": {},
   "source": [
    "Сначала проверим, прошли ли модели \"порог адекватности\" в сравнении с константной моделью"
   ]
  },
  {
   "cell_type": "code",
   "execution_count": 150,
   "metadata": {
    "scrolled": true
   },
   "outputs": [
    {
     "name": "stdout",
     "output_type": "stream",
     "text": [
      "Порог максимального rmse: 4595.925994724274\n"
     ]
    }
   ],
   "source": [
    "valid_mean_rmse = mean_squared_error(target_valid, [target_valid.mean()]*len(target_valid)) ** 0.5\n",
    "valid_median_rmse = mean_squared_error(target_valid, [target_valid.median()]*len(target_valid)) ** 0.5\n",
    "level = min(valid_mean_rmse, valid_median_rmse)\n",
    "print(\"Порог максимального rmse:\", level)"
   ]
  },
  {
   "cell_type": "markdown",
   "metadata": {},
   "source": [
    "Да, все модели предсказывают лучше константных. По таблице видно, что лучшие показатели по качеству предсказания у RandomForestRegressor из sklearn, однако первые 2 сильно уступают моделям градиентного бустинга по времени обучения и предсказания. \n",
    "\n",
    "Заказчику важны:\n",
    "1) качество предсказания;\n",
    "2) скорость предсказания;\n",
    "3) время обучения.\n",
    "\n",
    "Тогда оставим 10 лучших по первому параметру, из них 3 лучших по второму параметру и наконец лучшую из оставшихся по последнему параметру"
   ]
  },
  {
   "cell_type": "code",
   "execution_count": 151,
   "metadata": {},
   "outputs": [
    {
     "name": "stdout",
     "output_type": "stream",
     "text": [
      "Первый этап прошли\n"
     ]
    },
    {
     "data": {
      "text/html": [
       "<div>\n",
       "<style scoped>\n",
       "    .dataframe tbody tr th:only-of-type {\n",
       "        vertical-align: middle;\n",
       "    }\n",
       "\n",
       "    .dataframe tbody tr th {\n",
       "        vertical-align: top;\n",
       "    }\n",
       "\n",
       "    .dataframe thead th {\n",
       "        text-align: right;\n",
       "    }\n",
       "</style>\n",
       "<table border=\"1\" class=\"dataframe\">\n",
       "  <thead>\n",
       "    <tr style=\"text-align: right;\">\n",
       "      <th></th>\n",
       "      <th>model</th>\n",
       "      <th>rmse</th>\n",
       "      <th>time_pred</th>\n",
       "      <th>time_train</th>\n",
       "    </tr>\n",
       "  </thead>\n",
       "  <tbody>\n",
       "    <tr>\n",
       "      <td>22</td>\n",
       "      <td>SK, n_est = 50, min..split = 2</td>\n",
       "      <td>1615.624225</td>\n",
       "      <td>1.798911</td>\n",
       "      <td>84.813422</td>\n",
       "    </tr>\n",
       "    <tr>\n",
       "      <td>23</td>\n",
       "      <td>SK, n_est = 50, min..split = 4</td>\n",
       "      <td>1617.500404</td>\n",
       "      <td>1.459679</td>\n",
       "      <td>84.237962</td>\n",
       "    </tr>\n",
       "    <tr>\n",
       "      <td>21</td>\n",
       "      <td>SK, n_est = 10, min..split = 4</td>\n",
       "      <td>1691.144773</td>\n",
       "      <td>0.268023</td>\n",
       "      <td>15.596700</td>\n",
       "    </tr>\n",
       "    <tr>\n",
       "      <td>20</td>\n",
       "      <td>SK, n_est = 10, min..split = 2</td>\n",
       "      <td>1692.502322</td>\n",
       "      <td>0.328890</td>\n",
       "      <td>16.410977</td>\n",
       "    </tr>\n",
       "    <tr>\n",
       "      <td>19</td>\n",
       "      <td>CAT, it = 80, depth = 4, learning_rate = 0.5</td>\n",
       "      <td>1750.802941</td>\n",
       "      <td>0.343508</td>\n",
       "      <td>26.786606</td>\n",
       "    </tr>\n",
       "    <tr>\n",
       "      <td>10</td>\n",
       "      <td>LIGHT, n_leaves = 40, n_boost = 100, rounds = 5</td>\n",
       "      <td>1762.203193</td>\n",
       "      <td>0.797430</td>\n",
       "      <td>12.602821</td>\n",
       "    </tr>\n",
       "    <tr>\n",
       "      <td>11</td>\n",
       "      <td>LIGHT, n_leaves = 40, n_boost = 100, rounds = 10</td>\n",
       "      <td>1762.203193</td>\n",
       "      <td>0.704556</td>\n",
       "      <td>12.802062</td>\n",
       "    </tr>\n",
       "    <tr>\n",
       "      <td>18</td>\n",
       "      <td>CAT, it = 80, depth = 4, learning_rate = 0.3</td>\n",
       "      <td>1777.883016</td>\n",
       "      <td>0.323583</td>\n",
       "      <td>27.003676</td>\n",
       "    </tr>\n",
       "    <tr>\n",
       "      <td>7</td>\n",
       "      <td>LIGHT, n_leaves = 30, n_boost = 100, rounds = 10</td>\n",
       "      <td>1790.082714</td>\n",
       "      <td>0.700711</td>\n",
       "      <td>15.391416</td>\n",
       "    </tr>\n",
       "    <tr>\n",
       "      <td>6</td>\n",
       "      <td>LIGHT, n_leaves = 30, n_boost = 100, rounds = 5</td>\n",
       "      <td>1790.082714</td>\n",
       "      <td>0.708401</td>\n",
       "      <td>12.306747</td>\n",
       "    </tr>\n",
       "  </tbody>\n",
       "</table>\n",
       "</div>"
      ],
      "text/plain": [
       "                                               model         rmse  time_pred  \\\n",
       "22                    SK, n_est = 50, min..split = 2  1615.624225   1.798911   \n",
       "23                    SK, n_est = 50, min..split = 4  1617.500404   1.459679   \n",
       "21                    SK, n_est = 10, min..split = 4  1691.144773   0.268023   \n",
       "20                    SK, n_est = 10, min..split = 2  1692.502322   0.328890   \n",
       "19      CAT, it = 80, depth = 4, learning_rate = 0.5  1750.802941   0.343508   \n",
       "10   LIGHT, n_leaves = 40, n_boost = 100, rounds = 5  1762.203193   0.797430   \n",
       "11  LIGHT, n_leaves = 40, n_boost = 100, rounds = 10  1762.203193   0.704556   \n",
       "18      CAT, it = 80, depth = 4, learning_rate = 0.3  1777.883016   0.323583   \n",
       "7   LIGHT, n_leaves = 30, n_boost = 100, rounds = 10  1790.082714   0.700711   \n",
       "6    LIGHT, n_leaves = 30, n_boost = 100, rounds = 5  1790.082714   0.708401   \n",
       "\n",
       "    time_train  \n",
       "22   84.813422  \n",
       "23   84.237962  \n",
       "21   15.596700  \n",
       "20   16.410977  \n",
       "19   26.786606  \n",
       "10   12.602821  \n",
       "11   12.802062  \n",
       "18   27.003676  \n",
       "7    15.391416  \n",
       "6    12.306747  "
      ]
     },
     "execution_count": 151,
     "metadata": {},
     "output_type": "execute_result"
    }
   ],
   "source": [
    "compare = compare.sort_values('rmse').head(10)\n",
    "print(\"Первый этап прошли\")\n",
    "compare.sort_values('rmse')"
   ]
  },
  {
   "cell_type": "code",
   "execution_count": 152,
   "metadata": {},
   "outputs": [
    {
     "name": "stdout",
     "output_type": "stream",
     "text": [
      "Второй этап прошли\n"
     ]
    },
    {
     "data": {
      "text/html": [
       "<div>\n",
       "<style scoped>\n",
       "    .dataframe tbody tr th:only-of-type {\n",
       "        vertical-align: middle;\n",
       "    }\n",
       "\n",
       "    .dataframe tbody tr th {\n",
       "        vertical-align: top;\n",
       "    }\n",
       "\n",
       "    .dataframe thead th {\n",
       "        text-align: right;\n",
       "    }\n",
       "</style>\n",
       "<table border=\"1\" class=\"dataframe\">\n",
       "  <thead>\n",
       "    <tr style=\"text-align: right;\">\n",
       "      <th></th>\n",
       "      <th>model</th>\n",
       "      <th>rmse</th>\n",
       "      <th>time_pred</th>\n",
       "      <th>time_train</th>\n",
       "    </tr>\n",
       "  </thead>\n",
       "  <tbody>\n",
       "    <tr>\n",
       "      <td>21</td>\n",
       "      <td>SK, n_est = 10, min..split = 4</td>\n",
       "      <td>1691.144773</td>\n",
       "      <td>0.268023</td>\n",
       "      <td>15.596700</td>\n",
       "    </tr>\n",
       "    <tr>\n",
       "      <td>18</td>\n",
       "      <td>CAT, it = 80, depth = 4, learning_rate = 0.3</td>\n",
       "      <td>1777.883016</td>\n",
       "      <td>0.323583</td>\n",
       "      <td>27.003676</td>\n",
       "    </tr>\n",
       "    <tr>\n",
       "      <td>20</td>\n",
       "      <td>SK, n_est = 10, min..split = 2</td>\n",
       "      <td>1692.502322</td>\n",
       "      <td>0.328890</td>\n",
       "      <td>16.410977</td>\n",
       "    </tr>\n",
       "  </tbody>\n",
       "</table>\n",
       "</div>"
      ],
      "text/plain": [
       "                                           model         rmse  time_pred  \\\n",
       "21                SK, n_est = 10, min..split = 4  1691.144773   0.268023   \n",
       "18  CAT, it = 80, depth = 4, learning_rate = 0.3  1777.883016   0.323583   \n",
       "20                SK, n_est = 10, min..split = 2  1692.502322   0.328890   \n",
       "\n",
       "    time_train  \n",
       "21   15.596700  \n",
       "18   27.003676  \n",
       "20   16.410977  "
      ]
     },
     "execution_count": 152,
     "metadata": {},
     "output_type": "execute_result"
    }
   ],
   "source": [
    "compare = compare.sort_values('time_pred').head(3)\n",
    "print(\"Второй этап прошли\")\n",
    "compare.sort_values('time_pred')"
   ]
  },
  {
   "cell_type": "code",
   "execution_count": 153,
   "metadata": {},
   "outputs": [
    {
     "name": "stdout",
     "output_type": "stream",
     "text": [
      "Победитель\n"
     ]
    },
    {
     "data": {
      "text/html": [
       "<div>\n",
       "<style scoped>\n",
       "    .dataframe tbody tr th:only-of-type {\n",
       "        vertical-align: middle;\n",
       "    }\n",
       "\n",
       "    .dataframe tbody tr th {\n",
       "        vertical-align: top;\n",
       "    }\n",
       "\n",
       "    .dataframe thead th {\n",
       "        text-align: right;\n",
       "    }\n",
       "</style>\n",
       "<table border=\"1\" class=\"dataframe\">\n",
       "  <thead>\n",
       "    <tr style=\"text-align: right;\">\n",
       "      <th></th>\n",
       "      <th>model</th>\n",
       "      <th>rmse</th>\n",
       "      <th>time_pred</th>\n",
       "      <th>time_train</th>\n",
       "    </tr>\n",
       "  </thead>\n",
       "  <tbody>\n",
       "    <tr>\n",
       "      <td>21</td>\n",
       "      <td>SK, n_est = 10, min..split = 4</td>\n",
       "      <td>1691.144773</td>\n",
       "      <td>0.268023</td>\n",
       "      <td>15.5967</td>\n",
       "    </tr>\n",
       "  </tbody>\n",
       "</table>\n",
       "</div>"
      ],
      "text/plain": [
       "                             model         rmse  time_pred  time_train\n",
       "21  SK, n_est = 10, min..split = 4  1691.144773   0.268023     15.5967"
      ]
     },
     "execution_count": 153,
     "metadata": {},
     "output_type": "execute_result"
    }
   ],
   "source": [
    "compare = compare.sort_values('time_train').head(1)\n",
    "print(\"Победитель\")\n",
    "compare"
   ]
  },
  {
   "cell_type": "markdown",
   "metadata": {},
   "source": [
    "## Комментарий наставника\n",
    "<span style=\"color:green\">Интересный и оригинальный процесс выбора модели, хорошо!</span>"
   ]
  },
  {
   "cell_type": "markdown",
   "metadata": {},
   "source": [
    "Проверим эту модель на тестовом наборе и сравним с константной."
   ]
  },
  {
   "cell_type": "code",
   "execution_count": 154,
   "metadata": {},
   "outputs": [
    {
     "name": "stdout",
     "output_type": "stream",
     "text": [
      "модель RandomForestRegressor 21    SK, n_est = 10, min..split = 4\n",
      "Name: model, dtype: object\n",
      "Время обучения 15.608062267303467\n",
      "Время предсказания 0.28510165214538574\n",
      "rmse обученной модели 1688.3610672426837\n",
      "лучший rmse константной модели 4601.5351571806295\n",
      "Успех\n"
     ]
    }
   ],
   "source": [
    "print(\"модель RandomForestRegressor\",compare['model'])\n",
    "\n",
    "model = RandomForestRegressor(\n",
    "                random_state = 123, n_estimators=10, min_samples_split=4)\n",
    "start = time()           \n",
    "model.fit(features_train_ohe, target_train)\n",
    "end = time()\n",
    "time_train = end-start\n",
    "print(\"Время обучения\", time_train)\n",
    "            \n",
    "start = time()\n",
    "y_pred = model.predict(features_test_ohe)\n",
    "end = time()\n",
    "time_pred = end-start\n",
    "print(\"Время предсказания\", time_pred)\n",
    "            \n",
    "rmse = mean_squared_error(target_test, y_pred) ** 0.5\n",
    "print('rmse обученной модели', rmse)\n",
    "            \n",
    "test_mean_rmse = mean_squared_error(target_test, [target_test.mean()]*len(target_test)) ** 0.5\n",
    "test_median_rmse = mean_squared_error(target_test, [target_test.median()]*len(target_test)) ** 0.5\n",
    "level = min(test_mean_rmse,test_median_rmse) \n",
    "print('лучший rmse константной модели',level)\n",
    "\n",
    "if rmse < level:\n",
    "    print('Успех')\n",
    "else:\n",
    "    print('Поражение')"
   ]
  },
  {
   "cell_type": "markdown",
   "metadata": {},
   "source": [
    "## Итоговый комментарий наставника\n",
    "<span style=\"color:blue\">Отличный результат, очень подробный и фундаментальный подбор лучшей модели. Хорошая работа, молодец:) Однако несколько рекомендаций я оставил, обрати особое внимание на рекомендацию по поводу кодирования признаков для модели случайного леса. Проект зачтён. Поздравляю и желаю успехов!</span>"
   ]
  },
  {
   "cell_type": "markdown",
   "metadata": {},
   "source": [
    "## Чек-лист проверки"
   ]
  },
  {
   "cell_type": "markdown",
   "metadata": {},
   "source": [
    "Поставьте 'x' в выполненных пунктах. Далее нажмите Shift+Enter."
   ]
  },
  {
   "cell_type": "markdown",
   "metadata": {},
   "source": [
    "- [x]  Jupyter Notebook открыт\n",
    "- [x]  Весь код выполняется без ошибок\n",
    "- [x]  Ячейки с кодом расположены в порядке исполнения\n",
    "- [x]  Выполнена загрузка и подготовка данных\n",
    "- [x]  Выполнено обучение моделей\n",
    "- [x]  Есть анализ скорости работы и качества моделей"
   ]
  }
 ],
 "metadata": {
  "kernelspec": {
   "display_name": "Python 3",
   "language": "python",
   "name": "python3"
  },
  "language_info": {
   "codemirror_mode": {
    "name": "ipython",
    "version": 3
   },
   "file_extension": ".py",
   "mimetype": "text/x-python",
   "name": "python",
   "nbconvert_exporter": "python",
   "pygments_lexer": "ipython3",
   "version": "3.8.5"
  }
 },
 "nbformat": 4,
 "nbformat_minor": 2
}
